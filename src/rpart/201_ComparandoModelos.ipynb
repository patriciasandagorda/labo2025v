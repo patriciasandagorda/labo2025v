{
  "nbformat": 4,
  "nbformat_minor": 0,
  "metadata": {
    "colab": {
      "provenance": [],
      "include_colab_link": true
    },
    "kernelspec": {
      "name": "ir",
      "display_name": "R"
    },
    "language_info": {
      "name": "R"
    }
  },
  "cells": [
    {
      "cell_type": "markdown",
      "metadata": {
        "id": "view-in-github",
        "colab_type": "text"
      },
      "source": [
        "<a href=\"https://colab.research.google.com/github/patriciasandagorda/labo2025v/blob/main/src/rpart/201_ComparandoModelos.ipynb\" target=\"_parent\"><img src=\"https://colab.research.google.com/assets/colab-badge.svg\" alt=\"Open In Colab\"/></a>"
      ]
    },
    {
      "cell_type": "markdown",
      "source": [
        "# Comparando Modelos"
      ],
      "metadata": {
        "id": "5DrvzQ9BsXmX"
      }
    },
    {
      "cell_type": "markdown",
      "source": [
        "Estamos en la  Clase 02\n",
        "<br> El objetivo de la materia es lograr la mejor predicción para nuestro probleama, para lo que se probarán pipelines con decenas de alternativas, será indispensable comparar varios modelos predictivos entre sí y decidir cual es el mejor\n",
        "<br> La tarea no es tan sencilla"
      ],
      "metadata": {
        "id": "Y2U9lu16sgta"
      }
    },
    {
      "cell_type": "markdown",
      "source": [
        "## Seteo del ambiente en Google Colab"
      ],
      "metadata": {
        "id": "kmLygy1TYPfg"
      }
    },
    {
      "cell_type": "markdown",
      "source": [
        "Esta parte se debe correr con el runtime en Python3\n",
        "<br>Ir al menu, Runtime -> Change Runtime Tipe -> Runtime type ->  **Python 3**"
      ],
      "metadata": {
        "id": "OikOm5K2YU3X"
      }
    },
    {
      "cell_type": "markdown",
      "source": [
        "Conectar la virtual machine donde esta corriendo Google Colab con el  Google Drive, para poder tener persistencia de archivos"
      ],
      "metadata": {
        "id": "4fmV5LyZdFyI"
      }
    },
    {
      "cell_type": "code",
      "source": [
        "# primero establecer el Runtime de Python 3\n",
        "from google.colab import drive\n",
        "drive.mount('/content/.drive')"
      ],
      "metadata": {
        "id": "ilEZ-bE2VybW",
        "outputId": "b1f2c554-9dd5-45a6-ed38-75b8bfa1e405",
        "colab": {
          "base_uri": "https://localhost:8080/"
        }
      },
      "execution_count": 1,
      "outputs": [
        {
          "output_type": "stream",
          "name": "stdout",
          "text": [
            "Drive already mounted at /content/.drive; to attempt to forcibly remount, call drive.mount(\"/content/.drive\", force_remount=True).\n"
          ]
        }
      ]
    },
    {
      "cell_type": "markdown",
      "source": [
        "Para correr la siguiente celda es fundamental en Arranque en Frio haber copiado el archivo kaggle.json al Google Drive, en la carpeta indicada en el instructivo\n",
        "\n",
        "<br>los siguientes comando estan en shell script de Linux\n",
        "*   Crear las carpetas en el Google Drive\n",
        "*   \"instalar\" el archivo kaggle.json desde el Google Drive a la virtual machine para que pueda ser utilizado por la libreria  kaggle de Python\n",
        "*   Bajar el  **dataset_pequeno**  al  Google Drive  y tambien al disco local de la virtual machine que esta corriendo Google Colab\n",
        "\n"
      ],
      "metadata": {
        "id": "ilaKtqWldeWg"
      }
    },
    {
      "cell_type": "code",
      "source": [
        "%%shell\n",
        "\n",
        "mkdir -p \"/content/.drive/My Drive/labo1\"\n",
        "mkdir -p \"/content/buckets\"\n",
        "ln -s \"/content/.drive/My Drive/labo1\" /content/buckets/b1\n",
        "\n",
        "mkdir -p ~/.kaggle\n",
        "cp /content/buckets/b1/kaggle/kaggle.json  ~/.kaggle\n",
        "chmod 600 ~/.kaggle/kaggle.json\n",
        "\n",
        "\n",
        "mkdir -p /content/buckets/b1/exp\n",
        "mkdir -p /content/buckets/b1/datasets\n",
        "mkdir -p /content/datasets\n",
        "\n",
        "\n",
        "\n",
        "archivo_origen=\"https://storage.googleapis.com/open-courses/austral2025-af91/dataset_pequeno.csv\"\n",
        "archivo_destino=\"/content/datasets/dataset_pequeno.csv\"\n",
        "archivo_destino_bucket=\"/content/buckets/b1/datasets/dataset_pequeno.csv\"\n",
        "\n",
        "if ! test -f $archivo_destino_bucket; then\n",
        "  wget  $archivo_origen  -O $archivo_destino_bucket\n",
        "fi\n",
        "\n",
        "\n",
        "if ! test -f $archivo_destino; then\n",
        "  cp  $archivo_destino_bucket  $archivo_destino\n",
        "fi\n"
      ],
      "metadata": {
        "id": "W8dQFI5QYCFa",
        "outputId": "ce1da9d0-d8bd-4014-a3dc-4e1a73180dfd",
        "colab": {
          "base_uri": "https://localhost:8080/"
        }
      },
      "execution_count": 2,
      "outputs": [
        {
          "output_type": "execute_result",
          "data": {
            "text/plain": []
          },
          "metadata": {},
          "execution_count": 2
        }
      ]
    },
    {
      "cell_type": "markdown",
      "source": [
        "# 1  Particion Training/Testing\n",
        "## Clase 02  Experimento 1"
      ],
      "metadata": {
        "id": "iV32-NeesVp6"
      }
    },
    {
      "cell_type": "markdown",
      "source": [
        "## 1.1  Objetivos\n",
        "Dado que es el primer experimento de la asignatura, acercar a l@s estudiantes las mejores prácticas de operación del ambiente de Google Cloud, realizando una minuciosa demostración en vivo narrando todas las consideraciones pertinentes para evitar accidentes, daños a terceros y a equipos.\n",
        "Dar soporte en el acto a  l@s estudiantes que necesitan ayuda para terminar de configurar el ambiente Google Cloud .\n",
        "<br>Repaso del concepto de  partición de un dataset al azar, estratificada en la clase\n",
        "<br>Dado que es el primer script que se mostrará en vivo a l@s estudiantes,  realizar una visita guiada del  mismo, su estructura y detalles.\n",
        "<br>Repaso del algoritmo Arbol de Decisión sus hiperparámetros, y la implementación con la librería  rpart.  Funciones  rpart::rpart  y rpart::predict\n",
        "<br>Concepto de replicabilidad de los experimentos mediante las semillas de los generadores de secuencias de números pseudoaleatorios.\n",
        "<br>Finalmente, el principal objetivo de este experimento es lograr que l@s estudiantes dimensionen la enorme variabilidad del error de medición de la ganancia de un árbol de decisión al realizar una partición <training, testing>,  contener la sorpresa de los estudiantes, descartar a la simple particion <training, testing> como método,  y construir en conjunto una solucion natural al problema."
      ],
      "metadata": {
        "id": "84Pnj9gVwpXB"
      }
    },
    {
      "cell_type": "markdown",
      "source": [
        "## 1.2 Introduccion"
      ],
      "metadata": {
        "id": "L9Cn0WThw37Y"
      }
    },
    {
      "cell_type": "markdown",
      "source": [
        "![Particiohn Training/Testing](https://storage.googleapis.com/open-courses/austral2025-af91/labo1r/C2_E1_particion.jpg)"
      ],
      "metadata": {
        "id": "ZELZ0R4itUVG"
      }
    },
    {
      "cell_type": "markdown",
      "source": [
        "![Dos tipos de error](https://storage.googleapis.com/open-courses/austral2025-af91/labo1r/C2_E1_target.jpg)"
      ],
      "metadata": {
        "id": "Wtc1ho58xLk-"
      }
    },
    {
      "cell_type": "markdown",
      "source": [
        "## 1.3  Bibliografía\n",
        "\n",
        "Demšar, J. [Statistical comparisons of classifiers over multiple data sets](https://www.jmlr.org/papers/volume7/demsar06a/demsar06a.pdf) J. Mach. Learn. Res. 7, 1–30 (2006).   \n",
        "Starmer, J. [Machine Learning Fundamentals: Cross Validation](https://www.youtube.com/watch?v=fSytzGwwBVw)Machine Learning Fundamentals: Cross Validation, StatQuest with Josh Starmer youtube channel, (2018)\n",
        "Hastie, T.[The elements of statistical learning: data mining, inference, and prediction](https://hastie.su.domains/Papers/ESLII.pdf) , volume 2. Springer, 2009  ( Chapter 7 Model Assessment and Selection )"
      ],
      "metadata": {
        "id": "oRWtRV34xZRT"
      }
    },
    {
      "cell_type": "markdown",
      "source": [
        "## 1.4 Codigo"
      ],
      "metadata": {
        "id": "VcgTQ2-Pyb8q"
      }
    },
    {
      "cell_type": "markdown",
      "source": [
        "Esta parte se debe correr con el runtime en lenguaje **R** Ir al menu, Runtime -> Change Runtime Tipe -> Runtime type -> R"
      ],
      "metadata": {
        "id": "SBXPU-_tabMb"
      }
    },
    {
      "cell_type": "markdown",
      "source": [
        "limpio el ambiente de R"
      ],
      "metadata": {
        "id": "SE94XRhWsxkX"
      }
    },
    {
      "cell_type": "code",
      "source": [
        "# limpio la memoria\n",
        "rm(list=ls(all.names=TRUE)) # remove all objects\n",
        "gc(full=TRUE, verbose=FALSE) # garbage collection"
      ],
      "metadata": {
        "id": "oZG_4br6szlT",
        "outputId": "d068f576-a3bd-478a-8c78-f69b5e5414d3",
        "colab": {
          "base_uri": "https://localhost:8080/",
          "height": 129
        }
      },
      "execution_count": 1,
      "outputs": [
        {
          "output_type": "display_data",
          "data": {
            "text/html": [
              "<table class=\"dataframe\">\n",
              "<caption>A matrix: 2 × 6 of type dbl</caption>\n",
              "<thead>\n",
              "\t<tr><th></th><th scope=col>used</th><th scope=col>(Mb)</th><th scope=col>gc trigger</th><th scope=col>(Mb)</th><th scope=col>max used</th><th scope=col>(Mb)</th></tr>\n",
              "</thead>\n",
              "<tbody>\n",
              "\t<tr><th scope=row>Ncells</th><td> 657245</td><td>35.2</td><td>1454462</td><td>77.7</td><td>1326127</td><td>70.9</td></tr>\n",
              "\t<tr><th scope=row>Vcells</th><td>1220272</td><td> 9.4</td><td>8388608</td><td>64.0</td><td>1975127</td><td>15.1</td></tr>\n",
              "</tbody>\n",
              "</table>\n"
            ],
            "text/markdown": "\nA matrix: 2 × 6 of type dbl\n\n| <!--/--> | used | (Mb) | gc trigger | (Mb) | max used | (Mb) |\n|---|---|---|---|---|---|---|\n| Ncells |  657245 | 35.2 | 1454462 | 77.7 | 1326127 | 70.9 |\n| Vcells | 1220272 |  9.4 | 8388608 | 64.0 | 1975127 | 15.1 |\n\n",
            "text/latex": "A matrix: 2 × 6 of type dbl\n\\begin{tabular}{r|llllll}\n  & used & (Mb) & gc trigger & (Mb) & max used & (Mb)\\\\\n\\hline\n\tNcells &  657245 & 35.2 & 1454462 & 77.7 & 1326127 & 70.9\\\\\n\tVcells & 1220272 &  9.4 & 8388608 & 64.0 & 1975127 & 15.1\\\\\n\\end{tabular}\n",
            "text/plain": [
              "       used    (Mb) gc trigger (Mb) max used (Mb)\n",
              "Ncells  657245 35.2 1454462    77.7 1326127  70.9\n",
              "Vcells 1220272  9.4 8388608    64.0 1975127  15.1"
            ]
          },
          "metadata": {}
        }
      ]
    },
    {
      "cell_type": "code",
      "source": [
        "Sys.time()"
      ],
      "metadata": {
        "id": "pJ8SsVA5ssnf",
        "outputId": "2f2f61c6-c9ae-40b5-f6e8-db86298918ad",
        "colab": {
          "base_uri": "https://localhost:8080/",
          "height": 34
        }
      },
      "execution_count": 2,
      "outputs": [
        {
          "output_type": "display_data",
          "data": {
            "text/plain": [
              "[1] \"2025-10-12 22:35:20 UTC\""
            ]
          },
          "metadata": {}
        }
      ]
    },
    {
      "cell_type": "markdown",
      "source": [
        "* Instalacion de la libreria  rpart.plot  para dibujar el arbol\n",
        "* invocacion de las librerias  **data.table** y  **rpart**"
      ],
      "metadata": {
        "id": "3BrrQ47PeEb2"
      }
    },
    {
      "cell_type": "code",
      "source": [
        "# cargo las librerias que necesito\n",
        "require(\"data.table\")\n",
        "require(\"rpart\")\n"
      ],
      "metadata": {
        "id": "SxO-0Ql0khn6",
        "outputId": "ae52757b-951b-461c-98bb-bd65d6ec49f6",
        "colab": {
          "base_uri": "https://localhost:8080/"
        }
      },
      "execution_count": 3,
      "outputs": [
        {
          "output_type": "stream",
          "name": "stderr",
          "text": [
            "Loading required package: data.table\n",
            "\n",
            "Loading required package: rpart\n",
            "\n"
          ]
        }
      ]
    },
    {
      "cell_type": "markdown",
      "source": [
        "###  Accion a Realizar\n",
        "PARAM$semilla  debe tener su primer semilla aleatoria"
      ],
      "metadata": {
        "id": "ZG9fCnZh3bWV"
      }
    },
    {
      "cell_type": "code",
      "source": [
        "PARAM <- list()\n",
        "PARAM$semilla <- 999961  # aqui debe ir su primer semilla\n",
        "PARAM$training_pct <- 70L  # entre  1L y 99L\n",
        "\n",
        "PARAM$rpart <- list (\n",
        "  \"cp\" = -1, # complejidad minima\n",
        "  \"minsplit\" = 170, # minima cantidad de regs en un nodo para hacer el split\n",
        "  \"minbucket\" = 70, # minima cantidad de regs en una hoja\n",
        "  \"maxdepth\" = 7 # profundidad máxima del arbol\n",
        ")\n"
      ],
      "metadata": {
        "id": "0nx5_OcE3Y9c"
      },
      "execution_count": 4,
      "outputs": []
    },
    {
      "cell_type": "code",
      "source": [
        "# particionar agrega una columna llamada fold a un dataset\n",
        "#  que consiste en una particion estratificada segun agrupa\n",
        "\n",
        "# particionar( data=dataset, division=c(70,30),\n",
        "#  agrupa=clase_ternaria, seed=semilla)   crea una particion 70, 30\n",
        "\n",
        "particionar <- function(\n",
        "    data, division, agrupa = \"\",\n",
        "    campo = \"fold\", start = 1, seed = NA) {\n",
        "  if (!is.na(seed)) set.seed(seed)\n",
        "\n",
        "  bloque <- unlist(mapply(function(x, y) {\n",
        "    rep(y, x)\n",
        "  }, division, seq(from = start, length.out = length(division))))\n",
        "\n",
        "  data[, (campo) := sample(rep(bloque, ceiling(.N / length(bloque))))[1:.N],\n",
        "    by = agrupa\n",
        "  ]\n",
        "}\n"
      ],
      "metadata": {
        "id": "8HLE9Dx80gjH"
      },
      "execution_count": 5,
      "outputs": []
    },
    {
      "cell_type": "code",
      "source": [
        "# carpeta de trabajo\n",
        "setwd(\"/content/buckets/b1/exp\")\n",
        "experimento <- \"exp201\"\n",
        "dir.create(experimento, showWarnings=FALSE)\n",
        "setwd( paste0(\"/content/buckets/b1/exp/\", experimento ))"
      ],
      "metadata": {
        "id": "sC4_nqcm0nUs"
      },
      "execution_count": 6,
      "outputs": []
    },
    {
      "cell_type": "code",
      "source": [
        "# lectura del dataset\n",
        "dataset <- fread(\"/content/datasets/dataset_pequeno.csv\")\n",
        "\n",
        "# trabajo solo con los datos con clase, es decir 202107\n",
        "dataset <- dataset[clase_ternaria != \"\"]"
      ],
      "metadata": {
        "id": "6yIEsZOw07q8"
      },
      "execution_count": 7,
      "outputs": []
    },
    {
      "cell_type": "code",
      "source": [
        "# particiono estratificadamente el dataset 70%, 30%\n",
        "particionar(dataset,\n",
        "  division = c(PARAM$training_pct, 100L -PARAM$training_pct),\n",
        "  agrupa = \"clase_ternaria\",\n",
        "  seed = PARAM$semilla # aqui se usa SU semilla\n",
        ")\n",
        "\n"
      ],
      "metadata": {
        "id": "FAO1Hhd52b5d"
      },
      "execution_count": 8,
      "outputs": []
    },
    {
      "cell_type": "code",
      "source": [
        "# genero el modelo\n",
        "# quiero predecir clase_ternaria a partir del resto\n",
        "# fold==1  es training,  el 70% de los datos\n",
        "modelo <- rpart(\"clase_ternaria ~ .\",\n",
        "  data = dataset[fold == 1],  # fold==1  es training, el 70% de los datos\n",
        "  xval = 0,\n",
        "  control = PARAM$rpart # aqui van los parametros\n",
        ")\n"
      ],
      "metadata": {
        "id": "s3UnHSLP2gN6"
      },
      "execution_count": 9,
      "outputs": []
    },
    {
      "cell_type": "code",
      "source": [
        "# aplico el modelo a los datos de testing\n",
        "prediccion <- predict(modelo, # el modelo que genere recien\n",
        "  dataset[fold == 2], # fold==2  es testing, el 30% de los datos\n",
        "  type = \"prob\"\n",
        ") # type= \"prob\"  es que devuelva la probabilidad\n"
      ],
      "metadata": {
        "id": "paQphV4A2jGz"
      },
      "execution_count": 10,
      "outputs": []
    },
    {
      "cell_type": "code",
      "source": [
        "tb_prediccion <- as.data.table(list(\n",
        "  \"clase_ternaria\"=dataset[fold == 2, clase_ternaria],\n",
        "  \"prob\"=prediccion[, \"BAJA+2\"]\n",
        "))"
      ],
      "metadata": {
        "id": "fuLZ75pA29dT"
      },
      "execution_count": 11,
      "outputs": []
    },
    {
      "cell_type": "code",
      "source": [
        "# calculo la ganancia de cada registro\n",
        "tb_prediccion[, ganancia := ifelse(clase_ternaria == \"BAJA+2\", 117000, -3000)]"
      ],
      "metadata": {
        "id": "LuG6ql_t3kOI"
      },
      "execution_count": 12,
      "outputs": []
    },
    {
      "cell_type": "code",
      "source": [
        "# calculo la clase\n",
        "tb_prediccion[, Predicted := prob > (1/40) ]"
      ],
      "metadata": {
        "id": "xJ3WTMez3leO"
      },
      "execution_count": 13,
      "outputs": []
    },
    {
      "cell_type": "code",
      "source": [
        "ganancia_test <-  tb_prediccion[ Predicted==TRUE,  sum(ganancia)]"
      ],
      "metadata": {
        "id": "cFQPacen4Wq6"
      },
      "execution_count": 14,
      "outputs": []
    },
    {
      "cell_type": "code",
      "source": [
        "# normalizo la ganancia\n",
        "ganancia_test_normalizada <- ganancia_test / (( 100 - PARAM$training_pct ) / 100 )"
      ],
      "metadata": {
        "id": "dHjz0zhN4-nZ"
      },
      "execution_count": 15,
      "outputs": []
    },
    {
      "cell_type": "code",
      "source": [
        "estimulos <- tb_prediccion[ Predicted==TRUE, .N]\n",
        "aciertos <- tb_prediccion[ Predicted & clase_ternaria == \"BAJA+2\", .N]\n"
      ],
      "metadata": {
        "id": "D7RUdTb95F6B"
      },
      "execution_count": 16,
      "outputs": []
    },
    {
      "cell_type": "code",
      "source": [
        "# Resultado Final\n",
        "cat(\"Testing total: \", dataset[fold == 2, .N], \"\\n\")\n",
        "cat(\"Testing BAJA+2: \", dataset[fold == 2 & clase_ternaria == \"BAJA+2\", .N], \"\\n\")\n",
        "\n",
        "cat(\"Estimulos: \", estimulos, \"\\n\")\n",
        "cat(\"Aciertos (BAJA+2): \", aciertos, \"\\n\")\n",
        "\n",
        "cat(\"Ganancia en testing (normalizada): \", ganancia_test_normalizada, \"\\n\")\n"
      ],
      "metadata": {
        "id": "Lu1KM6fy5U7h",
        "outputId": "2d41e73d-fa51-41c8-e7b4-d3bb917c31c7",
        "colab": {
          "base_uri": "https://localhost:8080/"
        }
      },
      "execution_count": 17,
      "outputs": [
        {
          "output_type": "stream",
          "name": "stdout",
          "text": [
            "Testing total:  49385 \n",
            "Testing BAJA+2:  376 \n",
            "Estimulos:  3016 \n",
            "Aciertos (BAJA+2):  193 \n",
            "Ganancia en testing (normalizada):  47040000 \n"
          ]
        }
      ]
    },
    {
      "cell_type": "markdown",
      "source": [
        "### Acciones a realizar\n",
        "* Reportar la  *Ganancia en testing (normalizada)* <br> en la planilla colaborativa hoja  **C2-1sem**\n",
        "* Se discutirá en clase la variabilidad de las ganancias obtenidas de distintos alumnos"
      ],
      "metadata": {
        "id": "kHs-YoFB5rUa"
      }
    },
    {
      "cell_type": "markdown",
      "source": [
        "\n",
        "\n",
        "---\n",
        "\n"
      ],
      "metadata": {
        "id": "LBl_eIeO7WuM"
      }
    },
    {
      "cell_type": "markdown",
      "source": [
        "# 2  Medición Monte Carlo Cross Validation\n",
        "## Clase 02  Experimento 2"
      ],
      "metadata": {
        "id": "h43UCq9y7UlT"
      }
    },
    {
      "cell_type": "markdown",
      "source": [
        "## 2.1  Objetivos\n",
        "Mostrar el funcionamiento de la Montecarlo Cross Validation y que l@s estudiantes aprecien la disminución de la varianza de dicha metodología.\n",
        "Relación con el Teorema Central del Límite"
      ],
      "metadata": {
        "id": "wHPchGXK80VU"
      }
    },
    {
      "cell_type": "markdown",
      "source": [
        "## 2.2 Introduccion\n",
        "\n",
        "![Montecarlo](https://storage.googleapis.com/open-courses/austral2025-af91/labo1r/C2_E2_montecarlo.jpg)\n",
        "\n",
        "![Curva normal](https://storage.googleapis.com/open-courses/austral2025-af91/labo1r/C2_E2_normal.jpg)\n",
        "\n",
        "![Teorema Central del Limite](https://storage.googleapis.com/open-courses/austral2025-af91/labo1r/C2_E2_teoremacentralLimite.jpg)\n",
        "\n"
      ],
      "metadata": {
        "id": "g6YzACxl9DzS"
      }
    },
    {
      "cell_type": "markdown",
      "source": [],
      "metadata": {
        "id": "7laod2t4ArsH"
      }
    },
    {
      "cell_type": "markdown",
      "source": [
        "## 2.3  Bibliografía\n",
        "\n",
        "Demšar, J. [Statistical comparisons of classifiers over multiple data sets](https://www.jmlr.org/papers/volume7/demsar06a/demsar06a.pdf) J. Mach. Learn. Res. 7, 1–30 (2006).   \n",
        "Starmer, J. [Machine Learning Fundamentals: Cross Validation](https://www.youtube.com/watch?v=fSytzGwwBVw)Machine Learning Fundamentals: Cross Validation, StatQuest with Josh Starmer youtube channel, (2018)\n",
        "Hastie, T.[The elements of statistical learning: data mining, inference, and prediction](https://hastie.su.domains/Papers/ESLII.pdf) , volume 2. Springer, 2009  ( Chapter 7 Model Assessment and Selection )"
      ],
      "metadata": {
        "id": "lFcJeRAkAr-q"
      }
    },
    {
      "cell_type": "code",
      "source": [],
      "metadata": {
        "id": "KXSuYXQ26cLV"
      },
      "execution_count": null,
      "outputs": []
    },
    {
      "cell_type": "markdown",
      "source": [
        "## 2.4 Codigo  Montecarlo"
      ],
      "metadata": {
        "id": "0ztZzYolA2WK"
      }
    },
    {
      "cell_type": "markdown",
      "source": [
        "El código de la Montecarlo Cross Validation es notablemente más complejo que el anterior de una simple partición training/testing\n",
        "<br> Se crea la funcion ArbolEstimarGanancia()  que dada una semilla realiza la partición  training/testing, entrena en training, aplica el modelo a testing, y se calculan las ganancias\n",
        "<br> Se utiliza la funcion **mcmapply**  de R para aplicar ArbolEstimarGanancia a todos los elementos del vector de semillas"
      ],
      "metadata": {
        "id": "KLa06ZsiC-Oz"
      }
    },
    {
      "cell_type": "markdown",
      "source": [
        "Esta parte se debe correr con el runtime en lenguaje **R** Ir al menu, Runtime -> Change Runtime Tipe -> Runtime type -> R"
      ],
      "metadata": {
        "id": "ivFiBBOQA2Ws"
      }
    },
    {
      "cell_type": "markdown",
      "source": [
        "limpio el ambiente de R"
      ],
      "metadata": {
        "id": "TMSAQDXuA2Ws"
      }
    },
    {
      "cell_type": "code",
      "source": [
        "# limpio la memoria\n",
        "rm(list=ls(all.names=TRUE)) # remove all objects\n",
        "gc(full=TRUE, verbose=FALSE) # garbage collection"
      ],
      "metadata": {
        "id": "eakzb8y2A2Wt",
        "outputId": "46923202-5802-4a3a-9c0b-4d7132debdee",
        "colab": {
          "base_uri": "https://localhost:8080/",
          "height": 129
        }
      },
      "execution_count": 18,
      "outputs": [
        {
          "output_type": "display_data",
          "data": {
            "text/html": [
              "<table class=\"dataframe\">\n",
              "<caption>A matrix: 2 × 6 of type dbl</caption>\n",
              "<thead>\n",
              "\t<tr><th></th><th scope=col>used</th><th scope=col>(Mb)</th><th scope=col>gc trigger</th><th scope=col>(Mb)</th><th scope=col>max used</th><th scope=col>(Mb)</th></tr>\n",
              "</thead>\n",
              "<tbody>\n",
              "\t<tr><th scope=row>Ncells</th><td> 744996</td><td>39.8</td><td> 1454462</td><td> 77.7</td><td>  1454462</td><td> 77.7</td></tr>\n",
              "\t<tr><th scope=row>Vcells</th><td>1433452</td><td>11.0</td><td>84907202</td><td>647.8</td><td>104119751</td><td>794.4</td></tr>\n",
              "</tbody>\n",
              "</table>\n"
            ],
            "text/markdown": "\nA matrix: 2 × 6 of type dbl\n\n| <!--/--> | used | (Mb) | gc trigger | (Mb) | max used | (Mb) |\n|---|---|---|---|---|---|---|\n| Ncells |  744996 | 39.8 |  1454462 |  77.7 |   1454462 |  77.7 |\n| Vcells | 1433452 | 11.0 | 84907202 | 647.8 | 104119751 | 794.4 |\n\n",
            "text/latex": "A matrix: 2 × 6 of type dbl\n\\begin{tabular}{r|llllll}\n  & used & (Mb) & gc trigger & (Mb) & max used & (Mb)\\\\\n\\hline\n\tNcells &  744996 & 39.8 &  1454462 &  77.7 &   1454462 &  77.7\\\\\n\tVcells & 1433452 & 11.0 & 84907202 & 647.8 & 104119751 & 794.4\\\\\n\\end{tabular}\n",
            "text/plain": [
              "       used    (Mb) gc trigger (Mb)  max used  (Mb) \n",
              "Ncells  744996 39.8  1454462    77.7   1454462  77.7\n",
              "Vcells 1433452 11.0 84907202   647.8 104119751 794.4"
            ]
          },
          "metadata": {}
        }
      ]
    },
    {
      "cell_type": "markdown",
      "source": [
        "* Instalacion de la libreria  rpart.plot  para dibujar el arbol\n",
        "* invocacion de las librerias  **data.table** y  **rpart**"
      ],
      "metadata": {
        "id": "559RkeYZA2Wv"
      }
    },
    {
      "cell_type": "code",
      "source": [
        "# cargo las librerias que necesito\n",
        "require(\"data.table\")\n",
        "require(\"rpart\")\n",
        "require(\"parallel\")"
      ],
      "metadata": {
        "id": "yf_S_HlsA2Wv",
        "outputId": "25682782-d11f-45c8-9e27-a81cbe5fccf3",
        "colab": {
          "base_uri": "https://localhost:8080/"
        }
      },
      "execution_count": 19,
      "outputs": [
        {
          "output_type": "stream",
          "name": "stderr",
          "text": [
            "Loading required package: parallel\n",
            "\n"
          ]
        }
      ]
    },
    {
      "cell_type": "markdown",
      "source": [
        "###  Accion a Realizar\n",
        "PARAM$semillas  debe tener sus cinco semillas aleatorias"
      ],
      "metadata": {
        "id": "a4oz2ulCA2Ww"
      }
    },
    {
      "cell_type": "code",
      "source": [
        "PARAM <- list()\n",
        "PARAM$semillas <- c(999961, 999959, 111119, 111521, 112831)  # aqui debe ir sus CINCO\n",
        "PARAM$training_pct <- 70L  # entre  1L y 99L\n",
        "\n",
        "PARAM$rpart <- list (\n",
        "  \"cp\" = -1, # complejidad minima\n",
        "  \"minsplit\" = 170, # minima cantidad de regs en un nodo para hacer el split\n",
        "  \"minbucket\" = 70, # minima cantidad de regs en una hoja\n",
        "  \"maxdepth\" = 7 # profundidad máxima del arbol\n",
        ")\n"
      ],
      "metadata": {
        "id": "yQ2OAP5AA2Wx"
      },
      "execution_count": 20,
      "outputs": []
    },
    {
      "cell_type": "code",
      "source": [
        "# particionar agrega una columna llamada fold a un dataset\n",
        "#  que consiste en una particion estratificada segun agrupa\n",
        "\n",
        "# particionar( data=dataset, division=c(70,30),\n",
        "#  agrupa=clase_ternaria, seed=semilla)   crea una particion 70, 30\n",
        "\n",
        "particionar <- function(\n",
        "    data, division, agrupa = \"\",\n",
        "    campo = \"fold\", start = 1, seed = NA) {\n",
        "  if (!is.na(seed)) set.seed(seed)\n",
        "\n",
        "  bloque <- unlist(mapply(function(x, y) {\n",
        "    rep(y, x)\n",
        "  }, division, seq(from = start, length.out = length(division))))\n",
        "\n",
        "  data[, (campo) := sample(rep(bloque, ceiling(.N / length(bloque))))[1:.N],\n",
        "    by = agrupa\n",
        "  ]\n",
        "}\n"
      ],
      "metadata": {
        "id": "97dMCVJWA2Wy"
      },
      "execution_count": 21,
      "outputs": []
    },
    {
      "cell_type": "code",
      "source": [
        "\n",
        "ArbolEstimarGanancia <- function(semilla, param_basicos) {\n",
        "  # particiono estratificadamente el dataset\n",
        "  particionar(dataset,\n",
        "    division = c(param_basicos$training_pct, 100L -param_basicos$training_pct),\n",
        "    agrupa = \"clase_ternaria\",\n",
        "    seed = semilla # aqui se usa SU semilla\n",
        "  )\n",
        "\n",
        "  # genero el modelo\n",
        "  # predecir clase_ternaria a partir del resto\n",
        "  modelo <- rpart(\"clase_ternaria ~ .\",\n",
        "    data = dataset[fold == 1], # fold==1  es training,  el 70% de los datos\n",
        "    xval = 0,\n",
        "    control = param_basicos$rpart\n",
        "  ) # aqui van los parametros del arbol\n",
        "\n",
        "  # aplico el modelo a los datos de testing\n",
        "  prediccion <- predict(modelo, # el modelo que genere recien\n",
        "    dataset[fold == 2], # fold==2  es testing, el 30% de los datos\n",
        "    type = \"prob\"\n",
        "  ) # type= \"prob\"  es que devuelva la probabilidad\n",
        "\n",
        "  # prediccion es una matriz con TRES columnas,\n",
        "  #  llamadas \"BAJA+1\", \"BAJA+2\"  y \"CONTINUA\"\n",
        "  # cada columna es el vector de probabilidades\n",
        "\n",
        "\n",
        "  # calculo la ganancia en testing  qu es fold==2\n",
        "  ganancia_test <- dataset[\n",
        "    fold == 2,\n",
        "    sum(ifelse(prediccion[, \"BAJA+2\"] > 0.025,\n",
        "      ifelse(clase_ternaria == \"BAJA+2\", 117000, -3000),\n",
        "      0\n",
        "    ))\n",
        "  ]\n",
        "\n",
        "  # escalo la ganancia como si fuera todo el dataset\n",
        "  ganancia_test_normalizada <- ganancia_test / (( 100 - PARAM$training_pct ) / 100 )\n",
        "\n",
        "  return(list(\n",
        "    \"semilla\" = semilla,\n",
        "    \"testing\" = dataset[fold == 2, .N],\n",
        "    \"testing_pos\" = dataset[fold == 2 & clase_ternaria == \"BAJA+2\", .N],\n",
        "    \"envios\" = dataset[fold == 2, sum(prediccion[, \"BAJA+2\"] > 0.025)],\n",
        "    \"aciertos\" = dataset[\n",
        "        fold == 2,\n",
        "        sum(prediccion[, \"BAJA+2\"] > 0.025 & clase_ternaria == \"BAJA+2\")\n",
        "    ],\n",
        "    \"ganancia_test\" = ganancia_test_normalizada\n",
        "  ))\n",
        "}\n"
      ],
      "metadata": {
        "id": "GroZSZoVBuZ5"
      },
      "execution_count": 22,
      "outputs": []
    },
    {
      "cell_type": "code",
      "source": [
        "# carpeta de trabajo\n",
        "setwd(\"/content/buckets/b1/exp\")\n",
        "experimento <- \"exp202\"\n",
        "dir.create(experimento, showWarnings=FALSE)\n",
        "setwd( paste0(\"/content/buckets/b1/exp/\", experimento ))"
      ],
      "metadata": {
        "id": "dJIBIX6kA2Wy"
      },
      "execution_count": 23,
      "outputs": []
    },
    {
      "cell_type": "code",
      "source": [
        "# lectura del dataset\n",
        "dataset <- fread(\"/content/datasets/dataset_pequeno.csv\")\n",
        "\n",
        "# trabajo solo con los datos con clase, es decir 202107\n",
        "dataset <- dataset[clase_ternaria != \"\"]"
      ],
      "metadata": {
        "id": "tKiACdU2A2Wz"
      },
      "execution_count": 24,
      "outputs": []
    },
    {
      "cell_type": "code",
      "source": [
        "\n",
        "# la funcion mcmapply  llama a la funcion ArbolEstimarGanancia\n",
        "#  tantas veces como valores tenga el vector  PARAM$semillas\n",
        "salidas <- mcmapply(ArbolEstimarGanancia,\n",
        "  PARAM$semillas, # paso el vector de semillas\n",
        "  MoreArgs = list(PARAM), # aqui paso el segundo parametro\n",
        "  SIMPLIFY = FALSE,\n",
        "  mc.cores = detectCores()\n",
        ")\n",
        "\n",
        "# muestro la lista de las salidas en testing\n",
        "#  para la particion realizada con cada semilla\n",
        "salidas\n"
      ],
      "metadata": {
        "id": "64OdfeyxCMDF",
        "outputId": "ae320942-e0b3-45e4-96c8-358966bada0c",
        "colab": {
          "base_uri": "https://localhost:8080/",
          "height": 1000
        }
      },
      "execution_count": 25,
      "outputs": [
        {
          "output_type": "display_data",
          "data": {
            "text/html": [
              "<ol>\n",
              "\t<li><dl>\n",
              "\t<dt>$semilla</dt>\n",
              "\t\t<dd>999961</dd>\n",
              "\t<dt>$testing</dt>\n",
              "\t\t<dd>49385</dd>\n",
              "\t<dt>$testing_pos</dt>\n",
              "\t\t<dd>376</dd>\n",
              "\t<dt>$envios</dt>\n",
              "\t\t<dd>3016</dd>\n",
              "\t<dt>$aciertos</dt>\n",
              "\t\t<dd>193</dd>\n",
              "\t<dt>$ganancia_test</dt>\n",
              "\t\t<dd>47040000</dd>\n",
              "</dl>\n",
              "</li>\n",
              "\t<li><dl>\n",
              "\t<dt>$semilla</dt>\n",
              "\t\t<dd>999959</dd>\n",
              "\t<dt>$testing</dt>\n",
              "\t\t<dd>49374</dd>\n",
              "\t<dt>$testing_pos</dt>\n",
              "\t\t<dd>373</dd>\n",
              "\t<dt>$envios</dt>\n",
              "\t\t<dd>4197</dd>\n",
              "\t<dt>$aciertos</dt>\n",
              "\t\t<dd>222</dd>\n",
              "\t<dt>$ganancia_test</dt>\n",
              "\t\t<dd>46830000</dd>\n",
              "</dl>\n",
              "</li>\n",
              "\t<li><dl>\n",
              "\t<dt>$semilla</dt>\n",
              "\t\t<dd>111119</dd>\n",
              "\t<dt>$testing</dt>\n",
              "\t\t<dd>49389</dd>\n",
              "\t<dt>$testing_pos</dt>\n",
              "\t\t<dd>379</dd>\n",
              "\t<dt>$envios</dt>\n",
              "\t\t<dd>2477</dd>\n",
              "\t<dt>$aciertos</dt>\n",
              "\t\t<dd>193</dd>\n",
              "\t<dt>$ganancia_test</dt>\n",
              "\t\t<dd>52430000</dd>\n",
              "</dl>\n",
              "</li>\n",
              "\t<li><dl>\n",
              "\t<dt>$semilla</dt>\n",
              "\t\t<dd>111521</dd>\n",
              "\t<dt>$testing</dt>\n",
              "\t\t<dd>49379</dd>\n",
              "\t<dt>$testing_pos</dt>\n",
              "\t\t<dd>369</dd>\n",
              "\t<dt>$envios</dt>\n",
              "\t\t<dd>3920</dd>\n",
              "\t<dt>$aciertos</dt>\n",
              "\t\t<dd>213</dd>\n",
              "\t<dt>$ganancia_test</dt>\n",
              "\t\t<dd>4.6e+07</dd>\n",
              "</dl>\n",
              "</li>\n",
              "\t<li><dl>\n",
              "\t<dt>$semilla</dt>\n",
              "\t\t<dd>112831</dd>\n",
              "\t<dt>$testing</dt>\n",
              "\t\t<dd>49386</dd>\n",
              "\t<dt>$testing_pos</dt>\n",
              "\t\t<dd>379</dd>\n",
              "\t<dt>$envios</dt>\n",
              "\t\t<dd>2998</dd>\n",
              "\t<dt>$aciertos</dt>\n",
              "\t\t<dd>187</dd>\n",
              "\t<dt>$ganancia_test</dt>\n",
              "\t\t<dd>44820000</dd>\n",
              "</dl>\n",
              "</li>\n",
              "</ol>\n"
            ],
            "text/markdown": "1. $semilla\n:   999961\n$testing\n:   49385\n$testing_pos\n:   376\n$envios\n:   3016\n$aciertos\n:   193\n$ganancia_test\n:   47040000\n\n\n\n2. $semilla\n:   999959\n$testing\n:   49374\n$testing_pos\n:   373\n$envios\n:   4197\n$aciertos\n:   222\n$ganancia_test\n:   46830000\n\n\n\n3. $semilla\n:   111119\n$testing\n:   49389\n$testing_pos\n:   379\n$envios\n:   2477\n$aciertos\n:   193\n$ganancia_test\n:   52430000\n\n\n\n4. $semilla\n:   111521\n$testing\n:   49379\n$testing_pos\n:   369\n$envios\n:   3920\n$aciertos\n:   213\n$ganancia_test\n:   4.6e+07\n\n\n\n5. $semilla\n:   112831\n$testing\n:   49386\n$testing_pos\n:   379\n$envios\n:   2998\n$aciertos\n:   187\n$ganancia_test\n:   44820000\n\n\n\n\n\n",
            "text/latex": "\\begin{enumerate}\n\\item \\begin{description}\n\\item[\\$semilla] 999961\n\\item[\\$testing] 49385\n\\item[\\$testing\\_pos] 376\n\\item[\\$envios] 3016\n\\item[\\$aciertos] 193\n\\item[\\$ganancia\\_test] 47040000\n\\end{description}\n\n\\item \\begin{description}\n\\item[\\$semilla] 999959\n\\item[\\$testing] 49374\n\\item[\\$testing\\_pos] 373\n\\item[\\$envios] 4197\n\\item[\\$aciertos] 222\n\\item[\\$ganancia\\_test] 46830000\n\\end{description}\n\n\\item \\begin{description}\n\\item[\\$semilla] 111119\n\\item[\\$testing] 49389\n\\item[\\$testing\\_pos] 379\n\\item[\\$envios] 2477\n\\item[\\$aciertos] 193\n\\item[\\$ganancia\\_test] 52430000\n\\end{description}\n\n\\item \\begin{description}\n\\item[\\$semilla] 111521\n\\item[\\$testing] 49379\n\\item[\\$testing\\_pos] 369\n\\item[\\$envios] 3920\n\\item[\\$aciertos] 213\n\\item[\\$ganancia\\_test] 4.6e+07\n\\end{description}\n\n\\item \\begin{description}\n\\item[\\$semilla] 112831\n\\item[\\$testing] 49386\n\\item[\\$testing\\_pos] 379\n\\item[\\$envios] 2998\n\\item[\\$aciertos] 187\n\\item[\\$ganancia\\_test] 44820000\n\\end{description}\n\n\\end{enumerate}\n",
            "text/plain": [
              "[[1]]\n",
              "[[1]]$semilla\n",
              "[1] 999961\n",
              "\n",
              "[[1]]$testing\n",
              "[1] 49385\n",
              "\n",
              "[[1]]$testing_pos\n",
              "[1] 376\n",
              "\n",
              "[[1]]$envios\n",
              "[1] 3016\n",
              "\n",
              "[[1]]$aciertos\n",
              "[1] 193\n",
              "\n",
              "[[1]]$ganancia_test\n",
              "[1] 47040000\n",
              "\n",
              "\n",
              "[[2]]\n",
              "[[2]]$semilla\n",
              "[1] 999959\n",
              "\n",
              "[[2]]$testing\n",
              "[1] 49374\n",
              "\n",
              "[[2]]$testing_pos\n",
              "[1] 373\n",
              "\n",
              "[[2]]$envios\n",
              "[1] 4197\n",
              "\n",
              "[[2]]$aciertos\n",
              "[1] 222\n",
              "\n",
              "[[2]]$ganancia_test\n",
              "[1] 46830000\n",
              "\n",
              "\n",
              "[[3]]\n",
              "[[3]]$semilla\n",
              "[1] 111119\n",
              "\n",
              "[[3]]$testing\n",
              "[1] 49389\n",
              "\n",
              "[[3]]$testing_pos\n",
              "[1] 379\n",
              "\n",
              "[[3]]$envios\n",
              "[1] 2477\n",
              "\n",
              "[[3]]$aciertos\n",
              "[1] 193\n",
              "\n",
              "[[3]]$ganancia_test\n",
              "[1] 52430000\n",
              "\n",
              "\n",
              "[[4]]\n",
              "[[4]]$semilla\n",
              "[1] 111521\n",
              "\n",
              "[[4]]$testing\n",
              "[1] 49379\n",
              "\n",
              "[[4]]$testing_pos\n",
              "[1] 369\n",
              "\n",
              "[[4]]$envios\n",
              "[1] 3920\n",
              "\n",
              "[[4]]$aciertos\n",
              "[1] 213\n",
              "\n",
              "[[4]]$ganancia_test\n",
              "[1] 4.6e+07\n",
              "\n",
              "\n",
              "[[5]]\n",
              "[[5]]$semilla\n",
              "[1] 112831\n",
              "\n",
              "[[5]]$testing\n",
              "[1] 49386\n",
              "\n",
              "[[5]]$testing_pos\n",
              "[1] 379\n",
              "\n",
              "[[5]]$envios\n",
              "[1] 2998\n",
              "\n",
              "[[5]]$aciertos\n",
              "[1] 187\n",
              "\n",
              "[[5]]$ganancia_test\n",
              "[1] 44820000\n",
              "\n"
            ]
          },
          "metadata": {}
        }
      ]
    },
    {
      "cell_type": "code",
      "source": [
        "# paso la lista a vector\n",
        "tb_salida <- rbindlist(salidas)\n",
        "print( tb_salida)"
      ],
      "metadata": {
        "id": "tML9VmH2ECFK",
        "outputId": "368f5cc5-8c24-4da1-9e2d-7fb6cb2338c8",
        "colab": {
          "base_uri": "https://localhost:8080/"
        }
      },
      "execution_count": 26,
      "outputs": [
        {
          "output_type": "stream",
          "name": "stdout",
          "text": [
            "   semilla testing testing_pos envios aciertos ganancia_test\n",
            "     <num>   <int>       <int>  <int>    <int>         <num>\n",
            "1:  999961   49385         376   3016      193      47040000\n",
            "2:  999959   49374         373   4197      222      46830000\n",
            "3:  111119   49389         379   2477      193      52430000\n",
            "4:  111521   49379         369   3920      213      46000000\n",
            "5:  112831   49386         379   2998      187      44820000\n"
          ]
        }
      ]
    },
    {
      "cell_type": "code",
      "source": [
        "# finalmente calculo la media (promedio)  de las ganancias\n",
        "cat( \"ganancia promedio: \", tb_salida[, mean(ganancia_test)], \"\\n\" )"
      ],
      "metadata": {
        "id": "rbHXPfoVENQB",
        "outputId": "d512523c-398c-4487-8938-cda782124110",
        "colab": {
          "base_uri": "https://localhost:8080/"
        }
      },
      "execution_count": 27,
      "outputs": [
        {
          "output_type": "stream",
          "name": "stdout",
          "text": [
            "ganancia promedio:  47424000 \n"
          ]
        }
      ]
    },
    {
      "cell_type": "markdown",
      "source": [
        "### Acciones a realizar\n",
        "* Reportar la  *Ganancia Promedio* <br> en la planilla colaborativa hoja  **C2-5sem**\n",
        "* Se discutirá en clase la variabilidad de estos \"ganancia promedio de cinco semillas\""
      ],
      "metadata": {
        "id": "_3xVH6UKA2W6"
      }
    },
    {
      "cell_type": "markdown",
      "source": [
        "\n",
        "\n",
        "---\n",
        "\n"
      ],
      "metadata": {
        "id": "N29m1XGpA2W7"
      }
    },
    {
      "cell_type": "markdown",
      "source": [
        "# 3  Generando n semillas en forma automatica\n",
        "## Clase 02  Experimento 3"
      ],
      "metadata": {
        "id": "zS7WIJciFGc6"
      }
    },
    {
      "cell_type": "markdown",
      "source": [
        "## 3.1  Objetivos\n",
        "Mostrar la creación de nuevas semillas a partir de la librería Primes"
      ],
      "metadata": {
        "id": "VmiFDDDJFUEo"
      }
    },
    {
      "cell_type": "markdown",
      "source": [
        "3.2  Código\n",
        "\n",
        "Como generar muchas semillas a partir de una"
      ],
      "metadata": {
        "id": "Ehe3VfdfFbvg"
      }
    },
    {
      "cell_type": "code",
      "source": [
        "# instalo y cargo la libreria  primes\n",
        "if (!require(\"primes\")) install.packages(\"primes\")\n",
        "require(\"primes\")"
      ],
      "metadata": {
        "id": "X6_dE42yF2-t",
        "outputId": "16816e27-234a-4f61-a07a-1d5e855c54da",
        "colab": {
          "base_uri": "https://localhost:8080/"
        }
      },
      "execution_count": 28,
      "outputs": [
        {
          "output_type": "stream",
          "name": "stderr",
          "text": [
            "Loading required package: primes\n",
            "\n"
          ]
        }
      ]
    },
    {
      "cell_type": "code",
      "source": [
        "# genero numeros primos\n",
        "primos <- generate_primes(min = 100000, max = 1000000)\n",
        "\n",
        "\n",
        "set.seed(999961) # inicializo con mi primer semilla\n",
        "\n",
        "# me quedo con por ejemplo 20 primos al azar\n",
        "semillas <- sample(primos, 20 )\n",
        "\n",
        "print( semillas )"
      ],
      "metadata": {
        "id": "yDU9RyV4FNhZ",
        "outputId": "6c547196-0a4c-4db1-fb71-bf0788dc6d33",
        "colab": {
          "base_uri": "https://localhost:8080/"
        }
      },
      "execution_count": 29,
      "outputs": [
        {
          "output_type": "stream",
          "name": "stdout",
          "text": [
            " [1] 152843 461333 367163 883781 500413 898813 199889 683129 337639 709519\n",
            "[11] 797051 716321 160397 430553 802027 241823 798199 682009 727061 737059\n"
          ]
        }
      ]
    },
    {
      "cell_type": "markdown",
      "source": [
        "\n",
        "\n",
        "---\n",
        "\n"
      ],
      "metadata": {
        "id": "eD_cO5VTGGea"
      }
    },
    {
      "cell_type": "code",
      "source": [],
      "metadata": {
        "id": "k-rgoA2ZFll4"
      },
      "execution_count": null,
      "outputs": []
    },
    {
      "cell_type": "markdown",
      "source": [
        "# 4  Medición  50-Monte Carlo Cross Validation\n",
        "## Clase 02  Experimento 4"
      ],
      "metadata": {
        "id": "cZi29THsGil_"
      }
    },
    {
      "cell_type": "markdown",
      "source": [
        "## 4.1  Objetivos\n",
        "Calcular la ganancia del modelo utilizando 50 semillas nuevas generadas a partir de mi semilla primigenia."
      ],
      "metadata": {
        "id": "qFNq6ntVGimN"
      }
    },
    {
      "cell_type": "markdown",
      "source": [
        "## 4.4 Codigo  50 Montecarlo"
      ],
      "metadata": {
        "id": "B6KtuhQCGimP"
      }
    },
    {
      "cell_type": "markdown",
      "source": [
        "Esta parte se debe correr con el runtime en lenguaje **R** Ir al menu, Runtime -> Change Runtime Tipe -> Runtime type -> R"
      ],
      "metadata": {
        "id": "LgGgjPQuGimP"
      }
    },
    {
      "cell_type": "markdown",
      "source": [
        "Este punto demora en correr 60 minutos en Google Colab, con lo cual para continuar con el punto siguiente deberá abrir un nuevo Colab"
      ],
      "metadata": {
        "id": "E82ChuO25OYx"
      }
    },
    {
      "cell_type": "markdown",
      "source": [
        "limpio el ambiente de R"
      ],
      "metadata": {
        "id": "a6AxqLwOGimQ"
      }
    },
    {
      "cell_type": "code",
      "source": [
        "# limpio la memoria\n",
        "rm(list=ls(all.names=TRUE)) # remove all objects\n",
        "gc(full=TRUE, verbose=FALSE) # garbage collection"
      ],
      "metadata": {
        "id": "797Ad0_QGimQ",
        "outputId": "6369983a-22e4-4480-8ca8-d7b05d249b53",
        "colab": {
          "base_uri": "https://localhost:8080/",
          "height": 129
        }
      },
      "execution_count": 30,
      "outputs": [
        {
          "output_type": "display_data",
          "data": {
            "text/html": [
              "<table class=\"dataframe\">\n",
              "<caption>A matrix: 2 × 6 of type dbl</caption>\n",
              "<thead>\n",
              "\t<tr><th></th><th scope=col>used</th><th scope=col>(Mb)</th><th scope=col>gc trigger</th><th scope=col>(Mb)</th><th scope=col>max used</th><th scope=col>(Mb)</th></tr>\n",
              "</thead>\n",
              "<tbody>\n",
              "\t<tr><th scope=row>Ncells</th><td> 812110</td><td>43.4</td><td> 1454462</td><td> 77.7</td><td>  1454462</td><td> 77.7</td></tr>\n",
              "\t<tr><th scope=row>Vcells</th><td>1519601</td><td>11.6</td><td>67925762</td><td>518.3</td><td>104119751</td><td>794.4</td></tr>\n",
              "</tbody>\n",
              "</table>\n"
            ],
            "text/markdown": "\nA matrix: 2 × 6 of type dbl\n\n| <!--/--> | used | (Mb) | gc trigger | (Mb) | max used | (Mb) |\n|---|---|---|---|---|---|---|\n| Ncells |  812110 | 43.4 |  1454462 |  77.7 |   1454462 |  77.7 |\n| Vcells | 1519601 | 11.6 | 67925762 | 518.3 | 104119751 | 794.4 |\n\n",
            "text/latex": "A matrix: 2 × 6 of type dbl\n\\begin{tabular}{r|llllll}\n  & used & (Mb) & gc trigger & (Mb) & max used & (Mb)\\\\\n\\hline\n\tNcells &  812110 & 43.4 &  1454462 &  77.7 &   1454462 &  77.7\\\\\n\tVcells & 1519601 & 11.6 & 67925762 & 518.3 & 104119751 & 794.4\\\\\n\\end{tabular}\n",
            "text/plain": [
              "       used    (Mb) gc trigger (Mb)  max used  (Mb) \n",
              "Ncells  812110 43.4  1454462    77.7   1454462  77.7\n",
              "Vcells 1519601 11.6 67925762   518.3 104119751 794.4"
            ]
          },
          "metadata": {}
        }
      ]
    },
    {
      "cell_type": "markdown",
      "source": [
        "* Instalacion de la libreria  rpart.plot  para dibujar el arbol\n",
        "* invocacion de las librerias  **data.table** y  **rpart**"
      ],
      "metadata": {
        "id": "v0CepvbjGimQ"
      }
    },
    {
      "cell_type": "code",
      "source": [
        "# cargo las librerias que necesito\n",
        "require(\"data.table\")\n",
        "require(\"rpart\")\n",
        "require(\"parallel\")\n",
        "\n",
        "if (!require(\"primes\")) install.packages(\"primes\")\n",
        "require(\"primes\")"
      ],
      "metadata": {
        "id": "CRkZ1V2_GimR"
      },
      "execution_count": 31,
      "outputs": []
    },
    {
      "cell_type": "markdown",
      "source": [
        "###  Accion a Realizar\n",
        "PARAM$semilla_primigenia  debe reemplazarse por SU primer semilla"
      ],
      "metadata": {
        "id": "PZKJG-nSGimR"
      }
    },
    {
      "cell_type": "code",
      "source": [
        "PARAM <- list()\n",
        "PARAM$semilla_primigenia <- 999961\n",
        "PARAM$qsemillas <- 50\n",
        "PARAM$training_pct <- 70L  # entre  1L y 99L\n",
        "\n",
        "PARAM$rpart <- list (\n",
        "  \"cp\" = -1, # complejidad minima\n",
        "  \"minsplit\" = 170, # minima cantidad de regs en un nodo para hacer el split\n",
        "  \"minbucket\" = 70, # minima cantidad de regs en una hoja\n",
        "  \"maxdepth\" = 7 # profundidad máxima del arbol\n",
        ")\n"
      ],
      "metadata": {
        "id": "4kbkA-2HGimR"
      },
      "execution_count": 32,
      "outputs": []
    },
    {
      "cell_type": "code",
      "source": [
        "# particionar agrega una columna llamada fold a un dataset\n",
        "#  que consiste en una particion estratificada segun agrupa\n",
        "\n",
        "# particionar( data=dataset, division=c(70,30),\n",
        "#  agrupa=clase_ternaria, seed=semilla)   crea una particion 70, 30\n",
        "\n",
        "particionar <- function(\n",
        "    data, division, agrupa = \"\",\n",
        "    campo = \"fold\", start = 1, seed = NA) {\n",
        "  if (!is.na(seed)) set.seed(seed)\n",
        "\n",
        "  bloque <- unlist(mapply(function(x, y) {\n",
        "    rep(y, x)\n",
        "  }, division, seq(from = start, length.out = length(division))))\n",
        "\n",
        "  data[, (campo) := sample(rep(bloque, ceiling(.N / length(bloque))))[1:.N],\n",
        "    by = agrupa\n",
        "  ]\n",
        "}\n"
      ],
      "metadata": {
        "id": "HME0qUeOGimS"
      },
      "execution_count": 33,
      "outputs": []
    },
    {
      "cell_type": "code",
      "source": [
        "\n",
        "ArbolEstimarGanancia <- function(semilla, param_basicos) {\n",
        "  # particiono estratificadamente el dataset\n",
        "  particionar(dataset,\n",
        "    division = c(param_basicos$training_pct, 100L -param_basicos$training_pct),\n",
        "    agrupa = \"clase_ternaria\",\n",
        "    seed = semilla # aqui se usa SU semilla\n",
        "  )\n",
        "\n",
        "  # genero el modelo\n",
        "  # predecir clase_ternaria a partir del resto\n",
        "  modelo <- rpart(\"clase_ternaria ~ .\",\n",
        "    data = dataset[fold == 1], # fold==1  es training,  el 70% de los datos\n",
        "    xval = 0,\n",
        "    control = param_basicos$rpart\n",
        "  ) # aqui van los parametros del arbol\n",
        "\n",
        "  # aplico el modelo a los datos de testing\n",
        "  prediccion <- predict(modelo, # el modelo que genere recien\n",
        "    dataset[fold == 2], # fold==2  es testing, el 30% de los datos\n",
        "    type = \"prob\"\n",
        "  ) # type= \"prob\"  es que devuelva la probabilidad\n",
        "\n",
        "  # prediccion es una matriz con TRES columnas,\n",
        "  #  llamadas \"BAJA+1\", \"BAJA+2\"  y \"CONTINUA\"\n",
        "  # cada columna es el vector de probabilidades\n",
        "\n",
        "\n",
        "  # calculo la ganancia en testing  qu es fold==2\n",
        "  ganancia_test <- dataset[\n",
        "    fold == 2,\n",
        "    sum(ifelse(prediccion[, \"BAJA+2\"] > 0.025,\n",
        "      ifelse(clase_ternaria == \"BAJA+2\", 117000, -3000),\n",
        "      0\n",
        "    ))\n",
        "  ]\n",
        "\n",
        "  # escalo la ganancia como si fuera todo el dataset\n",
        "  ganancia_test_normalizada <- ganancia_test / (( 100 - PARAM$training_pct ) / 100 )\n",
        "\n",
        "  return(list(\n",
        "    \"semilla\" = semilla,\n",
        "    \"testing\" = dataset[fold == 2, .N],\n",
        "    \"testing_pos\" = dataset[fold == 2 & clase_ternaria == \"BAJA+2\", .N],\n",
        "    \"envios\" = dataset[fold == 2, sum(prediccion[, \"BAJA+2\"] > 0.025)],\n",
        "    \"aciertos\" = dataset[\n",
        "        fold == 2,\n",
        "        sum(prediccion[, \"BAJA+2\"] > 0.025 & clase_ternaria == \"BAJA+2\")\n",
        "    ],\n",
        "    \"ganancia_test\" = ganancia_test_normalizada\n",
        "  ))\n",
        "}\n"
      ],
      "metadata": {
        "id": "ro9Ufoi-GimS"
      },
      "execution_count": 34,
      "outputs": []
    },
    {
      "cell_type": "code",
      "source": [
        "# carpeta de trabajo\n",
        "setwd(\"/content/buckets/b1/exp\")\n",
        "experimento <- \"exp204\"\n",
        "dir.create(experimento, showWarnings=FALSE)\n",
        "setwd( paste0(\"/content/buckets/b1/exp/\", experimento ))"
      ],
      "metadata": {
        "id": "gz7LgltwGimT"
      },
      "execution_count": 35,
      "outputs": []
    },
    {
      "cell_type": "code",
      "source": [
        "# lectura del dataset\n",
        "dataset <- fread(\"/content/datasets/dataset_pequeno.csv\")\n",
        "\n",
        "# trabajo solo con los datos con clase, es decir 202107\n",
        "dataset <- dataset[clase_ternaria != \"\"]"
      ],
      "metadata": {
        "id": "xRXKHeLeGimT"
      },
      "execution_count": 36,
      "outputs": []
    },
    {
      "cell_type": "code",
      "source": [
        "# genero numeros primos\n",
        "primos <- generate_primes(min = 100000, max = 1000000)\n",
        "set.seed(PARAM$semilla_primigenia) # inicializo\n",
        "\n",
        "# me quedo con PARAM$qsemillas   semillas\n",
        "PARAM$semillas <- sample(primos, PARAM$qsemillas )"
      ],
      "metadata": {
        "id": "MdpZ10qiHSZy"
      },
      "execution_count": 37,
      "outputs": []
    },
    {
      "cell_type": "code",
      "source": [
        "\n",
        "# la funcion mcmapply  llama a la funcion ArbolEstimarGanancia\n",
        "#  tantas veces como valores tenga el vector  PARAM$semillas\n",
        "salidas <- mcmapply(ArbolEstimarGanancia,\n",
        "  PARAM$semillas, # paso el vector de semillas\n",
        "  MoreArgs = list(PARAM), # aqui paso el segundo parametro\n",
        "  SIMPLIFY = FALSE,\n",
        "  mc.cores = detectCores()\n",
        ")\n",
        "\n",
        "# muestro la lista de las salidas en testing\n",
        "#  para la particion realizada con cada semilla\n",
        "salidas\n"
      ],
      "metadata": {
        "id": "r-YaawpgGimU",
        "outputId": "0e6bf6c0-f86e-4144-cb8e-cde12fccb041",
        "colab": {
          "base_uri": "https://localhost:8080/",
          "height": 1000
        }
      },
      "execution_count": 38,
      "outputs": [
        {
          "output_type": "display_data",
          "data": {
            "text/html": [
              "<ol>\n",
              "\t<li><dl>\n",
              "\t<dt>$semilla</dt>\n",
              "\t\t<dd>152843</dd>\n",
              "\t<dt>$testing</dt>\n",
              "\t\t<dd>49389</dd>\n",
              "\t<dt>$testing_pos</dt>\n",
              "\t\t<dd>374</dd>\n",
              "\t<dt>$envios</dt>\n",
              "\t\t<dd>3833</dd>\n",
              "\t<dt>$aciertos</dt>\n",
              "\t\t<dd>212</dd>\n",
              "\t<dt>$ganancia_test</dt>\n",
              "\t\t<dd>46470000</dd>\n",
              "</dl>\n",
              "</li>\n",
              "\t<li><dl>\n",
              "\t<dt>$semilla</dt>\n",
              "\t\t<dd>461333</dd>\n",
              "\t<dt>$testing</dt>\n",
              "\t\t<dd>49378</dd>\n",
              "\t<dt>$testing_pos</dt>\n",
              "\t\t<dd>373</dd>\n",
              "\t<dt>$envios</dt>\n",
              "\t\t<dd>3777</dd>\n",
              "\t<dt>$aciertos</dt>\n",
              "\t\t<dd>202</dd>\n",
              "\t<dt>$ganancia_test</dt>\n",
              "\t\t<dd>43030000</dd>\n",
              "</dl>\n",
              "</li>\n",
              "\t<li><dl>\n",
              "\t<dt>$semilla</dt>\n",
              "\t\t<dd>367163</dd>\n",
              "\t<dt>$testing</dt>\n",
              "\t\t<dd>49386</dd>\n",
              "\t<dt>$testing_pos</dt>\n",
              "\t\t<dd>377</dd>\n",
              "\t<dt>$envios</dt>\n",
              "\t\t<dd>3150</dd>\n",
              "\t<dt>$aciertos</dt>\n",
              "\t\t<dd>195</dd>\n",
              "\t<dt>$ganancia_test</dt>\n",
              "\t\t<dd>46500000</dd>\n",
              "</dl>\n",
              "</li>\n",
              "\t<li><dl>\n",
              "\t<dt>$semilla</dt>\n",
              "\t\t<dd>883781</dd>\n",
              "\t<dt>$testing</dt>\n",
              "\t\t<dd>49378</dd>\n",
              "\t<dt>$testing_pos</dt>\n",
              "\t\t<dd>375</dd>\n",
              "\t<dt>$envios</dt>\n",
              "\t\t<dd>2824</dd>\n",
              "\t<dt>$aciertos</dt>\n",
              "\t\t<dd>191</dd>\n",
              "\t<dt>$ganancia_test</dt>\n",
              "\t\t<dd>48160000</dd>\n",
              "</dl>\n",
              "</li>\n",
              "\t<li><dl>\n",
              "\t<dt>$semilla</dt>\n",
              "\t\t<dd>500413</dd>\n",
              "\t<dt>$testing</dt>\n",
              "\t\t<dd>49374</dd>\n",
              "\t<dt>$testing_pos</dt>\n",
              "\t\t<dd>374</dd>\n",
              "\t<dt>$envios</dt>\n",
              "\t\t<dd>3046</dd>\n",
              "\t<dt>$aciertos</dt>\n",
              "\t\t<dd>196</dd>\n",
              "\t<dt>$ganancia_test</dt>\n",
              "\t\t<dd>47940000</dd>\n",
              "</dl>\n",
              "</li>\n",
              "\t<li><dl>\n",
              "\t<dt>$semilla</dt>\n",
              "\t\t<dd>898813</dd>\n",
              "\t<dt>$testing</dt>\n",
              "\t\t<dd>49385</dd>\n",
              "\t<dt>$testing_pos</dt>\n",
              "\t\t<dd>378</dd>\n",
              "\t<dt>$envios</dt>\n",
              "\t\t<dd>3179</dd>\n",
              "\t<dt>$aciertos</dt>\n",
              "\t\t<dd>200</dd>\n",
              "\t<dt>$ganancia_test</dt>\n",
              "\t\t<dd>48210000</dd>\n",
              "</dl>\n",
              "</li>\n",
              "\t<li><dl>\n",
              "\t<dt>$semilla</dt>\n",
              "\t\t<dd>199889</dd>\n",
              "\t<dt>$testing</dt>\n",
              "\t\t<dd>49372</dd>\n",
              "\t<dt>$testing_pos</dt>\n",
              "\t\t<dd>369</dd>\n",
              "\t<dt>$envios</dt>\n",
              "\t\t<dd>3651</dd>\n",
              "\t<dt>$aciertos</dt>\n",
              "\t\t<dd>207</dd>\n",
              "\t<dt>$ganancia_test</dt>\n",
              "\t\t<dd>46290000</dd>\n",
              "</dl>\n",
              "</li>\n",
              "\t<li><dl>\n",
              "\t<dt>$semilla</dt>\n",
              "\t\t<dd>683129</dd>\n",
              "\t<dt>$testing</dt>\n",
              "\t\t<dd>49379</dd>\n",
              "\t<dt>$testing_pos</dt>\n",
              "\t\t<dd>376</dd>\n",
              "\t<dt>$envios</dt>\n",
              "\t\t<dd>3349</dd>\n",
              "\t<dt>$aciertos</dt>\n",
              "\t\t<dd>194</dd>\n",
              "\t<dt>$ganancia_test</dt>\n",
              "\t\t<dd>44110000</dd>\n",
              "</dl>\n",
              "</li>\n",
              "\t<li><dl>\n",
              "\t<dt>$semilla</dt>\n",
              "\t\t<dd>337639</dd>\n",
              "\t<dt>$testing</dt>\n",
              "\t\t<dd>49375</dd>\n",
              "\t<dt>$testing_pos</dt>\n",
              "\t\t<dd>380</dd>\n",
              "\t<dt>$envios</dt>\n",
              "\t\t<dd>3691</dd>\n",
              "\t<dt>$aciertos</dt>\n",
              "\t\t<dd>213</dd>\n",
              "\t<dt>$ganancia_test</dt>\n",
              "\t\t<dd>48290000</dd>\n",
              "</dl>\n",
              "</li>\n",
              "\t<li><dl>\n",
              "\t<dt>$semilla</dt>\n",
              "\t\t<dd>709519</dd>\n",
              "\t<dt>$testing</dt>\n",
              "\t\t<dd>49388</dd>\n",
              "\t<dt>$testing_pos</dt>\n",
              "\t\t<dd>379</dd>\n",
              "\t<dt>$envios</dt>\n",
              "\t\t<dd>3211</dd>\n",
              "\t<dt>$aciertos</dt>\n",
              "\t\t<dd>202</dd>\n",
              "\t<dt>$ganancia_test</dt>\n",
              "\t\t<dd>48690000</dd>\n",
              "</dl>\n",
              "</li>\n",
              "\t<li><dl>\n",
              "\t<dt>$semilla</dt>\n",
              "\t\t<dd>797051</dd>\n",
              "\t<dt>$testing</dt>\n",
              "\t\t<dd>49387</dd>\n",
              "\t<dt>$testing_pos</dt>\n",
              "\t\t<dd>380</dd>\n",
              "\t<dt>$envios</dt>\n",
              "\t\t<dd>2580</dd>\n",
              "\t<dt>$aciertos</dt>\n",
              "\t\t<dd>196</dd>\n",
              "\t<dt>$ganancia_test</dt>\n",
              "\t\t<dd>52600000</dd>\n",
              "</dl>\n",
              "</li>\n",
              "\t<li><dl>\n",
              "\t<dt>$semilla</dt>\n",
              "\t\t<dd>716321</dd>\n",
              "\t<dt>$testing</dt>\n",
              "\t\t<dd>49384</dd>\n",
              "\t<dt>$testing_pos</dt>\n",
              "\t\t<dd>376</dd>\n",
              "\t<dt>$envios</dt>\n",
              "\t\t<dd>3042</dd>\n",
              "\t<dt>$aciertos</dt>\n",
              "\t\t<dd>195</dd>\n",
              "\t<dt>$ganancia_test</dt>\n",
              "\t\t<dd>47580000</dd>\n",
              "</dl>\n",
              "</li>\n",
              "\t<li><dl>\n",
              "\t<dt>$semilla</dt>\n",
              "\t\t<dd>160397</dd>\n",
              "\t<dt>$testing</dt>\n",
              "\t\t<dd>49379</dd>\n",
              "\t<dt>$testing_pos</dt>\n",
              "\t\t<dd>375</dd>\n",
              "\t<dt>$envios</dt>\n",
              "\t\t<dd>3698</dd>\n",
              "\t<dt>$aciertos</dt>\n",
              "\t\t<dd>205</dd>\n",
              "\t<dt>$ganancia_test</dt>\n",
              "\t\t<dd>45020000</dd>\n",
              "</dl>\n",
              "</li>\n",
              "\t<li><dl>\n",
              "\t<dt>$semilla</dt>\n",
              "\t\t<dd>430553</dd>\n",
              "\t<dt>$testing</dt>\n",
              "\t\t<dd>49375</dd>\n",
              "\t<dt>$testing_pos</dt>\n",
              "\t\t<dd>374</dd>\n",
              "\t<dt>$envios</dt>\n",
              "\t\t<dd>3734</dd>\n",
              "\t<dt>$aciertos</dt>\n",
              "\t\t<dd>220</dd>\n",
              "\t<dt>$ganancia_test</dt>\n",
              "\t\t<dd>50660000</dd>\n",
              "</dl>\n",
              "</li>\n",
              "\t<li><dl>\n",
              "\t<dt>$semilla</dt>\n",
              "\t\t<dd>802027</dd>\n",
              "\t<dt>$testing</dt>\n",
              "\t\t<dd>49381</dd>\n",
              "\t<dt>$testing_pos</dt>\n",
              "\t\t<dd>378</dd>\n",
              "\t<dt>$envios</dt>\n",
              "\t\t<dd>3675</dd>\n",
              "\t<dt>$aciertos</dt>\n",
              "\t\t<dd>208</dd>\n",
              "\t<dt>$ganancia_test</dt>\n",
              "\t\t<dd>46450000</dd>\n",
              "</dl>\n",
              "</li>\n",
              "\t<li><dl>\n",
              "\t<dt>$semilla</dt>\n",
              "\t\t<dd>241823</dd>\n",
              "\t<dt>$testing</dt>\n",
              "\t\t<dd>49380</dd>\n",
              "\t<dt>$testing_pos</dt>\n",
              "\t\t<dd>376</dd>\n",
              "\t<dt>$envios</dt>\n",
              "\t\t<dd>2798</dd>\n",
              "\t<dt>$aciertos</dt>\n",
              "\t\t<dd>191</dd>\n",
              "\t<dt>$ganancia_test</dt>\n",
              "\t\t<dd>48420000</dd>\n",
              "</dl>\n",
              "</li>\n",
              "\t<li><dl>\n",
              "\t<dt>$semilla</dt>\n",
              "\t\t<dd>798199</dd>\n",
              "\t<dt>$testing</dt>\n",
              "\t\t<dd>49379</dd>\n",
              "\t<dt>$testing_pos</dt>\n",
              "\t\t<dd>377</dd>\n",
              "\t<dt>$envios</dt>\n",
              "\t\t<dd>3320</dd>\n",
              "\t<dt>$aciertos</dt>\n",
              "\t\t<dd>196</dd>\n",
              "\t<dt>$ganancia_test</dt>\n",
              "\t\t<dd>45200000</dd>\n",
              "</dl>\n",
              "</li>\n",
              "\t<li><dl>\n",
              "\t<dt>$semilla</dt>\n",
              "\t\t<dd>682009</dd>\n",
              "\t<dt>$testing</dt>\n",
              "\t\t<dd>49364</dd>\n",
              "\t<dt>$testing_pos</dt>\n",
              "\t\t<dd>371</dd>\n",
              "\t<dt>$envios</dt>\n",
              "\t\t<dd>3114</dd>\n",
              "\t<dt>$aciertos</dt>\n",
              "\t\t<dd>184</dd>\n",
              "\t<dt>$ganancia_test</dt>\n",
              "\t\t<dd>42460000</dd>\n",
              "</dl>\n",
              "</li>\n",
              "\t<li><dl>\n",
              "\t<dt>$semilla</dt>\n",
              "\t\t<dd>727061</dd>\n",
              "\t<dt>$testing</dt>\n",
              "\t\t<dd>49374</dd>\n",
              "\t<dt>$testing_pos</dt>\n",
              "\t\t<dd>374</dd>\n",
              "\t<dt>$envios</dt>\n",
              "\t\t<dd>2914</dd>\n",
              "\t<dt>$aciertos</dt>\n",
              "\t\t<dd>201</dd>\n",
              "\t<dt>$ganancia_test</dt>\n",
              "\t\t<dd>51260000</dd>\n",
              "</dl>\n",
              "</li>\n",
              "\t<li><dl>\n",
              "\t<dt>$semilla</dt>\n",
              "\t\t<dd>737059</dd>\n",
              "\t<dt>$testing</dt>\n",
              "\t\t<dd>49377</dd>\n",
              "\t<dt>$testing_pos</dt>\n",
              "\t\t<dd>371</dd>\n",
              "\t<dt>$envios</dt>\n",
              "\t\t<dd>3587</dd>\n",
              "\t<dt>$aciertos</dt>\n",
              "\t\t<dd>195</dd>\n",
              "\t<dt>$ganancia_test</dt>\n",
              "\t\t<dd>42130000</dd>\n",
              "</dl>\n",
              "</li>\n",
              "\t<li><dl>\n",
              "\t<dt>$semilla</dt>\n",
              "\t\t<dd>873767</dd>\n",
              "\t<dt>$testing</dt>\n",
              "\t\t<dd>49370</dd>\n",
              "\t<dt>$testing_pos</dt>\n",
              "\t\t<dd>370</dd>\n",
              "\t<dt>$envios</dt>\n",
              "\t\t<dd>3338</dd>\n",
              "\t<dt>$aciertos</dt>\n",
              "\t\t<dd>197</dd>\n",
              "\t<dt>$ganancia_test</dt>\n",
              "\t\t<dd>45420000</dd>\n",
              "</dl>\n",
              "</li>\n",
              "\t<li><dl>\n",
              "\t<dt>$semilla</dt>\n",
              "\t\t<dd>368729</dd>\n",
              "\t<dt>$testing</dt>\n",
              "\t\t<dd>49377</dd>\n",
              "\t<dt>$testing_pos</dt>\n",
              "\t\t<dd>376</dd>\n",
              "\t<dt>$envios</dt>\n",
              "\t\t<dd>3851</dd>\n",
              "\t<dt>$aciertos</dt>\n",
              "\t\t<dd>200</dd>\n",
              "\t<dt>$ganancia_test</dt>\n",
              "\t\t<dd>41490000</dd>\n",
              "</dl>\n",
              "</li>\n",
              "\t<li><dl>\n",
              "\t<dt>$semilla</dt>\n",
              "\t\t<dd>199783</dd>\n",
              "\t<dt>$testing</dt>\n",
              "\t\t<dd>49384</dd>\n",
              "\t<dt>$testing_pos</dt>\n",
              "\t\t<dd>381</dd>\n",
              "\t<dt>$envios</dt>\n",
              "\t\t<dd>2873</dd>\n",
              "\t<dt>$aciertos</dt>\n",
              "\t\t<dd>194</dd>\n",
              "\t<dt>$ganancia_test</dt>\n",
              "\t\t<dd>48870000</dd>\n",
              "</dl>\n",
              "</li>\n",
              "\t<li><dl>\n",
              "\t<dt>$semilla</dt>\n",
              "\t\t<dd>645937</dd>\n",
              "\t<dt>$testing</dt>\n",
              "\t\t<dd>49382</dd>\n",
              "\t<dt>$testing_pos</dt>\n",
              "\t\t<dd>376</dd>\n",
              "\t<dt>$envios</dt>\n",
              "\t\t<dd>3439</dd>\n",
              "\t<dt>$aciertos</dt>\n",
              "\t\t<dd>207</dd>\n",
              "\t<dt>$ganancia_test</dt>\n",
              "\t\t<dd>48410000</dd>\n",
              "</dl>\n",
              "</li>\n",
              "\t<li><dl>\n",
              "\t<dt>$semilla</dt>\n",
              "\t\t<dd>293413</dd>\n",
              "\t<dt>$testing</dt>\n",
              "\t\t<dd>49386</dd>\n",
              "\t<dt>$testing_pos</dt>\n",
              "\t\t<dd>376</dd>\n",
              "\t<dt>$envios</dt>\n",
              "\t\t<dd>3704</dd>\n",
              "\t<dt>$aciertos</dt>\n",
              "\t\t<dd>215</dd>\n",
              "\t<dt>$ganancia_test</dt>\n",
              "\t\t<dd>48960000</dd>\n",
              "</dl>\n",
              "</li>\n",
              "\t<li><dl>\n",
              "\t<dt>$semilla</dt>\n",
              "\t\t<dd>208891</dd>\n",
              "\t<dt>$testing</dt>\n",
              "\t\t<dd>49378</dd>\n",
              "\t<dt>$testing_pos</dt>\n",
              "\t\t<dd>375</dd>\n",
              "\t<dt>$envios</dt>\n",
              "\t\t<dd>3251</dd>\n",
              "\t<dt>$aciertos</dt>\n",
              "\t\t<dd>206</dd>\n",
              "\t<dt>$ganancia_test</dt>\n",
              "\t\t<dd>49890000</dd>\n",
              "</dl>\n",
              "</li>\n",
              "\t<li><dl>\n",
              "\t<dt>$semilla</dt>\n",
              "\t\t<dd>186671</dd>\n",
              "\t<dt>$testing</dt>\n",
              "\t\t<dd>49378</dd>\n",
              "\t<dt>$testing_pos</dt>\n",
              "\t\t<dd>368</dd>\n",
              "\t<dt>$envios</dt>\n",
              "\t\t<dd>3432</dd>\n",
              "\t<dt>$aciertos</dt>\n",
              "\t\t<dd>201</dd>\n",
              "\t<dt>$ganancia_test</dt>\n",
              "\t\t<dd>46080000</dd>\n",
              "</dl>\n",
              "</li>\n",
              "\t<li><dl>\n",
              "\t<dt>$semilla</dt>\n",
              "\t\t<dd>900293</dd>\n",
              "\t<dt>$testing</dt>\n",
              "\t\t<dd>49370</dd>\n",
              "\t<dt>$testing_pos</dt>\n",
              "\t\t<dd>375</dd>\n",
              "\t<dt>$envios</dt>\n",
              "\t\t<dd>3676</dd>\n",
              "\t<dt>$aciertos</dt>\n",
              "\t\t<dd>221</dd>\n",
              "\t<dt>$ganancia_test</dt>\n",
              "\t\t<dd>51640000</dd>\n",
              "</dl>\n",
              "</li>\n",
              "\t<li><dl>\n",
              "\t<dt>$semilla</dt>\n",
              "\t\t<dd>292549</dd>\n",
              "\t<dt>$testing</dt>\n",
              "\t\t<dd>49381</dd>\n",
              "\t<dt>$testing_pos</dt>\n",
              "\t\t<dd>376</dd>\n",
              "\t<dt>$envios</dt>\n",
              "\t\t<dd>4016</dd>\n",
              "\t<dt>$aciertos</dt>\n",
              "\t\t<dd>227</dd>\n",
              "\t<dt>$ganancia_test</dt>\n",
              "\t\t<dd>50640000</dd>\n",
              "</dl>\n",
              "</li>\n",
              "\t<li><dl>\n",
              "\t<dt>$semilla</dt>\n",
              "\t\t<dd>101869</dd>\n",
              "\t<dt>$testing</dt>\n",
              "\t\t<dd>49366</dd>\n",
              "\t<dt>$testing_pos</dt>\n",
              "\t\t<dd>371</dd>\n",
              "\t<dt>$envios</dt>\n",
              "\t\t<dd>3553</dd>\n",
              "\t<dt>$aciertos</dt>\n",
              "\t\t<dd>216</dd>\n",
              "\t<dt>$ganancia_test</dt>\n",
              "\t\t<dd>50870000</dd>\n",
              "</dl>\n",
              "</li>\n",
              "\t<li><dl>\n",
              "\t<dt>$semilla</dt>\n",
              "\t\t<dd>885931</dd>\n",
              "\t<dt>$testing</dt>\n",
              "\t\t<dd>49378</dd>\n",
              "\t<dt>$testing_pos</dt>\n",
              "\t\t<dd>378</dd>\n",
              "\t<dt>$envios</dt>\n",
              "\t\t<dd>4246</dd>\n",
              "\t<dt>$aciertos</dt>\n",
              "\t\t<dd>239</dd>\n",
              "\t<dt>$ganancia_test</dt>\n",
              "\t\t<dd>53140000</dd>\n",
              "</dl>\n",
              "</li>\n",
              "\t<li><dl>\n",
              "\t<dt>$semilla</dt>\n",
              "\t\t<dd>729761</dd>\n",
              "\t<dt>$testing</dt>\n",
              "\t\t<dd>49386</dd>\n",
              "\t<dt>$testing_pos</dt>\n",
              "\t\t<dd>377</dd>\n",
              "\t<dt>$envios</dt>\n",
              "\t\t<dd>3806</dd>\n",
              "\t<dt>$aciertos</dt>\n",
              "\t\t<dd>195</dd>\n",
              "\t<dt>$ganancia_test</dt>\n",
              "\t\t<dd>39940000</dd>\n",
              "</dl>\n",
              "</li>\n",
              "\t<li><dl>\n",
              "\t<dt>$semilla</dt>\n",
              "\t\t<dd>292133</dd>\n",
              "\t<dt>$testing</dt>\n",
              "\t\t<dd>49377</dd>\n",
              "\t<dt>$testing_pos</dt>\n",
              "\t\t<dd>382</dd>\n",
              "\t<dt>$envios</dt>\n",
              "\t\t<dd>3642</dd>\n",
              "\t<dt>$aciertos</dt>\n",
              "\t\t<dd>228</dd>\n",
              "\t<dt>$ganancia_test</dt>\n",
              "\t\t<dd>54780000</dd>\n",
              "</dl>\n",
              "</li>\n",
              "\t<li><dl>\n",
              "\t<dt>$semilla</dt>\n",
              "\t\t<dd>163259</dd>\n",
              "\t<dt>$testing</dt>\n",
              "\t\t<dd>49368</dd>\n",
              "\t<dt>$testing_pos</dt>\n",
              "\t\t<dd>372</dd>\n",
              "\t<dt>$envios</dt>\n",
              "\t\t<dd>3729</dd>\n",
              "\t<dt>$aciertos</dt>\n",
              "\t\t<dd>205</dd>\n",
              "\t<dt>$ganancia_test</dt>\n",
              "\t\t<dd>44710000</dd>\n",
              "</dl>\n",
              "</li>\n",
              "\t<li><dl>\n",
              "\t<dt>$semilla</dt>\n",
              "\t\t<dd>288527</dd>\n",
              "\t<dt>$testing</dt>\n",
              "\t\t<dd>49373</dd>\n",
              "\t<dt>$testing_pos</dt>\n",
              "\t\t<dd>375</dd>\n",
              "\t<dt>$envios</dt>\n",
              "\t\t<dd>3403</dd>\n",
              "\t<dt>$aciertos</dt>\n",
              "\t\t<dd>208</dd>\n",
              "\t<dt>$ganancia_test</dt>\n",
              "\t\t<dd>49170000</dd>\n",
              "</dl>\n",
              "</li>\n",
              "\t<li><dl>\n",
              "\t<dt>$semilla</dt>\n",
              "\t\t<dd>242257</dd>\n",
              "\t<dt>$testing</dt>\n",
              "\t\t<dd>49375</dd>\n",
              "\t<dt>$testing_pos</dt>\n",
              "\t\t<dd>376</dd>\n",
              "\t<dt>$envios</dt>\n",
              "\t\t<dd>3172</dd>\n",
              "\t<dt>$aciertos</dt>\n",
              "\t\t<dd>204</dd>\n",
              "\t<dt>$ganancia_test</dt>\n",
              "\t\t<dd>49880000</dd>\n",
              "</dl>\n",
              "</li>\n",
              "\t<li><dl>\n",
              "\t<dt>$semilla</dt>\n",
              "\t\t<dd>164279</dd>\n",
              "\t<dt>$testing</dt>\n",
              "\t\t<dd>49374</dd>\n",
              "\t<dt>$testing_pos</dt>\n",
              "\t\t<dd>373</dd>\n",
              "\t<dt>$envios</dt>\n",
              "\t\t<dd>3639</dd>\n",
              "\t<dt>$aciertos</dt>\n",
              "\t\t<dd>194</dd>\n",
              "\t<dt>$ganancia_test</dt>\n",
              "\t\t<dd>41210000</dd>\n",
              "</dl>\n",
              "</li>\n",
              "\t<li><dl>\n",
              "\t<dt>$semilla</dt>\n",
              "\t\t<dd>581797</dd>\n",
              "\t<dt>$testing</dt>\n",
              "\t\t<dd>49380</dd>\n",
              "\t<dt>$testing_pos</dt>\n",
              "\t\t<dd>375</dd>\n",
              "\t<dt>$envios</dt>\n",
              "\t\t<dd>3775</dd>\n",
              "\t<dt>$aciertos</dt>\n",
              "\t\t<dd>222</dd>\n",
              "\t<dt>$ganancia_test</dt>\n",
              "\t\t<dd>51050000</dd>\n",
              "</dl>\n",
              "</li>\n",
              "\t<li><dl>\n",
              "\t<dt>$semilla</dt>\n",
              "\t\t<dd>675481</dd>\n",
              "\t<dt>$testing</dt>\n",
              "\t\t<dd>49391</dd>\n",
              "\t<dt>$testing_pos</dt>\n",
              "\t\t<dd>377</dd>\n",
              "\t<dt>$envios</dt>\n",
              "\t\t<dd>3679</dd>\n",
              "\t<dt>$aciertos</dt>\n",
              "\t\t<dd>222</dd>\n",
              "\t<dt>$ganancia_test</dt>\n",
              "\t\t<dd>52010000</dd>\n",
              "</dl>\n",
              "</li>\n",
              "\t<li><dl>\n",
              "\t<dt>$semilla</dt>\n",
              "\t\t<dd>298021</dd>\n",
              "\t<dt>$testing</dt>\n",
              "\t\t<dd>49366</dd>\n",
              "\t<dt>$testing_pos</dt>\n",
              "\t\t<dd>370</dd>\n",
              "\t<dt>$envios</dt>\n",
              "\t\t<dd>3446</dd>\n",
              "\t<dt>$aciertos</dt>\n",
              "\t\t<dd>204</dd>\n",
              "\t<dt>$ganancia_test</dt>\n",
              "\t\t<dd>47140000</dd>\n",
              "</dl>\n",
              "</li>\n",
              "\t<li><dl>\n",
              "\t<dt>$semilla</dt>\n",
              "\t\t<dd>624233</dd>\n",
              "\t<dt>$testing</dt>\n",
              "\t\t<dd>49379</dd>\n",
              "\t<dt>$testing_pos</dt>\n",
              "\t\t<dd>374</dd>\n",
              "\t<dt>$envios</dt>\n",
              "\t\t<dd>3063</dd>\n",
              "\t<dt>$aciertos</dt>\n",
              "\t\t<dd>185</dd>\n",
              "\t<dt>$ganancia_test</dt>\n",
              "\t\t<dd>43370000</dd>\n",
              "</dl>\n",
              "</li>\n",
              "\t<li><dl>\n",
              "\t<dt>$semilla</dt>\n",
              "\t\t<dd>510941</dd>\n",
              "\t<dt>$testing</dt>\n",
              "\t\t<dd>49377</dd>\n",
              "\t<dt>$testing_pos</dt>\n",
              "\t\t<dd>377</dd>\n",
              "\t<dt>$envios</dt>\n",
              "\t\t<dd>3517</dd>\n",
              "\t<dt>$aciertos</dt>\n",
              "\t\t<dd>200</dd>\n",
              "\t<dt>$ganancia_test</dt>\n",
              "\t\t<dd>44830000</dd>\n",
              "</dl>\n",
              "</li>\n",
              "\t<li><dl>\n",
              "\t<dt>$semilla</dt>\n",
              "\t\t<dd>603173</dd>\n",
              "\t<dt>$testing</dt>\n",
              "\t\t<dd>49374</dd>\n",
              "\t<dt>$testing_pos</dt>\n",
              "\t\t<dd>375</dd>\n",
              "\t<dt>$envios</dt>\n",
              "\t\t<dd>4424</dd>\n",
              "\t<dt>$aciertos</dt>\n",
              "\t\t<dd>215</dd>\n",
              "\t<dt>$ganancia_test</dt>\n",
              "\t\t<dd>41760000</dd>\n",
              "</dl>\n",
              "</li>\n",
              "\t<li><dl>\n",
              "\t<dt>$semilla</dt>\n",
              "\t\t<dd>432979</dd>\n",
              "\t<dt>$testing</dt>\n",
              "\t\t<dd>49380</dd>\n",
              "\t<dt>$testing_pos</dt>\n",
              "\t\t<dd>374</dd>\n",
              "\t<dt>$envios</dt>\n",
              "\t\t<dd>3184</dd>\n",
              "\t<dt>$aciertos</dt>\n",
              "\t\t<dd>187</dd>\n",
              "\t<dt>$ganancia_test</dt>\n",
              "\t\t<dd>42960000</dd>\n",
              "</dl>\n",
              "</li>\n",
              "\t<li><dl>\n",
              "\t<dt>$semilla</dt>\n",
              "\t\t<dd>429503</dd>\n",
              "\t<dt>$testing</dt>\n",
              "\t\t<dd>49379</dd>\n",
              "\t<dt>$testing_pos</dt>\n",
              "\t\t<dd>373</dd>\n",
              "\t<dt>$envios</dt>\n",
              "\t\t<dd>3140</dd>\n",
              "\t<dt>$aciertos</dt>\n",
              "\t\t<dd>215</dd>\n",
              "\t<dt>$ganancia_test</dt>\n",
              "\t\t<dd>54600000</dd>\n",
              "</dl>\n",
              "</li>\n",
              "\t<li><dl>\n",
              "\t<dt>$semilla</dt>\n",
              "\t\t<dd>717151</dd>\n",
              "\t<dt>$testing</dt>\n",
              "\t\t<dd>49372</dd>\n",
              "\t<dt>$testing_pos</dt>\n",
              "\t\t<dd>373</dd>\n",
              "\t<dt>$envios</dt>\n",
              "\t\t<dd>4152</dd>\n",
              "\t<dt>$aciertos</dt>\n",
              "\t\t<dd>237</dd>\n",
              "\t<dt>$ganancia_test</dt>\n",
              "\t\t<dd>53280000</dd>\n",
              "</dl>\n",
              "</li>\n",
              "\t<li><dl>\n",
              "\t<dt>$semilla</dt>\n",
              "\t\t<dd>622337</dd>\n",
              "\t<dt>$testing</dt>\n",
              "\t\t<dd>49372</dd>\n",
              "\t<dt>$testing_pos</dt>\n",
              "\t\t<dd>376</dd>\n",
              "\t<dt>$envios</dt>\n",
              "\t\t<dd>3326</dd>\n",
              "\t<dt>$aciertos</dt>\n",
              "\t\t<dd>212</dd>\n",
              "\t<dt>$ganancia_test</dt>\n",
              "\t\t<dd>51540000</dd>\n",
              "</dl>\n",
              "</li>\n",
              "\t<li><dl>\n",
              "\t<dt>$semilla</dt>\n",
              "\t\t<dd>830693</dd>\n",
              "\t<dt>$testing</dt>\n",
              "\t\t<dd>49383</dd>\n",
              "\t<dt>$testing_pos</dt>\n",
              "\t\t<dd>372</dd>\n",
              "\t<dt>$envios</dt>\n",
              "\t\t<dd>2884</dd>\n",
              "\t<dt>$aciertos</dt>\n",
              "\t\t<dd>198</dd>\n",
              "\t<dt>$ganancia_test</dt>\n",
              "\t\t<dd>50360000</dd>\n",
              "</dl>\n",
              "</li>\n",
              "\t<li><dl>\n",
              "\t<dt>$semilla</dt>\n",
              "\t\t<dd>441829</dd>\n",
              "\t<dt>$testing</dt>\n",
              "\t\t<dd>49394</dd>\n",
              "\t<dt>$testing_pos</dt>\n",
              "\t\t<dd>382</dd>\n",
              "\t<dt>$envios</dt>\n",
              "\t\t<dd>3174</dd>\n",
              "\t<dt>$aciertos</dt>\n",
              "\t\t<dd>204</dd>\n",
              "\t<dt>$ganancia_test</dt>\n",
              "\t\t<dd>49860000</dd>\n",
              "</dl>\n",
              "</li>\n",
              "\t<li><dl>\n",
              "\t<dt>$semilla</dt>\n",
              "\t\t<dd>440953</dd>\n",
              "\t<dt>$testing</dt>\n",
              "\t\t<dd>49384</dd>\n",
              "\t<dt>$testing_pos</dt>\n",
              "\t\t<dd>374</dd>\n",
              "\t<dt>$envios</dt>\n",
              "\t\t<dd>3088</dd>\n",
              "\t<dt>$aciertos</dt>\n",
              "\t\t<dd>193</dd>\n",
              "\t<dt>$ganancia_test</dt>\n",
              "\t\t<dd>46320000</dd>\n",
              "</dl>\n",
              "</li>\n",
              "</ol>\n"
            ],
            "text/markdown": "1. $semilla\n:   152843\n$testing\n:   49389\n$testing_pos\n:   374\n$envios\n:   3833\n$aciertos\n:   212\n$ganancia_test\n:   46470000\n\n\n\n2. $semilla\n:   461333\n$testing\n:   49378\n$testing_pos\n:   373\n$envios\n:   3777\n$aciertos\n:   202\n$ganancia_test\n:   43030000\n\n\n\n3. $semilla\n:   367163\n$testing\n:   49386\n$testing_pos\n:   377\n$envios\n:   3150\n$aciertos\n:   195\n$ganancia_test\n:   46500000\n\n\n\n4. $semilla\n:   883781\n$testing\n:   49378\n$testing_pos\n:   375\n$envios\n:   2824\n$aciertos\n:   191\n$ganancia_test\n:   48160000\n\n\n\n5. $semilla\n:   500413\n$testing\n:   49374\n$testing_pos\n:   374\n$envios\n:   3046\n$aciertos\n:   196\n$ganancia_test\n:   47940000\n\n\n\n6. $semilla\n:   898813\n$testing\n:   49385\n$testing_pos\n:   378\n$envios\n:   3179\n$aciertos\n:   200\n$ganancia_test\n:   48210000\n\n\n\n7. $semilla\n:   199889\n$testing\n:   49372\n$testing_pos\n:   369\n$envios\n:   3651\n$aciertos\n:   207\n$ganancia_test\n:   46290000\n\n\n\n8. $semilla\n:   683129\n$testing\n:   49379\n$testing_pos\n:   376\n$envios\n:   3349\n$aciertos\n:   194\n$ganancia_test\n:   44110000\n\n\n\n9. $semilla\n:   337639\n$testing\n:   49375\n$testing_pos\n:   380\n$envios\n:   3691\n$aciertos\n:   213\n$ganancia_test\n:   48290000\n\n\n\n10. $semilla\n:   709519\n$testing\n:   49388\n$testing_pos\n:   379\n$envios\n:   3211\n$aciertos\n:   202\n$ganancia_test\n:   48690000\n\n\n\n11. $semilla\n:   797051\n$testing\n:   49387\n$testing_pos\n:   380\n$envios\n:   2580\n$aciertos\n:   196\n$ganancia_test\n:   52600000\n\n\n\n12. $semilla\n:   716321\n$testing\n:   49384\n$testing_pos\n:   376\n$envios\n:   3042\n$aciertos\n:   195\n$ganancia_test\n:   47580000\n\n\n\n13. $semilla\n:   160397\n$testing\n:   49379\n$testing_pos\n:   375\n$envios\n:   3698\n$aciertos\n:   205\n$ganancia_test\n:   45020000\n\n\n\n14. $semilla\n:   430553\n$testing\n:   49375\n$testing_pos\n:   374\n$envios\n:   3734\n$aciertos\n:   220\n$ganancia_test\n:   50660000\n\n\n\n15. $semilla\n:   802027\n$testing\n:   49381\n$testing_pos\n:   378\n$envios\n:   3675\n$aciertos\n:   208\n$ganancia_test\n:   46450000\n\n\n\n16. $semilla\n:   241823\n$testing\n:   49380\n$testing_pos\n:   376\n$envios\n:   2798\n$aciertos\n:   191\n$ganancia_test\n:   48420000\n\n\n\n17. $semilla\n:   798199\n$testing\n:   49379\n$testing_pos\n:   377\n$envios\n:   3320\n$aciertos\n:   196\n$ganancia_test\n:   45200000\n\n\n\n18. $semilla\n:   682009\n$testing\n:   49364\n$testing_pos\n:   371\n$envios\n:   3114\n$aciertos\n:   184\n$ganancia_test\n:   42460000\n\n\n\n19. $semilla\n:   727061\n$testing\n:   49374\n$testing_pos\n:   374\n$envios\n:   2914\n$aciertos\n:   201\n$ganancia_test\n:   51260000\n\n\n\n20. $semilla\n:   737059\n$testing\n:   49377\n$testing_pos\n:   371\n$envios\n:   3587\n$aciertos\n:   195\n$ganancia_test\n:   42130000\n\n\n\n21. $semilla\n:   873767\n$testing\n:   49370\n$testing_pos\n:   370\n$envios\n:   3338\n$aciertos\n:   197\n$ganancia_test\n:   45420000\n\n\n\n22. $semilla\n:   368729\n$testing\n:   49377\n$testing_pos\n:   376\n$envios\n:   3851\n$aciertos\n:   200\n$ganancia_test\n:   41490000\n\n\n\n23. $semilla\n:   199783\n$testing\n:   49384\n$testing_pos\n:   381\n$envios\n:   2873\n$aciertos\n:   194\n$ganancia_test\n:   48870000\n\n\n\n24. $semilla\n:   645937\n$testing\n:   49382\n$testing_pos\n:   376\n$envios\n:   3439\n$aciertos\n:   207\n$ganancia_test\n:   48410000\n\n\n\n25. $semilla\n:   293413\n$testing\n:   49386\n$testing_pos\n:   376\n$envios\n:   3704\n$aciertos\n:   215\n$ganancia_test\n:   48960000\n\n\n\n26. $semilla\n:   208891\n$testing\n:   49378\n$testing_pos\n:   375\n$envios\n:   3251\n$aciertos\n:   206\n$ganancia_test\n:   49890000\n\n\n\n27. $semilla\n:   186671\n$testing\n:   49378\n$testing_pos\n:   368\n$envios\n:   3432\n$aciertos\n:   201\n$ganancia_test\n:   46080000\n\n\n\n28. $semilla\n:   900293\n$testing\n:   49370\n$testing_pos\n:   375\n$envios\n:   3676\n$aciertos\n:   221\n$ganancia_test\n:   51640000\n\n\n\n29. $semilla\n:   292549\n$testing\n:   49381\n$testing_pos\n:   376\n$envios\n:   4016\n$aciertos\n:   227\n$ganancia_test\n:   50640000\n\n\n\n30. $semilla\n:   101869\n$testing\n:   49366\n$testing_pos\n:   371\n$envios\n:   3553\n$aciertos\n:   216\n$ganancia_test\n:   50870000\n\n\n\n31. $semilla\n:   885931\n$testing\n:   49378\n$testing_pos\n:   378\n$envios\n:   4246\n$aciertos\n:   239\n$ganancia_test\n:   53140000\n\n\n\n32. $semilla\n:   729761\n$testing\n:   49386\n$testing_pos\n:   377\n$envios\n:   3806\n$aciertos\n:   195\n$ganancia_test\n:   39940000\n\n\n\n33. $semilla\n:   292133\n$testing\n:   49377\n$testing_pos\n:   382\n$envios\n:   3642\n$aciertos\n:   228\n$ganancia_test\n:   54780000\n\n\n\n34. $semilla\n:   163259\n$testing\n:   49368\n$testing_pos\n:   372\n$envios\n:   3729\n$aciertos\n:   205\n$ganancia_test\n:   44710000\n\n\n\n35. $semilla\n:   288527\n$testing\n:   49373\n$testing_pos\n:   375\n$envios\n:   3403\n$aciertos\n:   208\n$ganancia_test\n:   49170000\n\n\n\n36. $semilla\n:   242257\n$testing\n:   49375\n$testing_pos\n:   376\n$envios\n:   3172\n$aciertos\n:   204\n$ganancia_test\n:   49880000\n\n\n\n37. $semilla\n:   164279\n$testing\n:   49374\n$testing_pos\n:   373\n$envios\n:   3639\n$aciertos\n:   194\n$ganancia_test\n:   41210000\n\n\n\n38. $semilla\n:   581797\n$testing\n:   49380\n$testing_pos\n:   375\n$envios\n:   3775\n$aciertos\n:   222\n$ganancia_test\n:   51050000\n\n\n\n39. $semilla\n:   675481\n$testing\n:   49391\n$testing_pos\n:   377\n$envios\n:   3679\n$aciertos\n:   222\n$ganancia_test\n:   52010000\n\n\n\n40. $semilla\n:   298021\n$testing\n:   49366\n$testing_pos\n:   370\n$envios\n:   3446\n$aciertos\n:   204\n$ganancia_test\n:   47140000\n\n\n\n41. $semilla\n:   624233\n$testing\n:   49379\n$testing_pos\n:   374\n$envios\n:   3063\n$aciertos\n:   185\n$ganancia_test\n:   43370000\n\n\n\n42. $semilla\n:   510941\n$testing\n:   49377\n$testing_pos\n:   377\n$envios\n:   3517\n$aciertos\n:   200\n$ganancia_test\n:   44830000\n\n\n\n43. $semilla\n:   603173\n$testing\n:   49374\n$testing_pos\n:   375\n$envios\n:   4424\n$aciertos\n:   215\n$ganancia_test\n:   41760000\n\n\n\n44. $semilla\n:   432979\n$testing\n:   49380\n$testing_pos\n:   374\n$envios\n:   3184\n$aciertos\n:   187\n$ganancia_test\n:   42960000\n\n\n\n45. $semilla\n:   429503\n$testing\n:   49379\n$testing_pos\n:   373\n$envios\n:   3140\n$aciertos\n:   215\n$ganancia_test\n:   54600000\n\n\n\n46. $semilla\n:   717151\n$testing\n:   49372\n$testing_pos\n:   373\n$envios\n:   4152\n$aciertos\n:   237\n$ganancia_test\n:   53280000\n\n\n\n47. $semilla\n:   622337\n$testing\n:   49372\n$testing_pos\n:   376\n$envios\n:   3326\n$aciertos\n:   212\n$ganancia_test\n:   51540000\n\n\n\n48. $semilla\n:   830693\n$testing\n:   49383\n$testing_pos\n:   372\n$envios\n:   2884\n$aciertos\n:   198\n$ganancia_test\n:   50360000\n\n\n\n49. $semilla\n:   441829\n$testing\n:   49394\n$testing_pos\n:   382\n$envios\n:   3174\n$aciertos\n:   204\n$ganancia_test\n:   49860000\n\n\n\n50. $semilla\n:   440953\n$testing\n:   49384\n$testing_pos\n:   374\n$envios\n:   3088\n$aciertos\n:   193\n$ganancia_test\n:   46320000\n\n\n\n\n\n",
            "text/latex": "\\begin{enumerate}\n\\item \\begin{description}\n\\item[\\$semilla] 152843\n\\item[\\$testing] 49389\n\\item[\\$testing\\_pos] 374\n\\item[\\$envios] 3833\n\\item[\\$aciertos] 212\n\\item[\\$ganancia\\_test] 46470000\n\\end{description}\n\n\\item \\begin{description}\n\\item[\\$semilla] 461333\n\\item[\\$testing] 49378\n\\item[\\$testing\\_pos] 373\n\\item[\\$envios] 3777\n\\item[\\$aciertos] 202\n\\item[\\$ganancia\\_test] 43030000\n\\end{description}\n\n\\item \\begin{description}\n\\item[\\$semilla] 367163\n\\item[\\$testing] 49386\n\\item[\\$testing\\_pos] 377\n\\item[\\$envios] 3150\n\\item[\\$aciertos] 195\n\\item[\\$ganancia\\_test] 46500000\n\\end{description}\n\n\\item \\begin{description}\n\\item[\\$semilla] 883781\n\\item[\\$testing] 49378\n\\item[\\$testing\\_pos] 375\n\\item[\\$envios] 2824\n\\item[\\$aciertos] 191\n\\item[\\$ganancia\\_test] 48160000\n\\end{description}\n\n\\item \\begin{description}\n\\item[\\$semilla] 500413\n\\item[\\$testing] 49374\n\\item[\\$testing\\_pos] 374\n\\item[\\$envios] 3046\n\\item[\\$aciertos] 196\n\\item[\\$ganancia\\_test] 47940000\n\\end{description}\n\n\\item \\begin{description}\n\\item[\\$semilla] 898813\n\\item[\\$testing] 49385\n\\item[\\$testing\\_pos] 378\n\\item[\\$envios] 3179\n\\item[\\$aciertos] 200\n\\item[\\$ganancia\\_test] 48210000\n\\end{description}\n\n\\item \\begin{description}\n\\item[\\$semilla] 199889\n\\item[\\$testing] 49372\n\\item[\\$testing\\_pos] 369\n\\item[\\$envios] 3651\n\\item[\\$aciertos] 207\n\\item[\\$ganancia\\_test] 46290000\n\\end{description}\n\n\\item \\begin{description}\n\\item[\\$semilla] 683129\n\\item[\\$testing] 49379\n\\item[\\$testing\\_pos] 376\n\\item[\\$envios] 3349\n\\item[\\$aciertos] 194\n\\item[\\$ganancia\\_test] 44110000\n\\end{description}\n\n\\item \\begin{description}\n\\item[\\$semilla] 337639\n\\item[\\$testing] 49375\n\\item[\\$testing\\_pos] 380\n\\item[\\$envios] 3691\n\\item[\\$aciertos] 213\n\\item[\\$ganancia\\_test] 48290000\n\\end{description}\n\n\\item \\begin{description}\n\\item[\\$semilla] 709519\n\\item[\\$testing] 49388\n\\item[\\$testing\\_pos] 379\n\\item[\\$envios] 3211\n\\item[\\$aciertos] 202\n\\item[\\$ganancia\\_test] 48690000\n\\end{description}\n\n\\item \\begin{description}\n\\item[\\$semilla] 797051\n\\item[\\$testing] 49387\n\\item[\\$testing\\_pos] 380\n\\item[\\$envios] 2580\n\\item[\\$aciertos] 196\n\\item[\\$ganancia\\_test] 52600000\n\\end{description}\n\n\\item \\begin{description}\n\\item[\\$semilla] 716321\n\\item[\\$testing] 49384\n\\item[\\$testing\\_pos] 376\n\\item[\\$envios] 3042\n\\item[\\$aciertos] 195\n\\item[\\$ganancia\\_test] 47580000\n\\end{description}\n\n\\item \\begin{description}\n\\item[\\$semilla] 160397\n\\item[\\$testing] 49379\n\\item[\\$testing\\_pos] 375\n\\item[\\$envios] 3698\n\\item[\\$aciertos] 205\n\\item[\\$ganancia\\_test] 45020000\n\\end{description}\n\n\\item \\begin{description}\n\\item[\\$semilla] 430553\n\\item[\\$testing] 49375\n\\item[\\$testing\\_pos] 374\n\\item[\\$envios] 3734\n\\item[\\$aciertos] 220\n\\item[\\$ganancia\\_test] 50660000\n\\end{description}\n\n\\item \\begin{description}\n\\item[\\$semilla] 802027\n\\item[\\$testing] 49381\n\\item[\\$testing\\_pos] 378\n\\item[\\$envios] 3675\n\\item[\\$aciertos] 208\n\\item[\\$ganancia\\_test] 46450000\n\\end{description}\n\n\\item \\begin{description}\n\\item[\\$semilla] 241823\n\\item[\\$testing] 49380\n\\item[\\$testing\\_pos] 376\n\\item[\\$envios] 2798\n\\item[\\$aciertos] 191\n\\item[\\$ganancia\\_test] 48420000\n\\end{description}\n\n\\item \\begin{description}\n\\item[\\$semilla] 798199\n\\item[\\$testing] 49379\n\\item[\\$testing\\_pos] 377\n\\item[\\$envios] 3320\n\\item[\\$aciertos] 196\n\\item[\\$ganancia\\_test] 45200000\n\\end{description}\n\n\\item \\begin{description}\n\\item[\\$semilla] 682009\n\\item[\\$testing] 49364\n\\item[\\$testing\\_pos] 371\n\\item[\\$envios] 3114\n\\item[\\$aciertos] 184\n\\item[\\$ganancia\\_test] 42460000\n\\end{description}\n\n\\item \\begin{description}\n\\item[\\$semilla] 727061\n\\item[\\$testing] 49374\n\\item[\\$testing\\_pos] 374\n\\item[\\$envios] 2914\n\\item[\\$aciertos] 201\n\\item[\\$ganancia\\_test] 51260000\n\\end{description}\n\n\\item \\begin{description}\n\\item[\\$semilla] 737059\n\\item[\\$testing] 49377\n\\item[\\$testing\\_pos] 371\n\\item[\\$envios] 3587\n\\item[\\$aciertos] 195\n\\item[\\$ganancia\\_test] 42130000\n\\end{description}\n\n\\item \\begin{description}\n\\item[\\$semilla] 873767\n\\item[\\$testing] 49370\n\\item[\\$testing\\_pos] 370\n\\item[\\$envios] 3338\n\\item[\\$aciertos] 197\n\\item[\\$ganancia\\_test] 45420000\n\\end{description}\n\n\\item \\begin{description}\n\\item[\\$semilla] 368729\n\\item[\\$testing] 49377\n\\item[\\$testing\\_pos] 376\n\\item[\\$envios] 3851\n\\item[\\$aciertos] 200\n\\item[\\$ganancia\\_test] 41490000\n\\end{description}\n\n\\item \\begin{description}\n\\item[\\$semilla] 199783\n\\item[\\$testing] 49384\n\\item[\\$testing\\_pos] 381\n\\item[\\$envios] 2873\n\\item[\\$aciertos] 194\n\\item[\\$ganancia\\_test] 48870000\n\\end{description}\n\n\\item \\begin{description}\n\\item[\\$semilla] 645937\n\\item[\\$testing] 49382\n\\item[\\$testing\\_pos] 376\n\\item[\\$envios] 3439\n\\item[\\$aciertos] 207\n\\item[\\$ganancia\\_test] 48410000\n\\end{description}\n\n\\item \\begin{description}\n\\item[\\$semilla] 293413\n\\item[\\$testing] 49386\n\\item[\\$testing\\_pos] 376\n\\item[\\$envios] 3704\n\\item[\\$aciertos] 215\n\\item[\\$ganancia\\_test] 48960000\n\\end{description}\n\n\\item \\begin{description}\n\\item[\\$semilla] 208891\n\\item[\\$testing] 49378\n\\item[\\$testing\\_pos] 375\n\\item[\\$envios] 3251\n\\item[\\$aciertos] 206\n\\item[\\$ganancia\\_test] 49890000\n\\end{description}\n\n\\item \\begin{description}\n\\item[\\$semilla] 186671\n\\item[\\$testing] 49378\n\\item[\\$testing\\_pos] 368\n\\item[\\$envios] 3432\n\\item[\\$aciertos] 201\n\\item[\\$ganancia\\_test] 46080000\n\\end{description}\n\n\\item \\begin{description}\n\\item[\\$semilla] 900293\n\\item[\\$testing] 49370\n\\item[\\$testing\\_pos] 375\n\\item[\\$envios] 3676\n\\item[\\$aciertos] 221\n\\item[\\$ganancia\\_test] 51640000\n\\end{description}\n\n\\item \\begin{description}\n\\item[\\$semilla] 292549\n\\item[\\$testing] 49381\n\\item[\\$testing\\_pos] 376\n\\item[\\$envios] 4016\n\\item[\\$aciertos] 227\n\\item[\\$ganancia\\_test] 50640000\n\\end{description}\n\n\\item \\begin{description}\n\\item[\\$semilla] 101869\n\\item[\\$testing] 49366\n\\item[\\$testing\\_pos] 371\n\\item[\\$envios] 3553\n\\item[\\$aciertos] 216\n\\item[\\$ganancia\\_test] 50870000\n\\end{description}\n\n\\item \\begin{description}\n\\item[\\$semilla] 885931\n\\item[\\$testing] 49378\n\\item[\\$testing\\_pos] 378\n\\item[\\$envios] 4246\n\\item[\\$aciertos] 239\n\\item[\\$ganancia\\_test] 53140000\n\\end{description}\n\n\\item \\begin{description}\n\\item[\\$semilla] 729761\n\\item[\\$testing] 49386\n\\item[\\$testing\\_pos] 377\n\\item[\\$envios] 3806\n\\item[\\$aciertos] 195\n\\item[\\$ganancia\\_test] 39940000\n\\end{description}\n\n\\item \\begin{description}\n\\item[\\$semilla] 292133\n\\item[\\$testing] 49377\n\\item[\\$testing\\_pos] 382\n\\item[\\$envios] 3642\n\\item[\\$aciertos] 228\n\\item[\\$ganancia\\_test] 54780000\n\\end{description}\n\n\\item \\begin{description}\n\\item[\\$semilla] 163259\n\\item[\\$testing] 49368\n\\item[\\$testing\\_pos] 372\n\\item[\\$envios] 3729\n\\item[\\$aciertos] 205\n\\item[\\$ganancia\\_test] 44710000\n\\end{description}\n\n\\item \\begin{description}\n\\item[\\$semilla] 288527\n\\item[\\$testing] 49373\n\\item[\\$testing\\_pos] 375\n\\item[\\$envios] 3403\n\\item[\\$aciertos] 208\n\\item[\\$ganancia\\_test] 49170000\n\\end{description}\n\n\\item \\begin{description}\n\\item[\\$semilla] 242257\n\\item[\\$testing] 49375\n\\item[\\$testing\\_pos] 376\n\\item[\\$envios] 3172\n\\item[\\$aciertos] 204\n\\item[\\$ganancia\\_test] 49880000\n\\end{description}\n\n\\item \\begin{description}\n\\item[\\$semilla] 164279\n\\item[\\$testing] 49374\n\\item[\\$testing\\_pos] 373\n\\item[\\$envios] 3639\n\\item[\\$aciertos] 194\n\\item[\\$ganancia\\_test] 41210000\n\\end{description}\n\n\\item \\begin{description}\n\\item[\\$semilla] 581797\n\\item[\\$testing] 49380\n\\item[\\$testing\\_pos] 375\n\\item[\\$envios] 3775\n\\item[\\$aciertos] 222\n\\item[\\$ganancia\\_test] 51050000\n\\end{description}\n\n\\item \\begin{description}\n\\item[\\$semilla] 675481\n\\item[\\$testing] 49391\n\\item[\\$testing\\_pos] 377\n\\item[\\$envios] 3679\n\\item[\\$aciertos] 222\n\\item[\\$ganancia\\_test] 52010000\n\\end{description}\n\n\\item \\begin{description}\n\\item[\\$semilla] 298021\n\\item[\\$testing] 49366\n\\item[\\$testing\\_pos] 370\n\\item[\\$envios] 3446\n\\item[\\$aciertos] 204\n\\item[\\$ganancia\\_test] 47140000\n\\end{description}\n\n\\item \\begin{description}\n\\item[\\$semilla] 624233\n\\item[\\$testing] 49379\n\\item[\\$testing\\_pos] 374\n\\item[\\$envios] 3063\n\\item[\\$aciertos] 185\n\\item[\\$ganancia\\_test] 43370000\n\\end{description}\n\n\\item \\begin{description}\n\\item[\\$semilla] 510941\n\\item[\\$testing] 49377\n\\item[\\$testing\\_pos] 377\n\\item[\\$envios] 3517\n\\item[\\$aciertos] 200\n\\item[\\$ganancia\\_test] 44830000\n\\end{description}\n\n\\item \\begin{description}\n\\item[\\$semilla] 603173\n\\item[\\$testing] 49374\n\\item[\\$testing\\_pos] 375\n\\item[\\$envios] 4424\n\\item[\\$aciertos] 215\n\\item[\\$ganancia\\_test] 41760000\n\\end{description}\n\n\\item \\begin{description}\n\\item[\\$semilla] 432979\n\\item[\\$testing] 49380\n\\item[\\$testing\\_pos] 374\n\\item[\\$envios] 3184\n\\item[\\$aciertos] 187\n\\item[\\$ganancia\\_test] 42960000\n\\end{description}\n\n\\item \\begin{description}\n\\item[\\$semilla] 429503\n\\item[\\$testing] 49379\n\\item[\\$testing\\_pos] 373\n\\item[\\$envios] 3140\n\\item[\\$aciertos] 215\n\\item[\\$ganancia\\_test] 54600000\n\\end{description}\n\n\\item \\begin{description}\n\\item[\\$semilla] 717151\n\\item[\\$testing] 49372\n\\item[\\$testing\\_pos] 373\n\\item[\\$envios] 4152\n\\item[\\$aciertos] 237\n\\item[\\$ganancia\\_test] 53280000\n\\end{description}\n\n\\item \\begin{description}\n\\item[\\$semilla] 622337\n\\item[\\$testing] 49372\n\\item[\\$testing\\_pos] 376\n\\item[\\$envios] 3326\n\\item[\\$aciertos] 212\n\\item[\\$ganancia\\_test] 51540000\n\\end{description}\n\n\\item \\begin{description}\n\\item[\\$semilla] 830693\n\\item[\\$testing] 49383\n\\item[\\$testing\\_pos] 372\n\\item[\\$envios] 2884\n\\item[\\$aciertos] 198\n\\item[\\$ganancia\\_test] 50360000\n\\end{description}\n\n\\item \\begin{description}\n\\item[\\$semilla] 441829\n\\item[\\$testing] 49394\n\\item[\\$testing\\_pos] 382\n\\item[\\$envios] 3174\n\\item[\\$aciertos] 204\n\\item[\\$ganancia\\_test] 49860000\n\\end{description}\n\n\\item \\begin{description}\n\\item[\\$semilla] 440953\n\\item[\\$testing] 49384\n\\item[\\$testing\\_pos] 374\n\\item[\\$envios] 3088\n\\item[\\$aciertos] 193\n\\item[\\$ganancia\\_test] 46320000\n\\end{description}\n\n\\end{enumerate}\n",
            "text/plain": [
              "[[1]]\n",
              "[[1]]$semilla\n",
              "[1] 152843\n",
              "\n",
              "[[1]]$testing\n",
              "[1] 49389\n",
              "\n",
              "[[1]]$testing_pos\n",
              "[1] 374\n",
              "\n",
              "[[1]]$envios\n",
              "[1] 3833\n",
              "\n",
              "[[1]]$aciertos\n",
              "[1] 212\n",
              "\n",
              "[[1]]$ganancia_test\n",
              "[1] 46470000\n",
              "\n",
              "\n",
              "[[2]]\n",
              "[[2]]$semilla\n",
              "[1] 461333\n",
              "\n",
              "[[2]]$testing\n",
              "[1] 49378\n",
              "\n",
              "[[2]]$testing_pos\n",
              "[1] 373\n",
              "\n",
              "[[2]]$envios\n",
              "[1] 3777\n",
              "\n",
              "[[2]]$aciertos\n",
              "[1] 202\n",
              "\n",
              "[[2]]$ganancia_test\n",
              "[1] 43030000\n",
              "\n",
              "\n",
              "[[3]]\n",
              "[[3]]$semilla\n",
              "[1] 367163\n",
              "\n",
              "[[3]]$testing\n",
              "[1] 49386\n",
              "\n",
              "[[3]]$testing_pos\n",
              "[1] 377\n",
              "\n",
              "[[3]]$envios\n",
              "[1] 3150\n",
              "\n",
              "[[3]]$aciertos\n",
              "[1] 195\n",
              "\n",
              "[[3]]$ganancia_test\n",
              "[1] 46500000\n",
              "\n",
              "\n",
              "[[4]]\n",
              "[[4]]$semilla\n",
              "[1] 883781\n",
              "\n",
              "[[4]]$testing\n",
              "[1] 49378\n",
              "\n",
              "[[4]]$testing_pos\n",
              "[1] 375\n",
              "\n",
              "[[4]]$envios\n",
              "[1] 2824\n",
              "\n",
              "[[4]]$aciertos\n",
              "[1] 191\n",
              "\n",
              "[[4]]$ganancia_test\n",
              "[1] 48160000\n",
              "\n",
              "\n",
              "[[5]]\n",
              "[[5]]$semilla\n",
              "[1] 500413\n",
              "\n",
              "[[5]]$testing\n",
              "[1] 49374\n",
              "\n",
              "[[5]]$testing_pos\n",
              "[1] 374\n",
              "\n",
              "[[5]]$envios\n",
              "[1] 3046\n",
              "\n",
              "[[5]]$aciertos\n",
              "[1] 196\n",
              "\n",
              "[[5]]$ganancia_test\n",
              "[1] 47940000\n",
              "\n",
              "\n",
              "[[6]]\n",
              "[[6]]$semilla\n",
              "[1] 898813\n",
              "\n",
              "[[6]]$testing\n",
              "[1] 49385\n",
              "\n",
              "[[6]]$testing_pos\n",
              "[1] 378\n",
              "\n",
              "[[6]]$envios\n",
              "[1] 3179\n",
              "\n",
              "[[6]]$aciertos\n",
              "[1] 200\n",
              "\n",
              "[[6]]$ganancia_test\n",
              "[1] 48210000\n",
              "\n",
              "\n",
              "[[7]]\n",
              "[[7]]$semilla\n",
              "[1] 199889\n",
              "\n",
              "[[7]]$testing\n",
              "[1] 49372\n",
              "\n",
              "[[7]]$testing_pos\n",
              "[1] 369\n",
              "\n",
              "[[7]]$envios\n",
              "[1] 3651\n",
              "\n",
              "[[7]]$aciertos\n",
              "[1] 207\n",
              "\n",
              "[[7]]$ganancia_test\n",
              "[1] 46290000\n",
              "\n",
              "\n",
              "[[8]]\n",
              "[[8]]$semilla\n",
              "[1] 683129\n",
              "\n",
              "[[8]]$testing\n",
              "[1] 49379\n",
              "\n",
              "[[8]]$testing_pos\n",
              "[1] 376\n",
              "\n",
              "[[8]]$envios\n",
              "[1] 3349\n",
              "\n",
              "[[8]]$aciertos\n",
              "[1] 194\n",
              "\n",
              "[[8]]$ganancia_test\n",
              "[1] 44110000\n",
              "\n",
              "\n",
              "[[9]]\n",
              "[[9]]$semilla\n",
              "[1] 337639\n",
              "\n",
              "[[9]]$testing\n",
              "[1] 49375\n",
              "\n",
              "[[9]]$testing_pos\n",
              "[1] 380\n",
              "\n",
              "[[9]]$envios\n",
              "[1] 3691\n",
              "\n",
              "[[9]]$aciertos\n",
              "[1] 213\n",
              "\n",
              "[[9]]$ganancia_test\n",
              "[1] 48290000\n",
              "\n",
              "\n",
              "[[10]]\n",
              "[[10]]$semilla\n",
              "[1] 709519\n",
              "\n",
              "[[10]]$testing\n",
              "[1] 49388\n",
              "\n",
              "[[10]]$testing_pos\n",
              "[1] 379\n",
              "\n",
              "[[10]]$envios\n",
              "[1] 3211\n",
              "\n",
              "[[10]]$aciertos\n",
              "[1] 202\n",
              "\n",
              "[[10]]$ganancia_test\n",
              "[1] 48690000\n",
              "\n",
              "\n",
              "[[11]]\n",
              "[[11]]$semilla\n",
              "[1] 797051\n",
              "\n",
              "[[11]]$testing\n",
              "[1] 49387\n",
              "\n",
              "[[11]]$testing_pos\n",
              "[1] 380\n",
              "\n",
              "[[11]]$envios\n",
              "[1] 2580\n",
              "\n",
              "[[11]]$aciertos\n",
              "[1] 196\n",
              "\n",
              "[[11]]$ganancia_test\n",
              "[1] 52600000\n",
              "\n",
              "\n",
              "[[12]]\n",
              "[[12]]$semilla\n",
              "[1] 716321\n",
              "\n",
              "[[12]]$testing\n",
              "[1] 49384\n",
              "\n",
              "[[12]]$testing_pos\n",
              "[1] 376\n",
              "\n",
              "[[12]]$envios\n",
              "[1] 3042\n",
              "\n",
              "[[12]]$aciertos\n",
              "[1] 195\n",
              "\n",
              "[[12]]$ganancia_test\n",
              "[1] 47580000\n",
              "\n",
              "\n",
              "[[13]]\n",
              "[[13]]$semilla\n",
              "[1] 160397\n",
              "\n",
              "[[13]]$testing\n",
              "[1] 49379\n",
              "\n",
              "[[13]]$testing_pos\n",
              "[1] 375\n",
              "\n",
              "[[13]]$envios\n",
              "[1] 3698\n",
              "\n",
              "[[13]]$aciertos\n",
              "[1] 205\n",
              "\n",
              "[[13]]$ganancia_test\n",
              "[1] 45020000\n",
              "\n",
              "\n",
              "[[14]]\n",
              "[[14]]$semilla\n",
              "[1] 430553\n",
              "\n",
              "[[14]]$testing\n",
              "[1] 49375\n",
              "\n",
              "[[14]]$testing_pos\n",
              "[1] 374\n",
              "\n",
              "[[14]]$envios\n",
              "[1] 3734\n",
              "\n",
              "[[14]]$aciertos\n",
              "[1] 220\n",
              "\n",
              "[[14]]$ganancia_test\n",
              "[1] 50660000\n",
              "\n",
              "\n",
              "[[15]]\n",
              "[[15]]$semilla\n",
              "[1] 802027\n",
              "\n",
              "[[15]]$testing\n",
              "[1] 49381\n",
              "\n",
              "[[15]]$testing_pos\n",
              "[1] 378\n",
              "\n",
              "[[15]]$envios\n",
              "[1] 3675\n",
              "\n",
              "[[15]]$aciertos\n",
              "[1] 208\n",
              "\n",
              "[[15]]$ganancia_test\n",
              "[1] 46450000\n",
              "\n",
              "\n",
              "[[16]]\n",
              "[[16]]$semilla\n",
              "[1] 241823\n",
              "\n",
              "[[16]]$testing\n",
              "[1] 49380\n",
              "\n",
              "[[16]]$testing_pos\n",
              "[1] 376\n",
              "\n",
              "[[16]]$envios\n",
              "[1] 2798\n",
              "\n",
              "[[16]]$aciertos\n",
              "[1] 191\n",
              "\n",
              "[[16]]$ganancia_test\n",
              "[1] 48420000\n",
              "\n",
              "\n",
              "[[17]]\n",
              "[[17]]$semilla\n",
              "[1] 798199\n",
              "\n",
              "[[17]]$testing\n",
              "[1] 49379\n",
              "\n",
              "[[17]]$testing_pos\n",
              "[1] 377\n",
              "\n",
              "[[17]]$envios\n",
              "[1] 3320\n",
              "\n",
              "[[17]]$aciertos\n",
              "[1] 196\n",
              "\n",
              "[[17]]$ganancia_test\n",
              "[1] 45200000\n",
              "\n",
              "\n",
              "[[18]]\n",
              "[[18]]$semilla\n",
              "[1] 682009\n",
              "\n",
              "[[18]]$testing\n",
              "[1] 49364\n",
              "\n",
              "[[18]]$testing_pos\n",
              "[1] 371\n",
              "\n",
              "[[18]]$envios\n",
              "[1] 3114\n",
              "\n",
              "[[18]]$aciertos\n",
              "[1] 184\n",
              "\n",
              "[[18]]$ganancia_test\n",
              "[1] 42460000\n",
              "\n",
              "\n",
              "[[19]]\n",
              "[[19]]$semilla\n",
              "[1] 727061\n",
              "\n",
              "[[19]]$testing\n",
              "[1] 49374\n",
              "\n",
              "[[19]]$testing_pos\n",
              "[1] 374\n",
              "\n",
              "[[19]]$envios\n",
              "[1] 2914\n",
              "\n",
              "[[19]]$aciertos\n",
              "[1] 201\n",
              "\n",
              "[[19]]$ganancia_test\n",
              "[1] 51260000\n",
              "\n",
              "\n",
              "[[20]]\n",
              "[[20]]$semilla\n",
              "[1] 737059\n",
              "\n",
              "[[20]]$testing\n",
              "[1] 49377\n",
              "\n",
              "[[20]]$testing_pos\n",
              "[1] 371\n",
              "\n",
              "[[20]]$envios\n",
              "[1] 3587\n",
              "\n",
              "[[20]]$aciertos\n",
              "[1] 195\n",
              "\n",
              "[[20]]$ganancia_test\n",
              "[1] 42130000\n",
              "\n",
              "\n",
              "[[21]]\n",
              "[[21]]$semilla\n",
              "[1] 873767\n",
              "\n",
              "[[21]]$testing\n",
              "[1] 49370\n",
              "\n",
              "[[21]]$testing_pos\n",
              "[1] 370\n",
              "\n",
              "[[21]]$envios\n",
              "[1] 3338\n",
              "\n",
              "[[21]]$aciertos\n",
              "[1] 197\n",
              "\n",
              "[[21]]$ganancia_test\n",
              "[1] 45420000\n",
              "\n",
              "\n",
              "[[22]]\n",
              "[[22]]$semilla\n",
              "[1] 368729\n",
              "\n",
              "[[22]]$testing\n",
              "[1] 49377\n",
              "\n",
              "[[22]]$testing_pos\n",
              "[1] 376\n",
              "\n",
              "[[22]]$envios\n",
              "[1] 3851\n",
              "\n",
              "[[22]]$aciertos\n",
              "[1] 200\n",
              "\n",
              "[[22]]$ganancia_test\n",
              "[1] 41490000\n",
              "\n",
              "\n",
              "[[23]]\n",
              "[[23]]$semilla\n",
              "[1] 199783\n",
              "\n",
              "[[23]]$testing\n",
              "[1] 49384\n",
              "\n",
              "[[23]]$testing_pos\n",
              "[1] 381\n",
              "\n",
              "[[23]]$envios\n",
              "[1] 2873\n",
              "\n",
              "[[23]]$aciertos\n",
              "[1] 194\n",
              "\n",
              "[[23]]$ganancia_test\n",
              "[1] 48870000\n",
              "\n",
              "\n",
              "[[24]]\n",
              "[[24]]$semilla\n",
              "[1] 645937\n",
              "\n",
              "[[24]]$testing\n",
              "[1] 49382\n",
              "\n",
              "[[24]]$testing_pos\n",
              "[1] 376\n",
              "\n",
              "[[24]]$envios\n",
              "[1] 3439\n",
              "\n",
              "[[24]]$aciertos\n",
              "[1] 207\n",
              "\n",
              "[[24]]$ganancia_test\n",
              "[1] 48410000\n",
              "\n",
              "\n",
              "[[25]]\n",
              "[[25]]$semilla\n",
              "[1] 293413\n",
              "\n",
              "[[25]]$testing\n",
              "[1] 49386\n",
              "\n",
              "[[25]]$testing_pos\n",
              "[1] 376\n",
              "\n",
              "[[25]]$envios\n",
              "[1] 3704\n",
              "\n",
              "[[25]]$aciertos\n",
              "[1] 215\n",
              "\n",
              "[[25]]$ganancia_test\n",
              "[1] 48960000\n",
              "\n",
              "\n",
              "[[26]]\n",
              "[[26]]$semilla\n",
              "[1] 208891\n",
              "\n",
              "[[26]]$testing\n",
              "[1] 49378\n",
              "\n",
              "[[26]]$testing_pos\n",
              "[1] 375\n",
              "\n",
              "[[26]]$envios\n",
              "[1] 3251\n",
              "\n",
              "[[26]]$aciertos\n",
              "[1] 206\n",
              "\n",
              "[[26]]$ganancia_test\n",
              "[1] 49890000\n",
              "\n",
              "\n",
              "[[27]]\n",
              "[[27]]$semilla\n",
              "[1] 186671\n",
              "\n",
              "[[27]]$testing\n",
              "[1] 49378\n",
              "\n",
              "[[27]]$testing_pos\n",
              "[1] 368\n",
              "\n",
              "[[27]]$envios\n",
              "[1] 3432\n",
              "\n",
              "[[27]]$aciertos\n",
              "[1] 201\n",
              "\n",
              "[[27]]$ganancia_test\n",
              "[1] 46080000\n",
              "\n",
              "\n",
              "[[28]]\n",
              "[[28]]$semilla\n",
              "[1] 900293\n",
              "\n",
              "[[28]]$testing\n",
              "[1] 49370\n",
              "\n",
              "[[28]]$testing_pos\n",
              "[1] 375\n",
              "\n",
              "[[28]]$envios\n",
              "[1] 3676\n",
              "\n",
              "[[28]]$aciertos\n",
              "[1] 221\n",
              "\n",
              "[[28]]$ganancia_test\n",
              "[1] 51640000\n",
              "\n",
              "\n",
              "[[29]]\n",
              "[[29]]$semilla\n",
              "[1] 292549\n",
              "\n",
              "[[29]]$testing\n",
              "[1] 49381\n",
              "\n",
              "[[29]]$testing_pos\n",
              "[1] 376\n",
              "\n",
              "[[29]]$envios\n",
              "[1] 4016\n",
              "\n",
              "[[29]]$aciertos\n",
              "[1] 227\n",
              "\n",
              "[[29]]$ganancia_test\n",
              "[1] 50640000\n",
              "\n",
              "\n",
              "[[30]]\n",
              "[[30]]$semilla\n",
              "[1] 101869\n",
              "\n",
              "[[30]]$testing\n",
              "[1] 49366\n",
              "\n",
              "[[30]]$testing_pos\n",
              "[1] 371\n",
              "\n",
              "[[30]]$envios\n",
              "[1] 3553\n",
              "\n",
              "[[30]]$aciertos\n",
              "[1] 216\n",
              "\n",
              "[[30]]$ganancia_test\n",
              "[1] 50870000\n",
              "\n",
              "\n",
              "[[31]]\n",
              "[[31]]$semilla\n",
              "[1] 885931\n",
              "\n",
              "[[31]]$testing\n",
              "[1] 49378\n",
              "\n",
              "[[31]]$testing_pos\n",
              "[1] 378\n",
              "\n",
              "[[31]]$envios\n",
              "[1] 4246\n",
              "\n",
              "[[31]]$aciertos\n",
              "[1] 239\n",
              "\n",
              "[[31]]$ganancia_test\n",
              "[1] 53140000\n",
              "\n",
              "\n",
              "[[32]]\n",
              "[[32]]$semilla\n",
              "[1] 729761\n",
              "\n",
              "[[32]]$testing\n",
              "[1] 49386\n",
              "\n",
              "[[32]]$testing_pos\n",
              "[1] 377\n",
              "\n",
              "[[32]]$envios\n",
              "[1] 3806\n",
              "\n",
              "[[32]]$aciertos\n",
              "[1] 195\n",
              "\n",
              "[[32]]$ganancia_test\n",
              "[1] 39940000\n",
              "\n",
              "\n",
              "[[33]]\n",
              "[[33]]$semilla\n",
              "[1] 292133\n",
              "\n",
              "[[33]]$testing\n",
              "[1] 49377\n",
              "\n",
              "[[33]]$testing_pos\n",
              "[1] 382\n",
              "\n",
              "[[33]]$envios\n",
              "[1] 3642\n",
              "\n",
              "[[33]]$aciertos\n",
              "[1] 228\n",
              "\n",
              "[[33]]$ganancia_test\n",
              "[1] 54780000\n",
              "\n",
              "\n",
              "[[34]]\n",
              "[[34]]$semilla\n",
              "[1] 163259\n",
              "\n",
              "[[34]]$testing\n",
              "[1] 49368\n",
              "\n",
              "[[34]]$testing_pos\n",
              "[1] 372\n",
              "\n",
              "[[34]]$envios\n",
              "[1] 3729\n",
              "\n",
              "[[34]]$aciertos\n",
              "[1] 205\n",
              "\n",
              "[[34]]$ganancia_test\n",
              "[1] 44710000\n",
              "\n",
              "\n",
              "[[35]]\n",
              "[[35]]$semilla\n",
              "[1] 288527\n",
              "\n",
              "[[35]]$testing\n",
              "[1] 49373\n",
              "\n",
              "[[35]]$testing_pos\n",
              "[1] 375\n",
              "\n",
              "[[35]]$envios\n",
              "[1] 3403\n",
              "\n",
              "[[35]]$aciertos\n",
              "[1] 208\n",
              "\n",
              "[[35]]$ganancia_test\n",
              "[1] 49170000\n",
              "\n",
              "\n",
              "[[36]]\n",
              "[[36]]$semilla\n",
              "[1] 242257\n",
              "\n",
              "[[36]]$testing\n",
              "[1] 49375\n",
              "\n",
              "[[36]]$testing_pos\n",
              "[1] 376\n",
              "\n",
              "[[36]]$envios\n",
              "[1] 3172\n",
              "\n",
              "[[36]]$aciertos\n",
              "[1] 204\n",
              "\n",
              "[[36]]$ganancia_test\n",
              "[1] 49880000\n",
              "\n",
              "\n",
              "[[37]]\n",
              "[[37]]$semilla\n",
              "[1] 164279\n",
              "\n",
              "[[37]]$testing\n",
              "[1] 49374\n",
              "\n",
              "[[37]]$testing_pos\n",
              "[1] 373\n",
              "\n",
              "[[37]]$envios\n",
              "[1] 3639\n",
              "\n",
              "[[37]]$aciertos\n",
              "[1] 194\n",
              "\n",
              "[[37]]$ganancia_test\n",
              "[1] 41210000\n",
              "\n",
              "\n",
              "[[38]]\n",
              "[[38]]$semilla\n",
              "[1] 581797\n",
              "\n",
              "[[38]]$testing\n",
              "[1] 49380\n",
              "\n",
              "[[38]]$testing_pos\n",
              "[1] 375\n",
              "\n",
              "[[38]]$envios\n",
              "[1] 3775\n",
              "\n",
              "[[38]]$aciertos\n",
              "[1] 222\n",
              "\n",
              "[[38]]$ganancia_test\n",
              "[1] 51050000\n",
              "\n",
              "\n",
              "[[39]]\n",
              "[[39]]$semilla\n",
              "[1] 675481\n",
              "\n",
              "[[39]]$testing\n",
              "[1] 49391\n",
              "\n",
              "[[39]]$testing_pos\n",
              "[1] 377\n",
              "\n",
              "[[39]]$envios\n",
              "[1] 3679\n",
              "\n",
              "[[39]]$aciertos\n",
              "[1] 222\n",
              "\n",
              "[[39]]$ganancia_test\n",
              "[1] 52010000\n",
              "\n",
              "\n",
              "[[40]]\n",
              "[[40]]$semilla\n",
              "[1] 298021\n",
              "\n",
              "[[40]]$testing\n",
              "[1] 49366\n",
              "\n",
              "[[40]]$testing_pos\n",
              "[1] 370\n",
              "\n",
              "[[40]]$envios\n",
              "[1] 3446\n",
              "\n",
              "[[40]]$aciertos\n",
              "[1] 204\n",
              "\n",
              "[[40]]$ganancia_test\n",
              "[1] 47140000\n",
              "\n",
              "\n",
              "[[41]]\n",
              "[[41]]$semilla\n",
              "[1] 624233\n",
              "\n",
              "[[41]]$testing\n",
              "[1] 49379\n",
              "\n",
              "[[41]]$testing_pos\n",
              "[1] 374\n",
              "\n",
              "[[41]]$envios\n",
              "[1] 3063\n",
              "\n",
              "[[41]]$aciertos\n",
              "[1] 185\n",
              "\n",
              "[[41]]$ganancia_test\n",
              "[1] 43370000\n",
              "\n",
              "\n",
              "[[42]]\n",
              "[[42]]$semilla\n",
              "[1] 510941\n",
              "\n",
              "[[42]]$testing\n",
              "[1] 49377\n",
              "\n",
              "[[42]]$testing_pos\n",
              "[1] 377\n",
              "\n",
              "[[42]]$envios\n",
              "[1] 3517\n",
              "\n",
              "[[42]]$aciertos\n",
              "[1] 200\n",
              "\n",
              "[[42]]$ganancia_test\n",
              "[1] 44830000\n",
              "\n",
              "\n",
              "[[43]]\n",
              "[[43]]$semilla\n",
              "[1] 603173\n",
              "\n",
              "[[43]]$testing\n",
              "[1] 49374\n",
              "\n",
              "[[43]]$testing_pos\n",
              "[1] 375\n",
              "\n",
              "[[43]]$envios\n",
              "[1] 4424\n",
              "\n",
              "[[43]]$aciertos\n",
              "[1] 215\n",
              "\n",
              "[[43]]$ganancia_test\n",
              "[1] 41760000\n",
              "\n",
              "\n",
              "[[44]]\n",
              "[[44]]$semilla\n",
              "[1] 432979\n",
              "\n",
              "[[44]]$testing\n",
              "[1] 49380\n",
              "\n",
              "[[44]]$testing_pos\n",
              "[1] 374\n",
              "\n",
              "[[44]]$envios\n",
              "[1] 3184\n",
              "\n",
              "[[44]]$aciertos\n",
              "[1] 187\n",
              "\n",
              "[[44]]$ganancia_test\n",
              "[1] 42960000\n",
              "\n",
              "\n",
              "[[45]]\n",
              "[[45]]$semilla\n",
              "[1] 429503\n",
              "\n",
              "[[45]]$testing\n",
              "[1] 49379\n",
              "\n",
              "[[45]]$testing_pos\n",
              "[1] 373\n",
              "\n",
              "[[45]]$envios\n",
              "[1] 3140\n",
              "\n",
              "[[45]]$aciertos\n",
              "[1] 215\n",
              "\n",
              "[[45]]$ganancia_test\n",
              "[1] 54600000\n",
              "\n",
              "\n",
              "[[46]]\n",
              "[[46]]$semilla\n",
              "[1] 717151\n",
              "\n",
              "[[46]]$testing\n",
              "[1] 49372\n",
              "\n",
              "[[46]]$testing_pos\n",
              "[1] 373\n",
              "\n",
              "[[46]]$envios\n",
              "[1] 4152\n",
              "\n",
              "[[46]]$aciertos\n",
              "[1] 237\n",
              "\n",
              "[[46]]$ganancia_test\n",
              "[1] 53280000\n",
              "\n",
              "\n",
              "[[47]]\n",
              "[[47]]$semilla\n",
              "[1] 622337\n",
              "\n",
              "[[47]]$testing\n",
              "[1] 49372\n",
              "\n",
              "[[47]]$testing_pos\n",
              "[1] 376\n",
              "\n",
              "[[47]]$envios\n",
              "[1] 3326\n",
              "\n",
              "[[47]]$aciertos\n",
              "[1] 212\n",
              "\n",
              "[[47]]$ganancia_test\n",
              "[1] 51540000\n",
              "\n",
              "\n",
              "[[48]]\n",
              "[[48]]$semilla\n",
              "[1] 830693\n",
              "\n",
              "[[48]]$testing\n",
              "[1] 49383\n",
              "\n",
              "[[48]]$testing_pos\n",
              "[1] 372\n",
              "\n",
              "[[48]]$envios\n",
              "[1] 2884\n",
              "\n",
              "[[48]]$aciertos\n",
              "[1] 198\n",
              "\n",
              "[[48]]$ganancia_test\n",
              "[1] 50360000\n",
              "\n",
              "\n",
              "[[49]]\n",
              "[[49]]$semilla\n",
              "[1] 441829\n",
              "\n",
              "[[49]]$testing\n",
              "[1] 49394\n",
              "\n",
              "[[49]]$testing_pos\n",
              "[1] 382\n",
              "\n",
              "[[49]]$envios\n",
              "[1] 3174\n",
              "\n",
              "[[49]]$aciertos\n",
              "[1] 204\n",
              "\n",
              "[[49]]$ganancia_test\n",
              "[1] 49860000\n",
              "\n",
              "\n",
              "[[50]]\n",
              "[[50]]$semilla\n",
              "[1] 440953\n",
              "\n",
              "[[50]]$testing\n",
              "[1] 49384\n",
              "\n",
              "[[50]]$testing_pos\n",
              "[1] 374\n",
              "\n",
              "[[50]]$envios\n",
              "[1] 3088\n",
              "\n",
              "[[50]]$aciertos\n",
              "[1] 193\n",
              "\n",
              "[[50]]$ganancia_test\n",
              "[1] 46320000\n",
              "\n"
            ]
          },
          "metadata": {}
        }
      ]
    },
    {
      "cell_type": "code",
      "source": [
        "# paso la lista a vector\n",
        "tb_salida <- rbindlist(salidas)\n",
        "print( tb_salida)"
      ],
      "metadata": {
        "id": "unGWiKRMGimU",
        "outputId": "68aef911-73f7-4cbc-986a-666cb9d78f55",
        "colab": {
          "base_uri": "https://localhost:8080/"
        }
      },
      "execution_count": 39,
      "outputs": [
        {
          "output_type": "stream",
          "name": "stdout",
          "text": [
            "    semilla testing testing_pos envios aciertos ganancia_test\n",
            "      <int>   <int>       <int>  <int>    <int>         <num>\n",
            " 1:  152843   49389         374   3833      212      46470000\n",
            " 2:  461333   49378         373   3777      202      43030000\n",
            " 3:  367163   49386         377   3150      195      46500000\n",
            " 4:  883781   49378         375   2824      191      48160000\n",
            " 5:  500413   49374         374   3046      196      47940000\n",
            " 6:  898813   49385         378   3179      200      48210000\n",
            " 7:  199889   49372         369   3651      207      46290000\n",
            " 8:  683129   49379         376   3349      194      44110000\n",
            " 9:  337639   49375         380   3691      213      48290000\n",
            "10:  709519   49388         379   3211      202      48690000\n",
            "11:  797051   49387         380   2580      196      52600000\n",
            "12:  716321   49384         376   3042      195      47580000\n",
            "13:  160397   49379         375   3698      205      45020000\n",
            "14:  430553   49375         374   3734      220      50660000\n",
            "15:  802027   49381         378   3675      208      46450000\n",
            "16:  241823   49380         376   2798      191      48420000\n",
            "17:  798199   49379         377   3320      196      45200000\n",
            "18:  682009   49364         371   3114      184      42460000\n",
            "19:  727061   49374         374   2914      201      51260000\n",
            "20:  737059   49377         371   3587      195      42130000\n",
            "21:  873767   49370         370   3338      197      45420000\n",
            "22:  368729   49377         376   3851      200      41490000\n",
            "23:  199783   49384         381   2873      194      48870000\n",
            "24:  645937   49382         376   3439      207      48410000\n",
            "25:  293413   49386         376   3704      215      48960000\n",
            "26:  208891   49378         375   3251      206      49890000\n",
            "27:  186671   49378         368   3432      201      46080000\n",
            "28:  900293   49370         375   3676      221      51640000\n",
            "29:  292549   49381         376   4016      227      50640000\n",
            "30:  101869   49366         371   3553      216      50870000\n",
            "31:  885931   49378         378   4246      239      53140000\n",
            "32:  729761   49386         377   3806      195      39940000\n",
            "33:  292133   49377         382   3642      228      54780000\n",
            "34:  163259   49368         372   3729      205      44710000\n",
            "35:  288527   49373         375   3403      208      49170000\n",
            "36:  242257   49375         376   3172      204      49880000\n",
            "37:  164279   49374         373   3639      194      41210000\n",
            "38:  581797   49380         375   3775      222      51050000\n",
            "39:  675481   49391         377   3679      222      52010000\n",
            "40:  298021   49366         370   3446      204      47140000\n",
            "41:  624233   49379         374   3063      185      43370000\n",
            "42:  510941   49377         377   3517      200      44830000\n",
            "43:  603173   49374         375   4424      215      41760000\n",
            "44:  432979   49380         374   3184      187      42960000\n",
            "45:  429503   49379         373   3140      215      54600000\n",
            "46:  717151   49372         373   4152      237      53280000\n",
            "47:  622337   49372         376   3326      212      51540000\n",
            "48:  830693   49383         372   2884      198      50360000\n",
            "49:  441829   49394         382   3174      204      49860000\n",
            "50:  440953   49384         374   3088      193      46320000\n",
            "    semilla testing testing_pos envios aciertos ganancia_test\n"
          ]
        }
      ]
    },
    {
      "cell_type": "code",
      "source": [
        "# calulo la salida\n",
        "for( i in seq(10, 50, 10) )\n",
        "{\n",
        "  cat( i, \"\\t\", tb_salida[ 1:i, mean(ganancia_test)], \"\\n\" )\n",
        "}\n"
      ],
      "metadata": {
        "id": "oGoadhBKGimV",
        "outputId": "cf7665ea-4e43-4324-fa5f-b97c142f636d",
        "colab": {
          "base_uri": "https://localhost:8080/"
        }
      },
      "execution_count": 40,
      "outputs": [
        {
          "output_type": "stream",
          "name": "stdout",
          "text": [
            "10 \t 46769000 \n",
            "20 \t 46973500 \n",
            "30 \t 47391333 \n",
            "40 \t 47619250 \n",
            "50 \t 47673000 \n"
          ]
        }
      ]
    },
    {
      "cell_type": "markdown",
      "source": [
        "### Acciones a realizar\n",
        "* Reportar la  los resultados en la planilla colaborativa hoja  **C2-nsem**\n",
        "* Se discutirá en clase la variabilidad de las distintas cantidades de semillas"
      ],
      "metadata": {
        "id": "dO9yQKt7GimV"
      }
    },
    {
      "cell_type": "markdown",
      "source": [
        "\n",
        "\n",
        "---\n",
        "\n"
      ],
      "metadata": {
        "id": "ziFKwIlBGimW"
      }
    },
    {
      "cell_type": "markdown",
      "source": [
        "# 5  DiezMil -Monte Carlo Cross Validation\n",
        "## Clase 02  Experimento 5"
      ],
      "metadata": {
        "id": "2jncHe-KJLUg"
      }
    },
    {
      "cell_type": "markdown",
      "source": [
        "Mostrar a los estudiantes el resultado de un experimento en donde se ha corrido una Monte Carlo Cross Validation utilizando diez mil semillas y relacionar la cantidad de semillas con el resultado del Teorema Central del Límite\n",
        "<br>Los resultados se muestran en esta misma guia y se comentan en clase,Bajo ningún concepto se solicitará a l@s estudiantes hacer este experimento en clase ya que lleva varias horas en correr.\n"
      ],
      "metadata": {
        "id": "vUzSGZGOJZq8"
      }
    },
    {
      "cell_type": "markdown",
      "source": [
        "Aqui usted NO debe correr absolutamente nada, el experimento ya fue corrido por la cátedra y le muestra los resultados."
      ],
      "metadata": {
        "id": "G0YGjTMxuTSg"
      }
    },
    {
      "cell_type": "markdown",
      "source": [
        "## 5.1\n",
        "Estos resultados han sido corridos por la cátedra.\n",
        "\n",
        "![Distribucion de las ganancias](https://storage.googleapis.com/open-courses/austral2025-af91/labo1r/C2_E5_distribucion.jpg)"
      ],
      "metadata": {
        "id": "7NRUb3WtJikc"
      }
    },
    {
      "cell_type": "markdown",
      "source": [
        "![salida](https://storage.googleapis.com/open-courses/austral2025-af91/labo1r/C2_E5_salida.jpg)"
      ],
      "metadata": {
        "id": "tZ4X8wdSKc7G"
      }
    },
    {
      "cell_type": "markdown",
      "source": [
        "![tabla](https://storage.googleapis.com/open-courses/austral2025-af91/labo1r/C2_E5_tabla.jpg)\n",
        "\n",
        " 2    ~    1,96  =  3605406.2 / 1836264.3\n",
        "\n",
        "Por el teorema central del límite, un aumento de 4 veces de la cantidad de registros que se promedian el desvio estandar disminuye 2 veces ,  raiz(4 ) = 2"
      ],
      "metadata": {
        "id": "EsL5ukNWKS71"
      }
    },
    {
      "cell_type": "markdown",
      "source": [
        "\n",
        "\n",
        "---\n",
        "\n"
      ],
      "metadata": {
        "id": "OTLq8TC4LR0c"
      }
    },
    {
      "cell_type": "markdown",
      "source": [
        "# 6 Comparando dos distintos  modelos\n",
        "## Clase 02  Experimento 6"
      ],
      "metadata": {
        "id": "sAS1bfL8LmBv"
      }
    },
    {
      "cell_type": "markdown",
      "source": [
        "## 6.1  Objetivos\n",
        "Presentar a los alumnos la dificultad que se presenta ante la comparación de dos modelos, uno posee un poder predictivo claramente mayor al otro.\n",
        "Comparación simple de media de ganancias, versus probabilidad que un modelo sea superior a otro."
      ],
      "metadata": {
        "id": "KzwdMJDZLmB9"
      }
    },
    {
      "cell_type": "markdown",
      "source": [
        "## 6.2 Introduccion\n",
        "Estos son los dos arboles de muy distinta profundidad.\n",
        "<br>¿Cuál de ellos es mejor? ¿Cuál elijo?\n",
        "\n",
        "| Hiperparámetro | Arbol 1 | Arbol 2 |\n",
        "| --- | --: |  ---: |\n",
        "| cp | -1 | -1 |\n",
        "|minsplit | 170 | 250 |\n",
        "|minbucket | 70 | 125 |\n",
        "|maxdepth | 7 | 20 |\n",
        "\n"
      ],
      "metadata": {
        "id": "DDyFNmJ9L_CW"
      }
    },
    {
      "cell_type": "markdown",
      "source": [
        "## 6.3 Codigo dos distintos modelos"
      ],
      "metadata": {
        "id": "bQfwNsVzNrtI"
      }
    },
    {
      "cell_type": "markdown",
      "source": [
        "Esta parte se debe correr con el runtime en lenguaje **R** Ir al menu, Runtime -> Change Runtime Tipe -> Runtime type -> R"
      ],
      "metadata": {
        "id": "Ku7qQgKjNruJ"
      }
    },
    {
      "cell_type": "markdown",
      "source": [
        "El tiempo de corrida es de alrededor de 40 minutos"
      ],
      "metadata": {
        "id": "6jCdS3NMuKei"
      }
    },
    {
      "cell_type": "markdown",
      "source": [
        "limpio el ambiente de R"
      ],
      "metadata": {
        "id": "Z1EUBeHyNruK"
      }
    },
    {
      "cell_type": "code",
      "source": [
        "# limpio la memoria\n",
        "rm(list=ls(all.names=TRUE)) # remove all objects\n",
        "gc(full=TRUE, verbose=FALSE) # garbage collection"
      ],
      "metadata": {
        "id": "GxbC4V3zNruM",
        "outputId": "5a0b5724-5738-4b24-d94e-e70ad0ab9a00",
        "colab": {
          "base_uri": "https://localhost:8080/",
          "height": 129
        }
      },
      "execution_count": 41,
      "outputs": [
        {
          "output_type": "display_data",
          "data": {
            "text/html": [
              "<table class=\"dataframe\">\n",
              "<caption>A matrix: 2 × 6 of type dbl</caption>\n",
              "<thead>\n",
              "\t<tr><th></th><th scope=col>used</th><th scope=col>(Mb)</th><th scope=col>gc trigger</th><th scope=col>(Mb)</th><th scope=col>max used</th><th scope=col>(Mb)</th></tr>\n",
              "</thead>\n",
              "<tbody>\n",
              "\t<tr><th scope=row>Ncells</th><td> 812659</td><td>43.5</td><td> 1454462</td><td> 77.7</td><td>  1454462</td><td> 77.7</td></tr>\n",
              "\t<tr><th scope=row>Vcells</th><td>1520815</td><td>11.7</td><td>53544245</td><td>408.6</td><td>104119751</td><td>794.4</td></tr>\n",
              "</tbody>\n",
              "</table>\n"
            ],
            "text/markdown": "\nA matrix: 2 × 6 of type dbl\n\n| <!--/--> | used | (Mb) | gc trigger | (Mb) | max used | (Mb) |\n|---|---|---|---|---|---|---|\n| Ncells |  812659 | 43.5 |  1454462 |  77.7 |   1454462 |  77.7 |\n| Vcells | 1520815 | 11.7 | 53544245 | 408.6 | 104119751 | 794.4 |\n\n",
            "text/latex": "A matrix: 2 × 6 of type dbl\n\\begin{tabular}{r|llllll}\n  & used & (Mb) & gc trigger & (Mb) & max used & (Mb)\\\\\n\\hline\n\tNcells &  812659 & 43.5 &  1454462 &  77.7 &   1454462 &  77.7\\\\\n\tVcells & 1520815 & 11.7 & 53544245 & 408.6 & 104119751 & 794.4\\\\\n\\end{tabular}\n",
            "text/plain": [
              "       used    (Mb) gc trigger (Mb)  max used  (Mb) \n",
              "Ncells  812659 43.5  1454462    77.7   1454462  77.7\n",
              "Vcells 1520815 11.7 53544245   408.6 104119751 794.4"
            ]
          },
          "metadata": {}
        }
      ]
    },
    {
      "cell_type": "markdown",
      "source": [
        "* Instalacion de la libreria  rpart.plot  para dibujar el arbol\n",
        "* invocacion de las librerias  **data.table** y  **rpart**"
      ],
      "metadata": {
        "id": "i2WkSCIhNruQ"
      }
    },
    {
      "cell_type": "code",
      "source": [
        "# cargo las librerias que necesito\n",
        "require(\"data.table\")\n",
        "require(\"rpart\")\n",
        "require(\"parallel\")\n",
        "\n",
        "if (!require(\"primes\")) install.packages(\"primes\")\n",
        "require(\"primes\")\n",
        "\n",
        "require(\"ggplot2\")"
      ],
      "metadata": {
        "id": "3bMsgZJWNruR"
      },
      "execution_count": 43,
      "outputs": []
    },
    {
      "cell_type": "markdown",
      "source": [
        "###  Accion a Realizar\n",
        "PARAM$semilla_primigenia  debe reemplazarse por SU primer semilla"
      ],
      "metadata": {
        "id": "t1lTXrKaNruT"
      }
    },
    {
      "cell_type": "code",
      "source": [
        "PARAM <- list()\n",
        "PARAM$semilla_primigenia <- 999961\n",
        "PARAM$qsemillas <- 20\n",
        "PARAM$training_pct <- 70L     # entre 1 y 100\n"
      ],
      "metadata": {
        "id": "QFbPtTCMNruV"
      },
      "execution_count": 44,
      "outputs": []
    },
    {
      "cell_type": "code",
      "source": [
        "# los dos arboles\n",
        "PARAM$rpart1 <- list (\n",
        "  \"cp\" = -1,\n",
        "  \"minsplit\" = 170,\n",
        "  \"minbucket\" = 70,\n",
        "  \"maxdepth\" = 7\n",
        ")\n",
        "\n",
        "\n",
        "PARAM$rpart2 <- list (\n",
        "  \"cp\" = -1,\n",
        "  \"minsplit\" = 250,\n",
        "  \"minbucket\" = 125,\n",
        "  \"maxdepth\" = 20\n",
        ")"
      ],
      "metadata": {
        "id": "GiBGk7WKQv2V"
      },
      "execution_count": 45,
      "outputs": []
    },
    {
      "cell_type": "code",
      "source": [
        "# particionar agrega una columna llamada fold a un dataset\n",
        "#  que consiste en una particion estratificada segun agrupa\n",
        "\n",
        "# particionar( data=dataset, division=c(70,30),\n",
        "#  agrupa=clase_ternaria, seed=semilla)   crea una particion 70, 30\n",
        "\n",
        "particionar <- function(\n",
        "    data, division, agrupa = \"\",\n",
        "    campo = \"fold\", start = 1, seed = NA) {\n",
        "  if (!is.na(seed)) set.seed(seed)\n",
        "\n",
        "  bloque <- unlist(mapply(function(x, y) {\n",
        "    rep(y, x)\n",
        "  }, division, seq(from = start, length.out = length(division))))\n",
        "\n",
        "  data[, (campo) := sample(rep(bloque, ceiling(.N / length(bloque))))[1:.N],\n",
        "    by = agrupa\n",
        "  ]\n",
        "}\n"
      ],
      "metadata": {
        "id": "2BabfKg7NruX"
      },
      "execution_count": 46,
      "outputs": []
    },
    {
      "cell_type": "code",
      "source": [
        "DosArbolesEstimarGanancia <- function(semilla, training_pct, param_rpart1, param_rpart2) {\n",
        "\n",
        "  # fuerzo impresion\n",
        "  print( paste( semilla, Sys.time()) )\n",
        "  flush.console()\n",
        "\n",
        "  # particiono estratificadamente el dataset\n",
        "  particionar(dataset,\n",
        "    division = c(training_pct, 100L -training_pct),\n",
        "    agrupa = \"clase_ternaria\",\n",
        "    seed = semilla # aqui se usa SU semilla\n",
        "  )\n",
        "\n",
        "  # genero el modelo\n",
        "  # predecir clase_ternaria a partir del resto\n",
        "  modelo1 <- rpart(\"clase_ternaria ~ .\",\n",
        "    data = dataset[fold == 1], # fold==1  es training,  el 70% de los datos\n",
        "    xval = 0,\n",
        "    control = param_rpart1\n",
        "  ) # aqui van los parametros del arbol\n",
        "\n",
        "  # aplico el modelo a los datos de testing\n",
        "  prediccion1 <- predict(modelo1, # el modelo que genere recien\n",
        "    dataset[fold == 2], # fold==2  es testing, el 30% de los datos\n",
        "    type = \"prob\"\n",
        "  ) # type= \"prob\"  es que devuelva la probabilidad\n",
        "\n",
        "\n",
        "  # calculo la ganancia en testing  qu es fold==2\n",
        "  ganancia_test1 <- dataset[\n",
        "    fold == 2,\n",
        "    sum(ifelse(prediccion1[, \"BAJA+2\"] > 0.025,\n",
        "      ifelse(clase_ternaria == \"BAJA+2\", 117000, -3000),\n",
        "      0\n",
        "    ))\n",
        "  ]\n",
        "\n",
        "  # escalo la ganancia como si fuera todo el dataset\n",
        "  ganancia_test_normalizada1 <- ganancia_test1 / (( 100 - training_pct ) / 100 )\n",
        "\n",
        "  modelo2 <- rpart(\"clase_ternaria ~ .\",\n",
        "    data = dataset[fold == 1], # fold==1  es training,  el 70% de los datos\n",
        "    xval = 0,\n",
        "    control = param_rpart2\n",
        "  ) # aqui van los parametros del arbol\n",
        "\n",
        "  # aplico el modelo a los datos de testing\n",
        "  prediccion2 <- predict(modelo2, # el modelo que genere recien\n",
        "    dataset[fold == 2], # fold==2  es testing, el 30% de los datos\n",
        "    type = \"prob\"\n",
        "  ) # type= \"prob\"  es que devuelva la probabilidad\n",
        "\n",
        "\n",
        "  # calculo la ganancia en testing  qu es fold==2\n",
        "  ganancia_test2 <- dataset[\n",
        "    fold == 2,\n",
        "    sum(ifelse(prediccion2[, \"BAJA+2\"] > 0.025,\n",
        "      ifelse(clase_ternaria == \"BAJA+2\", 117000, -3000),\n",
        "      0\n",
        "    ))\n",
        "  ]\n",
        "\n",
        "  # escalo la ganancia como si fuera todo el dataset\n",
        "  ganancia_test_normalizada2 <- ganancia_test2 / (( 100 - training_pct ) / 100 )\n",
        "\n",
        "  return(list(\n",
        "    \"semilla\" = semilla,\n",
        "    \"ganancia1\" = ganancia_test_normalizada1,\n",
        "    \"ganancia2\" = ganancia_test_normalizada2\n",
        "  ))\n",
        "}"
      ],
      "metadata": {
        "id": "YrGJgj4UNruZ"
      },
      "execution_count": 47,
      "outputs": []
    },
    {
      "cell_type": "code",
      "source": [
        "# carpeta de trabajo\n",
        "setwd(\"/content/buckets/b1/exp\")\n",
        "experimento <- \"exp206\"\n",
        "dir.create(experimento, showWarnings=FALSE)\n",
        "setwd( paste0(\"/content/buckets/b1/exp/\", experimento ))"
      ],
      "metadata": {
        "id": "2C2yjgQVNrud"
      },
      "execution_count": 48,
      "outputs": []
    },
    {
      "cell_type": "code",
      "source": [
        "# lectura del dataset\n",
        "dataset <- fread(\"/content/datasets/dataset_pequeno.csv\")\n",
        "\n",
        "# trabajo solo con los datos con clase, es decir 202107\n",
        "dataset <- dataset[clase_ternaria != \"\"]"
      ],
      "metadata": {
        "id": "oQeGcBnPNrug"
      },
      "execution_count": 49,
      "outputs": []
    },
    {
      "cell_type": "code",
      "source": [
        "detectCores()"
      ],
      "metadata": {
        "id": "gXKI2eXO9Osx",
        "outputId": "dac5aa8a-0f0e-484f-d4b7-21bae7ecc613",
        "colab": {
          "base_uri": "https://localhost:8080/",
          "height": 34
        }
      },
      "execution_count": 50,
      "outputs": [
        {
          "output_type": "display_data",
          "data": {
            "text/html": [
              "2"
            ],
            "text/markdown": "2",
            "text/latex": "2",
            "text/plain": [
              "[1] 2"
            ]
          },
          "metadata": {}
        }
      ]
    },
    {
      "cell_type": "code",
      "source": [
        "# genero numeros primos\n",
        "primos <- generate_primes(min = 100000, max = 1000000)\n",
        "set.seed(PARAM$semilla_primigenia) # inicializo\n",
        "\n",
        "# me quedo con PARAM$qsemillas   semillas\n",
        "PARAM$semillas <- sample(primos, PARAM$qsemillas )"
      ],
      "metadata": {
        "id": "tU8S7_5ANrui"
      },
      "execution_count": 51,
      "outputs": []
    },
    {
      "cell_type": "code",
      "source": [
        "# demora interminables 60 minutos en correr en Google Colab\n",
        "Sys.time()\n",
        "\n",
        "salidas <- mcmapply( DosArbolesEstimarGanancia,\n",
        "  PARAM$semillas, # paso el vector de semillas\n",
        "  MoreArgs = list(PARAM$training_pct, PARAM$rpart1, PARAM$rpart2), # aqui paso el segundo parametro\n",
        "  SIMPLIFY = FALSE,\n",
        "  mc.cores = detectCores()\n",
        ")\n",
        "\n",
        "Sys.time()"
      ],
      "metadata": {
        "id": "mlF66CgxcHF3",
        "outputId": "547f706a-5e91-46d1-8502-28b717428d05",
        "colab": {
          "base_uri": "https://localhost:8080/",
          "height": 52
        }
      },
      "execution_count": 52,
      "outputs": [
        {
          "output_type": "display_data",
          "data": {
            "text/plain": [
              "[1] \"2025-10-12 23:41:36 UTC\""
            ]
          },
          "metadata": {}
        },
        {
          "output_type": "display_data",
          "data": {
            "text/plain": [
              "[1] \"2025-10-13 00:38:47 UTC\""
            ]
          },
          "metadata": {}
        }
      ]
    },
    {
      "cell_type": "code",
      "source": [
        "# paso la lista a vector\n",
        "tb_salida <- rbindlist(salidas)\n",
        "tb_salida"
      ],
      "metadata": {
        "id": "_g-_kccdNrum",
        "outputId": "519f1664-1c4b-4ad0-b7bf-29c2ff5dc648",
        "colab": {
          "base_uri": "https://localhost:8080/",
          "height": 724
        }
      },
      "execution_count": 53,
      "outputs": [
        {
          "output_type": "display_data",
          "data": {
            "text/html": [
              "<table class=\"dataframe\">\n",
              "<caption>A data.table: 20 × 3</caption>\n",
              "<thead>\n",
              "\t<tr><th scope=col>semilla</th><th scope=col>ganancia1</th><th scope=col>ganancia2</th></tr>\n",
              "\t<tr><th scope=col>&lt;int&gt;</th><th scope=col>&lt;dbl&gt;</th><th scope=col>&lt;dbl&gt;</th></tr>\n",
              "</thead>\n",
              "<tbody>\n",
              "\t<tr><td>152843</td><td>46470000</td><td>43010000</td></tr>\n",
              "\t<tr><td>461333</td><td>43030000</td><td>37700000</td></tr>\n",
              "\t<tr><td>367163</td><td>46500000</td><td>39290000</td></tr>\n",
              "\t<tr><td>883781</td><td>48160000</td><td>40950000</td></tr>\n",
              "\t<tr><td>500413</td><td>47940000</td><td>42170000</td></tr>\n",
              "\t<tr><td>898813</td><td>48210000</td><td>44800000</td></tr>\n",
              "\t<tr><td>199889</td><td>46290000</td><td>41730000</td></tr>\n",
              "\t<tr><td>683129</td><td>44110000</td><td>39520000</td></tr>\n",
              "\t<tr><td>337639</td><td>48290000</td><td>42160000</td></tr>\n",
              "\t<tr><td>709519</td><td>48690000</td><td>39970000</td></tr>\n",
              "\t<tr><td>797051</td><td>52600000</td><td>42490000</td></tr>\n",
              "\t<tr><td>716321</td><td>47580000</td><td>41990000</td></tr>\n",
              "\t<tr><td>160397</td><td>45020000</td><td>38360000</td></tr>\n",
              "\t<tr><td>430553</td><td>50660000</td><td>44080000</td></tr>\n",
              "\t<tr><td>802027</td><td>46450000</td><td>37830000</td></tr>\n",
              "\t<tr><td>241823</td><td>48420000</td><td>40290000</td></tr>\n",
              "\t<tr><td>798199</td><td>45200000</td><td>37650000</td></tr>\n",
              "\t<tr><td>682009</td><td>42460000</td><td>40940000</td></tr>\n",
              "\t<tr><td>727061</td><td>51260000</td><td>45260000</td></tr>\n",
              "\t<tr><td>737059</td><td>42130000</td><td>33960000</td></tr>\n",
              "</tbody>\n",
              "</table>\n"
            ],
            "text/markdown": "\nA data.table: 20 × 3\n\n| semilla &lt;int&gt; | ganancia1 &lt;dbl&gt; | ganancia2 &lt;dbl&gt; |\n|---|---|---|\n| 152843 | 46470000 | 43010000 |\n| 461333 | 43030000 | 37700000 |\n| 367163 | 46500000 | 39290000 |\n| 883781 | 48160000 | 40950000 |\n| 500413 | 47940000 | 42170000 |\n| 898813 | 48210000 | 44800000 |\n| 199889 | 46290000 | 41730000 |\n| 683129 | 44110000 | 39520000 |\n| 337639 | 48290000 | 42160000 |\n| 709519 | 48690000 | 39970000 |\n| 797051 | 52600000 | 42490000 |\n| 716321 | 47580000 | 41990000 |\n| 160397 | 45020000 | 38360000 |\n| 430553 | 50660000 | 44080000 |\n| 802027 | 46450000 | 37830000 |\n| 241823 | 48420000 | 40290000 |\n| 798199 | 45200000 | 37650000 |\n| 682009 | 42460000 | 40940000 |\n| 727061 | 51260000 | 45260000 |\n| 737059 | 42130000 | 33960000 |\n\n",
            "text/latex": "A data.table: 20 × 3\n\\begin{tabular}{lll}\n semilla & ganancia1 & ganancia2\\\\\n <int> & <dbl> & <dbl>\\\\\n\\hline\n\t 152843 & 46470000 & 43010000\\\\\n\t 461333 & 43030000 & 37700000\\\\\n\t 367163 & 46500000 & 39290000\\\\\n\t 883781 & 48160000 & 40950000\\\\\n\t 500413 & 47940000 & 42170000\\\\\n\t 898813 & 48210000 & 44800000\\\\\n\t 199889 & 46290000 & 41730000\\\\\n\t 683129 & 44110000 & 39520000\\\\\n\t 337639 & 48290000 & 42160000\\\\\n\t 709519 & 48690000 & 39970000\\\\\n\t 797051 & 52600000 & 42490000\\\\\n\t 716321 & 47580000 & 41990000\\\\\n\t 160397 & 45020000 & 38360000\\\\\n\t 430553 & 50660000 & 44080000\\\\\n\t 802027 & 46450000 & 37830000\\\\\n\t 241823 & 48420000 & 40290000\\\\\n\t 798199 & 45200000 & 37650000\\\\\n\t 682009 & 42460000 & 40940000\\\\\n\t 727061 & 51260000 & 45260000\\\\\n\t 737059 & 42130000 & 33960000\\\\\n\\end{tabular}\n",
            "text/plain": [
              "   semilla ganancia1 ganancia2\n",
              "1  152843  46470000  43010000 \n",
              "2  461333  43030000  37700000 \n",
              "3  367163  46500000  39290000 \n",
              "4  883781  48160000  40950000 \n",
              "5  500413  47940000  42170000 \n",
              "6  898813  48210000  44800000 \n",
              "7  199889  46290000  41730000 \n",
              "8  683129  44110000  39520000 \n",
              "9  337639  48290000  42160000 \n",
              "10 709519  48690000  39970000 \n",
              "11 797051  52600000  42490000 \n",
              "12 716321  47580000  41990000 \n",
              "13 160397  45020000  38360000 \n",
              "14 430553  50660000  44080000 \n",
              "15 802027  46450000  37830000 \n",
              "16 241823  48420000  40290000 \n",
              "17 798199  45200000  37650000 \n",
              "18 682009  42460000  40940000 \n",
              "19 727061  51260000  45260000 \n",
              "20 737059  42130000  33960000 "
            ]
          },
          "metadata": {}
        }
      ]
    },
    {
      "cell_type": "code",
      "source": [
        "grafico <- ggplot( tb_salida, aes(x=ganancia1)) + geom_density(alpha=0.25, fill=\"green\", color=\"green\")  +\n",
        "             geom_density(data=tb_salida, aes(x=ganancia2), fill=\"purple\", color=\"purple\",  alpha=0.10)\n",
        "\n",
        "print(grafico)"
      ],
      "metadata": {
        "id": "-O0rg6btNrun",
        "outputId": "d29a354a-d007-418c-b91d-40757cc9e974",
        "colab": {
          "base_uri": "https://localhost:8080/",
          "height": 437
        }
      },
      "execution_count": 54,
      "outputs": [
        {
          "output_type": "display_data",
          "data": {
            "text/plain": [
              "plot without title"
            ],
            "image/png": "[encoded data removed]"
          },
          "metadata": {
            "image/png": {
              "width": 420,
              "height": 420
            }
          }
        }
      ]
    },
    {
      "cell_type": "code",
      "source": [
        "# imprimo en un .pdf  que va a la carpeta del experimento\n",
        "pdf(\"densidad_dos.pdf\")\n",
        "print(grafico)\n",
        "dev.off()"
      ],
      "metadata": {
        "id": "uSqrazOyU_LC",
        "outputId": "760efbdf-1f11-4208-f893-9fed5e7ca0a2",
        "colab": {
          "base_uri": "https://localhost:8080/",
          "height": 34
        }
      },
      "execution_count": 55,
      "outputs": [
        {
          "output_type": "display_data",
          "data": {
            "text/html": [
              "<strong>agg_record_2090607518:</strong> 2"
            ],
            "text/markdown": "**agg_record_2090607518:** 2",
            "text/latex": "\\textbf{agg\\textbackslash{}\\_record\\textbackslash{}\\_2090607518:} 2",
            "text/plain": [
              "agg_record_2090607518 \n",
              "                    2 "
            ]
          },
          "metadata": {}
        }
      ]
    },
    {
      "cell_type": "code",
      "source": [
        "print( tb_salida[ , list( \"arbol1\" = mean( ganancia1),  \"arbol2\" = mean(ganancia2) ) ] )\n",
        "\n",
        "print( tb_salida[ , list( \"prob( m1 > m2)\" = sum(ganancia1 > ganancia2 )/ .N ) ]  )"
      ],
      "metadata": {
        "id": "LGv0LB_4R7US",
        "outputId": "0d405d49-3785-4c96-bb93-9fd367b18f92",
        "colab": {
          "base_uri": "https://localhost:8080/"
        }
      },
      "execution_count": 56,
      "outputs": [
        {
          "output_type": "stream",
          "name": "stdout",
          "text": [
            "     arbol1   arbol2\n",
            "      <num>    <num>\n",
            "1: 46973500 40707500\n",
            "   prob( m1 > m2)\n",
            "            <num>\n",
            "1:              1\n"
          ]
        }
      ]
    },
    {
      "cell_type": "markdown",
      "source": [
        "### Acciones a realizar\n",
        "* Reportar la  los resultados en la planilla colaborativa hoja  **C2-dosModelos**\n",
        "* ¿Todos los alumnos hubieran elegido el mismo modelo aun con 20 semillas?"
      ],
      "metadata": {
        "id": "F6lFJf1VTi8b"
      }
    },
    {
      "cell_type": "markdown",
      "source": [
        "\n",
        "\n",
        "---\n",
        "\n"
      ],
      "metadata": {
        "id": "aOpy-XBKTi8n"
      }
    },
    {
      "cell_type": "markdown",
      "source": [
        "# 7 Comparando dos buenos  modelos\n",
        "## Clase 02  Experimento 7"
      ],
      "metadata": {
        "id": "EdzjiJf-dsEK"
      }
    },
    {
      "cell_type": "markdown",
      "source": [
        "## 7.1  Objetivos\n",
        "Presentar a los alumnos la dificultad que surge en la comparación de dos muy distintos, pero ambos buenos, modelos predictivos, y el costo computacional asociado a esa comparación\n",
        "<br>Comparación simple de media de ganancias, versus probabilidad que un modelo sea superior a otro.\n",
        "<br>Limitaciones de la MonteCarlo Cross Validation\n",
        "<br>Existencia del Test de Wilcoxon"
      ],
      "metadata": {
        "id": "FcBjp5XxdsEt"
      }
    },
    {
      "cell_type": "markdown",
      "source": [
        "## 7.2 Introduccion\n",
        "Estos son los dos arboles de muy distinta profundidad.\n",
        "<br>¿Cuál de ellos es mejor? ¿Cuál elijo?\n",
        "\n",
        "| Hiperparámetro | Arbol 1 | Arbol 2 |\n",
        "| --- | --: |  ---: |\n",
        "| cp | -1 | -1 |\n",
        "|minsplit | 170 | 1900 |\n",
        "|minbucket | 70 | 800 |\n",
        "|maxdepth | 7 | 3 |\n",
        "\n"
      ],
      "metadata": {
        "id": "tYcOIcwCdsEu"
      }
    },
    {
      "cell_type": "markdown",
      "source": [
        "## 7.3 Dos buenos modelos"
      ],
      "metadata": {
        "id": "r0NDA7GgdsEu"
      }
    },
    {
      "cell_type": "markdown",
      "source": [
        "Esta parte se debe correr con el runtime en lenguaje **R** Ir al menu, Runtime -> Change Runtime Tipe -> Runtime type -> R"
      ],
      "metadata": {
        "id": "21SJmGd7dsEv"
      }
    },
    {
      "cell_type": "markdown",
      "source": [
        "El tiempo de corrida es de alrededor de 50 minutos"
      ],
      "metadata": {
        "id": "Ne0e08KUt87w"
      }
    },
    {
      "cell_type": "markdown",
      "source": [
        "limpio el ambiente de R"
      ],
      "metadata": {
        "id": "q02SEGNwdsEv"
      }
    },
    {
      "cell_type": "code",
      "source": [
        "# limpio la memoria\n",
        "rm(list=ls(all.names=TRUE)) # remove all objects\n",
        "gc(full=TRUE, verbose=FALSE) # garbage collection"
      ],
      "metadata": {
        "id": "6c2ZJstWdsEw",
        "outputId": "d17e04bc-bd59-44b8-fb62-ceef2afaa80b",
        "colab": {
          "base_uri": "https://localhost:8080/",
          "height": 129
        }
      },
      "execution_count": 57,
      "outputs": [
        {
          "output_type": "display_data",
          "data": {
            "text/html": [
              "<table class=\"dataframe\">\n",
              "<caption>A matrix: 2 × 6 of type dbl</caption>\n",
              "<thead>\n",
              "\t<tr><th></th><th scope=col>used</th><th scope=col>(Mb)</th><th scope=col>gc trigger</th><th scope=col>(Mb)</th><th scope=col>max used</th><th scope=col>(Mb)</th></tr>\n",
              "</thead>\n",
              "<tbody>\n",
              "\t<tr><th scope=row>Ncells</th><td>1403069</td><td>75.0</td><td> 2478278</td><td>132.4</td><td>  2478278</td><td>132.4</td></tr>\n",
              "\t<tr><th scope=row>Vcells</th><td>2538340</td><td>19.4</td><td>52386968</td><td>399.7</td><td>104119751</td><td>794.4</td></tr>\n",
              "</tbody>\n",
              "</table>\n"
            ],
            "text/markdown": "\nA matrix: 2 × 6 of type dbl\n\n| <!--/--> | used | (Mb) | gc trigger | (Mb) | max used | (Mb) |\n|---|---|---|---|---|---|---|\n| Ncells | 1403069 | 75.0 |  2478278 | 132.4 |   2478278 | 132.4 |\n| Vcells | 2538340 | 19.4 | 52386968 | 399.7 | 104119751 | 794.4 |\n\n",
            "text/latex": "A matrix: 2 × 6 of type dbl\n\\begin{tabular}{r|llllll}\n  & used & (Mb) & gc trigger & (Mb) & max used & (Mb)\\\\\n\\hline\n\tNcells & 1403069 & 75.0 &  2478278 & 132.4 &   2478278 & 132.4\\\\\n\tVcells & 2538340 & 19.4 & 52386968 & 399.7 & 104119751 & 794.4\\\\\n\\end{tabular}\n",
            "text/plain": [
              "       used    (Mb) gc trigger (Mb)  max used  (Mb) \n",
              "Ncells 1403069 75.0  2478278   132.4   2478278 132.4\n",
              "Vcells 2538340 19.4 52386968   399.7 104119751 794.4"
            ]
          },
          "metadata": {}
        }
      ]
    },
    {
      "cell_type": "markdown",
      "source": [
        "* Instalacion de la libreria  rpart.plot  para dibujar el arbol\n",
        "* invocacion de las librerias  **data.table** y  **rpart**"
      ],
      "metadata": {
        "id": "62MIW0r1dsEx"
      }
    },
    {
      "cell_type": "code",
      "source": [
        "# cargo las librerias que necesito\n",
        "require(\"data.table\")\n",
        "require(\"rpart\")\n",
        "require(\"parallel\")\n",
        "\n",
        "if (!require(\"primes\")) install.packages(\"primes\")\n",
        "require(\"primes\")\n",
        "\n",
        "require(\"ggplot2\")"
      ],
      "metadata": {
        "id": "2Ke4n-N8dsEy"
      },
      "execution_count": 58,
      "outputs": []
    },
    {
      "cell_type": "markdown",
      "source": [
        "###  Accion a Realizar\n",
        "PARAM$semilla_primigenia  debe reemplazarse por SU primer semilla"
      ],
      "metadata": {
        "id": "UHSoeqi4dsEz"
      }
    },
    {
      "cell_type": "code",
      "source": [
        "PARAM <- list()\n",
        "PARAM$semilla_primigenia <- 999961\n",
        "PARAM$qsemillas <- 50\n",
        "PARAM$training_pct <- 70L     # entre 1 y 100\n"
      ],
      "metadata": {
        "id": "f08_sqfAdsEz"
      },
      "execution_count": 59,
      "outputs": []
    },
    {
      "cell_type": "code",
      "source": [
        "# los dos arboles\n",
        "PARAM$rpart1 <- list (\n",
        "  \"cp\" = -1,\n",
        "  \"minsplit\" = 170,\n",
        "  \"minbucket\" = 70,\n",
        "  \"maxdepth\" = 7\n",
        ")\n",
        "\n",
        "\n",
        "PARAM$rpart2 <- list (\n",
        "  \"cp\" = -1,\n",
        "  \"minsplit\" = 1900,\n",
        "  \"minbucket\" = 800,\n",
        "  \"maxdepth\" = 3\n",
        ")\n"
      ],
      "metadata": {
        "id": "L735D9rydsE0"
      },
      "execution_count": 60,
      "outputs": []
    },
    {
      "cell_type": "code",
      "source": [
        "# particionar agrega una columna llamada fold a un dataset\n",
        "#  que consiste en una particion estratificada segun agrupa\n",
        "\n",
        "# particionar( data=dataset, division=c(70,30),\n",
        "#  agrupa=clase_ternaria, seed=semilla)   crea una particion 70, 30\n",
        "\n",
        "particionar <- function(\n",
        "    data, division, agrupa = \"\",\n",
        "    campo = \"fold\", start = 1, seed = NA) {\n",
        "  if (!is.na(seed)) set.seed(seed)\n",
        "\n",
        "  bloque <- unlist(mapply(function(x, y) {\n",
        "    rep(y, x)\n",
        "  }, division, seq(from = start, length.out = length(division))))\n",
        "\n",
        "  data[, (campo) := sample(rep(bloque, ceiling(.N / length(bloque))))[1:.N],\n",
        "    by = agrupa\n",
        "  ]\n",
        "}\n"
      ],
      "metadata": {
        "id": "O56epLUGdsE1"
      },
      "execution_count": 61,
      "outputs": []
    },
    {
      "cell_type": "code",
      "source": [
        "DosArbolesEstimarGanancia <- function(semilla, training_pct, param_rpart1, param_rpart2) {\n",
        "  # fuerzo impresion\n",
        "  print( paste( semilla, Sys.time()) )\n",
        "  flush.console()\n",
        "\n",
        "  # particiono estratificadamente el dataset\n",
        "  particionar(dataset,\n",
        "    division = c(training_pct, 100L -training_pct),\n",
        "    agrupa = \"clase_ternaria\",\n",
        "    seed = semilla # aqui se usa SU semilla\n",
        "  )\n",
        "\n",
        "  # genero el modelo\n",
        "  # predecir clase_ternaria a partir del resto\n",
        "  modelo1 <- rpart(\"clase_ternaria ~ .\",\n",
        "    data = dataset[fold == 1], # fold==1  es training,  el 70% de los datos\n",
        "    xval = 0,\n",
        "    control = param_rpart1\n",
        "  ) # aqui van los parametros del arbol\n",
        "\n",
        "  # aplico el modelo a los datos de testing\n",
        "  prediccion1 <- predict(modelo1, # el modelo que genere recien\n",
        "    dataset[fold == 2], # fold==2  es testing, el 30% de los datos\n",
        "    type = \"prob\"\n",
        "  ) # type= \"prob\"  es que devuelva la probabilidad\n",
        "\n",
        "\n",
        "  # calculo la ganancia en testing  qu es fold==2\n",
        "  ganancia_test1 <- dataset[\n",
        "    fold == 2,\n",
        "    sum(ifelse(prediccion1[, \"BAJA+2\"] > 0.025,\n",
        "      ifelse(clase_ternaria == \"BAJA+2\", 117000, -3000),\n",
        "      0\n",
        "    ))\n",
        "  ]\n",
        "\n",
        "  # escalo la ganancia como si fuera todo el dataset\n",
        "  ganancia_test_normalizada1 <- ganancia_test1 / (( 100 - training_pct ) / 100 )\n",
        "\n",
        "  modelo2 <- rpart(\"clase_ternaria ~ .\",\n",
        "    data = dataset[fold == 1], # fold==1  es training,  el 70% de los datos\n",
        "    xval = 0,\n",
        "    control = param_rpart2\n",
        "  ) # aqui van los parametros del arbol\n",
        "\n",
        "  # aplico el modelo a los datos de testing\n",
        "  prediccion2 <- predict(modelo2, # el modelo que genere recien\n",
        "    dataset[fold == 2], # fold==2  es testing, el 30% de los datos\n",
        "    type = \"prob\"\n",
        "  ) # type= \"prob\"  es que devuelva la probabilidad\n",
        "\n",
        "\n",
        "  # calculo la ganancia en testing  qu es fold==2\n",
        "  ganancia_test2 <- dataset[\n",
        "    fold == 2,\n",
        "    sum(ifelse(prediccion2[, \"BAJA+2\"] > 0.025,\n",
        "      ifelse(clase_ternaria == \"BAJA+2\", 117000, -3000),\n",
        "      0\n",
        "    ))\n",
        "  ]\n",
        "\n",
        "  # escalo la ganancia como si fuera todo el dataset\n",
        "  ganancia_test_normalizada2 <- ganancia_test2 / (( 100 - training_pct ) / 100 )\n",
        "\n",
        "  return(list(\n",
        "    \"semilla\" = semilla,\n",
        "    \"ganancia1\" = ganancia_test_normalizada1,\n",
        "    \"ganancia2\" = ganancia_test_normalizada2\n",
        "  ))\n",
        "}"
      ],
      "metadata": {
        "id": "Bv_NorLhdsE1"
      },
      "execution_count": 62,
      "outputs": []
    },
    {
      "cell_type": "code",
      "source": [
        "# carpeta de trabajo\n",
        "setwd(\"/content/buckets/b1/exp\")\n",
        "experimento <- \"exp206\"\n",
        "dir.create(experimento, showWarnings=FALSE)\n",
        "setwd( paste0(\"/content/buckets/b1/exp/\", experimento ))"
      ],
      "metadata": {
        "id": "N9GarblIdsE3"
      },
      "execution_count": 63,
      "outputs": []
    },
    {
      "cell_type": "code",
      "source": [
        "# lectura del dataset\n",
        "dataset <- fread(\"/content/datasets/dataset_pequeno.csv\")\n",
        "\n",
        "# trabajo solo con los datos con clase, es decir 202107\n",
        "dataset <- dataset[clase_ternaria != \"\"]"
      ],
      "metadata": {
        "id": "Z05r3wdTdsE3"
      },
      "execution_count": 64,
      "outputs": []
    },
    {
      "cell_type": "code",
      "source": [
        "# genero numeros primos\n",
        "primos <- generate_primes(min = 100000, max = 1000000)\n",
        "set.seed(PARAM$semilla_primigenia) # inicializo\n",
        "\n",
        "# me quedo con PARAM$qsemillas   semillas\n",
        "PARAM$semillas <- sample(primos, PARAM$qsemillas )"
      ],
      "metadata": {
        "id": "m8ODrVrndsE4"
      },
      "execution_count": 65,
      "outputs": []
    },
    {
      "cell_type": "code",
      "source": [
        "# la funcion mcmapply  llama a la funcion DosArbolesEstimarGanancia\n",
        "#  tantas veces como valores tenga el vector  PARAM$semillas\n",
        "Sys.time()\n",
        "\n",
        "salidas <- mcmapply( DosArbolesEstimarGanancia,\n",
        "  PARAM$semillas, # paso el vector de semillas\n",
        "  MoreArgs = list(PARAM$training_pct, PARAM$rpart1, PARAM$rpart2), # aqui paso el segundo parametro\n",
        "  SIMPLIFY = FALSE,\n",
        "  mc.cores = detectCores()\n",
        ")\n",
        "\n",
        "Sys.time()"
      ],
      "metadata": {
        "id": "KQBhUXxJdsE5",
        "outputId": "162b34e3-3036-4951-bc60-8d650686016c",
        "colab": {
          "base_uri": "https://localhost:8080/",
          "height": 52
        }
      },
      "execution_count": 66,
      "outputs": [
        {
          "output_type": "display_data",
          "data": {
            "text/plain": [
              "[1] \"2025-10-13 00:38:54 UTC\""
            ]
          },
          "metadata": {}
        },
        {
          "output_type": "display_data",
          "data": {
            "text/plain": [
              "[1] \"2025-10-13 01:42:39 UTC\""
            ]
          },
          "metadata": {}
        }
      ]
    },
    {
      "cell_type": "code",
      "source": [
        "# paso la lista a vector\n",
        "tb_salida <- rbindlist(salidas)\n",
        "tb_salida"
      ],
      "metadata": {
        "id": "N0eS1CFFdsE5",
        "outputId": "bdd52f4e-b37c-4c38-8e68-fa10ab0e065d",
        "colab": {
          "base_uri": "https://localhost:8080/",
          "height": 1000
        }
      },
      "execution_count": 67,
      "outputs": [
        {
          "output_type": "display_data",
          "data": {
            "text/html": [
              "<table class=\"dataframe\">\n",
              "<caption>A data.table: 50 × 3</caption>\n",
              "<thead>\n",
              "\t<tr><th scope=col>semilla</th><th scope=col>ganancia1</th><th scope=col>ganancia2</th></tr>\n",
              "\t<tr><th scope=col>&lt;int&gt;</th><th scope=col>&lt;dbl&gt;</th><th scope=col>&lt;dbl&gt;</th></tr>\n",
              "</thead>\n",
              "<tbody>\n",
              "\t<tr><td>152843</td><td>46470000</td><td>49510000</td></tr>\n",
              "\t<tr><td>461333</td><td>43030000</td><td>44370000</td></tr>\n",
              "\t<tr><td>367163</td><td>46500000</td><td>50980000</td></tr>\n",
              "\t<tr><td>883781</td><td>48160000</td><td>46480000</td></tr>\n",
              "\t<tr><td>500413</td><td>47940000</td><td>47210000</td></tr>\n",
              "\t<tr><td>898813</td><td>48210000</td><td>48810000</td></tr>\n",
              "\t<tr><td>199889</td><td>46290000</td><td>45380000</td></tr>\n",
              "\t<tr><td>683129</td><td>44110000</td><td>46620000</td></tr>\n",
              "\t<tr><td>337639</td><td>48290000</td><td>45660000</td></tr>\n",
              "\t<tr><td>709519</td><td>48690000</td><td>47400000</td></tr>\n",
              "\t<tr><td>797051</td><td>52600000</td><td>55190000</td></tr>\n",
              "\t<tr><td>716321</td><td>47580000</td><td>44660000</td></tr>\n",
              "\t<tr><td>160397</td><td>45020000</td><td>46740000</td></tr>\n",
              "\t<tr><td>430553</td><td>50660000</td><td>47430000</td></tr>\n",
              "\t<tr><td>802027</td><td>46450000</td><td>50320000</td></tr>\n",
              "\t<tr><td>241823</td><td>48420000</td><td>46460000</td></tr>\n",
              "\t<tr><td>798199</td><td>45200000</td><td>44180000</td></tr>\n",
              "\t<tr><td>682009</td><td>42460000</td><td>46800000</td></tr>\n",
              "\t<tr><td>727061</td><td>51260000</td><td>54700000</td></tr>\n",
              "\t<tr><td>737059</td><td>42130000</td><td>40790000</td></tr>\n",
              "\t<tr><td>873767</td><td>45420000</td><td>45230000</td></tr>\n",
              "\t<tr><td>368729</td><td>41490000</td><td>38420000</td></tr>\n",
              "\t<tr><td>199783</td><td>48870000</td><td>49680000</td></tr>\n",
              "\t<tr><td>645937</td><td>48410000</td><td>41330000</td></tr>\n",
              "\t<tr><td>293413</td><td>48960000</td><td>47210000</td></tr>\n",
              "\t<tr><td>208891</td><td>49890000</td><td>48600000</td></tr>\n",
              "\t<tr><td>186671</td><td>46080000</td><td>46020000</td></tr>\n",
              "\t<tr><td>900293</td><td>51640000</td><td>52220000</td></tr>\n",
              "\t<tr><td>292549</td><td>50640000</td><td>52090000</td></tr>\n",
              "\t<tr><td>101869</td><td>50870000</td><td>47030000</td></tr>\n",
              "\t<tr><td>885931</td><td>53140000</td><td>49400000</td></tr>\n",
              "\t<tr><td>729761</td><td>39940000</td><td>42070000</td></tr>\n",
              "\t<tr><td>292133</td><td>54780000</td><td>51700000</td></tr>\n",
              "\t<tr><td>163259</td><td>44710000</td><td>44580000</td></tr>\n",
              "\t<tr><td>288527</td><td>49170000</td><td>49500000</td></tr>\n",
              "\t<tr><td>242257</td><td>49880000</td><td>49190000</td></tr>\n",
              "\t<tr><td>164279</td><td>41210000</td><td>41760000</td></tr>\n",
              "\t<tr><td>581797</td><td>51050000</td><td>48320000</td></tr>\n",
              "\t<tr><td>675481</td><td>52010000</td><td>57640000</td></tr>\n",
              "\t<tr><td>298021</td><td>47140000</td><td>48520000</td></tr>\n",
              "\t<tr><td>624233</td><td>43370000</td><td>42080000</td></tr>\n",
              "\t<tr><td>510941</td><td>44830000</td><td>45550000</td></tr>\n",
              "\t<tr><td>603173</td><td>41760000</td><td>51490000</td></tr>\n",
              "\t<tr><td>432979</td><td>42960000</td><td>49390000</td></tr>\n",
              "\t<tr><td>429503</td><td>54600000</td><td>47250000</td></tr>\n",
              "\t<tr><td>717151</td><td>53280000</td><td>51060000</td></tr>\n",
              "\t<tr><td>622337</td><td>51540000</td><td>44080000</td></tr>\n",
              "\t<tr><td>830693</td><td>50360000</td><td>52070000</td></tr>\n",
              "\t<tr><td>441829</td><td>49860000</td><td>53370000</td></tr>\n",
              "\t<tr><td>440953</td><td>46320000</td><td>43060000</td></tr>\n",
              "</tbody>\n",
              "</table>\n"
            ],
            "text/markdown": "\nA data.table: 50 × 3\n\n| semilla &lt;int&gt; | ganancia1 &lt;dbl&gt; | ganancia2 &lt;dbl&gt; |\n|---|---|---|\n| 152843 | 46470000 | 49510000 |\n| 461333 | 43030000 | 44370000 |\n| 367163 | 46500000 | 50980000 |\n| 883781 | 48160000 | 46480000 |\n| 500413 | 47940000 | 47210000 |\n| 898813 | 48210000 | 48810000 |\n| 199889 | 46290000 | 45380000 |\n| 683129 | 44110000 | 46620000 |\n| 337639 | 48290000 | 45660000 |\n| 709519 | 48690000 | 47400000 |\n| 797051 | 52600000 | 55190000 |\n| 716321 | 47580000 | 44660000 |\n| 160397 | 45020000 | 46740000 |\n| 430553 | 50660000 | 47430000 |\n| 802027 | 46450000 | 50320000 |\n| 241823 | 48420000 | 46460000 |\n| 798199 | 45200000 | 44180000 |\n| 682009 | 42460000 | 46800000 |\n| 727061 | 51260000 | 54700000 |\n| 737059 | 42130000 | 40790000 |\n| 873767 | 45420000 | 45230000 |\n| 368729 | 41490000 | 38420000 |\n| 199783 | 48870000 | 49680000 |\n| 645937 | 48410000 | 41330000 |\n| 293413 | 48960000 | 47210000 |\n| 208891 | 49890000 | 48600000 |\n| 186671 | 46080000 | 46020000 |\n| 900293 | 51640000 | 52220000 |\n| 292549 | 50640000 | 52090000 |\n| 101869 | 50870000 | 47030000 |\n| 885931 | 53140000 | 49400000 |\n| 729761 | 39940000 | 42070000 |\n| 292133 | 54780000 | 51700000 |\n| 163259 | 44710000 | 44580000 |\n| 288527 | 49170000 | 49500000 |\n| 242257 | 49880000 | 49190000 |\n| 164279 | 41210000 | 41760000 |\n| 581797 | 51050000 | 48320000 |\n| 675481 | 52010000 | 57640000 |\n| 298021 | 47140000 | 48520000 |\n| 624233 | 43370000 | 42080000 |\n| 510941 | 44830000 | 45550000 |\n| 603173 | 41760000 | 51490000 |\n| 432979 | 42960000 | 49390000 |\n| 429503 | 54600000 | 47250000 |\n| 717151 | 53280000 | 51060000 |\n| 622337 | 51540000 | 44080000 |\n| 830693 | 50360000 | 52070000 |\n| 441829 | 49860000 | 53370000 |\n| 440953 | 46320000 | 43060000 |\n\n",
            "text/latex": "A data.table: 50 × 3\n\\begin{tabular}{lll}\n semilla & ganancia1 & ganancia2\\\\\n <int> & <dbl> & <dbl>\\\\\n\\hline\n\t 152843 & 46470000 & 49510000\\\\\n\t 461333 & 43030000 & 44370000\\\\\n\t 367163 & 46500000 & 50980000\\\\\n\t 883781 & 48160000 & 46480000\\\\\n\t 500413 & 47940000 & 47210000\\\\\n\t 898813 & 48210000 & 48810000\\\\\n\t 199889 & 46290000 & 45380000\\\\\n\t 683129 & 44110000 & 46620000\\\\\n\t 337639 & 48290000 & 45660000\\\\\n\t 709519 & 48690000 & 47400000\\\\\n\t 797051 & 52600000 & 55190000\\\\\n\t 716321 & 47580000 & 44660000\\\\\n\t 160397 & 45020000 & 46740000\\\\\n\t 430553 & 50660000 & 47430000\\\\\n\t 802027 & 46450000 & 50320000\\\\\n\t 241823 & 48420000 & 46460000\\\\\n\t 798199 & 45200000 & 44180000\\\\\n\t 682009 & 42460000 & 46800000\\\\\n\t 727061 & 51260000 & 54700000\\\\\n\t 737059 & 42130000 & 40790000\\\\\n\t 873767 & 45420000 & 45230000\\\\\n\t 368729 & 41490000 & 38420000\\\\\n\t 199783 & 48870000 & 49680000\\\\\n\t 645937 & 48410000 & 41330000\\\\\n\t 293413 & 48960000 & 47210000\\\\\n\t 208891 & 49890000 & 48600000\\\\\n\t 186671 & 46080000 & 46020000\\\\\n\t 900293 & 51640000 & 52220000\\\\\n\t 292549 & 50640000 & 52090000\\\\\n\t 101869 & 50870000 & 47030000\\\\\n\t 885931 & 53140000 & 49400000\\\\\n\t 729761 & 39940000 & 42070000\\\\\n\t 292133 & 54780000 & 51700000\\\\\n\t 163259 & 44710000 & 44580000\\\\\n\t 288527 & 49170000 & 49500000\\\\\n\t 242257 & 49880000 & 49190000\\\\\n\t 164279 & 41210000 & 41760000\\\\\n\t 581797 & 51050000 & 48320000\\\\\n\t 675481 & 52010000 & 57640000\\\\\n\t 298021 & 47140000 & 48520000\\\\\n\t 624233 & 43370000 & 42080000\\\\\n\t 510941 & 44830000 & 45550000\\\\\n\t 603173 & 41760000 & 51490000\\\\\n\t 432979 & 42960000 & 49390000\\\\\n\t 429503 & 54600000 & 47250000\\\\\n\t 717151 & 53280000 & 51060000\\\\\n\t 622337 & 51540000 & 44080000\\\\\n\t 830693 & 50360000 & 52070000\\\\\n\t 441829 & 49860000 & 53370000\\\\\n\t 440953 & 46320000 & 43060000\\\\\n\\end{tabular}\n",
            "text/plain": [
              "   semilla ganancia1 ganancia2\n",
              "1  152843  46470000  49510000 \n",
              "2  461333  43030000  44370000 \n",
              "3  367163  46500000  50980000 \n",
              "4  883781  48160000  46480000 \n",
              "5  500413  47940000  47210000 \n",
              "6  898813  48210000  48810000 \n",
              "7  199889  46290000  45380000 \n",
              "8  683129  44110000  46620000 \n",
              "9  337639  48290000  45660000 \n",
              "10 709519  48690000  47400000 \n",
              "11 797051  52600000  55190000 \n",
              "12 716321  47580000  44660000 \n",
              "13 160397  45020000  46740000 \n",
              "14 430553  50660000  47430000 \n",
              "15 802027  46450000  50320000 \n",
              "16 241823  48420000  46460000 \n",
              "17 798199  45200000  44180000 \n",
              "18 682009  42460000  46800000 \n",
              "19 727061  51260000  54700000 \n",
              "20 737059  42130000  40790000 \n",
              "21 873767  45420000  45230000 \n",
              "22 368729  41490000  38420000 \n",
              "23 199783  48870000  49680000 \n",
              "24 645937  48410000  41330000 \n",
              "25 293413  48960000  47210000 \n",
              "26 208891  49890000  48600000 \n",
              "27 186671  46080000  46020000 \n",
              "28 900293  51640000  52220000 \n",
              "29 292549  50640000  52090000 \n",
              "30 101869  50870000  47030000 \n",
              "31 885931  53140000  49400000 \n",
              "32 729761  39940000  42070000 \n",
              "33 292133  54780000  51700000 \n",
              "34 163259  44710000  44580000 \n",
              "35 288527  49170000  49500000 \n",
              "36 242257  49880000  49190000 \n",
              "37 164279  41210000  41760000 \n",
              "38 581797  51050000  48320000 \n",
              "39 675481  52010000  57640000 \n",
              "40 298021  47140000  48520000 \n",
              "41 624233  43370000  42080000 \n",
              "42 510941  44830000  45550000 \n",
              "43 603173  41760000  51490000 \n",
              "44 432979  42960000  49390000 \n",
              "45 429503  54600000  47250000 \n",
              "46 717151  53280000  51060000 \n",
              "47 622337  51540000  44080000 \n",
              "48 830693  50360000  52070000 \n",
              "49 441829  49860000  53370000 \n",
              "50 440953  46320000  43060000 "
            ]
          },
          "metadata": {}
        }
      ]
    },
    {
      "cell_type": "code",
      "source": [
        "grafico <- ggplot( tb_salida, aes(x=ganancia1), fill=\"green\", color=\"green\") + geom_density(alpha=0.25)  +\n",
        "             geom_density(data=tb_salida, aes(x=ganancia2), fill=\"purple\", color=\"purple\",  alpha=0.10)\n",
        "\n",
        "print(grafico)"
      ],
      "metadata": {
        "id": "6vf28ujAdsE6",
        "outputId": "5e9460c7-6fce-4807-9497-ce7833c53e31",
        "colab": {
          "base_uri": "https://localhost:8080/",
          "height": 541
        }
      },
      "execution_count": 68,
      "outputs": [
        {
          "output_type": "stream",
          "name": "stderr",
          "text": [
            "Warning message in fortify(data, ...):\n",
            "“\u001b[1m\u001b[22mArguments in `...` must be used.\n",
            "\u001b[31m✖\u001b[39m Problematic arguments:\n",
            "\u001b[36m•\u001b[39m fill = \"green\"\n",
            "\u001b[36m•\u001b[39m color = \"green\"\n",
            "\u001b[36mℹ\u001b[39m Did you misspell an argument name?”\n"
          ]
        },
        {
          "output_type": "display_data",
          "data": {
            "text/plain": [
              "plot without title"
            ],
            "image/png": "[encoded data removed]"
          },
          "metadata": {
            "image/png": {
              "width": 420,
              "height": 420
            }
          }
        }
      ]
    },
    {
      "cell_type": "code",
      "source": [
        "# imprimo en un .pdf  que va a la carpeta del experimento\n",
        "pdf(\"densidad_dos.pdf\")\n",
        "print(grafico)\n",
        "dev.off()"
      ],
      "metadata": {
        "id": "TA9lLa6-dsE6",
        "outputId": "841172ed-84d9-4cf2-82e4-c63d2350bc93",
        "colab": {
          "base_uri": "https://localhost:8080/",
          "height": 34
        }
      },
      "execution_count": 69,
      "outputs": [
        {
          "output_type": "display_data",
          "data": {
            "text/html": [
              "<strong>agg_record_744056289:</strong> 2"
            ],
            "text/markdown": "**agg_record_744056289:** 2",
            "text/latex": "\\textbf{agg\\textbackslash{}\\_record\\textbackslash{}\\_744056289:} 2",
            "text/plain": [
              "agg_record_744056289 \n",
              "                   2 "
            ]
          },
          "metadata": {}
        }
      ]
    },
    {
      "cell_type": "code",
      "source": [
        "# medias de las ganancias\n",
        "print( tb_salida[ , list( \"arbol1\" = mean( ganancia1),  \"arbol2\" = mean(ganancia2) ) ] )\n"
      ],
      "metadata": {
        "id": "xAOpyZTqdsE7",
        "outputId": "9900d85e-1ca7-4867-a139-1f45d4d15895",
        "colab": {
          "base_uri": "https://localhost:8080/"
        }
      },
      "execution_count": 70,
      "outputs": [
        {
          "output_type": "stream",
          "name": "stdout",
          "text": [
            "     arbol1   arbol2\n",
            "      <num>    <num>\n",
            "1: 47673000 47592000\n"
          ]
        }
      ]
    },
    {
      "cell_type": "code",
      "source": [
        "# probabilidad que m1 sea mayor a m2\n",
        "print( tb_salida[ , list( \"prob( m1 > m2)\" = sum(ganancia1 > ganancia2 )/ .N ) ]  )"
      ],
      "metadata": {
        "id": "8rdPIcfzgob7",
        "outputId": "5d760a0f-4c3c-408b-dfd5-04e95c335f27",
        "colab": {
          "base_uri": "https://localhost:8080/"
        }
      },
      "execution_count": 71,
      "outputs": [
        {
          "output_type": "stream",
          "name": "stdout",
          "text": [
            "   prob( m1 > m2)\n",
            "            <num>\n",
            "1:           0.54\n"
          ]
        }
      ]
    },
    {
      "cell_type": "markdown",
      "source": [
        "### Acciones a realizar\n",
        "* Reportar la  los resultados en la planilla colaborativa hoja  **C2-dosBuenos**\n"
      ],
      "metadata": {
        "id": "nNNJWYRadsE7"
      }
    },
    {
      "cell_type": "markdown",
      "source": [
        "\n",
        "\n",
        "---\n",
        "\n"
      ],
      "metadata": {
        "id": "LTBEq6SEdsE8"
      }
    },
    {
      "cell_type": "markdown",
      "source": [],
      "metadata": {
        "id": "ebcTZX7Sg1Le"
      }
    },
    {
      "cell_type": "markdown",
      "source": [
        "# 8 Test de Wilcoxon\n",
        "## Clase 02  Experimento 8"
      ],
      "metadata": {
        "id": "RAtn4x6Bg1u1"
      }
    },
    {
      "cell_type": "markdown",
      "source": [],
      "metadata": {
        "id": "RWxjnSsVg_ol"
      }
    },
    {
      "cell_type": "markdown",
      "source": [
        "## 8.1  Objetivos\n",
        "\n",
        "¿Como calcular la cantidad mínima de semillas que hacen falta para tener cierta certeza que un modelo es superior a otro?"
      ],
      "metadata": {
        "id": "Gf0LF3ywhAEU"
      }
    },
    {
      "cell_type": "markdown",
      "source": [
        "## 8.2  Introduccion\n",
        "\n",
        "| Hiperparámetro | Arbol 1 | Arbol 2 |\n",
        "| --- | --: |  ---: |\n",
        "| cp | -1 | -1 |\n",
        "|minsplit | 170 | 250 |\n",
        "|minbucket | 70 | 125 |\n",
        "|maxdepth | 7 | 20 |\n",
        "\n",
        "<br>\n",
        "<br>\n",
        "\n",
        "\n",
        "| ordinal | semilla | ganancia1 | ganancia2 | p-value |\n",
        "| --- | --- |  --- |  --- |  --- |\n",
        "| 1 |378821 | 41,470,000 | 37,790,000 | 1.000 |\n",
        "| 2 | 964333  | 48,480,000  | 43,660,000 | 0.500 |\n",
        "| 3 | 187049 | 50,610,000 | 47,840,000 | 0.250 |\n",
        "| 4 | 205151 | 45,580,000 | 44,490,000 | 0.125 |\n",
        "| 5 | 813697 | 52,780,000 | 46,750,000 |  0.063 |\n",
        "| 6 | 344719 | 49,970,000 | 44,300,000 | 0.031 |\n",
        "|7 |127217  |52,810,000 | 42,840,000 |0.016 |\n",
        "| 8 | 464371 | 43,060,000 | 37,300,000 | 0.008 |\n",
        "| 9 | 645137 | 49,660,000 |43,730,000 | 0.004|\n",
        "\n",
        "\n"
      ],
      "metadata": {
        "id": "k4PJGTDViZne"
      }
    },
    {
      "cell_type": "markdown",
      "source": [
        "## 8.3 Codigo Test de Wilcoxon"
      ],
      "metadata": {
        "id": "gAeSRdWRhg61"
      }
    },
    {
      "cell_type": "code",
      "source": [
        "# 1 sola ganancia\n",
        "wilcox.test(\n",
        "  c(41470000),\n",
        "  c(37790000),\n",
        "  paired = TRUE\n",
        ")\n"
      ],
      "metadata": {
        "id": "6r5M0J0HdsE8",
        "outputId": "d1dd38b2-f2a5-4f02-8256-2adc83a76dd1",
        "colab": {
          "base_uri": "https://localhost:8080/",
          "height": 121
        }
      },
      "execution_count": 72,
      "outputs": [
        {
          "output_type": "display_data",
          "data": {
            "text/plain": [
              "\n",
              "\tWilcoxon signed rank exact test\n",
              "\n",
              "data:  c(41470000) and c(37790000)\n",
              "V = 1, p-value = 1\n",
              "alternative hypothesis: true location shift is not equal to 0\n"
            ]
          },
          "metadata": {}
        }
      ]
    },
    {
      "cell_type": "code",
      "source": [
        "# 2 ganancias\n",
        "wilcox.test(\n",
        "  c(41470000, 48480000),\n",
        "  c(37790000, 43660000),\n",
        "  paired = TRUE\n",
        ")\n"
      ],
      "metadata": {
        "id": "1pscqL9vLzYE",
        "outputId": "1889f443-135c-47bb-fe88-5a1ef4c0dafb",
        "colab": {
          "base_uri": "https://localhost:8080/",
          "height": 121
        }
      },
      "execution_count": 73,
      "outputs": [
        {
          "output_type": "display_data",
          "data": {
            "text/plain": [
              "\n",
              "\tWilcoxon signed rank exact test\n",
              "\n",
              "data:  c(41470000, 48480000) and c(37790000, 43660000)\n",
              "V = 3, p-value = 0.5\n",
              "alternative hypothesis: true location shift is not equal to 0\n"
            ]
          },
          "metadata": {}
        }
      ]
    },
    {
      "cell_type": "code",
      "source": [
        "# 3 ganancias\n",
        "wilcox.test(\n",
        "  c(41470000, 48480000, 50610000),\n",
        "  c(37790000, 43660000, 47840000),\n",
        "  paired = TRUE\n",
        ")"
      ],
      "metadata": {
        "id": "p3f_mtKwhSHA",
        "outputId": "5a223513-e995-42dd-cee4-d71a9e5711be",
        "colab": {
          "base_uri": "https://localhost:8080/",
          "height": 121
        }
      },
      "execution_count": 74,
      "outputs": [
        {
          "output_type": "display_data",
          "data": {
            "text/plain": [
              "\n",
              "\tWilcoxon signed rank exact test\n",
              "\n",
              "data:  c(41470000, 48480000, 50610000) and c(37790000, 43660000, 47840000)\n",
              "V = 6, p-value = 0.25\n",
              "alternative hypothesis: true location shift is not equal to 0\n"
            ]
          },
          "metadata": {}
        }
      ]
    },
    {
      "cell_type": "code",
      "source": [
        "# 4 ganancias\n",
        "wilcox.test(\n",
        "  c(41470000, 48480000, 50610000, 45580000),\n",
        "  c(37790000, 43660000, 47840000, 44490000),\n",
        "  paired = TRUE\n",
        ")\n"
      ],
      "metadata": {
        "id": "-ijX69r9hT6Z",
        "outputId": "f117679e-1e01-486f-f1b0-c30a6ee8da9b",
        "colab": {
          "base_uri": "https://localhost:8080/",
          "height": 121
        }
      },
      "execution_count": 75,
      "outputs": [
        {
          "output_type": "display_data",
          "data": {
            "text/plain": [
              "\n",
              "\tWilcoxon signed rank exact test\n",
              "\n",
              "data:  c(41470000, 48480000, 50610000, 45580000) and c(37790000, 43660000, 47840000, 44490000)\n",
              "V = 10, p-value = 0.125\n",
              "alternative hypothesis: true location shift is not equal to 0\n"
            ]
          },
          "metadata": {}
        }
      ]
    },
    {
      "cell_type": "code",
      "source": [
        "# 5 ganancias\n",
        "wilcox.test(\n",
        "  c(41470000, 48480000, 50610000, 45580000, 52780000),\n",
        "  c(37790000, 43660000, 47840000, 44490000, 46750000),\n",
        "  paired = TRUE\n",
        ")"
      ],
      "metadata": {
        "id": "X9J_CHGehVfr",
        "outputId": "35c9e086-e698-409b-c697-9d499e349d7f",
        "colab": {
          "base_uri": "https://localhost:8080/",
          "height": 121
        }
      },
      "execution_count": 76,
      "outputs": [
        {
          "output_type": "display_data",
          "data": {
            "text/plain": [
              "\n",
              "\tWilcoxon signed rank exact test\n",
              "\n",
              "data:  c(41470000, 48480000, 50610000, 45580000, 52780000) and c(37790000, 43660000, 47840000, 44490000, 46750000)\n",
              "V = 15, p-value = 0.0625\n",
              "alternative hypothesis: true location shift is not equal to 0\n"
            ]
          },
          "metadata": {}
        }
      ]
    },
    {
      "cell_type": "code",
      "source": [
        "# 6 ganancias\n",
        "wilcox.test(\n",
        "  c(41470000, 48480000, 50610000, 45580000, 52780000, 49970000),\n",
        "  c(37790000, 43660000, 47840000, 44490000, 46750000, 44300000),\n",
        "  paired = TRUE\n",
        ")"
      ],
      "metadata": {
        "id": "H3CNNonOhXp0",
        "outputId": "c21ba166-4922-4d1f-da50-a8bb84d89f72",
        "colab": {
          "base_uri": "https://localhost:8080/",
          "height": 121
        }
      },
      "execution_count": 77,
      "outputs": [
        {
          "output_type": "display_data",
          "data": {
            "text/plain": [
              "\n",
              "\tWilcoxon signed rank exact test\n",
              "\n",
              "data:  c(41470000, 48480000, 50610000, 45580000, 52780000, 49970000) and c(37790000, 43660000, 47840000, 44490000, 46750000, 44300000)\n",
              "V = 21, p-value = 0.03125\n",
              "alternative hypothesis: true location shift is not equal to 0\n"
            ]
          },
          "metadata": {}
        }
      ]
    },
    {
      "cell_type": "code",
      "source": [
        "# Finalmente el p-value es  0.03125  < 0.05\n",
        "# hicieron falta  SEIS semillas, seis ganancias, para\n",
        "#   afirmar que el modelo 1 es superior al modelo 2\n",
        "\n",
        "# 7 ganancias\n",
        "wilcox.test(\n",
        "  c(41470000, 48480000, 50610000, 45580000, 52780000, 49970000, 52810000),\n",
        "  c(37790000, 43660000, 47840000, 44490000, 46750000, 44300000, 42840000),\n",
        "  paired = TRUE\n",
        ")\n"
      ],
      "metadata": {
        "id": "NTW8kwY8hamz",
        "outputId": "1a91c72d-d2be-4d56-d668-2a17c448e9bd",
        "colab": {
          "base_uri": "https://localhost:8080/",
          "height": 121
        }
      },
      "execution_count": 78,
      "outputs": [
        {
          "output_type": "display_data",
          "data": {
            "text/plain": [
              "\n",
              "\tWilcoxon signed rank exact test\n",
              "\n",
              "data:  c(41470000, 48480000, 50610000, 45580000, 52780000, 49970000, 52810000) and c(37790000, 43660000, 47840000, 44490000, 46750000, 44300000, 42840000)\n",
              "V = 28, p-value = 0.01563\n",
              "alternative hypothesis: true location shift is not equal to 0\n"
            ]
          },
          "metadata": {}
        }
      ]
    },
    {
      "cell_type": "code",
      "source": [
        "# 8 ganancias\n",
        "wilcox.test(\n",
        "  c(41470000, 48480000, 50610000, 45580000, 52780000, 49970000, 52810000, 43060000),\n",
        "  c(37790000, 43660000, 47840000, 44490000, 46750000, 44300000, 42840000, 37300000),\n",
        "  paired = TRUE\n",
        ")\n"
      ],
      "metadata": {
        "id": "Xks918w8hcgC",
        "outputId": "330313ff-49ce-4fef-9fc0-5cb3e93c6048",
        "colab": {
          "base_uri": "https://localhost:8080/",
          "height": 121
        }
      },
      "execution_count": 79,
      "outputs": [
        {
          "output_type": "display_data",
          "data": {
            "text/plain": [
              "\n",
              "\tWilcoxon signed rank exact test\n",
              "\n",
              "data:  c(41470000, 48480000, 50610000, 45580000, 52780000, 49970000, 52810000, 43060000) and c(37790000, 43660000, 47840000, 44490000, 46750000, 44300000, 42840000, 37300000)\n",
              "V = 36, p-value = 0.007813\n",
              "alternative hypothesis: true location shift is not equal to 0\n"
            ]
          },
          "metadata": {}
        }
      ]
    },
    {
      "cell_type": "code",
      "source": [
        "# 9 ganancias\n",
        "wilcox.test(\n",
        "  c(41470000, 48480000, 50610000, 45580000, 52780000, 49970000, 52810000, 43060000, 49660000),\n",
        "  c(37790000, 43660000, 47840000, 44490000, 46750000, 44300000, 42840000, 37300000, 43730000),\n",
        "  paired = TRUE\n",
        ")"
      ],
      "metadata": {
        "id": "5x8L1PMGhdJR",
        "outputId": "53a4c193-5532-4626-af96-efe2c9b7a7dc",
        "colab": {
          "base_uri": "https://localhost:8080/",
          "height": 138
        }
      },
      "execution_count": 80,
      "outputs": [
        {
          "output_type": "display_data",
          "data": {
            "text/plain": [
              "\n",
              "\tWilcoxon signed rank exact test\n",
              "\n",
              "data:  c(41470000, 48480000, 50610000, 45580000, 52780000, 49970000, 52810000, 43060000, 49660000) and c(37790000, 43660000, 47840000, 44490000, 46750000, 44300000, 42840000, 37300000, 43730000)\n",
              "V = 45, p-value = 0.003906\n",
              "alternative hypothesis: true location shift is not equal to 0\n"
            ]
          },
          "metadata": {}
        }
      ]
    },
    {
      "cell_type": "markdown",
      "source": [
        "\n",
        "\n",
        "---\n",
        "\n"
      ],
      "metadata": {
        "id": "Qjay2WBIkhNm"
      }
    },
    {
      "cell_type": "markdown",
      "source": [
        "# 9 Comparando automaticamente modelos con test de Wilcoxon\n",
        "## Clase 02  Experimento 9"
      ],
      "metadata": {
        "id": "g2aqxlCIk3fk"
      }
    },
    {
      "cell_type": "markdown",
      "source": [],
      "metadata": {
        "id": "FhCY4sH8k3fw"
      }
    },
    {
      "cell_type": "markdown",
      "source": [
        "## 9.1  Objetivos\n",
        "\n",
        "Proveer un script que permita comparar dos arboles de decisión con la librería rpart utilizando la menor cantidad de cómputo que permita el Test de Wilxcoxon"
      ],
      "metadata": {
        "id": "a_ZVBKBHk3fx"
      }
    },
    {
      "cell_type": "markdown",
      "source": [
        "## 9.2  Introduccion\n",
        "\n",
        "| Hiperparámetro | Arbol 1 | Arbol 2 |\n",
        "| --- | --- |  --- |\n",
        "| cp | -1 | -1 |\n",
        "|minsplit | 1050 | 650 |\n",
        "|minbucket | 550 | 300 |\n",
        "|maxdepth |67 | 6 |\n",
        "\n",
        "\n"
      ],
      "metadata": {
        "id": "qCd56L0Ik3fx"
      }
    },
    {
      "cell_type": "markdown",
      "source": [
        "## 9.3 Codigo comparacion automatica Wilcoxon"
      ],
      "metadata": {
        "id": "NBtQsG3vk3fx"
      }
    },
    {
      "cell_type": "markdown",
      "source": [
        "Esta parte se debe correr con el runtime en lenguaje **R** Ir al menu, Runtime -> Change Runtime Tipe -> Runtime type -> R"
      ],
      "metadata": {
        "id": "-ARzDPORlpG6"
      }
    },
    {
      "cell_type": "markdown",
      "source": [
        "limpio el ambiente de R"
      ],
      "metadata": {
        "id": "-Sy-sLMXlpHI"
      }
    },
    {
      "cell_type": "code",
      "source": [
        "# limpio la memoria\n",
        "rm(list=ls(all.names=TRUE)) # remove all objects\n",
        "gc(full=TRUE, verbose=FALSE) # garbage collection"
      ],
      "metadata": {
        "id": "ZpST7lcHlpHI",
        "outputId": "74fdcd5f-f3b3-403a-f9b9-34aab862c028",
        "colab": {
          "base_uri": "https://localhost:8080/",
          "height": 129
        }
      },
      "execution_count": 81,
      "outputs": [
        {
          "output_type": "display_data",
          "data": {
            "text/html": [
              "<table class=\"dataframe\">\n",
              "<caption>A matrix: 2 × 6 of type dbl</caption>\n",
              "<thead>\n",
              "\t<tr><th></th><th scope=col>used</th><th scope=col>(Mb)</th><th scope=col>gc trigger</th><th scope=col>(Mb)</th><th scope=col>max used</th><th scope=col>(Mb)</th></tr>\n",
              "</thead>\n",
              "<tbody>\n",
              "\t<tr><th scope=row>Ncells</th><td>1446913</td><td>77.3</td><td> 2478278</td><td>132.4</td><td>  2478278</td><td>132.4</td></tr>\n",
              "\t<tr><th scope=row>Vcells</th><td>2622725</td><td>20.1</td><td>51229501</td><td>390.9</td><td>104119751</td><td>794.4</td></tr>\n",
              "</tbody>\n",
              "</table>\n"
            ],
            "text/markdown": "\nA matrix: 2 × 6 of type dbl\n\n| <!--/--> | used | (Mb) | gc trigger | (Mb) | max used | (Mb) |\n|---|---|---|---|---|---|---|\n| Ncells | 1446913 | 77.3 |  2478278 | 132.4 |   2478278 | 132.4 |\n| Vcells | 2622725 | 20.1 | 51229501 | 390.9 | 104119751 | 794.4 |\n\n",
            "text/latex": "A matrix: 2 × 6 of type dbl\n\\begin{tabular}{r|llllll}\n  & used & (Mb) & gc trigger & (Mb) & max used & (Mb)\\\\\n\\hline\n\tNcells & 1446913 & 77.3 &  2478278 & 132.4 &   2478278 & 132.4\\\\\n\tVcells & 2622725 & 20.1 & 51229501 & 390.9 & 104119751 & 794.4\\\\\n\\end{tabular}\n",
            "text/plain": [
              "       used    (Mb) gc trigger (Mb)  max used  (Mb) \n",
              "Ncells 1446913 77.3  2478278   132.4   2478278 132.4\n",
              "Vcells 2622725 20.1 51229501   390.9 104119751 794.4"
            ]
          },
          "metadata": {}
        }
      ]
    },
    {
      "cell_type": "markdown",
      "source": [
        "* Instalacion de la libreria  rpart.plot  para dibujar el arbol\n",
        "* invocacion de las librerias  **data.table** y  **rpart**"
      ],
      "metadata": {
        "id": "jHhAx3cvlpHJ"
      }
    },
    {
      "cell_type": "code",
      "source": [
        "# cargo las librerias que necesito\n",
        "require(\"data.table\")\n",
        "require(\"rpart\")\n",
        "require(\"parallel\")\n",
        "\n",
        "if (!require(\"primes\")) install.packages(\"primes\")\n",
        "require(\"primes\")\n",
        "\n",
        "require(\"ggplot2\")"
      ],
      "metadata": {
        "id": "cbPnXeeqlpHJ"
      },
      "execution_count": 82,
      "outputs": []
    },
    {
      "cell_type": "markdown",
      "source": [
        "###  Accion a Realizar\n",
        "PARAM$semilla_primigenia  debe reemplazarse por SU primer semilla"
      ],
      "metadata": {
        "id": "_GQk_NEUlpHK"
      }
    },
    {
      "cell_type": "code",
      "source": [
        "PARAM <- list()\n",
        "PARAM$semilla_primigenia <- 999961\n",
        "PARAM$qsemillas_tope <- 50\n",
        "PARAM$training_pct <- 70L     # entre 1 y 100\n"
      ],
      "metadata": {
        "id": "Do801PIHlpHK"
      },
      "execution_count": 83,
      "outputs": []
    },
    {
      "cell_type": "code",
      "source": [
        "# los dos arboles\n",
        "PARAM$rpart1 <- list (\n",
        "  \"cp\" = -1,\n",
        "  \"minsplit\" = 800,\n",
        "  \"minbucket\" = 400,\n",
        "  \"maxdepth\" = 7\n",
        ")\n",
        "\n",
        "\n",
        "PARAM$rpart2 <- list (\n",
        "  \"cp\" = -1,\n",
        "  \"minsplit\" = 650,\n",
        "  \"minbucket\" = 300,\n",
        "  \"maxdepth\" = 6\n",
        ")\n"
      ],
      "metadata": {
        "id": "KlC7gTc7lpHK"
      },
      "execution_count": 84,
      "outputs": []
    },
    {
      "cell_type": "code",
      "source": [
        "# particionar agrega una columna llamada fold a un dataset\n",
        "#  que consiste en una particion estratificada segun agrupa\n",
        "\n",
        "# particionar( data=dataset, division=c(70,30),\n",
        "#  agrupa=clase_ternaria, seed=semilla)   crea una particion 70, 30\n",
        "\n",
        "particionar <- function(\n",
        "    data, division, agrupa = \"\",\n",
        "    campo = \"fold\", start = 1, seed = NA) {\n",
        "  if (!is.na(seed)) set.seed(seed)\n",
        "\n",
        "  bloque <- unlist(mapply(function(x, y) {\n",
        "    rep(y, x)\n",
        "  }, division, seq(from = start, length.out = length(division))))\n",
        "\n",
        "  data[, (campo) := sample(rep(bloque, ceiling(.N / length(bloque))))[1:.N],\n",
        "    by = agrupa\n",
        "  ]\n",
        "}\n"
      ],
      "metadata": {
        "id": "I7hOkZrxlpHL"
      },
      "execution_count": 85,
      "outputs": []
    },
    {
      "cell_type": "code",
      "source": [
        "DosArbolesEstimarGanancia <- function(semilla, training_pct, param_rpart1, param_rpart2) {\n",
        "  # particiono estratificadamente el dataset\n",
        "  particionar(dataset,\n",
        "    division = c(training_pct, 100L -training_pct),\n",
        "    agrupa = \"clase_ternaria\",\n",
        "    seed = semilla # aqui se usa SU semilla\n",
        "  )\n",
        "\n",
        "  # genero el modelo\n",
        "  # predecir clase_ternaria a partir del resto\n",
        "  modelo1 <- rpart(\"clase_ternaria ~ .\",\n",
        "    data = dataset[fold == 1], # fold==1  es training,  el 70% de los datos\n",
        "    xval = 0,\n",
        "    control = param_rpart1\n",
        "  ) # aqui van los parametros del arbol\n",
        "\n",
        "  # aplico el modelo a los datos de testing\n",
        "  prediccion1 <- predict(modelo1, # el modelo que genere recien\n",
        "    dataset[fold == 2], # fold==2  es testing, el 30% de los datos\n",
        "    type = \"prob\"\n",
        "  ) # type= \"prob\"  es que devuelva la probabilidad\n",
        "\n",
        "\n",
        "  # calculo la ganancia en testing  qu es fold==2\n",
        "  ganancia_test1 <- dataset[\n",
        "    fold == 2,\n",
        "    sum(ifelse(prediccion1[, \"BAJA+2\"] > 0.025,\n",
        "      ifelse(clase_ternaria == \"BAJA+2\", 117000, -3000),\n",
        "      0\n",
        "    ))\n",
        "  ]\n",
        "\n",
        "  # escalo la ganancia como si fuera todo el dataset\n",
        "  ganancia_test_normalizada1 <- ganancia_test1 / (( 100 - training_pct ) / 100 )\n",
        "\n",
        "  modelo2 <- rpart(\"clase_ternaria ~ .\",\n",
        "    data = dataset[fold == 1], # fold==1  es training,  el 70% de los datos\n",
        "    xval = 0,\n",
        "    control = param_rpart2\n",
        "  ) # aqui van los parametros del arbol\n",
        "\n",
        "  # aplico el modelo a los datos de testing\n",
        "  prediccion2 <- predict(modelo2, # el modelo que genere recien\n",
        "    dataset[fold == 2], # fold==2  es testing, el 30% de los datos\n",
        "    type = \"prob\"\n",
        "  ) # type= \"prob\"  es que devuelva la probabilidad\n",
        "\n",
        "\n",
        "  # calculo la ganancia en testing  qu es fold==2\n",
        "  ganancia_test2 <- dataset[\n",
        "    fold == 2,\n",
        "    sum(ifelse(prediccion2[, \"BAJA+2\"] > 0.025,\n",
        "      ifelse(clase_ternaria == \"BAJA+2\", 117000, -3000),\n",
        "      0\n",
        "    ))\n",
        "  ]\n",
        "\n",
        "  # escalo la ganancia como si fuera todo el dataset\n",
        "  ganancia_test_normalizada2 <- ganancia_test2 / (( 100 - training_pct ) / 100 )\n",
        "\n",
        "  return(list(\n",
        "    \"semilla\" = semilla,\n",
        "    \"ganancia1\" = ganancia_test_normalizada1,\n",
        "    \"ganancia2\" = ganancia_test_normalizada2\n",
        "  ))\n",
        "}"
      ],
      "metadata": {
        "id": "vFpBSFBYlpHL"
      },
      "execution_count": 86,
      "outputs": []
    },
    {
      "cell_type": "code",
      "source": [
        "# 1  ->  el modelo 1 es mejor\n",
        "# 2  ->  el modelo 2 es mejor\n",
        "# 0  ->  No se pudo determinar con el tope de qsemillas_tope\n",
        "\n",
        "\n",
        "MejorArbol <- function( qsemillas_tope, training_pct, param_rpart1, param_rpart2) {\n",
        "\n",
        "  # genero numeros primos\n",
        "  primos <- generate_primes(min = 100000, max = 1000000)\n",
        "  set.seed(PARAM$semilla_primigenia) # inicializo\n",
        "  # me quedo con PARAM$qsemillas   semillas\n",
        "  semillas <- sample(primos, qsemillas_tope )\n",
        "\n",
        "  pvalue <- 1.0\n",
        "  isem <- 1\n",
        "  vgan1 <- c() # almaceno ganancias del modelo1\n",
        "  vgan2 <- c() # almaceno ganancias del modelo2\n",
        "\n",
        "  while( (isem <= qsemillas_tope)  & (pvalue > 0.05) ) {\n",
        "\n",
        "    res <- DosArbolesEstimarGanancia(\n",
        "       semillas[ isem ],\n",
        "       training_pct,\n",
        "       param_rpart1,\n",
        "       param_rpart2\n",
        "    )\n",
        "\n",
        "    vgan1 <- c( vgan1, res$ganancia1 )\n",
        "    vgan2 <- c( vgan2, res$ganancia2 )\n",
        "\n",
        "    wt <- wilcox.test( vgan1, vgan2, paired=TRUE )\n",
        "    pvalue <- wt$p.value\n",
        "\n",
        "    cat( isem, res$ganancia1, res$ganancia2, pvalue, \"\\n\" )\n",
        "    flush.console()\n",
        "    isem <- isem + 1\n",
        "  }\n",
        "\n",
        "  out <- 0\n",
        "\n",
        "  if( pvalue < 0.05 & mean(vgan1) > mean(vgan2)  )  out <- 1\n",
        "  if( pvalue < 0.05 & mean(vgan1) < mean(vgan2)  )  out <- 2\n",
        "\n",
        "\n",
        "  return( list( \"out\" = out,\n",
        "    \"qsemillas\" = length(vgan1),\n",
        "    \"m1\" = mean( vgan1 ),\n",
        "    \"m2\" = mean( vgan2 )\n",
        "   ) )\n",
        "}\n"
      ],
      "metadata": {
        "id": "Cp8RnA_NmE8g"
      },
      "execution_count": 87,
      "outputs": []
    },
    {
      "cell_type": "code",
      "source": [
        "# carpeta de trabajo\n",
        "setwd(\"/content/buckets/b1/exp\")\n",
        "experimento <- \"exp209\"\n",
        "dir.create(experimento, showWarnings=FALSE)\n",
        "setwd( paste0(\"/content/buckets/b1/exp/\", experimento ))"
      ],
      "metadata": {
        "id": "r1motpfOlpHM"
      },
      "execution_count": 88,
      "outputs": []
    },
    {
      "cell_type": "code",
      "source": [
        "# lectura del dataset\n",
        "dataset <- fread(\"/content/datasets/dataset_pequeno.csv\")\n",
        "\n",
        "# trabajo solo con los datos con clase, es decir 202107\n",
        "dataset <- dataset[clase_ternaria != \"\"]"
      ],
      "metadata": {
        "id": "hT0LaKWumTSu"
      },
      "execution_count": 89,
      "outputs": []
    },
    {
      "cell_type": "code",
      "source": [
        "Sys.time()\n",
        "\n",
        "comparacion <- MejorArbol(\n",
        "   PARAM$qsemillas_tope,\n",
        "   PARAM$training_pct,\n",
        "   PARAM$rpart1,\n",
        "   PARAM$rpart2\n",
        " )\n",
        "\n",
        "\n",
        "print( comparacion )\n",
        "\n",
        "Sys.time()"
      ],
      "metadata": {
        "id": "wsk0F77ambVW",
        "outputId": "9be7985d-500e-4d95-c3d1-b215ba113c99",
        "colab": {
          "base_uri": "https://localhost:8080/",
          "height": 1000
        }
      },
      "execution_count": 90,
      "outputs": [
        {
          "output_type": "display_data",
          "data": {
            "text/plain": [
              "[1] \"2025-10-13 01:54:44 UTC\""
            ]
          },
          "metadata": {}
        },
        {
          "output_type": "stream",
          "name": "stdout",
          "text": [
            "1 47560000 52340000 1 \n",
            "2 47620000 43510000 1 \n",
            "3 47560000 51010000 0.75 \n",
            "4 50960000 49600000 0.875 \n",
            "5 50450000 50190000 1 \n",
            "6 47410000 49370000 0.6875 \n",
            "7 46750000 48310000 0.46875 \n",
            "8 45950000 45370000 0.546875 \n",
            "9 49030000 46110000 0.8203125 \n",
            "10 49990000 49020000 0.921875 \n",
            "11 54370000 55950000 0.7001953 \n",
            "12 46020000 46760000 0.6220703 \n",
            "13 49870000 48500000 0.7353516 \n",
            "14 50760000 50090000 0.8077393 \n",
            "15 54200000 50570000 0.934082 \n",
            "16 51950000 51090000 0.8208923 \n",
            "17 43920000 42110000 0.6441345 \n",
            "18 44140000 48040000 0.9322815 \n",
            "19 55030000 55250000 0.8905678 \n",
            "20 42010000 44860000 0.9272785 \n"
          ]
        },
        {
          "output_type": "stream",
          "name": "stderr",
          "text": [
            "Warning message in wilcox.test.default(vgan1, vgan2, paired = TRUE):\n",
            "“cannot compute exact p-value with ties”\n"
          ]
        },
        {
          "output_type": "stream",
          "name": "stdout",
          "text": [
            "21 48050000 49410000 0.7943223 \n"
          ]
        },
        {
          "output_type": "stream",
          "name": "stderr",
          "text": [
            "Warning message in wilcox.test.default(vgan1, vgan2, paired = TRUE):\n",
            "“cannot compute exact p-value with ties”\n"
          ]
        },
        {
          "output_type": "stream",
          "name": "stdout",
          "text": [
            "22 46880000 46450000 0.8582731 \n"
          ]
        },
        {
          "output_type": "stream",
          "name": "stderr",
          "text": [
            "Warning message in wilcox.test.default(vgan1, vgan2, paired = TRUE):\n",
            "“cannot compute exact p-value with ties”\n"
          ]
        },
        {
          "output_type": "stream",
          "name": "stdout",
          "text": [
            "23 49630000 52170000 0.6702288 \n"
          ]
        },
        {
          "output_type": "stream",
          "name": "stderr",
          "text": [
            "Warning message in wilcox.test.default(vgan1, vgan2, paired = TRUE):\n",
            "“cannot compute exact p-value with ties”\n"
          ]
        },
        {
          "output_type": "stream",
          "name": "stdout",
          "text": [
            "24 46030000 47270000 0.5676894 \n"
          ]
        },
        {
          "output_type": "stream",
          "name": "stderr",
          "text": [
            "Warning message in wilcox.test.default(vgan1, vgan2, paired = TRUE):\n",
            "“cannot compute exact p-value with ties”\n"
          ]
        },
        {
          "output_type": "stream",
          "name": "stdout",
          "text": [
            "25 47400000 46370000 0.6377177 \n"
          ]
        },
        {
          "output_type": "stream",
          "name": "stderr",
          "text": [
            "Warning message in wilcox.test.default(vgan1, vgan2, paired = TRUE):\n",
            "“cannot compute exact p-value with ties”\n"
          ]
        },
        {
          "output_type": "stream",
          "name": "stdout",
          "text": [
            "26 52410000 53600000 0.5337607 \n"
          ]
        },
        {
          "output_type": "stream",
          "name": "stderr",
          "text": [
            "Warning message in wilcox.test.default(vgan1, vgan2, paired = TRUE):\n",
            "“cannot compute exact p-value with ties”\n"
          ]
        },
        {
          "output_type": "stream",
          "name": "stdout",
          "text": [
            "27 47750000 44670000 0.7365978 \n"
          ]
        },
        {
          "output_type": "stream",
          "name": "stderr",
          "text": [
            "Warning message in wilcox.test.default(vgan1, vgan2, paired = TRUE):\n",
            "“cannot compute exact p-value with ties”\n"
          ]
        },
        {
          "output_type": "stream",
          "name": "stdout",
          "text": [
            "28 51630000 51910000 0.7326652 \n"
          ]
        },
        {
          "output_type": "stream",
          "name": "stderr",
          "text": [
            "Warning message in wilcox.test.default(vgan1, vgan2, paired = TRUE):\n",
            "“cannot compute exact p-value with ties”\n"
          ]
        },
        {
          "output_type": "stream",
          "name": "stdout",
          "text": [
            "29 54150000 53400000 0.8036129 \n"
          ]
        },
        {
          "output_type": "stream",
          "name": "stderr",
          "text": [
            "Warning message in wilcox.test.default(vgan1, vgan2, paired = TRUE):\n",
            "“cannot compute exact p-value with ties”\n"
          ]
        },
        {
          "output_type": "stream",
          "name": "stdout",
          "text": [
            "30 54030000 50610000 1 \n"
          ]
        },
        {
          "output_type": "stream",
          "name": "stderr",
          "text": [
            "Warning message in wilcox.test.default(vgan1, vgan2, paired = TRUE):\n",
            "“cannot compute exact p-value with ties”\n"
          ]
        },
        {
          "output_type": "stream",
          "name": "stdout",
          "text": [
            "31 50490000 50290000 0.9843648 \n"
          ]
        },
        {
          "output_type": "stream",
          "name": "stderr",
          "text": [
            "Warning message in wilcox.test.default(vgan1, vgan2, paired = TRUE):\n",
            "“cannot compute exact p-value with ties”\n"
          ]
        },
        {
          "output_type": "stream",
          "name": "stdout",
          "text": [
            "32 44760000 41470000 0.7934827 \n"
          ]
        },
        {
          "output_type": "stream",
          "name": "stderr",
          "text": [
            "Warning message in wilcox.test.default(vgan1, vgan2, paired = TRUE):\n",
            "“cannot compute exact p-value with ties”\n"
          ]
        },
        {
          "output_type": "stream",
          "name": "stdout",
          "text": [
            "33 51480000 52990000 0.9359137 \n"
          ]
        },
        {
          "output_type": "stream",
          "name": "stderr",
          "text": [
            "Warning message in wilcox.test.default(vgan1, vgan2, paired = TRUE):\n",
            "“cannot compute exact p-value with ties”\n"
          ]
        },
        {
          "output_type": "stream",
          "name": "stdout",
          "text": [
            "34 47070000 48260000 0.9659065 \n"
          ]
        },
        {
          "output_type": "stream",
          "name": "stderr",
          "text": [
            "Warning message in wilcox.test.default(vgan1, vgan2, paired = TRUE):\n",
            "“cannot compute exact p-value with ties”\n"
          ]
        },
        {
          "output_type": "stream",
          "name": "stdout",
          "text": [
            "35 48760000 51630000 0.8186236 \n"
          ]
        },
        {
          "output_type": "stream",
          "name": "stderr",
          "text": [
            "Warning message in wilcox.test.default(vgan1, vgan2, paired = TRUE):\n",
            "“cannot compute exact p-value with ties”\n"
          ]
        },
        {
          "output_type": "stream",
          "name": "stdout",
          "text": [
            "36 55260000 53120000 0.9749329 \n"
          ]
        },
        {
          "output_type": "stream",
          "name": "stderr",
          "text": [
            "Warning message in wilcox.test.default(vgan1, vgan2, paired = TRUE):\n",
            "“cannot compute exact p-value with ties”\n"
          ]
        },
        {
          "output_type": "stream",
          "name": "stdout",
          "text": [
            "37 43810000 41870000 0.8979614 \n"
          ]
        },
        {
          "output_type": "stream",
          "name": "stderr",
          "text": [
            "Warning message in wilcox.test.default(vgan1, vgan2, paired = TRUE):\n",
            "“cannot compute exact p-value with ties”\n"
          ]
        },
        {
          "output_type": "stream",
          "name": "stdout",
          "text": [
            "38 51330000 51710000 0.913385 \n"
          ]
        },
        {
          "output_type": "stream",
          "name": "stderr",
          "text": [
            "Warning message in wilcox.test.default(vgan1, vgan2, paired = TRUE):\n",
            "“cannot compute exact p-value with ties”\n"
          ]
        },
        {
          "output_type": "stream",
          "name": "stdout",
          "text": [
            "39 58590000 60580000 0.9554841 \n"
          ]
        },
        {
          "output_type": "stream",
          "name": "stderr",
          "text": [
            "Warning message in wilcox.test.default(vgan1, vgan2, paired = TRUE):\n",
            "“cannot compute exact p-value with ties”\n"
          ]
        },
        {
          "output_type": "stream",
          "name": "stdout",
          "text": [
            "40 53350000 54350000 0.8718577 \n"
          ]
        },
        {
          "output_type": "stream",
          "name": "stderr",
          "text": [
            "Warning message in wilcox.test.default(vgan1, vgan2, paired = TRUE):\n",
            "“cannot compute exact p-value with ties”\n"
          ]
        },
        {
          "output_type": "stream",
          "name": "stdout",
          "text": [
            "41 45930000 43860000 0.9844917 \n"
          ]
        },
        {
          "output_type": "stream",
          "name": "stderr",
          "text": [
            "Warning message in wilcox.test.default(vgan1, vgan2, paired = TRUE):\n",
            "“cannot compute exact p-value with ties”\n"
          ]
        },
        {
          "output_type": "stream",
          "name": "stdout",
          "text": [
            "42 42970000 45800000 0.8757975 \n"
          ]
        },
        {
          "output_type": "stream",
          "name": "stderr",
          "text": [
            "Warning message in wilcox.test.default(vgan1, vgan2, paired = TRUE):\n",
            "“cannot compute exact p-value with ties”\n"
          ]
        },
        {
          "output_type": "stream",
          "name": "stdout",
          "text": [
            "43 46490000 46530000 0.8752628 \n"
          ]
        },
        {
          "output_type": "stream",
          "name": "stderr",
          "text": [
            "Warning message in wilcox.test.default(vgan1, vgan2, paired = TRUE):\n",
            "“cannot compute exact p-value with ties”\n"
          ]
        },
        {
          "output_type": "stream",
          "name": "stdout",
          "text": [
            "44 51110000 53710000 0.7350306 \n"
          ]
        },
        {
          "output_type": "stream",
          "name": "stderr",
          "text": [
            "Warning message in wilcox.test.default(vgan1, vgan2, paired = TRUE):\n",
            "“cannot compute exact p-value with ties”\n"
          ]
        },
        {
          "output_type": "stream",
          "name": "stdout",
          "text": [
            "45 49620000 55780000 0.561026 \n"
          ]
        },
        {
          "output_type": "stream",
          "name": "stderr",
          "text": [
            "Warning message in wilcox.test.default(vgan1, vgan2, paired = TRUE):\n",
            "“cannot compute exact p-value with ties”\n"
          ]
        },
        {
          "output_type": "stream",
          "name": "stdout",
          "text": [
            "46 50340000 54300000 0.4219592 \n"
          ]
        },
        {
          "output_type": "stream",
          "name": "stderr",
          "text": [
            "Warning message in wilcox.test.default(vgan1, vgan2, paired = TRUE):\n",
            "“cannot compute exact p-value with ties”\n"
          ]
        },
        {
          "output_type": "stream",
          "name": "stdout",
          "text": [
            "47 47950000 50790000 0.3355526 \n"
          ]
        },
        {
          "output_type": "stream",
          "name": "stderr",
          "text": [
            "Warning message in wilcox.test.default(vgan1, vgan2, paired = TRUE):\n",
            "“cannot compute exact p-value with ties”\n"
          ]
        },
        {
          "output_type": "stream",
          "name": "stdout",
          "text": [
            "48 50190000 48460000 0.4119115 \n"
          ]
        },
        {
          "output_type": "stream",
          "name": "stderr",
          "text": [
            "Warning message in wilcox.test.default(vgan1, vgan2, paired = TRUE):\n",
            "“cannot compute exact p-value with ties”\n"
          ]
        },
        {
          "output_type": "stream",
          "name": "stdout",
          "text": [
            "49 53900000 52680000 0.4646966 \n",
            "50 46620000 47320000 0.437101 \n",
            "$out\n",
            "[1] 0\n",
            "\n",
            "$qsemillas\n",
            "[1] 50\n",
            "\n",
            "$m1\n",
            "[1] 49270600\n",
            "\n",
            "$m2\n",
            "[1] 49588200\n",
            "\n"
          ]
        },
        {
          "output_type": "display_data",
          "data": {
            "text/plain": [
              "[1] \"2025-10-13 03:28:50 UTC\""
            ]
          },
          "metadata": {}
        }
      ]
    },
    {
      "cell_type": "markdown",
      "source": [
        "### Acciones a realizar\n",
        "* Reportar la  los resultados en la planilla colaborativa hoja  **C2-Wilcox**\n"
      ],
      "metadata": {
        "id": "d2br1bgJlpHQ"
      }
    },
    {
      "cell_type": "markdown",
      "source": [
        "\n",
        "\n",
        "---\n",
        "\n"
      ],
      "metadata": {
        "id": "x7SebtV2lpHQ"
      }
    }
  ]
}