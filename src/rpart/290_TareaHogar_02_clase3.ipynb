{
  "nbformat": 4,
  "nbformat_minor": 0,
  "metadata": {
    "colab": {
      "provenance": [],
      "include_colab_link": true
    },
    "kernelspec": {
      "name": "ir",
      "display_name": "R"
    },
    "language_info": {
      "name": "R"
    }
  },
  "cells": [
    {
      "cell_type": "markdown",
      "metadata": {
        "id": "view-in-github",
        "colab_type": "text"
      },
      "source": [
        "<a href=\"https://colab.research.google.com/github/patriciasandagorda/labo2025v/blob/main/src/rpart/290_TareaHogar_02_clase3.ipynb\" target=\"_parent\"><img src=\"https://colab.research.google.com/assets/colab-badge.svg\" alt=\"Open In Colab\"/></a>"
      ]
    },
    {
      "cell_type": "markdown",
      "source": [
        "# Tarea para el Hogar 02"
      ],
      "metadata": {
        "id": "F3r8aa3pBigj"
      }
    },
    {
      "cell_type": "markdown",
      "source": [
        "Esta Tarea para el Hogar 02 se entrega el final de la segunda clase\n",
        "<br> se espera de usted que intente avanzar con los desafios propuestos y que los traiga terminados para la Clase 03, ya que se analizarán los resultados"
      ],
      "metadata": {
        "id": "nBm4ktHUBmZt"
      }
    },
    {
      "cell_type": "markdown",
      "source": [
        "##  1. Ensembles de Modelos"
      ],
      "metadata": {
        "id": "TK-M04ElCESC"
      }
    },
    {
      "cell_type": "markdown",
      "source": [
        "Vea el siguiente video [BBC - The Code - The Wisdom of the Crowd](https://www.youtube.com/watch?v=iOucwX7Z1HU)    ( 5 min)\n"
      ],
      "metadata": {
        "id": "biPYxgobCOSS"
      }
    },
    {
      "cell_type": "markdown",
      "source": [
        "Lea los siguientes artículos\n",
        "\n",
        "\n",
        "*   [The Wisdom of Crowds (Vox Populi) by Francis Galton](https://www.all-about-psychology.com/the-wisdom-of-crowds.html)  (10 min)\n",
        "*   [A Gentle Introduction to Ensemble Learning](https://machinelearningmastery.com/what-is-ensemble-learning/)  (10 min)\n",
        "\n"
      ],
      "metadata": {
        "id": "FBszBRyNCcjp"
      }
    },
    {
      "cell_type": "markdown",
      "source": [
        "\n",
        "\n",
        "---\n",
        "\n"
      ],
      "metadata": {
        "id": "x7SebtV2lpHQ"
      }
    },
    {
      "cell_type": "markdown",
      "source": [
        "##  2.  Zero2Hero   primera parte\n",
        "Se han lanzado los primeros fascículos coleccionables llamados \"from Zero to Hero\" que muy detalladamente, paso a paso enseñan todo lo necesario de R para entender los scripts oficiales de la asignatura.\n",
        "Están en el repositorio oficial de la asignatura, carpeta  **src/zero2hero**"
      ],
      "metadata": {
        "id": "NQcY8u2MDSLT"
      }
    },
    {
      "cell_type": "markdown",
      "source": [
        "\n",
        "\n",
        "---\n",
        "\n"
      ],
      "metadata": {
        "id": "GcO0OSiIEAGy"
      }
    },
    {
      "cell_type": "markdown",
      "source": [
        "## 3.  Grid Search"
      ],
      "metadata": {
        "id": "6MStcyn0EBdT"
      }
    },
    {
      "cell_type": "markdown",
      "source": [
        "Busque en internet el precido significado de los hiperparámetros de la librería **rpart**  que está implementando el algoritmo **CART**  Classification and Regression Trees  propuesto en el año 1984 por Leo Brieman:\n",
        "\n",
        "*   cp\n",
        "*   maxdepth\n",
        "*   minsplit\n",
        "*   minbucket\n",
        "\n",
        "Entienda que valores es razonable tome cada hiperparámetro,  en particular profundice en el hiperparámetro  **cp**  y la posibilidad que tome valores negativos.  Es válido consultar a su amigo de *capacidades especiales*  ChatGPT\n"
      ],
      "metadata": {
        "id": "gM8RKXDgEIY0"
      }
    },
    {
      "cell_type": "markdown",
      "source": [
        "En las siguientes celdas a un notebook incompleto, un esqueleto de codigo brindado a modo de facilitarle la tarea de codeo y permitir que su valiosa cognición se concentre temas conceptuales de Ciencia de Datos\n",
        "\n",
        "Modifiquelo agregando loops para que recorra TODOS los hiperparámetros de rpart  < cp, maxdepth, minsplit, minbucket >, y luego póngalo a correr. Recuerde cambiar por SU semilla\n",
        "Tenga muy presente la granularidad que eligirá para cada hiperparámetro."
      ],
      "metadata": {
        "id": "_k7eT3HIFy9y"
      }
    },
    {
      "cell_type": "markdown",
      "source": [
        "### Seteo del ambiente en Google Colab"
      ],
      "metadata": {
        "id": "kmLygy1TYPfg"
      }
    },
    {
      "cell_type": "markdown",
      "source": [
        "Esta parte se debe correr con el runtime en Python3\n",
        "<br>Ir al menu, Runtime -> Change Runtime Tipe -> Runtime type ->  **Python 3**"
      ],
      "metadata": {
        "id": "OikOm5K2YU3X"
      }
    },
    {
      "cell_type": "markdown",
      "source": [
        "Conectar la virtual machine donde esta corriendo Google Colab con el  Google Drive, para poder tener persistencia de archivos"
      ],
      "metadata": {
        "id": "4fmV5LyZdFyI"
      }
    },
    {
      "cell_type": "code",
      "source": [
        "# primero establecer el Runtime de Python 3\n",
        "from google.colab import drive\n",
        "drive.mount('/content/.drive')"
      ],
      "metadata": {
        "id": "ilEZ-bE2VybW",
        "colab": {
          "base_uri": "https://localhost:8080/"
        },
        "outputId": "4748f6c2-8867-46de-fdb1-13efa5eaa7cb"
      },
      "execution_count": null,
      "outputs": [
        {
          "output_type": "stream",
          "name": "stdout",
          "text": [
            "Mounted at /content/.drive\n"
          ]
        }
      ]
    },
    {
      "cell_type": "markdown",
      "source": [
        "Para correr la siguiente celda es fundamental en Arranque en Frio haber copiado el archivo kaggle.json al Google Drive, en la carpeta indicada en el instructivo\n",
        "\n",
        "<br>los siguientes comando estan en shell script de Linux\n",
        "*   Crear las carpetas en el Google Drive\n",
        "*   \"instalar\" el archivo kaggle.json desde el Google Drive a la virtual machine para que pueda ser utilizado por la libreria  kaggle de Python\n",
        "*   Bajar el  **dataset_pequeno**  al  Google Drive  y tambien al disco local de la virtual machine que esta corriendo Google Colab\n",
        "\n"
      ],
      "metadata": {
        "id": "ilaKtqWldeWg"
      }
    },
    {
      "cell_type": "code",
      "source": [
        "%%shell\n",
        "\n",
        "mkdir -p \"/content/.drive/My Drive/labo1\"\n",
        "mkdir -p \"/content/buckets\"\n",
        "ln -s \"/content/.drive/My Drive/labo1\" /content/buckets/b1\n",
        "\n",
        "mkdir -p ~/.kaggle\n",
        "cp /content/buckets/b1/kaggle/kaggle.json  ~/.kaggle\n",
        "chmod 600 ~/.kaggle/kaggle.json\n",
        "\n",
        "\n",
        "mkdir -p /content/buckets/b1/exp\n",
        "mkdir -p /content/buckets/b1/datasets\n",
        "mkdir -p /content/datasets\n",
        "\n",
        "\n",
        "\n",
        "archivo_origen=\"https://storage.googleapis.com/open-courses/austral2025-af91/dataset_pequeno.csv\"\n",
        "archivo_destino=\"/content/datasets/dataset_pequeno.csv\"\n",
        "archivo_destino_bucket=\"/content/buckets/b1/datasets/dataset_pequeno.csv\"\n",
        "\n",
        "if ! test -f $archivo_destino_bucket; then\n",
        "  wget  $archivo_origen  -O $archivo_destino_bucket\n",
        "fi\n",
        "\n",
        "\n",
        "if ! test -f $archivo_destino; then\n",
        "  cp  $archivo_destino_bucket  $archivo_destino\n",
        "fi\n",
        "\n"
      ],
      "metadata": {
        "id": "W8dQFI5QYCFa",
        "colab": {
          "base_uri": "https://localhost:8080/"
        },
        "outputId": "5e8e7e81-67e7-41cd-8d99-b5524f993005"
      },
      "execution_count": null,
      "outputs": [
        {
          "output_type": "execute_result",
          "data": {
            "text/plain": []
          },
          "metadata": {},
          "execution_count": 2
        }
      ]
    },
    {
      "cell_type": "markdown",
      "source": [
        "limpio el ambiente de R"
      ],
      "metadata": {
        "id": "SE94XRhWsxkX"
      }
    },
    {
      "cell_type": "code",
      "source": [
        "# limpio la memoria\n",
        "rm(list=ls(all.names=TRUE)) # remove all objects\n",
        "gc(full=TRUE, verbose=FALSE) # garbage collection"
      ],
      "metadata": {
        "id": "oZG_4br6szlT",
        "colab": {
          "base_uri": "https://localhost:8080/",
          "height": 129
        },
        "outputId": "84b9f821-cf43-4389-e150-702ed4b8f244"
      },
      "execution_count": null,
      "outputs": [
        {
          "output_type": "display_data",
          "data": {
            "text/html": [
              "<table class=\"dataframe\">\n",
              "<caption>A matrix: 2 × 6 of type dbl</caption>\n",
              "<thead>\n",
              "\t<tr><th></th><th scope=col>used</th><th scope=col>(Mb)</th><th scope=col>gc trigger</th><th scope=col>(Mb)</th><th scope=col>max used</th><th scope=col>(Mb)</th></tr>\n",
              "</thead>\n",
              "<tbody>\n",
              "\t<tr><th scope=row>Ncells</th><td> 657248</td><td>35.2</td><td>1454471</td><td>77.7</td><td>1367427</td><td>73.1</td></tr>\n",
              "\t<tr><th scope=row>Vcells</th><td>1220277</td><td> 9.4</td><td>8388608</td><td>64.0</td><td>1975127</td><td>15.1</td></tr>\n",
              "</tbody>\n",
              "</table>\n"
            ],
            "text/markdown": "\nA matrix: 2 × 6 of type dbl\n\n| <!--/--> | used | (Mb) | gc trigger | (Mb) | max used | (Mb) |\n|---|---|---|---|---|---|---|\n| Ncells |  657248 | 35.2 | 1454471 | 77.7 | 1367427 | 73.1 |\n| Vcells | 1220277 |  9.4 | 8388608 | 64.0 | 1975127 | 15.1 |\n\n",
            "text/latex": "A matrix: 2 × 6 of type dbl\n\\begin{tabular}{r|llllll}\n  & used & (Mb) & gc trigger & (Mb) & max used & (Mb)\\\\\n\\hline\n\tNcells &  657248 & 35.2 & 1454471 & 77.7 & 1367427 & 73.1\\\\\n\tVcells & 1220277 &  9.4 & 8388608 & 64.0 & 1975127 & 15.1\\\\\n\\end{tabular}\n",
            "text/plain": [
              "       used    (Mb) gc trigger (Mb) max used (Mb)\n",
              "Ncells  657248 35.2 1454471    77.7 1367427  73.1\n",
              "Vcells 1220277  9.4 8388608    64.0 1975127  15.1"
            ]
          },
          "metadata": {}
        }
      ]
    },
    {
      "cell_type": "code",
      "source": [
        "# cargo las librerias que necesito\n",
        "require(\"data.table\")\n",
        "require(\"rpart\")\n",
        "require(\"parallel\")\n",
        "if (!require(\"primes\")) install.packages(\"primes\")\n",
        "require(\"primes\")"
      ],
      "metadata": {
        "id": "JO-12d7YHkWy",
        "colab": {
          "base_uri": "https://localhost:8080/"
        },
        "outputId": "0dd2cd9a-5765-448f-9752-a1eea559def1"
      },
      "execution_count": null,
      "outputs": [
        {
          "output_type": "stream",
          "name": "stderr",
          "text": [
            "Loading required package: data.table\n",
            "\n",
            "Loading required package: rpart\n",
            "\n",
            "Loading required package: parallel\n",
            "\n",
            "Loading required package: primes\n",
            "\n",
            "Warning message in library(package, lib.loc = lib.loc, character.only = TRUE, logical.return = TRUE, :\n",
            "“there is no package called ‘primes’”\n",
            "Installing package into ‘/usr/local/lib/R/site-library’\n",
            "(as ‘lib’ is unspecified)\n",
            "\n",
            "Loading required package: primes\n",
            "\n"
          ]
        }
      ]
    },
    {
      "cell_type": "markdown",
      "source": [
        "Aqui debe poner SU semiila primigenia"
      ],
      "metadata": {
        "id": "0MclPEJ6Q8Bp"
      }
    },
    {
      "cell_type": "code",
      "source": [
        "PARAM <- list()\n",
        "# reemplazar por su primer semilla\n",
        "PARAM$semilla_primigenia <- 999961\n",
        "PARAM$qsemillas <- 1\n",
        "\n",
        "PARAM$training_pct <- 70L  # entre  1L y 99L\n",
        "\n",
        "# elegir SU dataset comentando/ descomentando\n",
        "PARAM$dataset_nom <- \"~/datasets/dataset_pequeno.csv\""
      ],
      "metadata": {
        "id": "Vt5fC6bWHu5r"
      },
      "execution_count": null,
      "outputs": []
    },
    {
      "cell_type": "code",
      "source": [
        "# particionar agrega una columna llamada fold a un dataset\n",
        "#  que consiste en una particion estratificada segun agrupa\n",
        "# particionar( data=dataset, division=c(70,30), agrupa=clase_ternaria, seed=semilla)\n",
        "#   crea una particion 70, 30\n",
        "\n",
        "particionar <- function(data, division, agrupa = \"\", campo = \"fold\", start = 1, seed = NA) {\n",
        "  if (!is.na(seed)) set.seed(seed)\n",
        "\n",
        "  bloque <- unlist(mapply(function(x, y) {\n",
        "    rep(y, x)\n",
        "  }, division, seq(from = start, length.out = length(division))))\n",
        "\n",
        "  data[, (campo) := sample(rep(bloque, ceiling(.N / length(bloque))))[1:.N],\n",
        "    by = agrupa\n",
        "  ]\n",
        "}\n"
      ],
      "metadata": {
        "id": "Z1dchsrWH4MD"
      },
      "execution_count": null,
      "outputs": []
    },
    {
      "cell_type": "code",
      "source": [
        "ArbolEstimarGanancia <- function(semilla, training_pct, param_basicos) {\n",
        "  # particiono estratificadamente el dataset\n",
        "  particionar(dataset,\n",
        "    division = c(training_pct, 100L -training_pct),\n",
        "    agrupa = \"clase_ternaria\",\n",
        "    seed = semilla # aqui se usa SU semilla\n",
        "  )\n",
        "\n",
        "  # genero el modelo\n",
        "  # predecir clase_ternaria a partir del resto\n",
        "  modelo <- rpart(\"clase_ternaria ~ .\",\n",
        "    data = dataset[fold == 1], # fold==1  es training,  el 70% de los datos\n",
        "    xval = 0,\n",
        "    control = param_basicos\n",
        "  ) # aqui van los parametros del arbol\n",
        "\n",
        "  # aplico el modelo a los datos de testing\n",
        "  prediccion <- predict(modelo, # el modelo que genere recien\n",
        "    dataset[fold == 2], # fold==2  es testing, el 30% de los datos\n",
        "    type = \"prob\"\n",
        "  ) # type= \"prob\"  es que devuelva la probabilidad\n",
        "\n",
        "  # prediccion es una matriz con TRES columnas,\n",
        "  #  llamadas \"BAJA+1\", \"BAJA+2\"  y \"CONTINUA\"\n",
        "  # cada columna es el vector de probabilidades\n",
        "\n",
        "\n",
        "  # calculo la ganancia en testing  qu es fold==2\n",
        "  ganancia_test <- dataset[\n",
        "    fold == 2,\n",
        "    sum(ifelse(prediccion[, \"BAJA+2\"] > 0.025,\n",
        "      ifelse(clase_ternaria == \"BAJA+2\", 117000, -3000),\n",
        "      0\n",
        "    ))\n",
        "  ]\n",
        "\n",
        "  # escalo la ganancia como si fuera todo el dataset\n",
        "  ganancia_test_normalizada <- ganancia_test / (( 100 - PARAM$training_pct ) / 100 )\n",
        "\n",
        "  return(\n",
        "    c( list(\"semilla\" = semilla),\n",
        "      param_basicos,\n",
        "      list( \"ganancia_test\" = ganancia_test_normalizada )\n",
        "     )\n",
        "  )\n",
        "}\n"
      ],
      "metadata": {
        "id": "xsHwS1CzIA70"
      },
      "execution_count": null,
      "outputs": []
    },
    {
      "cell_type": "code",
      "source": [
        "ArbolesMontecarlo <- function(semillas, param_basicos) {\n",
        "\n",
        "  # la funcion mcmapply  llama a la funcion ArbolEstimarGanancia\n",
        "  #  tantas veces como valores tenga el vector  PARAM$semillas\n",
        "  salida <- mcmapply(ArbolEstimarGanancia,\n",
        "    semillas, # paso el vector de semillas\n",
        "    MoreArgs = list(PARAM$training_pct, param_basicos), # aqui paso el segundo parametro\n",
        "    SIMPLIFY = FALSE,\n",
        "    mc.cores = detectCores()\n",
        "  )\n",
        "\n",
        "  return(salida)\n",
        "}\n"
      ],
      "metadata": {
        "id": "BvBVOuhqIEjD"
      },
      "execution_count": null,
      "outputs": []
    },
    {
      "cell_type": "code",
      "source": [
        "# carpeta de trabajo\n",
        "# por fabor cambiar numero de experimento si se cambia el loop principal\n",
        "setwd(\"/content/buckets/b1/exp\")\n",
        "experimento <- \"HT2900\"\n",
        "dir.create(experimento, showWarnings=FALSE)\n",
        "setwd( paste0(\"/content/buckets/b1/exp/\", experimento ))"
      ],
      "metadata": {
        "id": "L-DOGHOjIG7G"
      },
      "execution_count": null,
      "outputs": []
    },
    {
      "cell_type": "code",
      "source": [
        "# lectura del dataset\n",
        "dataset <- fread(\"/content/datasets/dataset_pequeno.csv\")\n",
        "\n",
        "# trabajo solo con los datos con clase, es decir 202107\n",
        "dataset <- dataset[clase_ternaria != \"\"]"
      ],
      "metadata": {
        "id": "NM-mrLWcIPo6"
      },
      "execution_count": null,
      "outputs": []
    },
    {
      "cell_type": "code",
      "source": [
        "\n",
        "# genero numeros primos\n",
        "primos <- generate_primes(min = 100000, max = 1000000)\n",
        "set.seed(PARAM$semilla_primigenia) # inicializo\n",
        "# me quedo con PARAM$qsemillas   semillas\n",
        "PARAM$semillas <- sample(primos, PARAM$qsemillas )\n"
      ],
      "metadata": {
        "id": "tSlY0EcgIWdi"
      },
      "execution_count": null,
      "outputs": []
    },
    {
      "cell_type": "code",
      "source": [
        "# genero la data.table donde van los resultados detallados del Grid Search\n",
        "# un registro para cada combinacion de < semilla, parametros >\n",
        "\n",
        "if(file.exists(\"gridsearch_detalle.txt\")){\n",
        "  tb_grid_search_detalle <- fread(\"gridsearch_detalle.txt\")\n",
        "}else{\n",
        "  tb_grid_search_detalle <- data.table(\n",
        "    semilla = integer(),\n",
        "    cp = numeric(),\n",
        "    maxdepth = integer(),\n",
        "   minsplit = integer(),\n",
        "    minbucket = integer(),\n",
        "    ganancia_test = numeric()\n",
        "  )\n",
        "}\n",
        "\n",
        "nrow( tb_grid_search_detalle )"
      ],
      "metadata": {
        "id": "xxCAwIKyIaTl",
        "colab": {
          "base_uri": "https://localhost:8080/",
          "height": 34
        },
        "outputId": "34af97ee-702f-4fc0-e0fb-a35d0711bb77"
      },
      "execution_count": null,
      "outputs": [
        {
          "output_type": "display_data",
          "data": {
            "text/html": [
              "1296"
            ],
            "text/markdown": "1296",
            "text/latex": "1296",
            "text/plain": [
              "[1] 1296"
            ]
          },
          "metadata": {}
        }
      ]
    },
    {
      "cell_type": "markdown",
      "source": [
        "Esta es la parte del código que usted debe expandir a TODOS los hiperparámetros de rpart,\n",
        "<br>ya que actualmente apenas recorre  maxdepth y  minsplit  dejando fijos  cp=-0.5  y minbucket=5"
      ],
      "metadata": {
        "id": "eAuGBNL8IkOD"
      }
    },
    {
      "cell_type": "code",
      "source": [
        "\n",
        "# itero por los loops anidados para cada hiperparametro\n",
        "iter <- 0\n",
        "\n",
        "for (vmax_depth in c(4, 6, 8, 10, 12, 14)) {\n",
        "  for (vmin_split in c(1000, 800, 600, 400, 200, 100, 50, 20, 10)) {\n",
        "    for (vcp in c(-0.5, -1, 0.001, 0.01, 0.025, 0.05)) {\n",
        "      for (vmin_bucket in c(5, 10, 12, 15, 20, 50)) {\n",
        "    # notar como se agrega\n",
        "\n",
        "    iter <- iter + 1\n",
        "    cat( iter, \" \" )\n",
        "    flush.console()\n",
        "    if( iter*PARAM$qsemillas < nrow(tb_grid_search_detalle)+1 ) next\n",
        "\n",
        "    # vminsplit  minima cantidad de registros en un nodo para hacer el split\n",
        "    param_basicos <- list(\n",
        "      \"cp\" = vcp, # complejidad minima\n",
        "      \"maxdepth\" = vmax_depth, # profundidad máxima del arbol\n",
        "      \"minsplit\" = vmin_split, # tamaño minimo de nodo para hacer split\n",
        "      \"minbucket\" = vmin_bucket # minima cantidad de registros en una hoja\n",
        "    )\n",
        "\n",
        "    # Un solo llamado, con la semilla 17\n",
        "    ganancias <- ArbolesMontecarlo(PARAM$semillas, param_basicos)\n",
        "\n",
        "    # agrego a la tabla\n",
        "    tb_grid_search_detalle <- rbindlist(\n",
        "      list( tb_grid_search_detalle,\n",
        "            rbindlist(ganancias) )\n",
        "    )\n",
        "\n",
        "  }\n",
        "    }\n",
        "  }\n",
        "\n",
        "  # grabo cada vez TODA la tabla en el loop mas externo\n",
        "  fwrite( tb_grid_search_detalle,\n",
        "          file = \"gridsearch_detalle.txt\",\n",
        "          sep = \"\\t\" )\n",
        "}\n"
      ],
      "metadata": {
        "id": "ipLHm3STIfmb",
        "colab": {
          "base_uri": "https://localhost:8080/"
        },
        "outputId": "c8e6fbc2-9020-4245-ee6f-afce235c6035"
      },
      "execution_count": null,
      "outputs": [
        {
          "output_type": "stream",
          "name": "stdout",
          "text": [
            "1  2  3  4  5  6  7  8  9  10  11  12  13  14  15  16  17  18  19  20  21  22  23  24  25  26  27  28  29  30  31  32  33  34  35  36  37  38  39  40  41  42  43  44  45  46  47  48  49  50  51  52  53  54  55  56  57  58  59  60  61  62  63  64  65  66  67  68  69  70  71  72  73  74  75  76  77  78  79  80  81  82  83  84  85  86  87  88  89  90  91  92  93  94  95  96  97  98  99  100  101  102  103  104  105  106  107  108  109  110  111  112  113  114  115  116  117  118  119  120  121  122  123  124  125  126  127  128  129  130  131  132  133  134  135  136  137  138  139  140  141  142  143  144  145  146  147  148  149  150  151  152  153  154  155  156  157  158  159  160  161  162  163  164  165  166  167  168  169  170  171  172  173  174  175  176  177  178  179  180  181  182  183  184  185  186  187  188  189  190  191  192  193  194  195  196  197  198  199  200  201  202  203  204  205  206  207  208  209  210  211  212  213  214  215  216  217  218  219  220  221  222  223  224  225  226  227  228  229  230  231  232  233  234  235  236  237  238  239  240  241  242  243  244  245  246  247  248  249  250  251  252  253  254  255  256  257  258  259  260  261  262  263  264  265  266  267  268  269  270  271  272  273  274  275  276  277  278  279  280  281  282  283  284  285  286  287  288  289  290  291  292  293  294  295  296  297  298  299  300  301  302  303  304  305  306  307  308  309  310  311  312  313  314  315  316  317  318  319  320  321  322  323  324  325  326  327  328  329  330  331  332  333  334  335  336  337  338  339  340  341  342  343  344  345  346  347  348  349  350  351  352  353  354  355  356  357  358  359  360  361  362  363  364  365  366  367  368  369  370  371  372  373  374  375  376  377  378  379  380  381  382  383  384  385  386  387  388  389  390  391  392  393  394  395  396  397  398  399  400  401  402  403  404  405  406  407  408  409  410  411  412  413  414  415  416  417  418  419  420  421  422  423  424  425  426  427  428  429  430  431  432  433  434  435  436  437  438  439  440  441  442  443  444  445  446  447  448  449  450  451  452  453  454  455  456  457  458  459  460  461  462  463  464  465  466  467  468  469  470  471  472  473  474  475  476  477  478  479  480  481  482  483  484  485  486  487  488  489  490  491  492  493  494  495  496  497  498  499  500  501  502  503  504  505  506  507  508  509  510  511  512  513  514  515  516  517  518  519  520  521  522  523  524  525  526  527  528  529  530  531  532  533  534  535  536  537  538  539  540  541  542  543  544  545  546  547  548  549  550  551  552  553  554  555  556  557  558  559  560  561  562  563  564  565  566  567  568  569  570  571  572  573  574  575  576  577  578  579  580  581  582  583  584  585  586  587  588  589  590  591  592  593  594  595  596  597  598  599  600  601  602  603  604  605  606  607  608  609  610  611  612  613  614  615  616  617  618  619  620  621  622  623  624  625  626  627  628  629  630  631  632  633  634  635  636  637  638  639  640  641  642  643  644  645  646  647  648  649  650  651  652  653  654  655  656  657  658  659  660  661  662  663  664  665  666  667  668  669  670  671  672  673  674  675  676  677  678  679  680  681  682  683  684  685  686  687  688  689  690  691  692  693  694  695  696  697  698  699  700  701  702  703  704  705  706  707  708  709  710  711  712  713  714  715  716  717  718  719  720  721  722  723  724  725  726  727  728  729  730  731  732  733  734  735  736  737  738  739  740  741  742  743  744  745  746  747  748  749  750  751  752  753  754  755  756  757  758  759  760  761  762  763  764  765  766  767  768  769  770  771  772  773  774  775  776  777  778  779  780  781  782  783  784  785  786  787  788  789  790  791  792  793  794  795  796  797  798  799  800  801  802  803  804  805  806  807  808  809  810  811  812  813  814  815  816  817  818  819  820  821  822  823  824  825  826  827  828  829  830  831  832  833  834  835  836  837  838  839  840  841  842  843  844  845  846  847  848  849  850  851  852  853  854  855  856  857  858  859  860  861  862  863  864  865  866  867  868  869  870  871  872  873  874  875  876  877  878  879  880  881  882  883  884  885  886  887  888  889  890  891  892  893  894  895  896  897  898  899  900  901  902  903  904  905  906  907  908  909  910  911  912  913  914  915  916  917  918  919  920  921  922  923  924  925  926  927  928  929  930  931  932  933  934  935  936  937  938  939  940  941  942  943  944  945  946  947  948  949  950  951  952  953  954  955  956  957  958  959  960  961  962  963  964  965  966  967  968  969  970  971  972  973  974  975  976  977  978  979  980  981  982  983  984  985  986  987  988  989  990  991  992  993  994  995  996  997  998  999  1000  1001  1002  1003  1004  1005  1006  1007  1008  1009  1010  1011  1012  1013  1014  1015  1016  1017  1018  1019  1020  1021  1022  1023  1024  1025  1026  1027  1028  1029  1030  1031  1032  1033  1034  1035  1036  1037  1038  1039  1040  1041  1042  1043  1044  1045  1046  1047  1048  1049  1050  1051  1052  1053  1054  1055  1056  1057  1058  1059  1060  1061  1062  1063  1064  1065  1066  1067  1068  1069  1070  1071  1072  1073  1074  1075  1076  1077  1078  1079  1080  1081  1082  1083  1084  1085  1086  1087  1088  1089  1090  1091  1092  1093  1094  1095  1096  1097  1098  1099  1100  1101  1102  1103  1104  1105  1106  1107  1108  1109  1110  1111  1112  1113  1114  1115  1116  1117  1118  1119  1120  1121  1122  1123  1124  1125  1126  1127  1128  1129  1130  1131  1132  1133  1134  1135  1136  1137  1138  1139  1140  1141  1142  1143  1144  1145  1146  1147  1148  1149  1150  1151  1152  1153  1154  1155  1156  1157  1158  1159  1160  1161  1162  1163  1164  1165  1166  1167  1168  1169  1170  1171  1172  1173  1174  1175  1176  1177  1178  1179  1180  1181  1182  1183  1184  1185  1186  1187  1188  1189  1190  1191  1192  1193  1194  1195  1196  1197  1198  1199  1200  1201  1202  1203  1204  1205  1206  1207  1208  1209  1210  1211  1212  1213  1214  1215  1216  1217  1218  1219  1220  1221  1222  1223  1224  1225  1226  1227  1228  1229  1230  1231  1232  1233  1234  1235  1236  1237  1238  1239  1240  1241  1242  1243  1244  1245  1246  1247  1248  1249  1250  1251  1252  1253  1254  1255  1256  1257  1258  1259  1260  1261  1262  1263  1264  1265  1266  1267  1268  1269  1270  1271  1272  1273  1274  1275  1276  1277  1278  1279  1280  1281  1282  1283  1284  1285  1286  1287  1288  1289  1290  1291  1292  1293  1294  1295  1296  1297  1298  1299  1300  1301  1302  1303  1304  1305  1306  1307  1308  1309  1310  1311  1312  1313  1314  1315  1316  1317  1318  1319  1320  1321  1322  1323  1324  1325  1326  1327  1328  1329  1330  1331  1332  1333  1334  1335  1336  1337  1338  1339  1340  1341  1342  1343  1344  1345  1346  1347  1348  1349  1350  1351  1352  1353  1354  1355  1356  1357  1358  1359  1360  1361  1362  1363  1364  1365  1366  1367  1368  1369  1370  1371  1372  1373  1374  1375  1376  1377  1378  1379  1380  1381  1382  1383  1384  1385  1386  1387  1388  1389  1390  1391  1392  1393  1394  1395  1396  1397  1398  1399  1400  1401  1402  1403  1404  1405  1406  1407  1408  1409  1410  1411  1412  1413  1414  1415  1416  1417  1418  1419  1420  1421  1422  1423  1424  1425  1426  1427  1428  1429  1430  1431  1432  1433  1434  1435  1436  1437  1438  1439  1440  1441  1442  1443  1444  1445  1446  1447  1448  1449  1450  1451  1452  1453  1454  1455  1456  1457  1458  1459  1460  1461  1462  1463  1464  1465  1466  1467  1468  1469  1470  1471  1472  1473  1474  1475  1476  1477  1478  1479  1480  1481  1482  1483  1484  1485  1486  1487  1488  1489  1490  1491  1492  1493  1494  1495  1496  1497  1498  1499  1500  1501  1502  1503  1504  1505  1506  1507  1508  1509  1510  1511  1512  1513  1514  1515  1516  1517  1518  1519  1520  1521  1522  1523  1524  1525  1526  1527  1528  1529  1530  1531  1532  1533  1534  1535  1536  1537  1538  1539  1540  1541  1542  1543  1544  1545  1546  1547  1548  1549  1550  1551  1552  1553  1554  1555  1556  1557  1558  1559  1560  1561  1562  1563  1564  1565  1566  1567  1568  1569  1570  1571  1572  1573  1574  1575  1576  1577  1578  1579  1580  1581  1582  1583  1584  1585  1586  1587  1588  1589  1590  1591  1592  1593  1594  1595  1596  1597  1598  1599  1600  1601  1602  1603  1604  1605  1606  1607  1608  1609  1610  1611  1612  1613  1614  1615  1616  1617  1618  1619  1620  1621  1622  1623  1624  1625  1626  1627  1628  1629  1630  1631  1632  1633  1634  1635  1636  1637  1638  1639  1640  1641  1642  1643  1644  1645  1646  1647  1648  1649  1650  1651  1652  1653  1654  1655  1656  1657  1658  1659  1660  1661  1662  1663  1664  1665  1666  1667  1668  1669  1670  1671  1672  1673  1674  1675  1676  1677  1678  1679  1680  1681  1682  1683  1684  1685  1686  1687  1688  1689  1690  1691  1692  1693  1694  1695  1696  1697  1698  1699  1700  1701  1702  1703  1704  1705  1706  1707  1708  1709  1710  1711  1712  1713  1714  1715  1716  1717  1718  1719  1720  1721  1722  1723  1724  1725  1726  1727  1728  1729  1730  1731  1732  1733  1734  1735  1736  1737  1738  1739  1740  1741  1742  1743  1744  1745  1746  1747  1748  1749  1750  1751  1752  1753  1754  1755  1756  1757  1758  1759  1760  1761  1762  1763  1764  1765  1766  1767  1768  1769  1770  1771  1772  1773  1774  1775  1776  1777  1778  1779  1780  1781  1782  1783  1784  1785  1786  1787  1788  1789  1790  1791  1792  1793  1794  1795  1796  1797  1798  1799  1800  1801  1802  1803  1804  1805  1806  1807  1808  1809  1810  1811  1812  1813  1814  1815  1816  1817  1818  1819  1820  1821  1822  1823  1824  1825  1826  1827  1828  1829  1830  1831  1832  1833  1834  1835  1836  1837  1838  1839  1840  1841  1842  1843  1844  1845  1846  1847  1848  1849  1850  1851  1852  1853  1854  1855  1856  1857  1858  1859  1860  1861  1862  1863  1864  1865  1866  1867  1868  1869  1870  1871  1872  1873  1874  1875  1876  1877  1878  1879  1880  1881  1882  1883  1884  1885  1886  1887  1888  1889  1890  1891  1892  1893  1894  1895  1896  1897  1898  1899  1900  1901  1902  1903  1904  1905  1906  1907  1908  1909  1910  1911  1912  1913  1914  1915  1916  1917  1918  1919  1920  1921  1922  1923  1924  1925  1926  1927  1928  1929  1930  1931  1932  1933  1934  1935  1936  1937  1938  1939  1940  1941  1942  1943  1944  "
          ]
        }
      ]
    },
    {
      "cell_type": "code",
      "source": [
        "fwrite( tb_grid_search_detalle,\n",
        "   file = \"gridsearch_detalle.txt\",\n",
        "   sep = \"\\t\"\n",
        ")"
      ],
      "metadata": {
        "id": "WZaSqYBxiDFu"
      },
      "execution_count": null,
      "outputs": []
    },
    {
      "cell_type": "code",
      "source": [
        "# cantidad de registros de la tabla\n",
        "nrow(tb_grid_search_detalle)"
      ],
      "metadata": {
        "id": "STp0duM-RYVJ",
        "outputId": "f2c66ad7-56d5-4ba3-b25a-04a907ea9ee6",
        "colab": {
          "base_uri": "https://localhost:8080/",
          "height": 34
        }
      },
      "execution_count": null,
      "outputs": [
        {
          "output_type": "display_data",
          "data": {
            "text/html": [
              "1944"
            ],
            "text/markdown": "1944",
            "text/latex": "1944",
            "text/plain": [
              "[1] 1944"
            ]
          },
          "metadata": {}
        }
      ]
    },
    {
      "cell_type": "code",
      "source": [
        "# muestro la tabla\n",
        "tb_grid_search_detalle"
      ],
      "metadata": {
        "id": "k7fhk_H0iNez",
        "outputId": "8e27ee6f-e21a-4710-faca-1f308b5dd22f",
        "colab": {
          "base_uri": "https://localhost:8080/",
          "height": 1000
        }
      },
      "execution_count": null,
      "outputs": [
        {
          "output_type": "display_data",
          "data": {
            "text/html": [
              "<table class=\"dataframe\">\n",
              "<caption>A data.table: 1944 × 6</caption>\n",
              "<thead>\n",
              "\t<tr><th scope=col>semilla</th><th scope=col>cp</th><th scope=col>maxdepth</th><th scope=col>minsplit</th><th scope=col>minbucket</th><th scope=col>ganancia_test</th></tr>\n",
              "\t<tr><th scope=col>&lt;int&gt;</th><th scope=col>&lt;dbl&gt;</th><th scope=col>&lt;dbl&gt;</th><th scope=col>&lt;dbl&gt;</th><th scope=col>&lt;dbl&gt;</th><th scope=col>&lt;dbl&gt;</th></tr>\n",
              "</thead>\n",
              "<tbody>\n",
              "\t<tr><td>152843</td><td>-0.500</td><td>4</td><td>1000</td><td> 5</td><td>45320000</td></tr>\n",
              "\t<tr><td>152843</td><td>-0.500</td><td>4</td><td>1000</td><td>10</td><td>45320000</td></tr>\n",
              "\t<tr><td>152843</td><td>-0.500</td><td>4</td><td>1000</td><td>12</td><td>45320000</td></tr>\n",
              "\t<tr><td>152843</td><td>-0.500</td><td>4</td><td>1000</td><td>15</td><td>45320000</td></tr>\n",
              "\t<tr><td>152843</td><td>-0.500</td><td>4</td><td>1000</td><td>20</td><td>47380000</td></tr>\n",
              "\t<tr><td>152843</td><td>-0.500</td><td>4</td><td>1000</td><td>50</td><td>47380000</td></tr>\n",
              "\t<tr><td>152843</td><td>-1.000</td><td>4</td><td>1000</td><td> 5</td><td>45320000</td></tr>\n",
              "\t<tr><td>152843</td><td>-1.000</td><td>4</td><td>1000</td><td>10</td><td>45320000</td></tr>\n",
              "\t<tr><td>152843</td><td>-1.000</td><td>4</td><td>1000</td><td>12</td><td>45320000</td></tr>\n",
              "\t<tr><td>152843</td><td>-1.000</td><td>4</td><td>1000</td><td>15</td><td>45320000</td></tr>\n",
              "\t<tr><td>152843</td><td>-1.000</td><td>4</td><td>1000</td><td>20</td><td>47380000</td></tr>\n",
              "\t<tr><td>152843</td><td>-1.000</td><td>4</td><td>1000</td><td>50</td><td>47380000</td></tr>\n",
              "\t<tr><td>152843</td><td> 0.001</td><td>4</td><td>1000</td><td> 5</td><td>       0</td></tr>\n",
              "\t<tr><td>152843</td><td> 0.001</td><td>4</td><td>1000</td><td>10</td><td>       0</td></tr>\n",
              "\t<tr><td>152843</td><td> 0.001</td><td>4</td><td>1000</td><td>12</td><td>       0</td></tr>\n",
              "\t<tr><td>152843</td><td> 0.001</td><td>4</td><td>1000</td><td>15</td><td>       0</td></tr>\n",
              "\t<tr><td>152843</td><td> 0.001</td><td>4</td><td>1000</td><td>20</td><td>       0</td></tr>\n",
              "\t<tr><td>152843</td><td> 0.001</td><td>4</td><td>1000</td><td>50</td><td>       0</td></tr>\n",
              "\t<tr><td>152843</td><td> 0.010</td><td>4</td><td>1000</td><td> 5</td><td>       0</td></tr>\n",
              "\t<tr><td>152843</td><td> 0.010</td><td>4</td><td>1000</td><td>10</td><td>       0</td></tr>\n",
              "\t<tr><td>152843</td><td> 0.010</td><td>4</td><td>1000</td><td>12</td><td>       0</td></tr>\n",
              "\t<tr><td>152843</td><td> 0.010</td><td>4</td><td>1000</td><td>15</td><td>       0</td></tr>\n",
              "\t<tr><td>152843</td><td> 0.010</td><td>4</td><td>1000</td><td>20</td><td>       0</td></tr>\n",
              "\t<tr><td>152843</td><td> 0.010</td><td>4</td><td>1000</td><td>50</td><td>       0</td></tr>\n",
              "\t<tr><td>152843</td><td> 0.025</td><td>4</td><td>1000</td><td> 5</td><td>       0</td></tr>\n",
              "\t<tr><td>152843</td><td> 0.025</td><td>4</td><td>1000</td><td>10</td><td>       0</td></tr>\n",
              "\t<tr><td>152843</td><td> 0.025</td><td>4</td><td>1000</td><td>12</td><td>       0</td></tr>\n",
              "\t<tr><td>152843</td><td> 0.025</td><td>4</td><td>1000</td><td>15</td><td>       0</td></tr>\n",
              "\t<tr><td>152843</td><td> 0.025</td><td>4</td><td>1000</td><td>20</td><td>       0</td></tr>\n",
              "\t<tr><td>152843</td><td> 0.025</td><td>4</td><td>1000</td><td>50</td><td>       0</td></tr>\n",
              "\t<tr><td>⋮</td><td>⋮</td><td>⋮</td><td>⋮</td><td>⋮</td><td>⋮</td></tr>\n",
              "\t<tr><td>152843</td><td>-1.000</td><td>14</td><td>10</td><td> 5</td><td>25240000</td></tr>\n",
              "\t<tr><td>152843</td><td>-1.000</td><td>14</td><td>10</td><td>10</td><td>27220000</td></tr>\n",
              "\t<tr><td>152843</td><td>-1.000</td><td>14</td><td>10</td><td>12</td><td>32560000</td></tr>\n",
              "\t<tr><td>152843</td><td>-1.000</td><td>14</td><td>10</td><td>15</td><td>33400000</td></tr>\n",
              "\t<tr><td>152843</td><td>-1.000</td><td>14</td><td>10</td><td>20</td><td>37020000</td></tr>\n",
              "\t<tr><td>152843</td><td>-1.000</td><td>14</td><td>10</td><td>50</td><td>31320000</td></tr>\n",
              "\t<tr><td>152843</td><td> 0.001</td><td>14</td><td>10</td><td> 5</td><td>38750000</td></tr>\n",
              "\t<tr><td>152843</td><td> 0.001</td><td>14</td><td>10</td><td>10</td><td>39620000</td></tr>\n",
              "\t<tr><td>152843</td><td> 0.001</td><td>14</td><td>10</td><td>12</td><td>40330000</td></tr>\n",
              "\t<tr><td>152843</td><td> 0.001</td><td>14</td><td>10</td><td>15</td><td>40640000</td></tr>\n",
              "\t<tr><td>152843</td><td> 0.001</td><td>14</td><td>10</td><td>20</td><td>42130000</td></tr>\n",
              "\t<tr><td>152843</td><td> 0.001</td><td>14</td><td>10</td><td>50</td><td>       0</td></tr>\n",
              "\t<tr><td>152843</td><td> 0.010</td><td>14</td><td>10</td><td> 5</td><td>       0</td></tr>\n",
              "\t<tr><td>152843</td><td> 0.010</td><td>14</td><td>10</td><td>10</td><td>       0</td></tr>\n",
              "\t<tr><td>152843</td><td> 0.010</td><td>14</td><td>10</td><td>12</td><td>       0</td></tr>\n",
              "\t<tr><td>152843</td><td> 0.010</td><td>14</td><td>10</td><td>15</td><td>       0</td></tr>\n",
              "\t<tr><td>152843</td><td> 0.010</td><td>14</td><td>10</td><td>20</td><td>       0</td></tr>\n",
              "\t<tr><td>152843</td><td> 0.010</td><td>14</td><td>10</td><td>50</td><td>       0</td></tr>\n",
              "\t<tr><td>152843</td><td> 0.025</td><td>14</td><td>10</td><td> 5</td><td>       0</td></tr>\n",
              "\t<tr><td>152843</td><td> 0.025</td><td>14</td><td>10</td><td>10</td><td>       0</td></tr>\n",
              "\t<tr><td>152843</td><td> 0.025</td><td>14</td><td>10</td><td>12</td><td>       0</td></tr>\n",
              "\t<tr><td>152843</td><td> 0.025</td><td>14</td><td>10</td><td>15</td><td>       0</td></tr>\n",
              "\t<tr><td>152843</td><td> 0.025</td><td>14</td><td>10</td><td>20</td><td>       0</td></tr>\n",
              "\t<tr><td>152843</td><td> 0.025</td><td>14</td><td>10</td><td>50</td><td>       0</td></tr>\n",
              "\t<tr><td>152843</td><td> 0.050</td><td>14</td><td>10</td><td> 5</td><td>       0</td></tr>\n",
              "\t<tr><td>152843</td><td> 0.050</td><td>14</td><td>10</td><td>10</td><td>       0</td></tr>\n",
              "\t<tr><td>152843</td><td> 0.050</td><td>14</td><td>10</td><td>12</td><td>       0</td></tr>\n",
              "\t<tr><td>152843</td><td> 0.050</td><td>14</td><td>10</td><td>15</td><td>       0</td></tr>\n",
              "\t<tr><td>152843</td><td> 0.050</td><td>14</td><td>10</td><td>20</td><td>       0</td></tr>\n",
              "\t<tr><td>152843</td><td> 0.050</td><td>14</td><td>10</td><td>50</td><td>       0</td></tr>\n",
              "</tbody>\n",
              "</table>\n"
            ],
            "text/markdown": "\nA data.table: 1944 × 6\n\n| semilla &lt;int&gt; | cp &lt;dbl&gt; | maxdepth &lt;dbl&gt; | minsplit &lt;dbl&gt; | minbucket &lt;dbl&gt; | ganancia_test &lt;dbl&gt; |\n|---|---|---|---|---|---|\n| 152843 | -0.500 | 4 | 1000 |  5 | 45320000 |\n| 152843 | -0.500 | 4 | 1000 | 10 | 45320000 |\n| 152843 | -0.500 | 4 | 1000 | 12 | 45320000 |\n| 152843 | -0.500 | 4 | 1000 | 15 | 45320000 |\n| 152843 | -0.500 | 4 | 1000 | 20 | 47380000 |\n| 152843 | -0.500 | 4 | 1000 | 50 | 47380000 |\n| 152843 | -1.000 | 4 | 1000 |  5 | 45320000 |\n| 152843 | -1.000 | 4 | 1000 | 10 | 45320000 |\n| 152843 | -1.000 | 4 | 1000 | 12 | 45320000 |\n| 152843 | -1.000 | 4 | 1000 | 15 | 45320000 |\n| 152843 | -1.000 | 4 | 1000 | 20 | 47380000 |\n| 152843 | -1.000 | 4 | 1000 | 50 | 47380000 |\n| 152843 |  0.001 | 4 | 1000 |  5 |        0 |\n| 152843 |  0.001 | 4 | 1000 | 10 |        0 |\n| 152843 |  0.001 | 4 | 1000 | 12 |        0 |\n| 152843 |  0.001 | 4 | 1000 | 15 |        0 |\n| 152843 |  0.001 | 4 | 1000 | 20 |        0 |\n| 152843 |  0.001 | 4 | 1000 | 50 |        0 |\n| 152843 |  0.010 | 4 | 1000 |  5 |        0 |\n| 152843 |  0.010 | 4 | 1000 | 10 |        0 |\n| 152843 |  0.010 | 4 | 1000 | 12 |        0 |\n| 152843 |  0.010 | 4 | 1000 | 15 |        0 |\n| 152843 |  0.010 | 4 | 1000 | 20 |        0 |\n| 152843 |  0.010 | 4 | 1000 | 50 |        0 |\n| 152843 |  0.025 | 4 | 1000 |  5 |        0 |\n| 152843 |  0.025 | 4 | 1000 | 10 |        0 |\n| 152843 |  0.025 | 4 | 1000 | 12 |        0 |\n| 152843 |  0.025 | 4 | 1000 | 15 |        0 |\n| 152843 |  0.025 | 4 | 1000 | 20 |        0 |\n| 152843 |  0.025 | 4 | 1000 | 50 |        0 |\n| ⋮ | ⋮ | ⋮ | ⋮ | ⋮ | ⋮ |\n| 152843 | -1.000 | 14 | 10 |  5 | 25240000 |\n| 152843 | -1.000 | 14 | 10 | 10 | 27220000 |\n| 152843 | -1.000 | 14 | 10 | 12 | 32560000 |\n| 152843 | -1.000 | 14 | 10 | 15 | 33400000 |\n| 152843 | -1.000 | 14 | 10 | 20 | 37020000 |\n| 152843 | -1.000 | 14 | 10 | 50 | 31320000 |\n| 152843 |  0.001 | 14 | 10 |  5 | 38750000 |\n| 152843 |  0.001 | 14 | 10 | 10 | 39620000 |\n| 152843 |  0.001 | 14 | 10 | 12 | 40330000 |\n| 152843 |  0.001 | 14 | 10 | 15 | 40640000 |\n| 152843 |  0.001 | 14 | 10 | 20 | 42130000 |\n| 152843 |  0.001 | 14 | 10 | 50 |        0 |\n| 152843 |  0.010 | 14 | 10 |  5 |        0 |\n| 152843 |  0.010 | 14 | 10 | 10 |        0 |\n| 152843 |  0.010 | 14 | 10 | 12 |        0 |\n| 152843 |  0.010 | 14 | 10 | 15 |        0 |\n| 152843 |  0.010 | 14 | 10 | 20 |        0 |\n| 152843 |  0.010 | 14 | 10 | 50 |        0 |\n| 152843 |  0.025 | 14 | 10 |  5 |        0 |\n| 152843 |  0.025 | 14 | 10 | 10 |        0 |\n| 152843 |  0.025 | 14 | 10 | 12 |        0 |\n| 152843 |  0.025 | 14 | 10 | 15 |        0 |\n| 152843 |  0.025 | 14 | 10 | 20 |        0 |\n| 152843 |  0.025 | 14 | 10 | 50 |        0 |\n| 152843 |  0.050 | 14 | 10 |  5 |        0 |\n| 152843 |  0.050 | 14 | 10 | 10 |        0 |\n| 152843 |  0.050 | 14 | 10 | 12 |        0 |\n| 152843 |  0.050 | 14 | 10 | 15 |        0 |\n| 152843 |  0.050 | 14 | 10 | 20 |        0 |\n| 152843 |  0.050 | 14 | 10 | 50 |        0 |\n\n",
            "text/latex": "A data.table: 1944 × 6\n\\begin{tabular}{llllll}\n semilla & cp & maxdepth & minsplit & minbucket & ganancia\\_test\\\\\n <int> & <dbl> & <dbl> & <dbl> & <dbl> & <dbl>\\\\\n\\hline\n\t 152843 & -0.500 & 4 & 1000 &  5 & 45320000\\\\\n\t 152843 & -0.500 & 4 & 1000 & 10 & 45320000\\\\\n\t 152843 & -0.500 & 4 & 1000 & 12 & 45320000\\\\\n\t 152843 & -0.500 & 4 & 1000 & 15 & 45320000\\\\\n\t 152843 & -0.500 & 4 & 1000 & 20 & 47380000\\\\\n\t 152843 & -0.500 & 4 & 1000 & 50 & 47380000\\\\\n\t 152843 & -1.000 & 4 & 1000 &  5 & 45320000\\\\\n\t 152843 & -1.000 & 4 & 1000 & 10 & 45320000\\\\\n\t 152843 & -1.000 & 4 & 1000 & 12 & 45320000\\\\\n\t 152843 & -1.000 & 4 & 1000 & 15 & 45320000\\\\\n\t 152843 & -1.000 & 4 & 1000 & 20 & 47380000\\\\\n\t 152843 & -1.000 & 4 & 1000 & 50 & 47380000\\\\\n\t 152843 &  0.001 & 4 & 1000 &  5 &        0\\\\\n\t 152843 &  0.001 & 4 & 1000 & 10 &        0\\\\\n\t 152843 &  0.001 & 4 & 1000 & 12 &        0\\\\\n\t 152843 &  0.001 & 4 & 1000 & 15 &        0\\\\\n\t 152843 &  0.001 & 4 & 1000 & 20 &        0\\\\\n\t 152843 &  0.001 & 4 & 1000 & 50 &        0\\\\\n\t 152843 &  0.010 & 4 & 1000 &  5 &        0\\\\\n\t 152843 &  0.010 & 4 & 1000 & 10 &        0\\\\\n\t 152843 &  0.010 & 4 & 1000 & 12 &        0\\\\\n\t 152843 &  0.010 & 4 & 1000 & 15 &        0\\\\\n\t 152843 &  0.010 & 4 & 1000 & 20 &        0\\\\\n\t 152843 &  0.010 & 4 & 1000 & 50 &        0\\\\\n\t 152843 &  0.025 & 4 & 1000 &  5 &        0\\\\\n\t 152843 &  0.025 & 4 & 1000 & 10 &        0\\\\\n\t 152843 &  0.025 & 4 & 1000 & 12 &        0\\\\\n\t 152843 &  0.025 & 4 & 1000 & 15 &        0\\\\\n\t 152843 &  0.025 & 4 & 1000 & 20 &        0\\\\\n\t 152843 &  0.025 & 4 & 1000 & 50 &        0\\\\\n\t ⋮ & ⋮ & ⋮ & ⋮ & ⋮ & ⋮\\\\\n\t 152843 & -1.000 & 14 & 10 &  5 & 25240000\\\\\n\t 152843 & -1.000 & 14 & 10 & 10 & 27220000\\\\\n\t 152843 & -1.000 & 14 & 10 & 12 & 32560000\\\\\n\t 152843 & -1.000 & 14 & 10 & 15 & 33400000\\\\\n\t 152843 & -1.000 & 14 & 10 & 20 & 37020000\\\\\n\t 152843 & -1.000 & 14 & 10 & 50 & 31320000\\\\\n\t 152843 &  0.001 & 14 & 10 &  5 & 38750000\\\\\n\t 152843 &  0.001 & 14 & 10 & 10 & 39620000\\\\\n\t 152843 &  0.001 & 14 & 10 & 12 & 40330000\\\\\n\t 152843 &  0.001 & 14 & 10 & 15 & 40640000\\\\\n\t 152843 &  0.001 & 14 & 10 & 20 & 42130000\\\\\n\t 152843 &  0.001 & 14 & 10 & 50 &        0\\\\\n\t 152843 &  0.010 & 14 & 10 &  5 &        0\\\\\n\t 152843 &  0.010 & 14 & 10 & 10 &        0\\\\\n\t 152843 &  0.010 & 14 & 10 & 12 &        0\\\\\n\t 152843 &  0.010 & 14 & 10 & 15 &        0\\\\\n\t 152843 &  0.010 & 14 & 10 & 20 &        0\\\\\n\t 152843 &  0.010 & 14 & 10 & 50 &        0\\\\\n\t 152843 &  0.025 & 14 & 10 &  5 &        0\\\\\n\t 152843 &  0.025 & 14 & 10 & 10 &        0\\\\\n\t 152843 &  0.025 & 14 & 10 & 12 &        0\\\\\n\t 152843 &  0.025 & 14 & 10 & 15 &        0\\\\\n\t 152843 &  0.025 & 14 & 10 & 20 &        0\\\\\n\t 152843 &  0.025 & 14 & 10 & 50 &        0\\\\\n\t 152843 &  0.050 & 14 & 10 &  5 &        0\\\\\n\t 152843 &  0.050 & 14 & 10 & 10 &        0\\\\\n\t 152843 &  0.050 & 14 & 10 & 12 &        0\\\\\n\t 152843 &  0.050 & 14 & 10 & 15 &        0\\\\\n\t 152843 &  0.050 & 14 & 10 & 20 &        0\\\\\n\t 152843 &  0.050 & 14 & 10 & 50 &        0\\\\\n\\end{tabular}\n",
            "text/plain": [
              "     semilla cp     maxdepth minsplit minbucket ganancia_test\n",
              "1    152843  -0.500 4        1000      5        45320000     \n",
              "2    152843  -0.500 4        1000     10        45320000     \n",
              "3    152843  -0.500 4        1000     12        45320000     \n",
              "4    152843  -0.500 4        1000     15        45320000     \n",
              "5    152843  -0.500 4        1000     20        47380000     \n",
              "6    152843  -0.500 4        1000     50        47380000     \n",
              "7    152843  -1.000 4        1000      5        45320000     \n",
              "8    152843  -1.000 4        1000     10        45320000     \n",
              "9    152843  -1.000 4        1000     12        45320000     \n",
              "10   152843  -1.000 4        1000     15        45320000     \n",
              "11   152843  -1.000 4        1000     20        47380000     \n",
              "12   152843  -1.000 4        1000     50        47380000     \n",
              "13   152843   0.001 4        1000      5               0     \n",
              "14   152843   0.001 4        1000     10               0     \n",
              "15   152843   0.001 4        1000     12               0     \n",
              "16   152843   0.001 4        1000     15               0     \n",
              "17   152843   0.001 4        1000     20               0     \n",
              "18   152843   0.001 4        1000     50               0     \n",
              "19   152843   0.010 4        1000      5               0     \n",
              "20   152843   0.010 4        1000     10               0     \n",
              "21   152843   0.010 4        1000     12               0     \n",
              "22   152843   0.010 4        1000     15               0     \n",
              "23   152843   0.010 4        1000     20               0     \n",
              "24   152843   0.010 4        1000     50               0     \n",
              "25   152843   0.025 4        1000      5               0     \n",
              "26   152843   0.025 4        1000     10               0     \n",
              "27   152843   0.025 4        1000     12               0     \n",
              "28   152843   0.025 4        1000     15               0     \n",
              "29   152843   0.025 4        1000     20               0     \n",
              "30   152843   0.025 4        1000     50               0     \n",
              "⋮    ⋮       ⋮      ⋮        ⋮        ⋮         ⋮            \n",
              "1915 152843  -1.000 14       10        5        25240000     \n",
              "1916 152843  -1.000 14       10       10        27220000     \n",
              "1917 152843  -1.000 14       10       12        32560000     \n",
              "1918 152843  -1.000 14       10       15        33400000     \n",
              "1919 152843  -1.000 14       10       20        37020000     \n",
              "1920 152843  -1.000 14       10       50        31320000     \n",
              "1921 152843   0.001 14       10        5        38750000     \n",
              "1922 152843   0.001 14       10       10        39620000     \n",
              "1923 152843   0.001 14       10       12        40330000     \n",
              "1924 152843   0.001 14       10       15        40640000     \n",
              "1925 152843   0.001 14       10       20        42130000     \n",
              "1926 152843   0.001 14       10       50               0     \n",
              "1927 152843   0.010 14       10        5               0     \n",
              "1928 152843   0.010 14       10       10               0     \n",
              "1929 152843   0.010 14       10       12               0     \n",
              "1930 152843   0.010 14       10       15               0     \n",
              "1931 152843   0.010 14       10       20               0     \n",
              "1932 152843   0.010 14       10       50               0     \n",
              "1933 152843   0.025 14       10        5               0     \n",
              "1934 152843   0.025 14       10       10               0     \n",
              "1935 152843   0.025 14       10       12               0     \n",
              "1936 152843   0.025 14       10       15               0     \n",
              "1937 152843   0.025 14       10       20               0     \n",
              "1938 152843   0.025 14       10       50               0     \n",
              "1939 152843   0.050 14       10        5               0     \n",
              "1940 152843   0.050 14       10       10               0     \n",
              "1941 152843   0.050 14       10       12               0     \n",
              "1942 152843   0.050 14       10       15               0     \n",
              "1943 152843   0.050 14       10       20               0     \n",
              "1944 152843   0.050 14       10       50               0     "
            ]
          },
          "metadata": {}
        }
      ]
    },
    {
      "cell_type": "code",
      "source": [
        "# genero y grabo el resumen\n",
        "tb_grid_search <- tb_grid_search_detalle[,\n",
        "  list( \"ganancia_mean\" = mean(ganancia_test),\n",
        "    \"qty\" = .N ),\n",
        "  list( cp, maxdepth, minsplit, minbucket )\n",
        "]\n"
      ],
      "metadata": {
        "id": "DjCxtx8bIsgl"
      },
      "execution_count": null,
      "outputs": []
    },
    {
      "cell_type": "code",
      "source": [
        "# ordeno descendente por ganancia\n",
        "setorder( tb_grid_search, -ganancia_mean )\n"
      ],
      "metadata": {
        "id": "LU29UhL1Ivg5"
      },
      "execution_count": null,
      "outputs": []
    },
    {
      "cell_type": "code",
      "source": [
        "# veo los 10 mejores hiperparámetros\n",
        "tb_grid_search[1:10]"
      ],
      "metadata": {
        "id": "g-EjGY7aIyWL",
        "outputId": "9cb8d8a8-93e6-4331-99a8-2abf4cf81f7f",
        "colab": {
          "base_uri": "https://localhost:8080/",
          "height": 411
        }
      },
      "execution_count": null,
      "outputs": [
        {
          "output_type": "display_data",
          "data": {
            "text/html": [
              "<table class=\"dataframe\">\n",
              "<caption>A data.table: 10 × 6</caption>\n",
              "<thead>\n",
              "\t<tr><th scope=col>cp</th><th scope=col>maxdepth</th><th scope=col>minsplit</th><th scope=col>minbucket</th><th scope=col>ganancia_mean</th><th scope=col>qty</th></tr>\n",
              "\t<tr><th scope=col>&lt;dbl&gt;</th><th scope=col>&lt;dbl&gt;</th><th scope=col>&lt;dbl&gt;</th><th scope=col>&lt;dbl&gt;</th><th scope=col>&lt;dbl&gt;</th><th scope=col>&lt;int&gt;</th></tr>\n",
              "</thead>\n",
              "<tbody>\n",
              "\t<tr><td>-0.5</td><td>8</td><td> 600</td><td>10</td><td>52450000</td><td>1</td></tr>\n",
              "\t<tr><td>-1.0</td><td>8</td><td> 600</td><td>10</td><td>52450000</td><td>1</td></tr>\n",
              "\t<tr><td>-0.5</td><td>8</td><td> 800</td><td>15</td><td>51820000</td><td>1</td></tr>\n",
              "\t<tr><td>-1.0</td><td>8</td><td> 800</td><td>15</td><td>51820000</td><td>1</td></tr>\n",
              "\t<tr><td>-0.5</td><td>8</td><td> 600</td><td>12</td><td>51700000</td><td>1</td></tr>\n",
              "\t<tr><td>-0.5</td><td>8</td><td> 600</td><td>15</td><td>51700000</td><td>1</td></tr>\n",
              "\t<tr><td>-1.0</td><td>8</td><td> 600</td><td>12</td><td>51700000</td><td>1</td></tr>\n",
              "\t<tr><td>-1.0</td><td>8</td><td> 600</td><td>15</td><td>51700000</td><td>1</td></tr>\n",
              "\t<tr><td>-0.5</td><td>6</td><td>1000</td><td>50</td><td>51690000</td><td>1</td></tr>\n",
              "\t<tr><td>-1.0</td><td>6</td><td>1000</td><td>50</td><td>51690000</td><td>1</td></tr>\n",
              "</tbody>\n",
              "</table>\n"
            ],
            "text/markdown": "\nA data.table: 10 × 6\n\n| cp &lt;dbl&gt; | maxdepth &lt;dbl&gt; | minsplit &lt;dbl&gt; | minbucket &lt;dbl&gt; | ganancia_mean &lt;dbl&gt; | qty &lt;int&gt; |\n|---|---|---|---|---|---|\n| -0.5 | 8 |  600 | 10 | 52450000 | 1 |\n| -1.0 | 8 |  600 | 10 | 52450000 | 1 |\n| -0.5 | 8 |  800 | 15 | 51820000 | 1 |\n| -1.0 | 8 |  800 | 15 | 51820000 | 1 |\n| -0.5 | 8 |  600 | 12 | 51700000 | 1 |\n| -0.5 | 8 |  600 | 15 | 51700000 | 1 |\n| -1.0 | 8 |  600 | 12 | 51700000 | 1 |\n| -1.0 | 8 |  600 | 15 | 51700000 | 1 |\n| -0.5 | 6 | 1000 | 50 | 51690000 | 1 |\n| -1.0 | 6 | 1000 | 50 | 51690000 | 1 |\n\n",
            "text/latex": "A data.table: 10 × 6\n\\begin{tabular}{llllll}\n cp & maxdepth & minsplit & minbucket & ganancia\\_mean & qty\\\\\n <dbl> & <dbl> & <dbl> & <dbl> & <dbl> & <int>\\\\\n\\hline\n\t -0.5 & 8 &  600 & 10 & 52450000 & 1\\\\\n\t -1.0 & 8 &  600 & 10 & 52450000 & 1\\\\\n\t -0.5 & 8 &  800 & 15 & 51820000 & 1\\\\\n\t -1.0 & 8 &  800 & 15 & 51820000 & 1\\\\\n\t -0.5 & 8 &  600 & 12 & 51700000 & 1\\\\\n\t -0.5 & 8 &  600 & 15 & 51700000 & 1\\\\\n\t -1.0 & 8 &  600 & 12 & 51700000 & 1\\\\\n\t -1.0 & 8 &  600 & 15 & 51700000 & 1\\\\\n\t -0.5 & 6 & 1000 & 50 & 51690000 & 1\\\\\n\t -1.0 & 6 & 1000 & 50 & 51690000 & 1\\\\\n\\end{tabular}\n",
            "text/plain": [
              "   cp   maxdepth minsplit minbucket ganancia_mean qty\n",
              "1  -0.5 8         600     10        52450000      1  \n",
              "2  -1.0 8         600     10        52450000      1  \n",
              "3  -0.5 8         800     15        51820000      1  \n",
              "4  -1.0 8         800     15        51820000      1  \n",
              "5  -0.5 8         600     12        51700000      1  \n",
              "6  -0.5 8         600     15        51700000      1  \n",
              "7  -1.0 8         600     12        51700000      1  \n",
              "8  -1.0 8         600     15        51700000      1  \n",
              "9  -0.5 6        1000     50        51690000      1  \n",
              "10 -1.0 6        1000     50        51690000      1  "
            ]
          },
          "metadata": {}
        }
      ]
    },
    {
      "cell_type": "code",
      "source": [
        "# genero un id a la tabla\n",
        "tb_grid_search[, id := .I ]\n",
        "\n",
        "fwrite( tb_grid_search,\n",
        "  file = \"gridsearch.txt\",\n",
        "  sep = \"\\t\"\n",
        ")\n"
      ],
      "metadata": {
        "id": "K3S-I2PTI5ZE"
      },
      "execution_count": null,
      "outputs": []
    },
    {
      "cell_type": "markdown",
      "source": [
        "# 4.  Análisis de resultados de Grid Search"
      ],
      "metadata": {
        "id": "1rYHk1YkI_9k"
      }
    },
    {
      "cell_type": "markdown",
      "source": [
        "La salida de la corrida anterior queda en ~/buckets/b1/exp/HT2900  que corresponde a su Google Drive\n",
        "<br>HT significa Hyperparameter Tuning\n",
        "<br>El Grid Search es un método de fuerza bruta de un altísimo costo computacional.\n",
        "<br>Queremos ver si es posible crear un algoritmo de optimización de hiperparámetros que se ahorre recorrer ciertas porciones muy malas del espacio de búsqueda. Algo del estilo “cada vez que pruebo una combinación de hiperparámetros donde  cp > 1 , la ganancia es muy mala, con lo cual ni vale la pena perder el tiempo explorando en esa region”\n"
      ],
      "metadata": {
        "id": "ZTJgPhMWJHTk"
      }
    },
    {
      "cell_type": "markdown",
      "source": [
        "<br>Levante el archivo de salida gridsearch.txt  a una planilla tipo Excel y analícelo detenidamente\n",
        "<br>Ordene por ganancia_mean descendente\n",
        "<br>\n",
        "<br>El de mayor ganancia_mean  decimos que es el primero del ranking\n",
        "En Zulip, correspondiente channel  #Tarea Hogar 02 , topic Analisis Grid Search   intente contestar estas preguntas:\n",
        "\n",
        "* ¿Qué combinaciones de hiperparámetros poseen una ganancia muy buena?\n",
        "* ¿Hay algun hiperparámetro que para cierto valor siempre genera una ganancia muy mala, a independientemente de lo que valgan los otros hiperparámetros ?\n",
        "* ¿Que combinaciones de hiperparámetros es pésima y hubiera sido bueno ahorrarse esas corridas ?\n",
        "\n",
        "( tiempo estimado 30 minutos, dificultad media )"
      ],
      "metadata": {
        "id": "IaVgMu4tPwyB"
      }
    }
  ]
}