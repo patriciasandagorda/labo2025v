{
  "nbformat": 4,
  "nbformat_minor": 0,
  "metadata": {
    "colab": {
      "provenance": [],
      "include_colab_link": true
    },
    "kernelspec": {
      "name": "ir",
      "display_name": "R"
    },
    "language_info": {
      "name": "R"
    }
  },
  "cells": [
    {
      "cell_type": "markdown",
      "metadata": {
        "id": "view-in-github",
        "colab_type": "text"
      },
      "source": [
        "<a href=\"https://colab.research.google.com/github/patriciasandagorda/labo2025v/blob/main/src/ensembles/440_RandomForest.ipynb\" target=\"_parent\"><img src=\"https://colab.research.google.com/assets/colab-badge.svg\" alt=\"Open In Colab\"/></a>"
      ]
    },
    {
      "cell_type": "markdown",
      "source": [
        "# 4. Ensembles de Arboles de Decision"
      ],
      "metadata": {
        "id": "O94qX1svwzoC"
      }
    },
    {
      "cell_type": "markdown",
      "source": [
        "## 4.3 Random Forest"
      ],
      "metadata": {
        "id": "HsJFTcBZw1bE"
      }
    },
    {
      "cell_type": "markdown",
      "source": [
        "*Random Forest* es un algoritmo de ensembles de arboles de decision creado por Leo Brieman en 1995-2006\n",
        "https://link.springer.com/content/pdf/10.1023/a:1010933404324.pdf"
      ],
      "metadata": {
        "id": "nsgvDbemw9Tc"
      }
    },
    {
      "cell_type": "markdown",
      "source": [
        "La página original es:\n",
        "https://www.stat.berkeley.edu/~breiman/RandomForests/cc_home.htm"
      ],
      "metadata": {
        "id": "TcIpXSPvQ_Wy"
      }
    },
    {
      "cell_type": "markdown",
      "source": [
        "Dos buenos videos para seguir el paso a paso de Random Forest y aplicaciones:\n",
        "* https://www.youtube.com/watch?v=J4Wdy0Wc_xQ\n",
        "* https://www.youtube.com/watch?v=sQ870aTKqiM"
      ],
      "metadata": {
        "id": "-8kPyem6Qdb7"
      }
    },
    {
      "cell_type": "markdown",
      "source": [
        "Qué tipo de perturbaciones se realizan en Random Forest\n",
        "\n",
        "*   Se perturba el dataset, con la técnica de bagging = Bootstrap Aggregating\n",
        "*   Tambien se perturba el algoritmo, utiliza random en cada split"
      ],
      "metadata": {
        "id": "F5IdXABcQHY3"
      }
    },
    {
      "cell_type": "markdown",
      "source": [
        "Cada arbolito de Random Forest se entrena sobre un dataset perturbado, que tiene :\n",
        "* todas las columnas originales (esta es una GRAN diferencia con  Arboles Azarosos)\n",
        "* la misma *cantidad* de registros del dataset original, PERO generados por la técnica de sampleo con reposición del dataset original."
      ],
      "metadata": {
        "id": "j75A--Tsx2df"
      }
    },
    {
      "cell_type": "markdown",
      "source": [
        "A pesar de que Leo Brieman es también el inventor de CART (Classification and Regression Trees) Random Forest no corre el algoritmo CART de la libreria rpart, sino un CART perturbado, en donde cada split NO se hace sobre todos los campos del dataset, sino sobre un csubconjunto tomado al azar, esa cantidad es el hiperparámetro *mtry*"
      ],
      "metadata": {
        "id": "lg0-WDkvyObC"
      }
    },
    {
      "cell_type": "markdown",
      "source": [
        "#### 4.3.1  Seteo del ambiente en Google Colab"
      ],
      "metadata": {
        "id": "PX0qg_c0yqob"
      }
    },
    {
      "cell_type": "markdown",
      "metadata": {
        "id": "NGY7H9xza7Zr"
      },
      "source": [
        "Esta parte se debe correr con el runtime en Python3\n",
        "<br>Ir al menu, Runtime -> Change Runtime Type -> Runtime type ->  **Python 3**"
      ]
    },
    {
      "cell_type": "markdown",
      "metadata": {
        "id": "7PupIBNba7Zr"
      },
      "source": [
        "Conectar la virtual machine donde esta corriendo Google Colab con el  Google Drive, para poder tener persistencia de archivos"
      ]
    },
    {
      "cell_type": "code",
      "execution_count": 1,
      "metadata": {
        "id": "9LpZCst5a7Zs",
        "outputId": "04c8e776-1219-4ffe-8f90-b743e062f408",
        "colab": {
          "base_uri": "https://localhost:8080/"
        }
      },
      "outputs": [
        {
          "output_type": "stream",
          "name": "stdout",
          "text": [
            "Mounted at /content/.drive\n"
          ]
        }
      ],
      "source": [
        "# primero establecer el Runtime de Python 3\n",
        "from google.colab import drive\n",
        "drive.mount('/content/.drive')"
      ]
    },
    {
      "cell_type": "markdown",
      "metadata": {
        "id": "JYC_F-wla7Zs"
      },
      "source": [
        "Para correr la siguiente celda es fundamental en Arranque en Frio haber copiado el archivo kaggle.json al Google Drive, en la carpeta indicada en el instructivo\n",
        "\n",
        "<br>los siguientes comando estan en shell script de Linux\n",
        "*   Crear las carpetas en el Google Drive\n",
        "*   \"instalar\" el archivo kaggle.json desde el Google Drive a la virtual machine para que pueda ser utilizado por la libreria  kaggle de Python\n",
        "*   Bajar el  **dataset_pequeno**  al  Google Drive  y tambien al disco local de la virtual machine que esta corriendo Google Colab\n",
        "\n"
      ]
    },
    {
      "cell_type": "code",
      "execution_count": 2,
      "metadata": {
        "id": "XWLelftXa7Zt",
        "outputId": "db4af704-0266-4e62-e471-19e78d5f61ff",
        "colab": {
          "base_uri": "https://localhost:8080/"
        }
      },
      "outputs": [
        {
          "output_type": "execute_result",
          "data": {
            "text/plain": []
          },
          "metadata": {},
          "execution_count": 2
        }
      ],
      "source": [
        "%%shell\n",
        "\n",
        "mkdir -p \"/content/.drive/My Drive/labo1\"\n",
        "mkdir -p \"/content/buckets\"\n",
        "ln -s \"/content/.drive/My Drive/labo1\" /content/buckets/b1\n",
        "\n",
        "mkdir -p ~/.kaggle\n",
        "cp /content/buckets/b1/kaggle/kaggle.json  ~/.kaggle\n",
        "chmod 600 ~/.kaggle/kaggle.json\n",
        "\n",
        "\n",
        "mkdir -p /content/buckets/b1/exp\n",
        "mkdir -p /content/buckets/b1/datasets\n",
        "mkdir -p /content/datasets\n",
        "\n",
        "\n",
        "\n",
        "archivo_origen=\"https://storage.googleapis.com/open-courses/austral2025-af91/dataset_pequeno.csv\"\n",
        "archivo_destino=\"/content/datasets/dataset_pequeno.csv\"\n",
        "archivo_destino_bucket=\"/content/buckets/b1/datasets/dataset_pequeno.csv\"\n",
        "\n",
        "if ! test -f $archivo_destino_bucket; then\n",
        "  wget  $archivo_origen  -O $archivo_destino_bucket\n",
        "fi\n",
        "\n",
        "\n",
        "if ! test -f $archivo_destino; then\n",
        "  cp  $archivo_destino_bucket  $archivo_destino\n",
        "fi\n"
      ]
    },
    {
      "cell_type": "markdown",
      "source": [
        "### 4.4  Random Forest, una corrida"
      ],
      "metadata": {
        "id": "oSKhZRToy2F7"
      }
    },
    {
      "cell_type": "markdown",
      "source": [
        "El tiempo de corrida de este punto es de alrededor de 8 minutos"
      ],
      "metadata": {
        "id": "zvUgQ8s8ReAp"
      }
    },
    {
      "cell_type": "markdown",
      "metadata": {
        "id": "eSU5vi00CPRS"
      },
      "source": [
        "Esta parte se debe correr con el runtime en lenguaje **R** Ir al menu, Runtime -> Change Runtime Type -> Runtime type -> R"
      ]
    },
    {
      "cell_type": "markdown",
      "metadata": {
        "id": "Zq8dySimCPRT"
      },
      "source": [
        "limpio el ambiente de R"
      ]
    },
    {
      "cell_type": "code",
      "source": [
        "format(Sys.time(), \"%a %b %d %X %Y\")"
      ],
      "metadata": {
        "id": "54xgC6vpObNA",
        "outputId": "f7b877ec-ab32-427f-9fd5-4c1d414ca82b",
        "colab": {
          "base_uri": "https://localhost:8080/",
          "height": 34
        }
      },
      "execution_count": 1,
      "outputs": [
        {
          "output_type": "display_data",
          "data": {
            "text/html": [
              "'Wed Oct 29 12:34:24 PM 2025'"
            ],
            "text/markdown": "'Wed Oct 29 12:34:24 PM 2025'",
            "text/latex": "'Wed Oct 29 12:34:24 PM 2025'",
            "text/plain": [
              "[1] \"Wed Oct 29 12:34:24 PM 2025\""
            ]
          },
          "metadata": {}
        }
      ]
    },
    {
      "cell_type": "code",
      "execution_count": 2,
      "metadata": {
        "id": "1iE0U4_WCPRT",
        "outputId": "d87851af-54be-4f10-9234-7a12acd3da6e",
        "colab": {
          "base_uri": "https://localhost:8080/",
          "height": 129
        }
      },
      "outputs": [
        {
          "output_type": "display_data",
          "data": {
            "text/html": [
              "<table class=\"dataframe\">\n",
              "<caption>A matrix: 2 × 6 of type dbl</caption>\n",
              "<thead>\n",
              "\t<tr><th></th><th scope=col>used</th><th scope=col>(Mb)</th><th scope=col>gc trigger</th><th scope=col>(Mb)</th><th scope=col>max used</th><th scope=col>(Mb)</th></tr>\n",
              "</thead>\n",
              "<tbody>\n",
              "\t<tr><th scope=row>Ncells</th><td> 660381</td><td>35.3</td><td>1454460</td><td>77.7</td><td>1454460</td><td>77.7</td></tr>\n",
              "\t<tr><th scope=row>Vcells</th><td>1226627</td><td> 9.4</td><td>8388608</td><td>64.0</td><td>1975128</td><td>15.1</td></tr>\n",
              "</tbody>\n",
              "</table>\n"
            ],
            "text/markdown": "\nA matrix: 2 × 6 of type dbl\n\n| <!--/--> | used | (Mb) | gc trigger | (Mb) | max used | (Mb) |\n|---|---|---|---|---|---|---|\n| Ncells |  660381 | 35.3 | 1454460 | 77.7 | 1454460 | 77.7 |\n| Vcells | 1226627 |  9.4 | 8388608 | 64.0 | 1975128 | 15.1 |\n\n",
            "text/latex": "A matrix: 2 × 6 of type dbl\n\\begin{tabular}{r|llllll}\n  & used & (Mb) & gc trigger & (Mb) & max used & (Mb)\\\\\n\\hline\n\tNcells &  660381 & 35.3 & 1454460 & 77.7 & 1454460 & 77.7\\\\\n\tVcells & 1226627 &  9.4 & 8388608 & 64.0 & 1975128 & 15.1\\\\\n\\end{tabular}\n",
            "text/plain": [
              "       used    (Mb) gc trigger (Mb) max used (Mb)\n",
              "Ncells  660381 35.3 1454460    77.7 1454460  77.7\n",
              "Vcells 1226627  9.4 8388608    64.0 1975128  15.1"
            ]
          },
          "metadata": {}
        }
      ],
      "source": [
        "# limpio la memoria\n",
        "rm(list=ls(all.names=TRUE)) # remove all objects\n",
        "gc(full=TRUE, verbose=FALSE) # garbage collection"
      ]
    },
    {
      "cell_type": "markdown",
      "source": [
        "**ranger** es una de las muchas librerías en lenguage R que implementa el algoritmo *Random Forest*, tiene la ventaja que corre el paralelo, utilizando todos los nucleos del procesador."
      ],
      "metadata": {
        "id": "vOhrxo_s0lhn"
      }
    },
    {
      "cell_type": "code",
      "execution_count": 3,
      "metadata": {
        "id": "BJDwdD0dCPRU",
        "outputId": "43b13e73-0eb4-4ee6-a591-3234c8dea152",
        "colab": {
          "base_uri": "https://localhost:8080/"
        }
      },
      "outputs": [
        {
          "output_type": "stream",
          "name": "stderr",
          "text": [
            "Loading required package: data.table\n",
            "\n",
            "Loading required package: rpart\n",
            "\n",
            "Loading required package: ranger\n",
            "\n",
            "Warning message in library(package, lib.loc = lib.loc, character.only = TRUE, logical.return = TRUE, :\n",
            "“there is no package called ‘ranger’”\n",
            "Installing package into ‘/usr/local/lib/R/site-library’\n",
            "(as ‘lib’ is unspecified)\n",
            "\n",
            "also installing the dependency ‘RcppEigen’\n",
            "\n",
            "\n",
            "Loading required package: ranger\n",
            "\n",
            "Loading required package: randomForest\n",
            "\n",
            "Warning message in library(package, lib.loc = lib.loc, character.only = TRUE, logical.return = TRUE, :\n",
            "“there is no package called ‘randomForest’”\n",
            "Installing package into ‘/usr/local/lib/R/site-library’\n",
            "(as ‘lib’ is unspecified)\n",
            "\n",
            "Loading required package: randomForest\n",
            "\n",
            "randomForest 4.7-1.2\n",
            "\n",
            "Type rfNews() to see new features/changes/bug fixes.\n",
            "\n",
            "\n",
            "Attaching package: ‘randomForest’\n",
            "\n",
            "\n",
            "The following object is masked from ‘package:ranger’:\n",
            "\n",
            "    importance\n",
            "\n",
            "\n"
          ]
        }
      ],
      "source": [
        "# cargo las librerias que necesito\n",
        "require(\"data.table\")\n",
        "require(\"rpart\")\n",
        "\n",
        "# ranger se usa para procesar\n",
        "if( !require(\"ranger\") ) install.packages(\"ranger\")\n",
        "require(\"ranger\")\n",
        "\n",
        "# randomForest  solo se usa para imputar nulos\n",
        "if( !require(\"randomForest\") ) install.packages(\"randomForest\")\n",
        "require(\"randomForest\")"
      ]
    },
    {
      "cell_type": "markdown",
      "source": [
        "Aqui debe cargar SU semilla primigenia y"
      ],
      "metadata": {
        "id": "M8-Pyp6CCPRU"
      }
    },
    {
      "cell_type": "code",
      "source": [
        "PARAM <- list()\n",
        "PARAM$experimento <- 440\n",
        "PARAM$semilla_primigenia <- 999961\n",
        "\n",
        "PARAM$ranger$num.trees <- 300 # cantidad de arboles\n",
        "PARAM$ranger$mtry <- 13 # cantidad de atributos que participan en cada split\n",
        "PARAM$ranger$min.node.size <- 50 # tamaño minimo de las hojas\n",
        "PARAM$ranger$max.depth <- 10 # 0 significa profundidad infinita\n"
      ],
      "metadata": {
        "id": "peRH7ySLCPRV"
      },
      "execution_count": 4,
      "outputs": []
    },
    {
      "cell_type": "code",
      "source": [
        "# carpeta de trabajo\n",
        "setwd(\"/content/buckets/b1/exp\")\n",
        "experimento_folder <- paste0(\"KA\", PARAM$experimento)\n",
        "dir.create(experimento_folder, showWarnings=FALSE)\n",
        "setwd( paste0(\"/content/buckets/b1/exp/\", experimento_folder ))"
      ],
      "metadata": {
        "id": "1gZD6ZMvCPRV"
      },
      "execution_count": 5,
      "outputs": []
    },
    {
      "cell_type": "code",
      "source": [
        "# lectura del dataset\n",
        "dataset <- fread(\"/content/datasets/dataset_pequeno.csv\")"
      ],
      "metadata": {
        "id": "Xi0emX2ECPRV"
      },
      "execution_count": 6,
      "outputs": []
    },
    {
      "cell_type": "code",
      "source": [
        "#  estas dos lineas estan relacionadas con el Data Drifting\n",
        "# asigno un valor muy negativo\n",
        "\n",
        "if( \"Master_Finiciomora\" %in% colnames(dataset) )\n",
        "  dataset[ is.na(Master_Finiciomora) , Master_Finiciomora := -999 ]\n",
        "\n",
        "if( \"Visa_Finiciomora\" %in% colnames(dataset) )\n",
        "  dataset[ is.na(Visa_Finiciomora) , Visa_Finiciomora :=  -999 ]\n"
      ],
      "metadata": {
        "id": "-3XuBeDy1Ugj"
      },
      "execution_count": 7,
      "outputs": []
    },
    {
      "cell_type": "code",
      "source": [
        "# defino los dataset de entrenamiento y aplicacion\n",
        "dtrain <- dataset[foto_mes == 202107]\n",
        "dfuture <- dataset[foto_mes == 202109]"
      ],
      "metadata": {
        "id": "RA3cSJ6KaGwA"
      },
      "execution_count": 8,
      "outputs": []
    },
    {
      "cell_type": "code",
      "source": [
        "set.seed( PARAM$semilla_primigenia ) # Establezco la semilla aleatoria\n",
        "\n",
        "\n",
        "# ranger necesita la clase de tipo factor\n",
        "factorizado <- as.factor(dtrain$clase_ternaria)\n",
        "dtrain[, clase_ternaria := factorizado]"
      ],
      "metadata": {
        "id": "T6Zr06HB1kMU"
      },
      "execution_count": 9,
      "outputs": []
    },
    {
      "cell_type": "code",
      "source": [
        "# Ranger NO acepta valores nulos\n",
        "# Leo Breiman, ¿por que le temias a los nulos?\n",
        "# imputo los nulos, ya que ranger no acepta nulos\n",
        "dtrain <- na.roughfix(dtrain)\n",
        "\n"
      ],
      "metadata": {
        "id": "U2vkkByI1oPl"
      },
      "execution_count": 10,
      "outputs": []
    },
    {
      "cell_type": "code",
      "source": [
        "setorder(dtrain, clase_ternaria) # primero quedan los BAJA+1, BAJA+2, CONTINUA\n",
        "\n",
        "# genero el modelo de Random Forest llamando a ranger()\n",
        "modelo <- ranger(\n",
        "  formula= \"clase_ternaria ~ .\",\n",
        "  data= dtrain,\n",
        "  probability= TRUE, # para que devuelva las probabilidades\n",
        "  num.trees= PARAM$ranger$num.trees,\n",
        "  mtry= PARAM$ranger$mtry,\n",
        "  min.node.size= PARAM$ranger$min.node.size,\n",
        "  max.depth= PARAM$ranger$max.depth\n",
        ")\n"
      ],
      "metadata": {
        "id": "TI9_5pii2zCF",
        "outputId": "fde5aa5e-bb23-43f6-e731-7ccd3be3d488",
        "colab": {
          "base_uri": "https://localhost:8080/"
        }
      },
      "execution_count": 11,
      "outputs": [
        {
          "output_type": "stream",
          "name": "stdout",
          "text": [
            "Growing trees.. Progress: 15%. Estimated remaining time: 2 minutes, 55 seconds.\n",
            "Growing trees.. Progress: 31%. Estimated remaining time: 2 minutes, 20 seconds.\n",
            "Growing trees.. Progress: 46%. Estimated remaining time: 1 minute, 48 seconds.\n",
            "Growing trees.. Progress: 61%. Estimated remaining time: 1 minute, 19 seconds.\n",
            "Growing trees.. Progress: 76%. Estimated remaining time: 49 seconds.\n",
            "Growing trees.. Progress: 90%. Estimated remaining time: 21 seconds.\n"
          ]
        }
      ]
    },
    {
      "cell_type": "code",
      "source": [
        "# Carpinteria necesaria sobre  dfuture\n",
        "# como quiere la Estadistica Clasica, imputar nulos por separado\n",
        "# ( aunque en este caso ya tengo los datos del futuro de antemano\n",
        "#  pero bueno, sigamos el librito de estos fundamentalistas a rajatabla ...\n",
        "\n",
        "dfuture[, clase_ternaria := NULL]\n",
        "dfuture <- na.roughfix(dfuture)"
      ],
      "metadata": {
        "id": "xjWjhp9c20fe"
      },
      "execution_count": 12,
      "outputs": []
    },
    {
      "cell_type": "code",
      "source": [
        "tb_prediccion <- dfuture[, list(numero_de_cliente)]"
      ],
      "metadata": {
        "id": "iJxk4qsd9kgX"
      },
      "execution_count": 13,
      "outputs": []
    },
    {
      "cell_type": "code",
      "source": [
        "# aplico el modelo a los datos que no tienen clase\n",
        "# aplico el modelo recien creado a los datos del futuro\n",
        "prediccion <- predict(modelo, dfuture)\n",
        "\n",
        "tb_prediccion[, prob := prediccion$predictions[, \"BAJA+2\"] ]"
      ],
      "metadata": {
        "id": "kkTGHx2K3Mjq"
      },
      "execution_count": 14,
      "outputs": []
    },
    {
      "cell_type": "code",
      "source": [
        "tb_prediccion[, Predicted := as.numeric(prob > (1/40))]"
      ],
      "metadata": {
        "id": "F8O_PLWo3aIQ"
      },
      "execution_count": 15,
      "outputs": []
    },
    {
      "cell_type": "code",
      "source": [
        "archivo_kaggle <- paste0(\"KA\", PARAM$experimento,\".csv\")\n",
        "\n",
        "# grabo el archivo\n",
        "fwrite( tb_prediccion[, list(numero_de_cliente, Predicted)],\n",
        " file= archivo_kaggle,\n",
        " sep= \",\"\n",
        ")\n"
      ],
      "metadata": {
        "id": "uZLUbDIJ3tbx"
      },
      "execution_count": 16,
      "outputs": []
    },
    {
      "cell_type": "code",
      "source": [
        "# subida a Kaggle\n",
        "comando <- \"kaggle competitions submit\"\n",
        "competencia <- \"-c labo-i-2025-virtual-analista-sr\"\n",
        "arch <- paste( \"-f\", archivo_kaggle)\n",
        "\n",
        "mensaje <- paste0(\"-m 'num.trees=\", PARAM$ranger$num.trees, \"  mtry=\", PARAM$ranger$mtry, \"  min.node.size=\", PARAM$ranger$min.node.size, \" max.depth=\", PARAM$ranger$max.depth, \"'\" )\n",
        "linea <- paste( comando, competencia, arch, mensaje)\n",
        "salida <- system(linea, intern= TRUE)\n",
        "cat(salida)"
      ],
      "metadata": {
        "id": "-hciL1Jn3ThU",
        "outputId": "8e8f68db-52b6-4160-b2b4-6cbd696eefc4",
        "colab": {
          "base_uri": "https://localhost:8080/"
        }
      },
      "execution_count": 17,
      "outputs": [
        {
          "output_type": "stream",
          "name": "stdout",
          "text": [
            "Successfully submitted to LaboI 2025 virtual analista sr"
          ]
        }
      ]
    },
    {
      "cell_type": "code",
      "source": [
        "format(Sys.time(), \"%a %b %d %X %Y\")"
      ],
      "metadata": {
        "id": "CeCMEUCWOpLF",
        "outputId": "7e6390c4-6099-4bb7-d077-b2ebc216e65b",
        "colab": {
          "base_uri": "https://localhost:8080/",
          "height": 34
        }
      },
      "execution_count": 18,
      "outputs": [
        {
          "output_type": "display_data",
          "data": {
            "text/html": [
              "'Wed Oct 29 12:41:23 PM 2025'"
            ],
            "text/markdown": "'Wed Oct 29 12:41:23 PM 2025'",
            "text/latex": "'Wed Oct 29 12:41:23 PM 2025'",
            "text/plain": [
              "[1] \"Wed Oct 29 12:41:23 PM 2025\""
            ]
          },
          "metadata": {}
        }
      ]
    },
    {
      "cell_type": "markdown",
      "metadata": {
        "id": "UMr6Z1enOyd3"
      },
      "source": [
        "\n",
        "\n",
        "---\n",
        "\n"
      ]
    },
    {
      "cell_type": "markdown",
      "source": [
        "### 4.5  Random Forest  optimizacion de hiperparámetros"
      ],
      "metadata": {
        "id": "lO4QwOEU-xPe"
      }
    },
    {
      "cell_type": "markdown",
      "source": [
        "Random Forest es un algoritmo que quedó obsoleto luego de la aparición de  XGBoost y LightGBM, debido a lo lento de las librerías que lo implementan.\n",
        "<br> El siguiente script se brinda simplemente a modo pedagógico, advirtiendo a los alumn@s que demanda más de 24 horas para correr, y los resultados son mediocres."
      ],
      "metadata": {
        "id": "75FU3LjSF2uN"
      }
    },
    {
      "cell_type": "markdown",
      "metadata": {
        "id": "aJBO5Dcb_B7s"
      },
      "source": [
        "limpio el ambiente de R"
      ]
    },
    {
      "cell_type": "code",
      "source": [
        "format(Sys.time(), \"%a %b %d %X %Y\")"
      ],
      "metadata": {
        "id": "Q_E3YLs2Pulh",
        "outputId": "a99f8261-569a-4cf5-fcfe-6174c889be4c",
        "colab": {
          "base_uri": "https://localhost:8080/",
          "height": 34
        }
      },
      "execution_count": 19,
      "outputs": [
        {
          "output_type": "display_data",
          "data": {
            "text/html": [
              "'Wed Oct 29 12:41:23 PM 2025'"
            ],
            "text/markdown": "'Wed Oct 29 12:41:23 PM 2025'",
            "text/latex": "'Wed Oct 29 12:41:23 PM 2025'",
            "text/plain": [
              "[1] \"Wed Oct 29 12:41:23 PM 2025\""
            ]
          },
          "metadata": {}
        }
      ]
    },
    {
      "cell_type": "code",
      "execution_count": 20,
      "metadata": {
        "id": "HPKFI6yP_B7s",
        "outputId": "99e4a6cd-1e13-4822-9f73-f91762e014d8",
        "colab": {
          "base_uri": "https://localhost:8080/",
          "height": 129
        }
      },
      "outputs": [
        {
          "output_type": "display_data",
          "data": {
            "text/html": [
              "<table class=\"dataframe\">\n",
              "<caption>A matrix: 2 × 6 of type dbl</caption>\n",
              "<thead>\n",
              "\t<tr><th></th><th scope=col>used</th><th scope=col>(Mb)</th><th scope=col>gc trigger</th><th scope=col>(Mb)</th><th scope=col>max used</th><th scope=col>(Mb)</th></tr>\n",
              "</thead>\n",
              "<tbody>\n",
              "\t<tr><th scope=row>Ncells</th><td>1880083</td><td>100.5</td><td>  6151590</td><td> 328.6</td><td>  4651909</td><td> 248.5</td></tr>\n",
              "\t<tr><th scope=row>Vcells</th><td>3403492</td><td> 26.0</td><td>157952820</td><td>1205.1</td><td>193125229</td><td>1473.5</td></tr>\n",
              "</tbody>\n",
              "</table>\n"
            ],
            "text/markdown": "\nA matrix: 2 × 6 of type dbl\n\n| <!--/--> | used | (Mb) | gc trigger | (Mb) | max used | (Mb) |\n|---|---|---|---|---|---|---|\n| Ncells | 1880083 | 100.5 |   6151590 |  328.6 |   4651909 |  248.5 |\n| Vcells | 3403492 |  26.0 | 157952820 | 1205.1 | 193125229 | 1473.5 |\n\n",
            "text/latex": "A matrix: 2 × 6 of type dbl\n\\begin{tabular}{r|llllll}\n  & used & (Mb) & gc trigger & (Mb) & max used & (Mb)\\\\\n\\hline\n\tNcells & 1880083 & 100.5 &   6151590 &  328.6 &   4651909 &  248.5\\\\\n\tVcells & 3403492 &  26.0 & 157952820 & 1205.1 & 193125229 & 1473.5\\\\\n\\end{tabular}\n",
            "text/plain": [
              "       used    (Mb)  gc trigger (Mb)   max used  (Mb)  \n",
              "Ncells 1880083 100.5   6151590   328.6   4651909  248.5\n",
              "Vcells 3403492  26.0 157952820  1205.1 193125229 1473.5"
            ]
          },
          "metadata": {}
        }
      ],
      "source": [
        "# limpio la memoria\n",
        "rm(list=ls(all.names=TRUE)) # remove all objects\n",
        "gc(full=TRUE, verbose=FALSE) # garbage collection"
      ]
    },
    {
      "cell_type": "markdown",
      "source": [
        "**ranger** es una de las muchas librerías en lenguage R que implementa el algoritmo *Random Forest*, tiene la ventaja que corre el paralelo, utilizando todos los nucleos del procesador."
      ],
      "metadata": {
        "id": "vd4lv_Eb_B7t"
      }
    },
    {
      "cell_type": "code",
      "execution_count": 21,
      "metadata": {
        "id": "B6X8U6XF_B7t",
        "outputId": "82c2e062-084b-45ae-a94c-0f28c136294f",
        "colab": {
          "base_uri": "https://localhost:8080/"
        }
      },
      "outputs": [
        {
          "output_type": "stream",
          "name": "stderr",
          "text": [
            "Loading required package: parallel\n",
            "\n",
            "Loading required package: primes\n",
            "\n",
            "Warning message in library(package, lib.loc = lib.loc, character.only = TRUE, logical.return = TRUE, :\n",
            "“there is no package called ‘primes’”\n",
            "Installing package into ‘/usr/local/lib/R/site-library’\n",
            "(as ‘lib’ is unspecified)\n",
            "\n",
            "Loading required package: primes\n",
            "\n",
            "Loading required package: rlist\n",
            "\n",
            "Warning message in library(package, lib.loc = lib.loc, character.only = TRUE, logical.return = TRUE, :\n",
            "“there is no package called ‘rlist’”\n",
            "Installing package into ‘/usr/local/lib/R/site-library’\n",
            "(as ‘lib’ is unspecified)\n",
            "\n",
            "also installing the dependency ‘XML’\n",
            "\n",
            "\n",
            "Loading required package: rlist\n",
            "\n",
            "Loading required package: DiceKriging\n",
            "\n",
            "Warning message in library(package, lib.loc = lib.loc, character.only = TRUE, logical.return = TRUE, :\n",
            "“there is no package called ‘DiceKriging’”\n",
            "Installing package into ‘/usr/local/lib/R/site-library’\n",
            "(as ‘lib’ is unspecified)\n",
            "\n",
            "Loading required package: DiceKriging\n",
            "\n",
            "Loading required package: mlrMBO\n",
            "\n",
            "Warning message in library(package, lib.loc = lib.loc, character.only = TRUE, logical.return = TRUE, :\n",
            "“there is no package called ‘mlrMBO’”\n",
            "Installing package into ‘/usr/local/lib/R/site-library’\n",
            "(as ‘lib’ is unspecified)\n",
            "\n",
            "also installing the dependencies ‘fastmatch’, ‘RcppArmadillo’, ‘mlr’, ‘ParamHelpers’, ‘smoof’, ‘BBmisc’, ‘checkmate’, ‘lhs’, ‘parallelMap’\n",
            "\n",
            "\n",
            "Loading required package: mlrMBO\n",
            "\n",
            "Loading required package: mlr\n",
            "\n",
            "Loading required package: ParamHelpers\n",
            "\n",
            "Loading required package: smoof\n",
            "\n",
            "Loading required package: checkmate\n",
            "\n",
            "\n",
            "Attaching package: ‘checkmate’\n",
            "\n",
            "\n",
            "The following object is masked from ‘package:DiceKriging’:\n",
            "\n",
            "    checkNames\n",
            "\n",
            "\n"
          ]
        }
      ],
      "source": [
        "# cargo las librerias que necesito\n",
        "require(\"data.table\")\n",
        "require(\"rpart\")\n",
        "require(\"parallel\")\n",
        "\n",
        "if( !require(\"primes\") ) install.packages(\"primes\")\n",
        "require(\"primes\")\n",
        "\n",
        "if( !require(\"rlist\") ) install.packages(\"rlist\")\n",
        "require(\"rlist\")\n",
        "\n",
        "# ranger se usa para procesar\n",
        "if( !require(\"ranger\") ) install.packages(\"ranger\")\n",
        "require(\"ranger\")\n",
        "\n",
        "# randomForest  solo se usa para imputar nulos\n",
        "if( !require(\"randomForest\") ) install.packages(\"randomForest\")\n",
        "require(\"randomForest\")\n",
        "\n",
        "\n",
        "if( !require(\"DiceKriging\") ) install.packages(\"DiceKriging\")\n",
        "require(\"DiceKriging\")\n",
        "\n",
        "if( !require(\"mlrMBO\") ) install.packages(\"mlrMBO\")\n",
        "require(\"mlrMBO\")\n"
      ]
    },
    {
      "cell_type": "markdown",
      "source": [
        "Aqui debe cargar SU semilla primigenia y"
      ],
      "metadata": {
        "id": "_qZHeAHdCJQ2"
      }
    },
    {
      "cell_type": "code",
      "source": [
        "PARAM <- list()\n",
        "PARAM$experimento <- 450\n",
        "PARAM$semilla_primigenia <- 999961\n",
        "\n",
        "PARAM$hyperparametertuning$iteraciones <- 100\n",
        "PARAM$hyperparametertuning$xval_folds <- 5\n",
        "PARAM$hyperparametertuning$POS_ganancia <- 117000\n",
        "PARAM$hyperparametertuning$NEG_ganancia <- -3000\n",
        "\n",
        "# Estructura que define los hiperparámetros y sus rangos\n",
        "#  la letra L al final significa ENTERO\n",
        "# max.depth 0 significa profundidad infinita\n",
        "PARAM$hyperparametertuning$hs <- makeParamSet(\n",
        "  makeIntegerParam(\"num.trees\", lower= 20L, upper= 500L),\n",
        "  makeIntegerParam(\"max.depth\", lower= 1L, upper= 30L),\n",
        "  makeIntegerParam(\"min.node.size\", lower= 1L, upper= 1000L),\n",
        "  makeIntegerParam(\"mtry\", lower= 2L, upper= 50L)\n",
        ")"
      ],
      "metadata": {
        "id": "2y3Ai8F6CJQ2"
      },
      "execution_count": 22,
      "outputs": []
    },
    {
      "cell_type": "code",
      "source": [
        "# graba a un archivo los componentes de lista\n",
        "# para el primer registro, escribe antes los titulos\n",
        "\n",
        "loguear <- function(\n",
        "    reg, arch= NA, folder= \"./work/\",\n",
        "    ext= \".txt\", verbose= TRUE) {\n",
        "\n",
        "  archivo <- arch\n",
        "  if (is.na(arch)) archivo <- paste0(folder, substitute(reg), ext)\n",
        "\n",
        "  if (!file.exists(archivo)) # Escribo los titulos\n",
        "    {\n",
        "      linea <- paste0(\n",
        "        \"fecha\\t\",\n",
        "        paste(list.names(reg), collapse= \"\\t\"), \"\\n\"\n",
        "      )\n",
        "\n",
        "      cat(linea, file= archivo)\n",
        "    }\n",
        "\n",
        "  linea <- paste0(\n",
        "    format(Sys.time(), \"%Y%m%d %H%M%S\"), \"\\t\", # la fecha y hora\n",
        "    gsub(\", \", \"\\t\", toString(reg)), \"\\n\"\n",
        "  )\n",
        "\n",
        "  cat(linea, file= archivo, append= TRUE) # grabo al archivo\n",
        "\n",
        "  if (verbose) cat(linea) # imprimo por pantalla\n",
        "}\n"
      ],
      "metadata": {
        "id": "P8YNRVVbCvQT"
      },
      "execution_count": 23,
      "outputs": []
    },
    {
      "cell_type": "code",
      "source": [
        "# particionar agrega una columna llamada fold a un dataset\n",
        "#  que consiste en una particion estratificada segun agrupa\n",
        "# particionar( data=dataset, division=c(70,30),\n",
        "#  agrupa=clase_ternaria, seed=semilla)   crea una particion 70, 30\n",
        "# particionar( data=dataset, division=c(1,1,1,1,1),\n",
        "#   agrupa=clase_ternaria, seed=semilla)   divide el dataset en 5 particiones\n",
        "\n",
        "particionar <- function(\n",
        "    data, division, agrupa= \"\",\n",
        "    campo= \"fold\", start= 1, seed= NA) {\n",
        "\n",
        "  if (!is.na(seed)) set.seed(seed)\n",
        "\n",
        "  bloque <- unlist(mapply(function(x, y) {\n",
        "    rep(y, x)\n",
        "  }, division, seq(from= start, length.out= length(division))))\n",
        "\n",
        "  data[, (campo) := sample(rep(bloque, ceiling(.N / length(bloque))))[1:.N],\n",
        "    by= agrupa\n",
        "  ]\n",
        "}\n"
      ],
      "metadata": {
        "id": "NnPKiCHuCwVo"
      },
      "execution_count": 24,
      "outputs": []
    },
    {
      "cell_type": "code",
      "source": [
        "# es un paso del Cross Validation\n",
        "# utiliza el fold  fold_test para testear y el resto para entrenar\n",
        "\n",
        "ranger_Simple <- function(fold_test, pdata, param) {\n",
        "  # genero el modelo\n",
        "\n",
        "  set.seed(PARAM$semillas[2])\n",
        "\n",
        "  modelo <- ranger(\n",
        "    formula= \"clase_binaria ~ .\",\n",
        "    data= pdata[fold != fold_test],\n",
        "    probability= TRUE, # para que devuelva las probabilidades\n",
        "    num.trees= param$num.trees,\n",
        "    mtry= param$mtry,\n",
        "    min.node.size= param$min.node.size,\n",
        "    max.depth= param$max.depth\n",
        "  )\n",
        "\n",
        "  prediccion <- predict(modelo, pdata[fold == fold_test])\n",
        "\n",
        "  ganancia_testing <- pdata[\n",
        "    fold == fold_test,\n",
        "    sum((prediccion$predictions[, \"POS\"] > 1 / 40) *\n",
        "      ifelse(clase_binaria == \"POS\",\n",
        "        PARAM$hyperparametertuning$POS_ganancia,\n",
        "        PARAM$hyperparametertuning$NEG_ganancia\n",
        "      ))\n",
        "  ]\n",
        "\n",
        "  return(ganancia_testing)\n",
        "}\n"
      ],
      "metadata": {
        "id": "kZSD7pUUCy58"
      },
      "execution_count": 25,
      "outputs": []
    },
    {
      "cell_type": "code",
      "source": [
        "# realiza Cross Validation, promediando las ganancias de los folds de testing\n",
        "\n",
        "ranger_CrossValidation <- function(\n",
        "    data, param,\n",
        "    pcampos_buenos, qfolds, pagrupa, semilla) {\n",
        "\n",
        "  divi <- rep(1, qfolds)\n",
        "  particionar(data, divi, seed= semilla, agrupa= pagrupa)\n",
        "\n",
        "  ganancias <- mcmapply(ranger_Simple,\n",
        "    seq(qfolds), # 1 2 3 4 5\n",
        "    MoreArgs= list(data, param),\n",
        "    SIMPLIFY= FALSE,\n",
        "    mc.cores= 1\n",
        "  ) # dejar esto en  1, porque ranger ya corre en paralelo\n",
        "\n",
        "  data[, fold := NULL] # elimino el campo fold\n",
        "\n",
        "  # devuelvo la ganancia promedio normalizada\n",
        "  ganancia_promedio <- mean(unlist(ganancias))\n",
        "  ganancia_promedio_normalizada <- ganancia_promedio * qfolds\n",
        "\n",
        "  return(ganancia_promedio_normalizada)\n",
        "}"
      ],
      "metadata": {
        "id": "ca7cVnUJC2Yz"
      },
      "execution_count": 26,
      "outputs": []
    },
    {
      "cell_type": "code",
      "source": [
        "# esta funcion solo puede recibir los parametros que se estan optimizando\n",
        "# el resto de los parametros se pasan como variables globales\n",
        "\n",
        "EstimarGanancia_ranger <- function(x) {\n",
        "  GLOBAL_iteracion <<- GLOBAL_iteracion + 1\n",
        "\n",
        "  xval_folds <- PARAM$hyperparametertuning$xval_folds\n",
        "\n",
        "  ganancia <- ranger_CrossValidation(dataset,\n",
        "    param= x,\n",
        "    qfolds= xval_folds,\n",
        "    pagrupa= \"clase_binaria\",\n",
        "    semilla= PARAM$semillas[1]\n",
        "  )\n",
        "\n",
        "  # logueo\n",
        "  xx <- x\n",
        "  xx$xval_folds <- xval_folds\n",
        "  xx$ganancia <- ganancia\n",
        "  xx$iteracion <- GLOBAL_iteracion\n",
        "  loguear(xx, arch= klog)\n",
        "\n",
        "  # si es ganancia superadora la almaceno en mejor\n",
        "  if( ganancia > GLOBAL_mejor ) {\n",
        "    GLOBAL_mejor <<- ganancia\n",
        "    loguear(xx, arch= klog_mejor)\n",
        "  }\n",
        "\n",
        "\n",
        "  return(ganancia)\n",
        "}\n"
      ],
      "metadata": {
        "id": "ZXNGJGOiC5lT"
      },
      "execution_count": 27,
      "outputs": []
    },
    {
      "cell_type": "markdown",
      "source": [
        "aqui se inicia el programa"
      ],
      "metadata": {
        "id": "P7Pw1KLeE3UH"
      }
    },
    {
      "cell_type": "code",
      "source": [
        "# carpeta de trabajo\n",
        "setwd(\"/content/buckets/b1/exp\")\n",
        "experimento_folder <- paste0(\"HT\", PARAM$experimento)\n",
        "dir.create(experimento_folder, showWarnings=FALSE)\n",
        "setwd( paste0(\"/content/buckets/b1/exp/\", experimento_folder ))"
      ],
      "metadata": {
        "id": "w1lb19whCJQ3"
      },
      "execution_count": 28,
      "outputs": []
    },
    {
      "cell_type": "code",
      "source": [
        "# genero numeros primos\n",
        "primos <- generate_primes(min= 100000, max= 1000000)\n",
        "set.seed(PARAM$semilla_primigenia) # inicializo\n",
        "# me quedo con PARAM$qsemillas   semillas\n",
        "PARAM$semillas <- sample(primos, 2 )\n"
      ],
      "metadata": {
        "id": "fbLF3Vr0DAeJ"
      },
      "execution_count": 29,
      "outputs": []
    },
    {
      "cell_type": "code",
      "source": [
        "# lectura del dataset\n",
        "dataset <- fread(\"/content/datasets/dataset_pequeno.csv\", stringsAsFactors= TRUE)"
      ],
      "metadata": {
        "id": "xcOJpoFvCJQ3"
      },
      "execution_count": 30,
      "outputs": []
    },
    {
      "cell_type": "code",
      "source": [
        "dataset <- dataset[foto_mes %in% c(202107)]"
      ],
      "metadata": {
        "id": "JorOk_A8EhSy"
      },
      "execution_count": 31,
      "outputs": []
    },
    {
      "cell_type": "code",
      "source": [
        "#  estas dos lineas estan relacionadas con el Data Drifting\n",
        "# asigno un valor muy negativo\n",
        "\n",
        "if( \"Master_Finiciomora\" %in% colnames(dataset) )\n",
        "  dataset[ is.na(Master_Finiciomora) , Master_Finiciomora := -999 ]\n",
        "\n",
        "if( \"Visa_Finiciomora\" %in% colnames(dataset) )\n",
        "  dataset[ is.na(Visa_Finiciomora) , Visa_Finiciomora :=  -999 ]\n"
      ],
      "metadata": {
        "id": "lVbXD_l7CJQ4"
      },
      "execution_count": 32,
      "outputs": []
    },
    {
      "cell_type": "code",
      "source": [
        "set.seed( PARAM$semilla_primigenia ) # Establezco la semilla aleatoria"
      ],
      "metadata": {
        "id": "a82SxgKnCJQ5"
      },
      "execution_count": 33,
      "outputs": []
    },
    {
      "cell_type": "code",
      "source": [
        "# en estos archivos quedan los resultados\n",
        "kbayesiana <- paste0(\"HT\", PARAM$experimento, \".RDATA\")\n",
        "klog <- paste0(\"HT\", PARAM$experimento, \".txt\")\n",
        "klog_mejor <- paste0(\"HT\", PARAM$experimento, \"_mejor.txt\")\n",
        "\n",
        "GLOBAL_iteracion <- 0 # inicializo la variable global\n",
        "GLOBAL_mejor <- -Inf\n",
        "\n",
        "# si ya existe el archivo log, traigo hasta donde llegue\n",
        "if (file.exists(klog)) {\n",
        "  tabla_log <- fread(klog)\n",
        "  GLOBAL_iteracion <- nrow(tabla_log)\n",
        "}\n"
      ],
      "metadata": {
        "id": "CsRYGGeN-1ID"
      },
      "execution_count": 34,
      "outputs": []
    },
    {
      "cell_type": "code",
      "source": [
        "# paso a trabajar con clase binaria POS={BAJA+2}   NEG={BAJA+1, CONTINUA}\n",
        "dataset[, clase_binaria :=\n",
        "  as.factor(ifelse(clase_ternaria == \"BAJA+2\", \"POS\", \"NEG\"))]\n",
        "\n",
        "dataset[, clase_ternaria := NULL] # elimino la clase_ternaria, ya no la necesito\n"
      ],
      "metadata": {
        "id": "7G7O-ak-DPPV"
      },
      "execution_count": 35,
      "outputs": []
    },
    {
      "cell_type": "code",
      "source": [
        "# Ranger NO acepta valores nulos\n",
        "# Leo Breiman, ¿por que le temias a los nulos?\n",
        "# imputo los nulos, ya que ranger no acepta nulos\n",
        "\n",
        "dataset <- na.roughfix(dataset)"
      ],
      "metadata": {
        "id": "tJCnOoiuDV1_"
      },
      "execution_count": 36,
      "outputs": []
    },
    {
      "cell_type": "code",
      "source": [
        "# Aqui comienza la configuracion de la Bayesian Optimization\n",
        "\n",
        "configureMlr(show.learner.output = FALSE)\n",
        "\n",
        "funcion_optimizar <- EstimarGanancia_ranger\n",
        "\n",
        "# configuro la busqueda bayesiana,  los hiperparametros que se van a optimizar\n",
        "# por favor, no desesperarse por lo complejo\n",
        "obj.fun <- makeSingleObjectiveFunction(\n",
        "  fn= funcion_optimizar,\n",
        "  minimize= FALSE, # estoy Maximizando la ganancia\n",
        "  noisy= TRUE,\n",
        "  par.set= PARAM$hyperparametertuning$hs,\n",
        "  has.simple.signature= FALSE\n",
        ")\n",
        "\n",
        "ctrl <- makeMBOControl(save.on.disk.at.time= 600, save.file.path= kbayesiana)\n",
        "\n",
        "ctrl <- setMBOControlTermination(\n",
        "  ctrl,\n",
        "  iters= PARAM$hyperparametertuning$iteraciones\n",
        ")\n",
        "\n",
        "ctrl <- setMBOControlInfill(ctrl, crit= makeMBOInfillCritEI())\n",
        "\n",
        "surr.km <- makeLearner(\n",
        "  \"regr.km\",\n",
        "  predict.type= \"se\",\n",
        "  covtype= \"matern3_2\",\n",
        "  control= list(trace= TRUE)\n",
        ")\n"
      ],
      "metadata": {
        "id": "2SOVysbADy9F"
      },
      "execution_count": 37,
      "outputs": []
    },
    {
      "cell_type": "code",
      "source": [
        "# inicio la optimizacion bayesiana\n",
        "\n",
        "if (!file.exists(kbayesiana)) {\n",
        "  run <- mbo(obj.fun, learner= surr.km, control= ctrl)\n",
        "} else {\n",
        "  run <- mboContinue(kbayesiana)\n",
        "} # retomo en caso que ya exista"
      ],
      "metadata": {
        "id": "TissqCCHD1uZ",
        "outputId": "41f66ba5-e30f-489b-ade0-aeff3acf1b79",
        "colab": {
          "base_uri": "https://localhost:8080/"
        }
      },
      "execution_count": null,
      "outputs": [
        {
          "metadata": {
            "tags": null
          },
          "name": "stdout",
          "output_type": "stream",
          "text": [
            "Growing trees.. Progress: 4%. Estimated remaining time: 11 minutes, 47 seconds.\n",
            "Growing trees.. Progress: 9%. Estimated remaining time: 10 minutes, 47 seconds.\n",
            "Growing trees.. Progress: 13%. Estimated remaining time: 10 minutes, 13 seconds.\n",
            "Growing trees.. Progress: 18%. Estimated remaining time: 9 minutes, 46 seconds.\n",
            "Growing trees.. Progress: 22%. Estimated remaining time: 9 minutes, 10 seconds.\n",
            "Growing trees.. Progress: 27%. Estimated remaining time: 8 minutes, 36 seconds.\n",
            "Growing trees.. Progress: 31%. Estimated remaining time: 8 minutes, 5 seconds.\n",
            "Growing trees.. Progress: 36%. Estimated remaining time: 7 minutes, 33 seconds.\n",
            "Growing trees.. Progress: 40%. Estimated remaining time: 7 minutes, 5 seconds.\n",
            "Growing trees.. Progress: 45%. Estimated remaining time: 6 minutes, 36 seconds.\n",
            "Growing trees.. Progress: 49%. Estimated remaining time: 6 minutes, 2 seconds.\n",
            "Growing trees.. Progress: 54%. Estimated remaining time: 5 minutes, 28 seconds.\n",
            "Growing trees.. Progress: 58%. Estimated remaining time: 4 minutes, 56 seconds.\n",
            "Growing trees.. Progress: 63%. Estimated remaining time: 4 minutes, 24 seconds.\n",
            "Growing trees.. Progress: 67%. Estimated remaining time: 3 minutes, 53 seconds.\n",
            "Growing trees.. Progress: 72%. Estimated remaining time: 3 minutes, 22 seconds.\n",
            "Growing trees.. Progress: 76%. Estimated remaining time: 2 minutes, 50 seconds.\n",
            "Growing trees.. Progress: 80%. Estimated remaining time: 2 minutes, 19 seconds.\n",
            "Growing trees.. Progress: 85%. Estimated remaining time: 1 minute, 48 seconds.\n",
            "Growing trees.. Progress: 89%. Estimated remaining time: 1 minute, 17 seconds.\n",
            "Growing trees.. Progress: 94%. Estimated remaining time: 45 seconds.\n",
            "Growing trees.. Progress: 98%. Estimated remaining time: 12 seconds.\n",
            "Growing trees.. Progress: 4%. Estimated remaining time: 12 minutes, 9 seconds.\n",
            "Growing trees.. Progress: 9%. Estimated remaining time: 11 minutes, 30 seconds.\n",
            "Growing trees.. Progress: 13%. Estimated remaining time: 10 minutes, 42 seconds.\n",
            "Growing trees.. Progress: 17%. Estimated remaining time: 10 minutes, 7 seconds.\n",
            "Growing trees.. Progress: 22%. Estimated remaining time: 9 minutes, 33 seconds.\n",
            "Growing trees.. Progress: 26%. Estimated remaining time: 9 minutes, 6 seconds.\n",
            "Growing trees.. Progress: 30%. Estimated remaining time: 8 minutes, 35 seconds.\n",
            "Growing trees.. Progress: 35%. Estimated remaining time: 8 minutes, 1 seconds.\n",
            "Growing trees.. Progress: 39%. Estimated remaining time: 7 minutes, 27 seconds.\n",
            "Growing trees.. Progress: 43%. Estimated remaining time: 6 minutes, 54 seconds.\n",
            "Growing trees.. Progress: 48%. Estimated remaining time: 6 minutes, 24 seconds.\n",
            "Growing trees.. Progress: 52%. Estimated remaining time: 5 minutes, 50 seconds.\n",
            "Growing trees.. Progress: 57%. Estimated remaining time: 5 minutes, 13 seconds.\n",
            "Growing trees.. Progress: 62%. Estimated remaining time: 4 minutes, 39 seconds.\n",
            "Growing trees.. Progress: 66%. Estimated remaining time: 4 minutes, 7 seconds.\n",
            "Growing trees.. Progress: 70%. Estimated remaining time: 3 minutes, 37 seconds.\n",
            "Growing trees.. Progress: 75%. Estimated remaining time: 3 minutes, 2 seconds.\n",
            "Growing trees.. Progress: 79%. Estimated remaining time: 2 minutes, 29 seconds.\n",
            "Growing trees.. Progress: 84%. Estimated remaining time: 1 minute, 57 seconds.\n",
            "Growing trees.. Progress: 88%. Estimated remaining time: 1 minute, 25 seconds.\n",
            "Growing trees.. Progress: 93%. Estimated remaining time: 53 seconds.\n",
            "Growing trees.. Progress: 97%. Estimated remaining time: 21 seconds.\n",
            "Growing trees.. Progress: 4%. Estimated remaining time: 11 minutes, 47 seconds.\n",
            "Growing trees.. Progress: 9%. Estimated remaining time: 11 minutes, 9 seconds.\n",
            "Growing trees.. Progress: 13%. Estimated remaining time: 10 minutes, 49 seconds.\n",
            "Growing trees.. Progress: 17%. Estimated remaining time: 10 minutes, 7 seconds.\n",
            "Growing trees.. Progress: 22%. Estimated remaining time: 9 minutes, 40 seconds.\n",
            "Growing trees.. Progress: 26%. Estimated remaining time: 9 minutes, 3 seconds.\n",
            "Growing trees.. Progress: 30%. Estimated remaining time: 8 minutes, 32 seconds.\n",
            "Growing trees.. Progress: 35%. Estimated remaining time: 7 minutes, 59 seconds.\n",
            "Growing trees.. Progress: 39%. Estimated remaining time: 7 minutes, 28 seconds.\n",
            "Growing trees.. Progress: 44%. Estimated remaining time: 6 minutes, 57 seconds.\n",
            "Growing trees.. Progress: 48%. Estimated remaining time: 6 minutes, 33 seconds.\n",
            "Growing trees.. Progress: 52%. Estimated remaining time: 5 minutes, 59 seconds.\n",
            "Growing trees.. Progress: 56%. Estimated remaining time: 5 minutes, 26 seconds.\n",
            "Growing trees.. Progress: 61%. Estimated remaining time: 4 minutes, 53 seconds.\n",
            "Growing trees.. Progress: 65%. Estimated remaining time: 4 minutes, 21 seconds.\n",
            "Growing trees.. Progress: 69%. Estimated remaining time: 3 minutes, 52 seconds.\n",
            "Growing trees.. Progress: 73%. Estimated remaining time: 3 minutes, 19 seconds.\n",
            "Growing trees.. Progress: 78%. Estimated remaining time: 2 minutes, 46 seconds.\n",
            "Growing trees.. Progress: 82%. Estimated remaining time: 2 minutes, 15 seconds.\n",
            "Growing trees.. Progress: 86%. Estimated remaining time: 1 minute, 42 seconds.\n",
            "Growing trees.. Progress: 90%. Estimated remaining time: 1 minute, 13 seconds.\n",
            "Growing trees.. Progress: 94%. Estimated remaining time: 42 seconds.\n",
            "Growing trees.. Progress: 99%. Estimated remaining time: 9 seconds.\n",
            "Growing trees.. Progress: 4%. Estimated remaining time: 12 minutes, 9 seconds.\n",
            "Growing trees.. Progress: 9%. Estimated remaining time: 11 minutes, 3 seconds.\n",
            "Growing trees.. Progress: 13%. Estimated remaining time: 10 minutes, 20 seconds.\n",
            "Growing trees.. Progress: 18%. Estimated remaining time: 9 minutes, 46 seconds.\n",
            "Growing trees.. Progress: 22%. Estimated remaining time: 9 minutes, 17 seconds.\n",
            "Growing trees.. Progress: 27%. Estimated remaining time: 8 minutes, 47 seconds.\n",
            "Growing trees.. Progress: 31%. Estimated remaining time: 8 minutes, 16 seconds.\n",
            "Growing trees.. Progress: 36%. Estimated remaining time: 7 minutes, 43 seconds.\n",
            "Growing trees.. Progress: 40%. Estimated remaining time: 7 minutes, 10 seconds.\n",
            "Growing trees.. Progress: 44%. Estimated remaining time: 6 minutes, 41 seconds.\n",
            "Growing trees.. Progress: 48%. Estimated remaining time: 6 minutes, 14 seconds.\n",
            "Growing trees.. Progress: 53%. Estimated remaining time: 5 minutes, 42 seconds.\n",
            "Growing trees.. Progress: 57%. Estimated remaining time: 5 minutes, 9 seconds.\n",
            "Growing trees.. Progress: 62%. Estimated remaining time: 4 minutes, 38 seconds.\n",
            "Growing trees.. Progress: 66%. Estimated remaining time: 4 minutes, 7 seconds.\n",
            "Growing trees.. Progress: 70%. Estimated remaining time: 3 minutes, 35 seconds.\n",
            "Growing trees.. Progress: 74%. Estimated remaining time: 3 minutes, 5 seconds.\n",
            "Growing trees.. Progress: 79%. Estimated remaining time: 2 minutes, 33 seconds.\n",
            "Growing trees.. Progress: 83%. Estimated remaining time: 2 minutes, 1 seconds.\n",
            "Growing trees.. Progress: 88%. Estimated remaining time: 1 minute, 29 seconds.\n",
            "Growing trees.. Progress: 92%. Estimated remaining time: 57 seconds.\n",
            "Growing trees.. Progress: 96%. Estimated remaining time: 27 seconds.\n",
            "Growing trees.. Progress: 5%. Estimated remaining time: 11 minutes, 3 seconds.\n",
            "Growing trees.. Progress: 9%. Estimated remaining time: 10 minutes, 57 seconds.\n",
            "Growing trees.. Progress: 13%. Estimated remaining time: 10 minutes, 31 seconds.\n",
            "Growing trees.. Progress: 18%. Estimated remaining time: 9 minutes, 54 seconds.\n",
            "Growing trees.. Progress: 22%. Estimated remaining time: 9 minutes, 20 seconds.\n",
            "Growing trees.. Progress: 27%. Estimated remaining time: 8 minutes, 44 seconds.\n",
            "Growing trees.. Progress: 31%. Estimated remaining time: 8 minutes, 13 seconds.\n",
            "Growing trees.. Progress: 35%. Estimated remaining time: 7 minutes, 45 seconds.\n",
            "Growing trees.. Progress: 40%. Estimated remaining time: 7 minutes, 10 seconds.\n",
            "Growing trees.. Progress: 44%. Estimated remaining time: 6 minutes, 38 seconds.\n",
            "Growing trees.. Progress: 49%. Estimated remaining time: 6 minutes, 7 seconds.\n",
            "Growing trees.. Progress: 53%. Estimated remaining time: 5 minutes, 32 seconds.\n",
            "Growing trees.. Progress: 58%. Estimated remaining time: 5 minutes, 0 seconds.\n",
            "Growing trees.. Progress: 62%. Estimated remaining time: 4 minutes, 31 seconds.\n",
            "Growing trees.. Progress: 67%. Estimated remaining time: 3 minutes, 59 seconds.\n",
            "Growing trees.. Progress: 71%. Estimated remaining time: 3 minutes, 27 seconds.\n",
            "Growing trees.. Progress: 76%. Estimated remaining time: 2 minutes, 52 seconds.\n",
            "Growing trees.. Progress: 80%. Estimated remaining time: 2 minutes, 19 seconds.\n",
            "Growing trees.. Progress: 85%. Estimated remaining time: 1 minute, 49 seconds.\n",
            "Growing trees.. Progress: 89%. Estimated remaining time: 1 minute, 18 seconds.\n",
            "Growing trees.. Progress: 94%. Estimated remaining time: 44 seconds.\n",
            "Growing trees.. Progress: 98%. Estimated remaining time: 11 seconds.\n",
            "20251029 134931\t500\t18\t170\t26\t5\t54483000\t23\n",
            "20251029 134931\t500\t18\t170\t26\t5\t54483000\t23\n"
          ]
        },
        {
          "metadata": {
            "tags": null
          },
          "name": "stderr",
          "output_type": "stream",
          "text": [
            "[mbo] 7: num.trees=500; max.depth=18; min.node.size=170; mtry=26 : y = 5.45e+07 : 3754.0 secs : infill_ei\n",
            "\n",
            "Saved the current state after iteration 8 in the file HT450.RDATA.\n",
            "\n",
            "Warning message in generateDesign(control$infill.opt.focussearch.points, ps.local, :\n",
            "“generateDesign could only produce 997 points instead of 1000!”\n"
          ]
        },
        {
          "metadata": {
            "tags": null
          },
          "name": "stdout",
          "output_type": "stream",
          "text": [
            "Growing trees.. Progress: 5%. Estimated remaining time: 10 minutes, 42 seconds.\n",
            "Growing trees.. Progress: 10%. Estimated remaining time: 9 minutes, 43 seconds.\n",
            "Growing trees.. Progress: 15%. Estimated remaining time: 9 minutes, 15 seconds.\n",
            "Growing trees.. Progress: 19%. Estimated remaining time: 8 minutes, 43 seconds.\n",
            "Growing trees.. Progress: 24%. Estimated remaining time: 8 minutes, 14 seconds.\n",
            "Growing trees.. Progress: 29%. Estimated remaining time: 7 minutes, 42 seconds.\n",
            "Growing trees.. Progress: 34%. Estimated remaining time: 7 minutes, 10 seconds.\n",
            "Growing trees.. Progress: 39%. Estimated remaining time: 6 minutes, 39 seconds.\n",
            "Growing trees.. Progress: 44%. Estimated remaining time: 6 minutes, 4 seconds.\n",
            "Growing trees.. Progress: 49%. Estimated remaining time: 5 minutes, 33 seconds.\n",
            "Growing trees.. Progress: 54%. Estimated remaining time: 5 minutes, 1 seconds.\n",
            "Growing trees.. Progress: 59%. Estimated remaining time: 4 minutes, 28 seconds.\n",
            "Growing trees.. Progress: 63%. Estimated remaining time: 3 minutes, 57 seconds.\n",
            "Growing trees.. Progress: 68%. Estimated remaining time: 3 minutes, 25 seconds.\n",
            "Growing trees.. Progress: 73%. Estimated remaining time: 2 minutes, 54 seconds.\n",
            "Growing trees.. Progress: 78%. Estimated remaining time: 2 minutes, 21 seconds.\n",
            "Growing trees.. Progress: 83%. Estimated remaining time: 1 minute, 51 seconds.\n",
            "Growing trees.. Progress: 88%. Estimated remaining time: 1 minute, 20 seconds.\n",
            "Growing trees.. Progress: 93%. Estimated remaining time: 48 seconds.\n",
            "Growing trees.. Progress: 97%. Estimated remaining time: 16 seconds.\n",
            "Growing trees.. Progress: 5%. Estimated remaining time: 10 minutes, 42 seconds.\n",
            "Growing trees.. Progress: 10%. Estimated remaining time: 9 minutes, 53 seconds.\n",
            "Growing trees.. Progress: 15%. Estimated remaining time: 9 minutes, 9 seconds.\n",
            "Growing trees.. Progress: 19%. Estimated remaining time: 8 minutes, 39 seconds.\n",
            "Growing trees.. Progress: 24%. Estimated remaining time: 8 minutes, 11 seconds.\n",
            "Growing trees.. Progress: 29%. Estimated remaining time: 7 minutes, 36 seconds.\n",
            "Growing trees.. Progress: 34%. Estimated remaining time: 7 minutes, 7 seconds.\n",
            "Growing trees.. Progress: 39%. Estimated remaining time: 6 minutes, 33 seconds.\n",
            "Growing trees.. Progress: 44%. Estimated remaining time: 6 minutes, 4 seconds.\n",
            "Growing trees.. Progress: 49%. Estimated remaining time: 5 minutes, 32 seconds.\n",
            "Growing trees.. Progress: 54%. Estimated remaining time: 5 minutes, 1 seconds.\n",
            "Growing trees.. Progress: 58%. Estimated remaining time: 4 minutes, 34 seconds.\n",
            "Growing trees.. Progress: 63%. Estimated remaining time: 4 minutes, 4 seconds.\n",
            "Growing trees.. Progress: 68%. Estimated remaining time: 3 minutes, 30 seconds.\n",
            "Growing trees.. Progress: 73%. Estimated remaining time: 2 minutes, 57 seconds.\n",
            "Growing trees.. Progress: 78%. Estimated remaining time: 2 minutes, 26 seconds.\n",
            "Growing trees.. Progress: 82%. Estimated remaining time: 1 minute, 54 seconds.\n",
            "Growing trees.. Progress: 87%. Estimated remaining time: 1 minute, 23 seconds.\n",
            "Growing trees.. Progress: 92%. Estimated remaining time: 53 seconds.\n",
            "Growing trees.. Progress: 97%. Estimated remaining time: 20 seconds.\n",
            "Growing trees.. Progress: 5%. Estimated remaining time: 10 minutes, 42 seconds.\n",
            "Growing trees.. Progress: 9%. Estimated remaining time: 9 minutes, 57 seconds.\n",
            "Growing trees.. Progress: 14%. Estimated remaining time: 9 minutes, 18 seconds.\n",
            "Growing trees.. Progress: 19%. Estimated remaining time: 8 minutes, 43 seconds.\n",
            "Growing trees.. Progress: 24%. Estimated remaining time: 8 minutes, 14 seconds.\n",
            "Growing trees.. Progress: 29%. Estimated remaining time: 7 minutes, 43 seconds.\n",
            "Growing trees.. Progress: 34%. Estimated remaining time: 7 minutes, 12 seconds.\n",
            "Growing trees.. Progress: 39%. Estimated remaining time: 6 minutes, 35 seconds.\n",
            "Growing trees.. Progress: 44%. Estimated remaining time: 6 minutes, 5 seconds.\n",
            "Growing trees.. Progress: 49%. Estimated remaining time: 5 minutes, 34 seconds.\n",
            "Growing trees.. Progress: 54%. Estimated remaining time: 5 minutes, 1 seconds.\n",
            "Growing trees.. Progress: 59%. Estimated remaining time: 4 minutes, 26 seconds.\n",
            "Growing trees.. Progress: 64%. Estimated remaining time: 3 minutes, 53 seconds.\n",
            "Growing trees.. Progress: 69%. Estimated remaining time: 3 minutes, 22 seconds.\n",
            "Growing trees.. Progress: 74%. Estimated remaining time: 2 minutes, 51 seconds.\n",
            "Growing trees.. Progress: 78%. Estimated remaining time: 2 minutes, 20 seconds.\n",
            "Growing trees.. Progress: 83%. Estimated remaining time: 1 minute, 49 seconds.\n",
            "Growing trees.. Progress: 88%. Estimated remaining time: 1 minute, 16 seconds.\n",
            "Growing trees.. Progress: 93%. Estimated remaining time: 45 seconds.\n",
            "Growing trees.. Progress: 98%. Estimated remaining time: 14 seconds.\n",
            "Growing trees.. Progress: 5%. Estimated remaining time: 10 minutes, 27 seconds.\n",
            "Growing trees.. Progress: 10%. Estimated remaining time: 9 minutes, 41 seconds.\n",
            "Growing trees.. Progress: 15%. Estimated remaining time: 9 minutes, 9 seconds.\n",
            "Growing trees.. Progress: 20%. Estimated remaining time: 8 minutes, 33 seconds.\n",
            "Growing trees.. Progress: 25%. Estimated remaining time: 8 minutes, 0 seconds.\n",
            "Growing trees.. Progress: 30%. Estimated remaining time: 7 minutes, 26 seconds.\n",
            "Growing trees.. Progress: 35%. Estimated remaining time: 6 minutes, 57 seconds.\n",
            "Growing trees.. Progress: 40%. Estimated remaining time: 6 minutes, 27 seconds.\n",
            "Growing trees.. Progress: 45%. Estimated remaining time: 5 minutes, 53 seconds.\n",
            "Growing trees.. Progress: 50%. Estimated remaining time: 5 minutes, 21 seconds.\n",
            "Growing trees.. Progress: 55%. Estimated remaining time: 4 minutes, 48 seconds.\n",
            "Growing trees.. Progress: 60%. Estimated remaining time: 4 minutes, 15 seconds.\n",
            "Growing trees.. Progress: 65%. Estimated remaining time: 3 minutes, 43 seconds.\n",
            "Growing trees.. Progress: 70%. Estimated remaining time: 3 minutes, 11 seconds.\n",
            "Growing trees.. Progress: 75%. Estimated remaining time: 2 minutes, 37 seconds.\n",
            "Growing trees.. Progress: 80%. Estimated remaining time: 2 minutes, 5 seconds.\n",
            "Growing trees.. Progress: 85%. Estimated remaining time: 1 minute, 34 seconds.\n",
            "Growing trees.. Progress: 90%. Estimated remaining time: 1 minute, 4 seconds.\n",
            "Growing trees.. Progress: 95%. Estimated remaining time: 33 seconds.\n",
            "Growing trees.. Progress: 100%. Estimated remaining time: 1 seconds.\n",
            "Growing trees.. Progress: 5%. Estimated remaining time: 10 minutes, 42 seconds.\n",
            "Growing trees.. Progress: 10%. Estimated remaining time: 9 minutes, 53 seconds.\n",
            "Growing trees.. Progress: 14%. Estimated remaining time: 9 minutes, 24 seconds.\n",
            "Growing trees.. Progress: 20%. Estimated remaining time: 8 minutes, 40 seconds.\n",
            "Growing trees.. Progress: 24%. Estimated remaining time: 8 minutes, 15 seconds.\n",
            "Growing trees.. Progress: 29%. Estimated remaining time: 7 minutes, 45 seconds.\n",
            "Growing trees.. Progress: 34%. Estimated remaining time: 7 minutes, 10 seconds.\n",
            "Growing trees.. Progress: 39%. Estimated remaining time: 6 minutes, 40 seconds.\n",
            "Growing trees.. Progress: 44%. Estimated remaining time: 6 minutes, 9 seconds.\n",
            "Growing trees.. Progress: 49%. Estimated remaining time: 5 minutes, 39 seconds.\n",
            "Growing trees.. Progress: 53%. Estimated remaining time: 5 minutes, 7 seconds.\n",
            "Growing trees.. Progress: 58%. Estimated remaining time: 4 minutes, 33 seconds.\n",
            "Growing trees.. Progress: 63%. Estimated remaining time: 4 minutes, 1 seconds.\n",
            "Growing trees.. Progress: 68%. Estimated remaining time: 3 minutes, 32 seconds.\n",
            "Growing trees.. Progress: 73%. Estimated remaining time: 2 minutes, 57 seconds.\n",
            "Growing trees.. Progress: 78%. Estimated remaining time: 2 minutes, 26 seconds.\n",
            "Growing trees.. Progress: 83%. Estimated remaining time: 1 minute, 53 seconds.\n",
            "Growing trees.. Progress: 88%. Estimated remaining time: 1 minute, 21 seconds.\n",
            "Growing trees.. Progress: 93%. Estimated remaining time: 48 seconds.\n",
            "Growing trees.. Progress: 97%. Estimated remaining time: 17 seconds.\n",
            "20251029 144528\t500\t12\t782\t33\t5\t55608000\t24\n",
            "20251029 144528\t500\t12\t782\t33\t5\t55608000\t24\n"
          ]
        },
        {
          "metadata": {
            "tags": null
          },
          "name": "stderr",
          "output_type": "stream",
          "text": [
            "[mbo] 8: num.trees=500; max.depth=12; min.node.size=782; mtry=33 : y = 5.56e+07 : 3355.9 secs : infill_ei\n",
            "\n",
            "Saved the current state after iteration 9 in the file HT450.RDATA.\n",
            "\n",
            "Warning message in generateDesign(control$infill.opt.focussearch.points, ps.local, :\n",
            "“generateDesign could only produce 906 points instead of 1000!”\n"
          ]
        },
        {
          "metadata": {
            "tags": null
          },
          "name": "stdout",
          "output_type": "stream",
          "text": [
            "20251029 144817\t20\t12\t846\t38\t5\t52761000\t25\n"
          ]
        },
        {
          "metadata": {
            "tags": null
          },
          "name": "stderr",
          "output_type": "stream",
          "text": [
            "[mbo] 9: num.trees=20; max.depth=12; min.node.size=846; mtry=38 : y = 5.28e+07 : 167.7 secs : infill_ei\n",
            "\n"
          ]
        },
        {
          "metadata": {
            "tags": null
          },
          "name": "stdout",
          "output_type": "stream",
          "text": [
            "Growing trees.. Progress: 3%. Estimated remaining time: 14 minutes, 48 seconds.\n",
            "Growing trees.. Progress: 7%. Estimated remaining time: 13 minutes, 50 seconds.\n",
            "Growing trees.. Progress: 11%. Estimated remaining time: 13 minutes, 17 seconds.\n",
            "Growing trees.. Progress: 15%. Estimated remaining time: 12 minutes, 45 seconds.\n",
            "Growing trees.. Progress: 18%. Estimated remaining time: 11 minutes, 58 seconds.\n",
            "Growing trees.. Progress: 22%. Estimated remaining time: 11 minutes, 24 seconds.\n",
            "Growing trees.. Progress: 26%. Estimated remaining time: 10 minutes, 47 seconds.\n",
            "Growing trees.. Progress: 30%. Estimated remaining time: 10 minutes, 16 seconds.\n",
            "Growing trees.. Progress: 33%. Estimated remaining time: 9 minutes, 42 seconds.\n",
            "Growing trees.. Progress: 37%. Estimated remaining time: 9 minutes, 7 seconds.\n",
            "Growing trees.. Progress: 41%. Estimated remaining time: 8 minutes, 32 seconds.\n",
            "Growing trees.. Progress: 45%. Estimated remaining time: 8 minutes, 1 seconds.\n",
            "Growing trees.. Progress: 48%. Estimated remaining time: 7 minutes, 30 seconds.\n",
            "Growing trees.. Progress: 52%. Estimated remaining time: 6 minutes, 57 seconds.\n",
            "Growing trees.. Progress: 56%. Estimated remaining time: 6 minutes, 26 seconds.\n",
            "Growing trees.. Progress: 59%. Estimated remaining time: 5 minutes, 54 seconds.\n",
            "Growing trees.. Progress: 63%. Estimated remaining time: 5 minutes, 24 seconds.\n",
            "Growing trees.. Progress: 66%. Estimated remaining time: 4 minutes, 52 seconds.\n",
            "Growing trees.. Progress: 70%. Estimated remaining time: 4 minutes, 20 seconds.\n",
            "Growing trees.. Progress: 74%. Estimated remaining time: 3 minutes, 48 seconds.\n",
            "Growing trees.. Progress: 78%. Estimated remaining time: 3 minutes, 16 seconds.\n",
            "Growing trees.. Progress: 81%. Estimated remaining time: 2 minutes, 46 seconds.\n",
            "Growing trees.. Progress: 84%. Estimated remaining time: 2 minutes, 18 seconds.\n",
            "Growing trees.. Progress: 88%. Estimated remaining time: 1 minute, 45 seconds.\n",
            "Growing trees.. Progress: 92%. Estimated remaining time: 1 minute, 13 seconds.\n",
            "Growing trees.. Progress: 95%. Estimated remaining time: 41 seconds.\n",
            "Growing trees.. Progress: 99%. Estimated remaining time: 8 seconds.\n",
            "Growing trees.. Progress: 3%. Estimated remaining time: 14 minutes, 48 seconds.\n",
            "Growing trees.. Progress: 7%. Estimated remaining time: 14 minutes, 3 seconds.\n",
            "Growing trees.. Progress: 11%. Estimated remaining time: 13 minutes, 26 seconds.\n",
            "Growing trees.. Progress: 14%. Estimated remaining time: 13 minutes, 11 seconds.\n",
            "Growing trees.. Progress: 18%. Estimated remaining time: 12 minutes, 33 seconds.\n",
            "Growing trees.. Progress: 21%. Estimated remaining time: 11 minutes, 56 seconds.\n",
            "Growing trees.. Progress: 25%. Estimated remaining time: 11 minutes, 21 seconds.\n",
            "Growing trees.. Progress: 29%. Estimated remaining time: 10 minutes, 53 seconds.\n",
            "Growing trees.. Progress: 32%. Estimated remaining time: 10 minutes, 21 seconds.\n",
            "Growing trees.. Progress: 36%. Estimated remaining time: 9 minutes, 44 seconds.\n",
            "Growing trees.. Progress: 39%. Estimated remaining time: 9 minutes, 13 seconds.\n",
            "Growing trees.. Progress: 43%. Estimated remaining time: 8 minutes, 48 seconds.\n",
            "Growing trees.. Progress: 46%. Estimated remaining time: 8 minutes, 12 seconds.\n",
            "Growing trees.. Progress: 50%. Estimated remaining time: 7 minutes, 39 seconds.\n",
            "Growing trees.. Progress: 53%. Estimated remaining time: 7 minutes, 8 seconds.\n",
            "Growing trees.. Progress: 57%. Estimated remaining time: 6 minutes, 35 seconds.\n",
            "Growing trees.. Progress: 60%. Estimated remaining time: 6 minutes, 3 seconds.\n",
            "Growing trees.. Progress: 64%. Estimated remaining time: 5 minutes, 31 seconds.\n",
            "Growing trees.. Progress: 67%. Estimated remaining time: 4 minutes, 59 seconds.\n",
            "Growing trees.. Progress: 71%. Estimated remaining time: 4 minutes, 28 seconds.\n",
            "Growing trees.. Progress: 74%. Estimated remaining time: 3 minutes, 54 seconds.\n",
            "Growing trees.. Progress: 78%. Estimated remaining time: 3 minutes, 22 seconds.\n",
            "Growing trees.. Progress: 81%. Estimated remaining time: 2 minutes, 51 seconds.\n",
            "Growing trees.. Progress: 85%. Estimated remaining time: 2 minutes, 19 seconds.\n",
            "Growing trees.. Progress: 88%. Estimated remaining time: 1 minute, 45 seconds.\n",
            "Growing trees.. Progress: 92%. Estimated remaining time: 1 minute, 14 seconds.\n",
            "Growing trees.. Progress: 96%. Estimated remaining time: 40 seconds.\n",
            "Growing trees.. Progress: 99%. Estimated remaining time: 9 seconds.\n",
            "Growing trees.. Progress: 3%. Estimated remaining time: 14 minutes, 48 seconds.\n",
            "Growing trees.. Progress: 7%. Estimated remaining time: 14 minutes, 3 seconds.\n",
            "Growing trees.. Progress: 10%. Estimated remaining time: 13 minutes, 44 seconds.\n",
            "Growing trees.. Progress: 14%. Estimated remaining time: 13 minutes, 12 seconds.\n",
            "Growing trees.. Progress: 18%. Estimated remaining time: 12 minutes, 39 seconds.\n",
            "Growing trees.. Progress: 21%. Estimated remaining time: 12 minutes, 3 seconds.\n",
            "Growing trees.. Progress: 25%. Estimated remaining time: 11 minutes, 41 seconds.\n",
            "Growing trees.. Progress: 28%. Estimated remaining time: 11 minutes, 12 seconds.\n",
            "Growing trees.. Progress: 31%. Estimated remaining time: 10 minutes, 36 seconds.\n",
            "Growing trees.. Progress: 35%. Estimated remaining time: 10 minutes, 6 seconds.\n",
            "Growing trees.. Progress: 38%. Estimated remaining time: 9 minutes, 33 seconds.\n",
            "Growing trees.. Progress: 42%. Estimated remaining time: 9 minutes, 4 seconds.\n",
            "Growing trees.. Progress: 45%. Estimated remaining time: 8 minutes, 28 seconds.\n",
            "Growing trees.. Progress: 49%. Estimated remaining time: 7 minutes, 54 seconds.\n",
            "Growing trees.. Progress: 52%. Estimated remaining time: 7 minutes, 24 seconds.\n",
            "Growing trees.. Progress: 56%. Estimated remaining time: 6 minutes, 51 seconds.\n",
            "Growing trees.. Progress: 59%. Estimated remaining time: 6 minutes, 18 seconds.\n",
            "Growing trees.. Progress: 63%. Estimated remaining time: 5 minutes, 43 seconds.\n",
            "Growing trees.. Progress: 67%. Estimated remaining time: 5 minutes, 9 seconds.\n",
            "Growing trees.. Progress: 70%. Estimated remaining time: 4 minutes, 37 seconds.\n",
            "Growing trees.. Progress: 74%. Estimated remaining time: 4 minutes, 3 seconds.\n",
            "Growing trees.. Progress: 78%. Estimated remaining time: 3 minutes, 28 seconds.\n",
            "Growing trees.. Progress: 81%. Estimated remaining time: 2 minutes, 56 seconds.\n",
            "Growing trees.. Progress: 84%. Estimated remaining time: 2 minutes, 24 seconds.\n",
            "Growing trees.. Progress: 88%. Estimated remaining time: 1 minute, 51 seconds.\n",
            "Growing trees.. Progress: 92%. Estimated remaining time: 1 minute, 17 seconds.\n",
            "Growing trees.. Progress: 95%. Estimated remaining time: 43 seconds.\n",
            "Growing trees.. Progress: 99%. Estimated remaining time: 9 seconds.\n",
            "Growing trees.. Progress: 3%. Estimated remaining time: 15 minutes, 43 seconds.\n",
            "Growing trees.. Progress: 7%. Estimated remaining time: 14 minutes, 42 seconds.\n",
            "Growing trees.. Progress: 11%. Estimated remaining time: 13 minutes, 51 seconds.\n",
            "Growing trees.. Progress: 14%. Estimated remaining time: 13 minutes, 23 seconds.\n",
            "Growing trees.. Progress: 18%. Estimated remaining time: 12 minutes, 48 seconds.\n",
            "Growing trees.. Progress: 21%. Estimated remaining time: 12 minutes, 22 seconds.\n",
            "Growing trees.. Progress: 25%. Estimated remaining time: 11 minutes, 42 seconds.\n",
            "Growing trees.. Progress: 28%. Estimated remaining time: 11 minutes, 4 seconds.\n",
            "Growing trees.. Progress: 32%. Estimated remaining time: 10 minutes, 37 seconds.\n",
            "Growing trees.. Progress: 35%. Estimated remaining time: 10 minutes, 6 seconds.\n",
            "Growing trees.. Progress: 39%. Estimated remaining time: 9 minutes, 33 seconds.\n",
            "Growing trees.. Progress: 42%. Estimated remaining time: 9 minutes, 1 seconds.\n",
            "Growing trees.. Progress: 46%. Estimated remaining time: 8 minutes, 23 seconds.\n",
            "Growing trees.. Progress: 49%. Estimated remaining time: 7 minutes, 49 seconds.\n",
            "Growing trees.. Progress: 53%. Estimated remaining time: 7 minutes, 20 seconds.\n",
            "Growing trees.. Progress: 56%. Estimated remaining time: 6 minutes, 45 seconds.\n",
            "Growing trees.. Progress: 60%. Estimated remaining time: 6 minutes, 9 seconds.\n",
            "Growing trees.. Progress: 64%. Estimated remaining time: 5 minutes, 34 seconds.\n",
            "Growing trees.. Progress: 67%. Estimated remaining time: 5 minutes, 2 seconds.\n",
            "Growing trees.. Progress: 71%. Estimated remaining time: 4 minutes, 30 seconds.\n",
            "Growing trees.. Progress: 74%. Estimated remaining time: 3 minutes, 55 seconds.\n",
            "Growing trees.. Progress: 78%. Estimated remaining time: 3 minutes, 21 seconds.\n",
            "Growing trees.. Progress: 82%. Estimated remaining time: 2 minutes, 49 seconds.\n",
            "Growing trees.. Progress: 85%. Estimated remaining time: 2 minutes, 19 seconds.\n",
            "Growing trees.. Progress: 88%. Estimated remaining time: 1 minute, 47 seconds.\n",
            "Growing trees.. Progress: 92%. Estimated remaining time: 1 minute, 13 seconds.\n",
            "Growing trees.. Progress: 96%. Estimated remaining time: 39 seconds.\n",
            "Growing trees.. Progress: 99%. Estimated remaining time: 7 seconds.\n",
            "Growing trees.. Progress: 3%. Estimated remaining time: 14 minutes, 20 seconds.\n",
            "Growing trees.. Progress: 7%. Estimated remaining time: 13 minutes, 37 seconds.\n",
            "Growing trees.. Progress: 11%. Estimated remaining time: 13 minutes, 26 seconds.\n",
            "Growing trees.. Progress: 14%. Estimated remaining time: 13 minutes, 5 seconds.\n",
            "Growing trees.. Progress: 18%. Estimated remaining time: 12 minutes, 23 seconds.\n",
            "Growing trees.. Progress: 21%. Estimated remaining time: 11 minutes, 50 seconds.\n",
            "Growing trees.. Progress: 25%. Estimated remaining time: 11 minutes, 16 seconds.\n",
            "Growing trees.. Progress: 29%. Estimated remaining time: 10 minutes, 43 seconds.\n",
            "Growing trees.. Progress: 32%. Estimated remaining time: 10 minutes, 5 seconds.\n",
            "Growing trees.. Progress: 36%. Estimated remaining time: 9 minutes, 24 seconds.\n",
            "Growing trees.. Progress: 40%. Estimated remaining time: 8 minutes, 50 seconds.\n",
            "Growing trees.. Progress: 44%. Estimated remaining time: 8 minutes, 18 seconds.\n",
            "Growing trees.. Progress: 47%. Estimated remaining time: 7 minutes, 47 seconds.\n",
            "Growing trees.. Progress: 51%. Estimated remaining time: 7 minutes, 14 seconds.\n",
            "Growing trees.. Progress: 55%. Estimated remaining time: 6 minutes, 41 seconds.\n",
            "Growing trees.. Progress: 58%. Estimated remaining time: 6 minutes, 9 seconds.\n",
            "Growing trees.. Progress: 62%. Estimated remaining time: 5 minutes, 37 seconds.\n",
            "Growing trees.. Progress: 66%. Estimated remaining time: 5 minutes, 4 seconds.\n",
            "Growing trees.. Progress: 69%. Estimated remaining time: 4 minutes, 32 seconds.\n",
            "Growing trees.. Progress: 73%. Estimated remaining time: 3 minutes, 59 seconds.\n",
            "Growing trees.. Progress: 77%. Estimated remaining time: 3 minutes, 26 seconds.\n",
            "Growing trees.. Progress: 80%. Estimated remaining time: 2 minutes, 53 seconds.\n",
            "Growing trees.. Progress: 84%. Estimated remaining time: 2 minutes, 20 seconds.\n",
            "Growing trees.. Progress: 88%. Estimated remaining time: 1 minute, 48 seconds.\n",
            "Growing trees.. Progress: 91%. Estimated remaining time: 1 minute, 15 seconds.\n",
            "Growing trees.. Progress: 95%. Estimated remaining time: 43 seconds.\n",
            "Growing trees.. Progress: 99%. Estimated remaining time: 10 seconds.\n",
            "20251029 160536\t489\t19\t1000\t34\t5\t54549000\t26\n"
          ]
        },
        {
          "metadata": {
            "tags": null
          },
          "name": "stderr",
          "output_type": "stream",
          "text": [
            "[mbo] 10: num.trees=489; max.depth=19; min.node.size=1000; mtry=34 : y = 5.45e+07 : 4638.3 secs : infill_ei\n",
            "\n",
            "Saved the current state after iteration 11 in the file HT450.RDATA.\n",
            "\n"
          ]
        },
        {
          "metadata": {
            "tags": null
          },
          "name": "stdout",
          "output_type": "stream",
          "text": [
            "Growing trees.. Progress: 25%. Estimated remaining time: 1 minute, 33 seconds.\n",
            "Growing trees.. Progress: 50%. Estimated remaining time: 1 minute, 1 seconds.\n",
            "Growing trees.. Progress: 75%. Estimated remaining time: 30 seconds.\n",
            "Growing trees.. Progress: 25%. Estimated remaining time: 1 minute, 35 seconds.\n",
            "Growing trees.. Progress: 50%. Estimated remaining time: 1 minute, 1 seconds.\n",
            "Growing trees.. Progress: 76%. Estimated remaining time: 29 seconds.\n",
            "Growing trees.. Progress: 25%. Estimated remaining time: 1 minute, 31 seconds.\n",
            "Growing trees.. Progress: 50%. Estimated remaining time: 1 minute, 3 seconds.\n",
            "Growing trees.. Progress: 74%. Estimated remaining time: 33 seconds.\n",
            "Growing trees.. Progress: 100%. Estimated remaining time: 0 seconds.\n",
            "Growing trees.. Progress: 25%. Estimated remaining time: 1 minute, 31 seconds.\n",
            "Growing trees.. Progress: 51%. Estimated remaining time: 59 seconds.\n",
            "Growing trees.. Progress: 76%. Estimated remaining time: 29 seconds.\n",
            "Growing trees.. Progress: 24%. Estimated remaining time: 1 minute, 39 seconds.\n",
            "Growing trees.. Progress: 48%. Estimated remaining time: 1 minute, 6 seconds.\n",
            "Growing trees.. Progress: 73%. Estimated remaining time: 34 seconds.\n",
            "Growing trees.. Progress: 98%. Estimated remaining time: 2 seconds.\n",
            "20251029 161647\t248\t8\t10\t18\t5\t55158000\t27\n"
          ]
        },
        {
          "metadata": {
            "tags": null
          },
          "name": "stderr",
          "output_type": "stream",
          "text": [
            "[mbo] 11: num.trees=248; max.depth=8; min.node.size=10; mtry=18 : y = 5.52e+07 : 669.9 secs : infill_ei\n",
            "\n",
            "Saved the current state after iteration 12 in the file HT450.RDATA.\n",
            "\n"
          ]
        },
        {
          "metadata": {
            "tags": null
          },
          "name": "stdout",
          "output_type": "stream",
          "text": [
            "Growing trees.. Progress: 7%. Estimated remaining time: 7 minutes, 5 seconds.\n",
            "Growing trees.. Progress: 14%. Estimated remaining time: 6 minutes, 14 seconds.\n",
            "Growing trees.. Progress: 22%. Estimated remaining time: 5 minutes, 41 seconds.\n",
            "Growing trees.. Progress: 29%. Estimated remaining time: 5 minutes, 11 seconds.\n",
            "Growing trees.. Progress: 36%. Estimated remaining time: 4 minutes, 36 seconds.\n",
            "Growing trees.. Progress: 43%. Estimated remaining time: 4 minutes, 12 seconds.\n",
            "Growing trees.. Progress: 50%. Estimated remaining time: 3 minutes, 45 seconds.\n",
            "Growing trees.. Progress: 57%. Estimated remaining time: 3 minutes, 12 seconds.\n",
            "Growing trees.. Progress: 64%. Estimated remaining time: 2 minutes, 39 seconds.\n",
            "Growing trees.. Progress: 71%. Estimated remaining time: 2 minutes, 7 seconds.\n",
            "Growing trees.. Progress: 79%. Estimated remaining time: 1 minute, 34 seconds.\n",
            "Growing trees.. Progress: 86%. Estimated remaining time: 1 minute, 1 seconds.\n",
            "Growing trees.. Progress: 93%. Estimated remaining time: 30 seconds.\n",
            "Growing trees.. Progress: 7%. Estimated remaining time: 6 minutes, 51 seconds.\n",
            "Growing trees.. Progress: 14%. Estimated remaining time: 6 minutes, 14 seconds.\n",
            "Growing trees.. Progress: 21%. Estimated remaining time: 5 minutes, 45 seconds.\n",
            "Growing trees.. Progress: 28%. Estimated remaining time: 5 minutes, 18 seconds.\n",
            "Growing trees.. Progress: 35%. Estimated remaining time: 4 minutes, 44 seconds.\n",
            "Growing trees.. Progress: 43%. Estimated remaining time: 4 minutes, 11 seconds.\n",
            "Growing trees.. Progress: 50%. Estimated remaining time: 3 minutes, 40 seconds.\n",
            "Growing trees.. Progress: 57%. Estimated remaining time: 3 minutes, 6 seconds.\n",
            "Growing trees.. Progress: 64%. Estimated remaining time: 2 minutes, 36 seconds.\n",
            "Growing trees.. Progress: 72%. Estimated remaining time: 2 minutes, 4 seconds.\n",
            "Growing trees.. Progress: 79%. Estimated remaining time: 1 minute, 33 seconds.\n",
            "Growing trees.. Progress: 86%. Estimated remaining time: 1 minute, 2 seconds.\n",
            "Growing trees.. Progress: 93%. Estimated remaining time: 31 seconds.\n",
            "Growing trees.. Progress: 7%. Estimated remaining time: 6 minutes, 51 seconds.\n",
            "Growing trees.. Progress: 14%. Estimated remaining time: 6 minutes, 20 seconds.\n",
            "Growing trees.. Progress: 22%. Estimated remaining time: 5 minutes, 41 seconds.\n",
            "Growing trees.. Progress: 29%. Estimated remaining time: 5 minutes, 9 seconds.\n",
            "Growing trees.. Progress: 36%. Estimated remaining time: 4 minutes, 39 seconds.\n",
            "Growing trees.. Progress: 43%. Estimated remaining time: 4 minutes, 8 seconds.\n",
            "Growing trees.. Progress: 50%. Estimated remaining time: 3 minutes, 36 seconds.\n",
            "Growing trees.. Progress: 58%. Estimated remaining time: 3 minutes, 5 seconds.\n",
            "Growing trees.. Progress: 65%. Estimated remaining time: 2 minutes, 32 seconds.\n",
            "Growing trees.. Progress: 72%. Estimated remaining time: 2 minutes, 2 seconds.\n",
            "Growing trees.. Progress: 79%. Estimated remaining time: 1 minute, 31 seconds.\n",
            "Growing trees.. Progress: 86%. Estimated remaining time: 59 seconds.\n",
            "Growing trees.. Progress: 94%. Estimated remaining time: 27 seconds.\n",
            "Growing trees.. Progress: 7%. Estimated remaining time: 6 minutes, 39 seconds.\n",
            "Growing trees.. Progress: 14%. Estimated remaining time: 6 minutes, 14 seconds.\n",
            "Growing trees.. Progress: 22%. Estimated remaining time: 5 minutes, 44 seconds.\n",
            "Growing trees.. Progress: 29%. Estimated remaining time: 5 minutes, 11 seconds.\n",
            "Growing trees.. Progress: 36%. Estimated remaining time: 4 minutes, 36 seconds.\n",
            "Growing trees.. Progress: 44%. Estimated remaining time: 4 minutes, 4 seconds.\n",
            "Growing trees.. Progress: 51%. Estimated remaining time: 3 minutes, 35 seconds.\n",
            "Growing trees.. Progress: 58%. Estimated remaining time: 3 minutes, 5 seconds.\n",
            "Growing trees.. Progress: 65%. Estimated remaining time: 2 minutes, 33 seconds.\n",
            "Growing trees.. Progress: 72%. Estimated remaining time: 2 minutes, 1 seconds.\n",
            "Growing trees.. Progress: 80%. Estimated remaining time: 1 minute, 29 seconds.\n",
            "Growing trees.. Progress: 87%. Estimated remaining time: 55 seconds.\n",
            "Growing trees.. Progress: 94%. Estimated remaining time: 24 seconds.\n",
            "Growing trees.. Progress: 7%. Estimated remaining time: 6 minutes, 39 seconds.\n",
            "Growing trees.. Progress: 14%. Estimated remaining time: 6 minutes, 20 seconds.\n",
            "Growing trees.. Progress: 21%. Estimated remaining time: 5 minutes, 41 seconds.\n",
            "Growing trees.. Progress: 29%. Estimated remaining time: 5 minutes, 12 seconds.\n",
            "Growing trees.. Progress: 36%. Estimated remaining time: 4 minutes, 39 seconds.\n",
            "Growing trees.. Progress: 43%. Estimated remaining time: 4 minutes, 9 seconds.\n",
            "Growing trees.. Progress: 50%. Estimated remaining time: 3 minutes, 36 seconds.\n",
            "Growing trees.. Progress: 58%. Estimated remaining time: 3 minutes, 4 seconds.\n",
            "Growing trees.. Progress: 65%. Estimated remaining time: 2 minutes, 33 seconds.\n",
            "Growing trees.. Progress: 72%. Estimated remaining time: 2 minutes, 3 seconds.\n",
            "Growing trees.. Progress: 79%. Estimated remaining time: 1 minute, 33 seconds.\n",
            "Growing trees.. Progress: 86%. Estimated remaining time: 1 minute, 0 seconds.\n",
            "Growing trees.. Progress: 93%. Estimated remaining time: 28 seconds.\n",
            "20251029 165511\t500\t13\t930\t20\t5\t54957000\t28\n"
          ]
        },
        {
          "metadata": {
            "tags": null
          },
          "name": "stderr",
          "output_type": "stream",
          "text": [
            "[mbo] 12: num.trees=500; max.depth=13; min.node.size=930; mtry=20 : y = 5.5e+07 : 2304.1 secs : infill_ei\n",
            "\n",
            "Saved the current state after iteration 13 in the file HT450.RDATA.\n",
            "\n"
          ]
        },
        {
          "metadata": {
            "tags": null
          },
          "name": "stdout",
          "output_type": "stream",
          "text": [
            "Growing trees.. Progress: 6%. Estimated remaining time: 7 minutes, 33 seconds.\n",
            "Growing trees.. Progress: 13%. Estimated remaining time: 7 minutes, 9 seconds.\n",
            "Growing trees.. Progress: 19%. Estimated remaining time: 6 minutes, 35 seconds.\n",
            "Growing trees.. Progress: 25%. Estimated remaining time: 6 minutes, 7 seconds.\n",
            "Growing trees.. Progress: 32%. Estimated remaining time: 5 minutes, 34 seconds.\n",
            "Growing trees.. Progress: 38%. Estimated remaining time: 5 minutes, 4 seconds.\n",
            "Growing trees.. Progress: 44%. Estimated remaining time: 4 minutes, 34 seconds.\n",
            "Growing trees.. Progress: 51%. Estimated remaining time: 4 minutes, 1 seconds.\n",
            "Growing trees.. Progress: 58%. Estimated remaining time: 3 minutes, 28 seconds.\n",
            "Growing trees.. Progress: 64%. Estimated remaining time: 2 minutes, 58 seconds.\n",
            "Growing trees.. Progress: 70%. Estimated remaining time: 2 minutes, 27 seconds.\n",
            "Growing trees.. Progress: 76%. Estimated remaining time: 1 minute, 56 seconds.\n",
            "Growing trees.. Progress: 83%. Estimated remaining time: 1 minute, 24 seconds.\n",
            "Growing trees.. Progress: 89%. Estimated remaining time: 53 seconds.\n",
            "Growing trees.. Progress: 95%. Estimated remaining time: 23 seconds.\n",
            "Growing trees.. Progress: 6%. Estimated remaining time: 8 minutes, 23 seconds.\n",
            "Growing trees.. Progress: 12%. Estimated remaining time: 7 minutes, 42 seconds.\n",
            "Growing trees.. Progress: 18%. Estimated remaining time: 7 minutes, 6 seconds.\n",
            "Growing trees.. Progress: 25%. Estimated remaining time: 6 minutes, 29 seconds.\n",
            "Growing trees.. Progress: 31%. Estimated remaining time: 5 minutes, 51 seconds.\n",
            "Growing trees.. Progress: 37%. Estimated remaining time: 5 minutes, 19 seconds.\n",
            "Growing trees.. Progress: 43%. Estimated remaining time: 4 minutes, 49 seconds.\n",
            "Growing trees.. Progress: 49%. Estimated remaining time: 4 minutes, 21 seconds.\n",
            "Growing trees.. Progress: 55%. Estimated remaining time: 3 minutes, 52 seconds.\n",
            "Growing trees.. Progress: 61%. Estimated remaining time: 3 minutes, 19 seconds.\n",
            "Growing trees.. Progress: 68%. Estimated remaining time: 2 minutes, 46 seconds.\n",
            "Growing trees.. Progress: 74%. Estimated remaining time: 2 minutes, 15 seconds.\n",
            "Growing trees.. Progress: 80%. Estimated remaining time: 1 minute, 43 seconds.\n",
            "Growing trees.. Progress: 86%. Estimated remaining time: 1 minute, 13 seconds.\n",
            "Growing trees.. Progress: 92%. Estimated remaining time: 42 seconds.\n",
            "Growing trees.. Progress: 98%. Estimated remaining time: 10 seconds.\n",
            "Growing trees.. Progress: 6%. Estimated remaining time: 8 minutes, 23 seconds.\n",
            "Growing trees.. Progress: 12%. Estimated remaining time: 7 minutes, 43 seconds.\n",
            "Growing trees.. Progress: 18%. Estimated remaining time: 7 minutes, 12 seconds.\n",
            "Growing trees.. Progress: 24%. Estimated remaining time: 6 minutes, 37 seconds.\n",
            "Growing trees.. Progress: 31%. Estimated remaining time: 6 minutes, 0 seconds.\n",
            "Growing trees.. Progress: 37%. Estimated remaining time: 5 minutes, 29 seconds.\n",
            "Growing trees.. Progress: 43%. Estimated remaining time: 4 minutes, 59 seconds.\n",
            "Growing trees.. Progress: 48%. Estimated remaining time: 4 minutes, 29 seconds.\n",
            "Growing trees.. Progress: 54%. Estimated remaining time: 3 minutes, 59 seconds.\n",
            "Growing trees.. Progress: 61%. Estimated remaining time: 3 minutes, 25 seconds.\n",
            "Growing trees.. Progress: 67%. Estimated remaining time: 2 minutes, 52 seconds.\n",
            "Growing trees.. Progress: 73%. Estimated remaining time: 2 minutes, 21 seconds.\n",
            "Growing trees.. Progress: 79%. Estimated remaining time: 1 minute, 51 seconds.\n",
            "Growing trees.. Progress: 85%. Estimated remaining time: 1 minute, 20 seconds.\n",
            "Growing trees.. Progress: 91%. Estimated remaining time: 46 seconds.\n",
            "Growing trees.. Progress: 97%. Estimated remaining time: 14 seconds.\n",
            "Growing trees.. Progress: 6%. Estimated remaining time: 8 minutes, 5 seconds.\n",
            "Growing trees.. Progress: 12%. Estimated remaining time: 7 minutes, 32 seconds.\n",
            "Growing trees.. Progress: 18%. Estimated remaining time: 7 minutes, 5 seconds.\n",
            "Growing trees.. Progress: 24%. Estimated remaining time: 6 minutes, 33 seconds.\n",
            "Growing trees.. Progress: 31%. Estimated remaining time: 5 minutes, 58 seconds.\n",
            "Growing trees.. Progress: 37%. Estimated remaining time: 5 minutes, 26 seconds.\n",
            "Growing trees.. Progress: 43%. Estimated remaining time: 4 minutes, 52 seconds.\n",
            "Growing trees.. Progress: 49%. Estimated remaining time: 4 minutes, 20 seconds.\n",
            "Growing trees.. Progress: 55%. Estimated remaining time: 3 minutes, 52 seconds.\n",
            "Growing trees.. Progress: 61%. Estimated remaining time: 3 minutes, 22 seconds.\n",
            "Growing trees.. Progress: 67%. Estimated remaining time: 2 minutes, 51 seconds.\n",
            "Growing trees.. Progress: 73%. Estimated remaining time: 2 minutes, 20 seconds.\n",
            "Growing trees.. Progress: 79%. Estimated remaining time: 1 minute, 47 seconds.\n",
            "Growing trees.. Progress: 86%. Estimated remaining time: 1 minute, 14 seconds.\n",
            "Growing trees.. Progress: 92%. Estimated remaining time: 43 seconds.\n",
            "Growing trees.. Progress: 97%. Estimated remaining time: 13 seconds.\n",
            "Growing trees.. Progress: 6%. Estimated remaining time: 8 minutes, 4 seconds.\n",
            "Growing trees.. Progress: 13%. Estimated remaining time: 7 minutes, 17 seconds.\n",
            "Growing trees.. Progress: 19%. Estimated remaining time: 6 minutes, 45 seconds.\n",
            "Growing trees.. Progress: 25%. Estimated remaining time: 6 minutes, 16 seconds.\n",
            "Growing trees.. Progress: 32%. Estimated remaining time: 5 minutes, 44 seconds.\n",
            "Growing trees.. Progress: 38%. Estimated remaining time: 5 minutes, 11 seconds.\n",
            "Growing trees.. Progress: 44%. Estimated remaining time: 4 minutes, 41 seconds.\n",
            "Growing trees.. Progress: 51%. Estimated remaining time: 4 minutes, 7 seconds.\n",
            "Growing trees.. Progress: 57%. Estimated remaining time: 3 minutes, 34 seconds.\n",
            "Growing trees.. Progress: 64%. Estimated remaining time: 2 minutes, 58 seconds.\n",
            "Growing trees.. Progress: 70%. Estimated remaining time: 2 minutes, 26 seconds.\n",
            "Growing trees.. Progress: 77%. Estimated remaining time: 1 minute, 56 seconds.\n",
            "Growing trees.. Progress: 82%. Estimated remaining time: 1 minute, 28 seconds.\n",
            "Growing trees.. Progress: 89%. Estimated remaining time: 56 seconds.\n",
            "Growing trees.. Progress: 95%. Estimated remaining time: 26 seconds.\n",
            "20251029 173951\t500\t30\t670\t18\t5\t55524000\t29\n"
          ]
        },
        {
          "metadata": {
            "tags": null
          },
          "name": "stderr",
          "output_type": "stream",
          "text": [
            "[mbo] 13: num.trees=500; max.depth=30; min.node.size=670; mtry=18 : y = 5.55e+07 : 2679.0 secs : infill_ei\n",
            "\n",
            "Saved the current state after iteration 14 in the file HT450.RDATA.\n",
            "\n"
          ]
        },
        {
          "metadata": {
            "tags": null
          },
          "name": "stdout",
          "output_type": "stream",
          "text": [
            "Growing trees.. Progress: 23%. Estimated remaining time: 1 minute, 41 seconds.\n",
            "Growing trees.. Progress: 47%. Estimated remaining time: 1 minute, 10 seconds.\n",
            "Growing trees.. Progress: 69%. Estimated remaining time: 41 seconds.\n",
            "Growing trees.. Progress: 93%. Estimated remaining time: 8 seconds.\n",
            "Growing trees.. Progress: 23%. Estimated remaining time: 1 minute, 41 seconds.\n",
            "Growing trees.. Progress: 47%. Estimated remaining time: 1 minute, 8 seconds.\n",
            "Growing trees.. Progress: 71%. Estimated remaining time: 37 seconds.\n",
            "Growing trees.. Progress: 94%. Estimated remaining time: 7 seconds.\n",
            "Growing trees.. Progress: 23%. Estimated remaining time: 1 minute, 43 seconds.\n",
            "Growing trees.. Progress: 47%. Estimated remaining time: 1 minute, 10 seconds.\n",
            "Growing trees.. Progress: 70%. Estimated remaining time: 40 seconds.\n",
            "Growing trees.. Progress: 93%. Estimated remaining time: 8 seconds.\n",
            "Growing trees.. Progress: 22%. Estimated remaining time: 1 minute, 49 seconds.\n",
            "Growing trees.. Progress: 45%. Estimated remaining time: 1 minute, 14 seconds.\n",
            "Growing trees.. Progress: 68%. Estimated remaining time: 43 seconds.\n",
            "Growing trees.. Progress: 92%. Estimated remaining time: 10 seconds.\n",
            "Growing trees.. Progress: 24%. Estimated remaining time: 1 minute, 39 seconds.\n",
            "Growing trees.. Progress: 48%. Estimated remaining time: 1 minute, 7 seconds.\n",
            "Growing trees.. Progress: 72%. Estimated remaining time: 36 seconds.\n",
            "Growing trees.. Progress: 96%. Estimated remaining time: 5 seconds.\n",
            "20251029 175219\t300\t30\t878\t8\t5\t54855000\t30\n"
          ]
        },
        {
          "metadata": {
            "tags": null
          },
          "name": "stderr",
          "output_type": "stream",
          "text": [
            "[mbo] 14: num.trees=300; max.depth=30; min.node.size=878; mtry=8 : y = 5.49e+07 : 747.4 secs : infill_ei\n",
            "\n",
            "Saved the current state after iteration 15 in the file HT450.RDATA.\n",
            "\n"
          ]
        },
        {
          "metadata": {
            "tags": null
          },
          "name": "stdout",
          "output_type": "stream",
          "text": [
            "Growing trees.. Progress: 6%. Estimated remaining time: 8 minutes, 11 seconds.\n",
            "Growing trees.. Progress: 13%. Estimated remaining time: 7 minutes, 15 seconds.\n",
            "Growing trees.. Progress: 19%. Estimated remaining time: 6 minutes, 38 seconds.\n",
            "Growing trees.. Progress: 26%. Estimated remaining time: 6 minutes, 7 seconds.\n",
            "Growing trees.. Progress: 32%. Estimated remaining time: 5 minutes, 34 seconds.\n",
            "Growing trees.. Progress: 39%. Estimated remaining time: 5 minutes, 1 seconds.\n",
            "Growing trees.. Progress: 45%. Estimated remaining time: 4 minutes, 27 seconds.\n",
            "Growing trees.. Progress: 52%. Estimated remaining time: 3 minutes, 57 seconds.\n",
            "Growing trees.. Progress: 58%. Estimated remaining time: 3 minutes, 27 seconds.\n",
            "Growing trees.. Progress: 65%. Estimated remaining time: 2 minutes, 54 seconds.\n",
            "Growing trees.. Progress: 71%. Estimated remaining time: 2 minutes, 21 seconds.\n",
            "Growing trees.. Progress: 78%. Estimated remaining time: 1 minute, 48 seconds.\n",
            "Growing trees.. Progress: 85%. Estimated remaining time: 1 minute, 14 seconds.\n",
            "Growing trees.. Progress: 91%. Estimated remaining time: 41 seconds.\n",
            "Growing trees.. Progress: 98%. Estimated remaining time: 10 seconds.\n",
            "Growing trees.. Progress: 6%. Estimated remaining time: 8 minutes, 11 seconds.\n",
            "Growing trees.. Progress: 12%. Estimated remaining time: 7 minutes, 29 seconds.\n",
            "Growing trees.. Progress: 19%. Estimated remaining time: 6 minutes, 52 seconds.\n",
            "Growing trees.. Progress: 25%. Estimated remaining time: 6 minutes, 15 seconds.\n",
            "Growing trees.. Progress: 31%. Estimated remaining time: 5 minutes, 42 seconds.\n",
            "Growing trees.. Progress: 38%. Estimated remaining time: 5 minutes, 9 seconds.\n",
            "Growing trees.. Progress: 44%. Estimated remaining time: 4 minutes, 40 seconds.\n",
            "Growing trees.. Progress: 50%. Estimated remaining time: 4 minutes, 10 seconds.\n",
            "Growing trees.. Progress: 57%. Estimated remaining time: 3 minutes, 37 seconds.\n",
            "Growing trees.. Progress: 63%. Estimated remaining time: 3 minutes, 5 seconds.\n",
            "Growing trees.. Progress: 69%. Estimated remaining time: 2 minutes, 33 seconds.\n",
            "Growing trees.. Progress: 76%. Estimated remaining time: 2 minutes, 3 seconds.\n",
            "Growing trees.. Progress: 82%. Estimated remaining time: 1 minute, 30 seconds.\n",
            "Growing trees.. Progress: 88%. Estimated remaining time: 58 seconds.\n",
            "Growing trees.. Progress: 95%. Estimated remaining time: 25 seconds.\n",
            "Growing trees.. Progress: 6%. Estimated remaining time: 8 minutes, 11 seconds.\n",
            "Growing trees.. Progress: 13%. Estimated remaining time: 7 minutes, 22 seconds.\n",
            "Growing trees.. Progress: 19%. Estimated remaining time: 6 minutes, 43 seconds.\n",
            "Growing trees.. Progress: 26%. Estimated remaining time: 6 minutes, 10 seconds.\n",
            "Growing trees.. Progress: 32%. Estimated remaining time: 5 minutes, 42 seconds.\n",
            "Growing trees.. Progress: 38%. Estimated remaining time: 5 minutes, 11 seconds.\n",
            "Growing trees.. Progress: 44%. Estimated remaining time: 4 minutes, 42 seconds.\n",
            "Growing trees.. Progress: 51%. Estimated remaining time: 4 minutes, 8 seconds.\n",
            "Growing trees.. Progress: 57%. Estimated remaining time: 3 minutes, 37 seconds.\n",
            "Growing trees.. Progress: 63%. Estimated remaining time: 3 minutes, 6 seconds.\n",
            "Growing trees.. Progress: 69%. Estimated remaining time: 2 minutes, 39 seconds.\n",
            "Growing trees.. Progress: 74%. Estimated remaining time: 2 minutes, 10 seconds.\n",
            "Growing trees.. Progress: 81%. Estimated remaining time: 1 minute, 35 seconds.\n",
            "Growing trees.. Progress: 87%. Estimated remaining time: 1 minute, 4 seconds.\n",
            "Growing trees.. Progress: 94%. Estimated remaining time: 30 seconds.\n",
            "Growing trees.. Progress: 6%. Estimated remaining time: 7 minutes, 50 seconds.\n",
            "Growing trees.. Progress: 13%. Estimated remaining time: 7 minutes, 15 seconds.\n",
            "Growing trees.. Progress: 19%. Estimated remaining time: 6 minutes, 54 seconds.\n",
            "Growing trees.. Progress: 25%. Estimated remaining time: 6 minutes, 21 seconds.\n",
            "Growing trees.. Progress: 32%. Estimated remaining time: 5 minutes, 44 seconds.\n",
            "Growing trees.. Progress: 38%. Estimated remaining time: 5 minutes, 16 seconds.\n",
            "Growing trees.. Progress: 44%. Estimated remaining time: 4 minutes, 45 seconds.\n",
            "Growing trees.. Progress: 50%. Estimated remaining time: 4 minutes, 15 seconds.\n",
            "Growing trees.. Progress: 56%. Estimated remaining time: 3 minutes, 43 seconds.\n",
            "Growing trees.. Progress: 62%. Estimated remaining time: 3 minutes, 11 seconds.\n",
            "Growing trees.. Progress: 69%. Estimated remaining time: 2 minutes, 36 seconds.\n",
            "Growing trees.. Progress: 76%. Estimated remaining time: 2 minutes, 3 seconds.\n",
            "Growing trees.. Progress: 82%. Estimated remaining time: 1 minute, 32 seconds.\n",
            "Growing trees.. Progress: 88%. Estimated remaining time: 1 minute, 1 seconds.\n",
            "Growing trees.. Progress: 94%. Estimated remaining time: 29 seconds.\n",
            "Growing trees.. Progress: 6%. Estimated remaining time: 7 minutes, 44 seconds.\n",
            "Growing trees.. Progress: 13%. Estimated remaining time: 7 minutes, 5 seconds.\n",
            "Growing trees.. Progress: 19%. Estimated remaining time: 6 minutes, 43 seconds.\n",
            "Growing trees.. Progress: 26%. Estimated remaining time: 6 minutes, 10 seconds.\n",
            "Growing trees.. Progress: 32%. Estimated remaining time: 5 minutes, 36 seconds.\n",
            "Growing trees.. Progress: 39%. Estimated remaining time: 5 minutes, 4 seconds.\n",
            "Growing trees.. Progress: 45%. Estimated remaining time: 4 minutes, 32 seconds.\n",
            "Growing trees.. Progress: 52%. Estimated remaining time: 3 minutes, 57 seconds.\n",
            "Growing trees.. Progress: 59%. Estimated remaining time: 3 minutes, 23 seconds.\n",
            "Growing trees.. Progress: 65%. Estimated remaining time: 2 minutes, 51 seconds.\n",
            "Growing trees.. Progress: 71%. Estimated remaining time: 2 minutes, 22 seconds.\n",
            "Growing trees.. Progress: 78%. Estimated remaining time: 1 minute, 50 seconds.\n",
            "Growing trees.. Progress: 84%. Estimated remaining time: 1 minute, 17 seconds.\n",
            "Growing trees.. Progress: 91%. Estimated remaining time: 45 seconds.\n",
            "Growing trees.. Progress: 97%. Estimated remaining time: 12 seconds.\n",
            "20251029 183555\t388\t30\t1\t20\t5\t48852000\t31\n"
          ]
        },
        {
          "metadata": {
            "tags": null
          },
          "name": "stderr",
          "output_type": "stream",
          "text": [
            "[mbo] 15: num.trees=388; max.depth=30; min.node.size=1; mtry=20 : y = 4.89e+07 : 2614.5 secs : infill_ei\n",
            "\n",
            "Saved the current state after iteration 16 in the file HT450.RDATA.\n",
            "\n"
          ]
        },
        {
          "metadata": {
            "tags": null
          },
          "name": "stdout",
          "output_type": "stream",
          "text": [
            "Growing trees.. Progress: 15%. Estimated remaining time: 2 minutes, 57 seconds.\n",
            "Growing trees.. Progress: 29%. Estimated remaining time: 2 minutes, 29 seconds.\n",
            "Growing trees.. Progress: 44%. Estimated remaining time: 2 minutes, 0 seconds.\n",
            "Growing trees.. Progress: 58%. Estimated remaining time: 1 minute, 29 seconds.\n",
            "Growing trees.. Progress: 72%. Estimated remaining time: 59 seconds.\n",
            "Growing trees.. Progress: 87%. Estimated remaining time: 28 seconds.\n",
            "Growing trees.. Progress: 15%. Estimated remaining time: 3 minutes, 0 seconds.\n",
            "Growing trees.. Progress: 29%. Estimated remaining time: 2 minutes, 30 seconds.\n",
            "Growing trees.. Progress: 44%. Estimated remaining time: 2 minutes, 1 seconds.\n",
            "Growing trees.. Progress: 58%. Estimated remaining time: 1 minute, 31 seconds.\n",
            "Growing trees.. Progress: 72%. Estimated remaining time: 59 seconds.\n",
            "Growing trees.. Progress: 87%. Estimated remaining time: 28 seconds.\n",
            "Growing trees.. Progress: 15%. Estimated remaining time: 3 minutes, 0 seconds.\n",
            "Growing trees.. Progress: 29%. Estimated remaining time: 2 minutes, 28 seconds.\n",
            "Growing trees.. Progress: 44%. Estimated remaining time: 2 minutes, 1 seconds.\n",
            "Growing trees.. Progress: 58%. Estimated remaining time: 1 minute, 29 seconds.\n",
            "Growing trees.. Progress: 73%. Estimated remaining time: 58 seconds.\n",
            "Growing trees.. Progress: 88%. Estimated remaining time: 26 seconds.\n",
            "Growing trees.. Progress: 15%. Estimated remaining time: 3 minutes, 0 seconds.\n",
            "Growing trees.. Progress: 30%. Estimated remaining time: 2 minutes, 27 seconds.\n",
            "Growing trees.. Progress: 45%. Estimated remaining time: 1 minute, 56 seconds.\n",
            "Growing trees.. Progress: 59%. Estimated remaining time: 1 minute, 27 seconds.\n",
            "Growing trees.. Progress: 73%. Estimated remaining time: 57 seconds.\n",
            "Growing trees.. Progress: 87%. Estimated remaining time: 27 seconds.\n",
            "Growing trees.. Progress: 15%. Estimated remaining time: 3 minutes, 0 seconds.\n",
            "Growing trees.. Progress: 29%. Estimated remaining time: 2 minutes, 29 seconds.\n",
            "Growing trees.. Progress: 44%. Estimated remaining time: 1 minute, 58 seconds.\n",
            "Growing trees.. Progress: 58%. Estimated remaining time: 1 minute, 29 seconds.\n",
            "Growing trees.. Progress: 73%. Estimated remaining time: 58 seconds.\n",
            "Growing trees.. Progress: 88%. Estimated remaining time: 26 seconds.\n",
            "20251029 185516\t417\t9\t319\t16\t5\t55080000\t32\n"
          ]
        },
        {
          "metadata": {
            "tags": null
          },
          "name": "stderr",
          "output_type": "stream",
          "text": [
            "[mbo] 16: num.trees=417; max.depth=9; min.node.size=319; mtry=16 : y = 5.51e+07 : 1160.3 secs : infill_ei\n",
            "\n",
            "Saved the current state after iteration 17 in the file HT450.RDATA.\n",
            "\n"
          ]
        },
        {
          "metadata": {
            "tags": null
          },
          "name": "stdout",
          "output_type": "stream",
          "text": [
            "Growing trees.. Progress: 6%. Estimated remaining time: 8 minutes, 5 seconds.\n",
            "Growing trees.. Progress: 12%. Estimated remaining time: 7 minutes, 18 seconds.\n",
            "Growing trees.. Progress: 19%. Estimated remaining time: 6 minutes, 41 seconds.\n",
            "Growing trees.. Progress: 25%. Estimated remaining time: 6 minutes, 11 seconds.\n",
            "Growing trees.. Progress: 32%. Estimated remaining time: 5 minutes, 39 seconds.\n",
            "Growing trees.. Progress: 38%. Estimated remaining time: 5 minutes, 10 seconds.\n",
            "Growing trees.. Progress: 44%. Estimated remaining time: 4 minutes, 38 seconds.\n",
            "Growing trees.. Progress: 51%. Estimated remaining time: 4 minutes, 5 seconds.\n",
            "Growing trees.. Progress: 57%. Estimated remaining time: 3 minutes, 31 seconds.\n",
            "Growing trees.. Progress: 63%. Estimated remaining time: 3 minutes, 4 seconds.\n",
            "Growing trees.. Progress: 69%. Estimated remaining time: 2 minutes, 34 seconds.\n",
            "Growing trees.. Progress: 75%. Estimated remaining time: 2 minutes, 4 seconds.\n",
            "Growing trees.. Progress: 82%. Estimated remaining time: 1 minute, 31 seconds.\n",
            "Growing trees.. Progress: 88%. Estimated remaining time: 57 seconds.\n",
            "Growing trees.. Progress: 95%. Estimated remaining time: 26 seconds.\n",
            "Growing trees.. Progress: 6%. Estimated remaining time: 8 minutes, 5 seconds.\n",
            "Growing trees.. Progress: 12%. Estimated remaining time: 7 minutes, 25 seconds.\n",
            "Growing trees.. Progress: 19%. Estimated remaining time: 6 minutes, 50 seconds.\n",
            "Growing trees.. Progress: 25%. Estimated remaining time: 6 minutes, 18 seconds.\n",
            "Growing trees.. Progress: 31%. Estimated remaining time: 5 minutes, 51 seconds.\n",
            "Growing trees.. Progress: 37%. Estimated remaining time: 5 minutes, 19 seconds.\n",
            "Growing trees.. Progress: 43%. Estimated remaining time: 4 minutes, 49 seconds.\n",
            "Growing trees.. Progress: 50%. Estimated remaining time: 4 minutes, 17 seconds.\n",
            "Growing trees.. Progress: 56%. Estimated remaining time: 3 minutes, 46 seconds.\n",
            "Growing trees.. Progress: 62%. Estimated remaining time: 3 minutes, 16 seconds.\n",
            "Growing trees.. Progress: 68%. Estimated remaining time: 2 minutes, 44 seconds.\n",
            "Growing trees.. Progress: 74%. Estimated remaining time: 2 minutes, 13 seconds.\n",
            "Growing trees.. Progress: 80%. Estimated remaining time: 1 minute, 40 seconds.\n",
            "Growing trees.. Progress: 87%. Estimated remaining time: 1 minute, 7 seconds.\n",
            "Growing trees.. Progress: 93%. Estimated remaining time: 36 seconds.\n",
            "Growing trees.. Progress: 99%. Estimated remaining time: 5 seconds.\n",
            "Growing trees.. Progress: 6%. Estimated remaining time: 8 minutes, 23 seconds.\n",
            "Growing trees.. Progress: 12%. Estimated remaining time: 7 minutes, 42 seconds.\n",
            "Growing trees.. Progress: 18%. Estimated remaining time: 7 minutes, 6 seconds.\n",
            "Growing trees.. Progress: 24%. Estimated remaining time: 6 minutes, 40 seconds.\n",
            "Growing trees.. Progress: 31%. Estimated remaining time: 6 minutes, 5 seconds.\n",
            "Growing trees.. Progress: 37%. Estimated remaining time: 5 minutes, 29 seconds.\n",
            "Growing trees.. Progress: 43%. Estimated remaining time: 4 minutes, 59 seconds.\n",
            "Growing trees.. Progress: 49%. Estimated remaining time: 4 minutes, 30 seconds.\n",
            "Growing trees.. Progress: 54%. Estimated remaining time: 4 minutes, 2 seconds.\n",
            "Growing trees.. Progress: 60%. Estimated remaining time: 3 minutes, 29 seconds.\n",
            "Growing trees.. Progress: 67%. Estimated remaining time: 2 minutes, 55 seconds.\n",
            "Growing trees.. Progress: 72%. Estimated remaining time: 2 minutes, 25 seconds.\n",
            "Growing trees.. Progress: 78%. Estimated remaining time: 1 minute, 53 seconds.\n",
            "Growing trees.. Progress: 85%. Estimated remaining time: 1 minute, 21 seconds.\n",
            "Growing trees.. Progress: 91%. Estimated remaining time: 48 seconds.\n",
            "Growing trees.. Progress: 97%. Estimated remaining time: 15 seconds.\n",
            "Growing trees.. Progress: 6%. Estimated remaining time: 8 minutes, 5 seconds.\n",
            "Growing trees.. Progress: 12%. Estimated remaining time: 7 minutes, 34 seconds.\n",
            "Growing trees.. Progress: 18%. Estimated remaining time: 7 minutes, 3 seconds.\n",
            "Growing trees.. Progress: 24%. Estimated remaining time: 6 minutes, 32 seconds.\n",
            "Growing trees.. Progress: 30%. Estimated remaining time: 6 minutes, 4 seconds.\n",
            "Growing trees.. Progress: 36%. Estimated remaining time: 5 minutes, 29 seconds.\n",
            "Growing trees.. Progress: 42%. Estimated remaining time: 5 minutes, 2 seconds.\n",
            "Growing trees.. Progress: 48%. Estimated remaining time: 4 minutes, 26 seconds.\n",
            "Growing trees.. Progress: 54%. Estimated remaining time: 3 minutes, 56 seconds.\n",
            "Growing trees.. Progress: 61%. Estimated remaining time: 3 minutes, 24 seconds.\n",
            "Growing trees.. Progress: 67%. Estimated remaining time: 2 minutes, 53 seconds.\n",
            "Growing trees.. Progress: 72%. Estimated remaining time: 2 minutes, 23 seconds.\n",
            "Growing trees.. Progress: 79%. Estimated remaining time: 1 minute, 51 seconds.\n",
            "Growing trees.. Progress: 85%. Estimated remaining time: 1 minute, 18 seconds.\n",
            "Growing trees.. Progress: 91%. Estimated remaining time: 47 seconds.\n",
            "Growing trees.. Progress: 97%. Estimated remaining time: 15 seconds.\n",
            "Growing trees.. Progress: 6%. Estimated remaining time: 8 minutes, 5 seconds.\n",
            "Growing trees.. Progress: 12%. Estimated remaining time: 7 minutes, 25 seconds.\n",
            "Growing trees.. Progress: 19%. Estimated remaining time: 6 minutes, 46 seconds.\n",
            "Growing trees.. Progress: 25%. Estimated remaining time: 6 minutes, 18 seconds.\n",
            "Growing trees.. Progress: 32%. Estimated remaining time: 5 minutes, 42 seconds.\n",
            "Growing trees.. Progress: 38%. Estimated remaining time: 5 minutes, 5 seconds.\n",
            "Growing trees.. Progress: 44%. Estimated remaining time: 4 minutes, 35 seconds.\n",
            "Growing trees.. Progress: 51%. Estimated remaining time: 4 minutes, 3 seconds.\n",
            "Growing trees.. Progress: 57%. Estimated remaining time: 3 minutes, 33 seconds.\n",
            "Growing trees.. Progress: 63%. Estimated remaining time: 3 minutes, 4 seconds.\n",
            "Growing trees.. Progress: 69%. Estimated remaining time: 2 minutes, 32 seconds.\n",
            "Growing trees.. Progress: 76%. Estimated remaining time: 2 minutes, 0 seconds.\n",
            "Growing trees.. Progress: 82%. Estimated remaining time: 1 minute, 29 seconds.\n",
            "Growing trees.. Progress: 88%. Estimated remaining time: 58 seconds.\n",
            "Growing trees.. Progress: 94%. Estimated remaining time: 28 seconds.\n",
            "20251029 194003\t500\t24\t719\t18\t5\t56139000\t33\n",
            "20251029 194003\t500\t24\t719\t18\t5\t56139000\t33\n"
          ]
        },
        {
          "metadata": {
            "tags": null
          },
          "name": "stderr",
          "output_type": "stream",
          "text": [
            "[mbo] 17: num.trees=500; max.depth=24; min.node.size=719; mtry=18 : y = 5.61e+07 : 2686.4 secs : infill_ei\n",
            "\n",
            "Saved the current state after iteration 18 in the file HT450.RDATA.\n",
            "\n"
          ]
        },
        {
          "metadata": {
            "tags": null
          },
          "name": "stdout",
          "output_type": "stream",
          "text": [
            "Growing trees.. Progress: 5%. Estimated remaining time: 9 minutes, 3 seconds.\n",
            "Growing trees.. Progress: 11%. Estimated remaining time: 8 minutes, 37 seconds.\n",
            "Growing trees.. Progress: 17%. Estimated remaining time: 7 minutes, 55 seconds.\n",
            "Growing trees.. Progress: 22%. Estimated remaining time: 7 minutes, 23 seconds.\n",
            "Growing trees.. Progress: 28%. Estimated remaining time: 6 minutes, 48 seconds.\n",
            "Growing trees.. Progress: 34%. Estimated remaining time: 6 minutes, 14 seconds.\n",
            "Growing trees.. Progress: 39%. Estimated remaining time: 5 minutes, 45 seconds.\n",
            "Growing trees.. Progress: 44%. Estimated remaining time: 5 minutes, 19 seconds.\n",
            "Growing trees.. Progress: 50%. Estimated remaining time: 4 minutes, 46 seconds.\n",
            "Growing trees.. Progress: 56%. Estimated remaining time: 4 minutes, 11 seconds.\n",
            "Growing trees.. Progress: 62%. Estimated remaining time: 3 minutes, 37 seconds.\n",
            "Growing trees.. Progress: 67%. Estimated remaining time: 3 minutes, 4 seconds.\n",
            "Growing trees.. Progress: 73%. Estimated remaining time: 2 minutes, 32 seconds.\n",
            "Growing trees.. Progress: 78%. Estimated remaining time: 2 minutes, 2 seconds.\n",
            "Growing trees.. Progress: 84%. Estimated remaining time: 1 minute, 29 seconds.\n",
            "Growing trees.. Progress: 90%. Estimated remaining time: 56 seconds.\n",
            "Growing trees.. Progress: 96%. Estimated remaining time: 24 seconds.\n",
            "Growing trees.. Progress: 5%. Estimated remaining time: 9 minutes, 3 seconds.\n",
            "Growing trees.. Progress: 11%. Estimated remaining time: 8 minutes, 19 seconds.\n",
            "Growing trees.. Progress: 17%. Estimated remaining time: 7 minutes, 45 seconds.\n",
            "Growing trees.. Progress: 22%. Estimated remaining time: 7 minutes, 16 seconds.\n",
            "Growing trees.. Progress: 28%. Estimated remaining time: 6 minutes, 50 seconds.\n",
            "Growing trees.. Progress: 33%. Estimated remaining time: 6 minutes, 18 seconds.\n",
            "Growing trees.. Progress: 39%. Estimated remaining time: 5 minutes, 44 seconds.\n",
            "Growing trees.. Progress: 45%. Estimated remaining time: 5 minutes, 12 seconds.\n",
            "Growing trees.. Progress: 50%. Estimated remaining time: 4 minutes, 41 seconds.\n",
            "Growing trees.. Progress: 56%. Estimated remaining time: 4 minutes, 9 seconds.\n",
            "Growing trees.. Progress: 62%. Estimated remaining time: 3 minutes, 38 seconds.\n",
            "Growing trees.. Progress: 68%. Estimated remaining time: 3 minutes, 3 seconds.\n",
            "Growing trees.. Progress: 73%. Estimated remaining time: 2 minutes, 31 seconds.\n",
            "Growing trees.. Progress: 79%. Estimated remaining time: 1 minute, 59 seconds.\n",
            "Growing trees.. Progress: 84%. Estimated remaining time: 1 minute, 28 seconds.\n",
            "Growing trees.. Progress: 90%. Estimated remaining time: 57 seconds.\n",
            "Growing trees.. Progress: 95%. Estimated remaining time: 29 seconds.\n",
            "Growing trees.. Progress: 5%. Estimated remaining time: 11 minutes, 3 seconds.\n",
            "Growing trees.. Progress: 10%. Estimated remaining time: 9 minutes, 23 seconds.\n",
            "Growing trees.. Progress: 16%. Estimated remaining time: 8 minutes, 33 seconds.\n",
            "Growing trees.. Progress: 21%. Estimated remaining time: 7 minutes, 55 seconds.\n",
            "Growing trees.. Progress: 27%. Estimated remaining time: 7 minutes, 14 seconds.\n",
            "Growing trees.. Progress: 32%. Estimated remaining time: 6 minutes, 43 seconds.\n",
            "Growing trees.. Progress: 38%. Estimated remaining time: 6 minutes, 10 seconds.\n",
            "Growing trees.. Progress: 43%. Estimated remaining time: 5 minutes, 36 seconds.\n",
            "Growing trees.. Progress: 49%. Estimated remaining time: 5 minutes, 3 seconds.\n",
            "Growing trees.. Progress: 54%. Estimated remaining time: 4 minutes, 26 seconds.\n",
            "Growing trees.. Progress: 60%. Estimated remaining time: 3 minutes, 55 seconds.\n",
            "Growing trees.. Progress: 65%. Estimated remaining time: 3 minutes, 25 seconds.\n",
            "Growing trees.. Progress: 70%. Estimated remaining time: 2 minutes, 53 seconds.\n",
            "Growing trees.. Progress: 76%. Estimated remaining time: 2 minutes, 20 seconds.\n",
            "Growing trees.. Progress: 82%. Estimated remaining time: 1 minute, 47 seconds.\n",
            "Growing trees.. Progress: 87%. Estimated remaining time: 1 minute, 14 seconds.\n",
            "Growing trees.. Progress: 93%. Estimated remaining time: 43 seconds.\n",
            "Growing trees.. Progress: 98%. Estimated remaining time: 11 seconds.\n",
            "Growing trees.. Progress: 5%. Estimated remaining time: 10 minutes, 8 seconds.\n",
            "Growing trees.. Progress: 10%. Estimated remaining time: 9 minutes, 2 seconds.\n",
            "Growing trees.. Progress: 16%. Estimated remaining time: 8 minutes, 11 seconds.\n",
            "Growing trees.. Progress: 22%. Estimated remaining time: 7 minutes, 37 seconds.\n",
            "Growing trees.. Progress: 27%. Estimated remaining time: 7 minutes, 2 seconds.\n",
            "Growing trees.. Progress: 33%. Estimated remaining time: 6 minutes, 33 seconds.\n",
            "Growing trees.. Progress: 38%. Estimated remaining time: 5 minutes, 59 seconds.\n",
            "Growing trees.. Progress: 44%. Estimated remaining time: 5 minutes, 27 seconds.\n",
            "Growing trees.. Progress: 50%. Estimated remaining time: 4 minutes, 52 seconds.\n",
            "Growing trees.. Progress: 55%. Estimated remaining time: 4 minutes, 21 seconds.\n",
            "Growing trees.. Progress: 60%. Estimated remaining time: 3 minutes, 50 seconds.\n",
            "Growing trees.. Progress: 66%. Estimated remaining time: 3 minutes, 20 seconds.\n",
            "Growing trees.. Progress: 71%. Estimated remaining time: 2 minutes, 47 seconds.\n",
            "Growing trees.. Progress: 77%. Estimated remaining time: 2 minutes, 15 seconds.\n",
            "Growing trees.. Progress: 82%. Estimated remaining time: 1 minute, 42 seconds.\n",
            "Growing trees.. Progress: 88%. Estimated remaining time: 1 minute, 8 seconds.\n",
            "Growing trees.. Progress: 93%. Estimated remaining time: 38 seconds.\n",
            "Growing trees.. Progress: 99%. Estimated remaining time: 5 seconds.\n",
            "Growing trees.. Progress: 6%. Estimated remaining time: 8 minutes, 42 seconds.\n",
            "Growing trees.. Progress: 11%. Estimated remaining time: 8 minutes, 1 seconds.\n",
            "Growing trees.. Progress: 17%. Estimated remaining time: 7 minutes, 50 seconds.\n",
            "Growing trees.. Progress: 22%. Estimated remaining time: 7 minutes, 16 seconds.\n",
            "Growing trees.. Progress: 28%. Estimated remaining time: 6 minutes, 46 seconds.\n",
            "Growing trees.. Progress: 34%. Estimated remaining time: 6 minutes, 8 seconds.\n",
            "Growing trees.. Progress: 40%. Estimated remaining time: 5 minutes, 34 seconds.\n",
            "Growing trees.. Progress: 45%. Estimated remaining time: 5 minutes, 6 seconds.\n",
            "Growing trees.. Progress: 51%. Estimated remaining time: 4 minutes, 36 seconds.\n",
            "Growing trees.. Progress: 56%. Estimated remaining time: 4 minutes, 4 seconds.\n",
            "Growing trees.. Progress: 62%. Estimated remaining time: 3 minutes, 31 seconds.\n",
            "Growing trees.. Progress: 68%. Estimated remaining time: 2 minutes, 58 seconds.\n",
            "Growing trees.. Progress: 74%. Estimated remaining time: 2 minutes, 27 seconds.\n",
            "Growing trees.. Progress: 79%. Estimated remaining time: 1 minute, 54 seconds.\n",
            "Growing trees.. Progress: 85%. Estimated remaining time: 1 minute, 22 seconds.\n",
            "Growing trees.. Progress: 91%. Estimated remaining time: 50 seconds.\n",
            "Growing trees.. Progress: 97%. Estimated remaining time: 16 seconds.\n",
            "20251029 202953\t500\t28\t896\t20\t5\t55284000\t34\n"
          ]
        },
        {
          "metadata": {
            "tags": null
          },
          "name": "stderr",
          "output_type": "stream",
          "text": [
            "[mbo] 18: num.trees=500; max.depth=28; min.node.size=896; mtry=20 : y = 5.53e+07 : 2989.3 secs : infill_ei\n",
            "\n",
            "Saved the current state after iteration 19 in the file HT450.RDATA.\n",
            "\n"
          ]
        },
        {
          "metadata": {
            "tags": null
          },
          "name": "stdout",
          "output_type": "stream",
          "text": [
            "Growing trees.. Progress: 6%. Estimated remaining time: 8 minutes, 42 seconds.\n",
            "Growing trees.. Progress: 11%. Estimated remaining time: 8 minutes, 11 seconds.\n",
            "Growing trees.. Progress: 17%. Estimated remaining time: 7 minutes, 43 seconds.\n",
            "Growing trees.. Progress: 23%. Estimated remaining time: 7 minutes, 6 seconds.\n",
            "Growing trees.. Progress: 28%. Estimated remaining time: 6 minutes, 39 seconds.\n",
            "Growing trees.. Progress: 34%. Estimated remaining time: 6 minutes, 5 seconds.\n",
            "Growing trees.. Progress: 40%. Estimated remaining time: 5 minutes, 28 seconds.\n",
            "Growing trees.. Progress: 46%. Estimated remaining time: 4 minutes, 54 seconds.\n",
            "Growing trees.. Progress: 52%. Estimated remaining time: 4 minutes, 26 seconds.\n",
            "Growing trees.. Progress: 58%. Estimated remaining time: 3 minutes, 54 seconds.\n",
            "Growing trees.. Progress: 64%. Estimated remaining time: 3 minutes, 19 seconds.\n",
            "Growing trees.. Progress: 70%. Estimated remaining time: 2 minutes, 46 seconds.\n",
            "Growing trees.. Progress: 75%. Estimated remaining time: 2 minutes, 14 seconds.\n",
            "Growing trees.. Progress: 81%. Estimated remaining time: 1 minute, 44 seconds.\n",
            "Growing trees.. Progress: 87%. Estimated remaining time: 1 minute, 12 seconds.\n",
            "Growing trees.. Progress: 93%. Estimated remaining time: 40 seconds.\n",
            "Growing trees.. Progress: 98%. Estimated remaining time: 8 seconds.\n",
            "Growing trees.. Progress: 6%. Estimated remaining time: 8 minutes, 42 seconds.\n",
            "Growing trees.. Progress: 11%. Estimated remaining time: 8 minutes, 11 seconds.\n",
            "Growing trees.. Progress: 17%. Estimated remaining time: 7 minutes, 40 seconds.\n",
            "Growing trees.. Progress: 23%. Estimated remaining time: 7 minutes, 8 seconds.\n",
            "Growing trees.. Progress: 29%. Estimated remaining time: 6 minutes, 31 seconds.\n",
            "Growing trees.. Progress: 35%. Estimated remaining time: 5 minutes, 57 seconds.\n",
            "Growing trees.. Progress: 40%. Estimated remaining time: 5 minutes, 28 seconds.\n",
            "Growing trees.. Progress: 46%. Estimated remaining time: 4 minutes, 55 seconds.\n",
            "Growing trees.. Progress: 52%. Estimated remaining time: 4 minutes, 23 seconds.\n",
            "Growing trees.. Progress: 58%. Estimated remaining time: 3 minutes, 51 seconds.\n",
            "Growing trees.. Progress: 64%. Estimated remaining time: 3 minutes, 19 seconds.\n",
            "Growing trees.. Progress: 70%. Estimated remaining time: 2 minutes, 45 seconds.\n",
            "Growing trees.. Progress: 76%. Estimated remaining time: 2 minutes, 12 seconds.\n",
            "Growing trees.. Progress: 81%. Estimated remaining time: 1 minute, 41 seconds.\n",
            "Growing trees.. Progress: 87%. Estimated remaining time: 1 minute, 9 seconds.\n",
            "Growing trees.. Progress: 93%. Estimated remaining time: 39 seconds.\n",
            "Growing trees.. Progress: 99%. Estimated remaining time: 7 seconds.\n",
            "Growing trees.. Progress: 6%. Estimated remaining time: 8 minutes, 39 seconds.\n",
            "Growing trees.. Progress: 12%. Estimated remaining time: 7 minutes, 50 seconds.\n",
            "Growing trees.. Progress: 18%. Estimated remaining time: 7 minutes, 24 seconds.\n",
            "Growing trees.. Progress: 23%. Estimated remaining time: 6 minutes, 59 seconds.\n",
            "Growing trees.. Progress: 29%. Estimated remaining time: 6 minutes, 21 seconds.\n",
            "Growing trees.. Progress: 35%. Estimated remaining time: 5 minutes, 51 seconds.\n",
            "Growing trees.. Progress: 41%. Estimated remaining time: 5 minutes, 19 seconds.\n",
            "Growing trees.. Progress: 47%. Estimated remaining time: 4 minutes, 49 seconds.\n",
            "Growing trees.. Progress: 52%. Estimated remaining time: 4 minutes, 20 seconds.\n",
            "Growing trees.. Progress: 58%. Estimated remaining time: 3 minutes, 51 seconds.\n",
            "Growing trees.. Progress: 64%. Estimated remaining time: 3 minutes, 19 seconds.\n",
            "Growing trees.. Progress: 69%. Estimated remaining time: 2 minutes, 47 seconds.\n",
            "Growing trees.. Progress: 75%. Estimated remaining time: 2 minutes, 14 seconds.\n",
            "Growing trees.. Progress: 81%. Estimated remaining time: 1 minute, 41 seconds.\n",
            "Growing trees.. Progress: 87%. Estimated remaining time: 1 minute, 11 seconds.\n",
            "Growing trees.. Progress: 93%. Estimated remaining time: 39 seconds.\n",
            "Growing trees.. Progress: 99%. Estimated remaining time: 6 seconds.\n",
            "Growing trees.. Progress: 6%. Estimated remaining time: 8 minutes, 39 seconds.\n",
            "Growing trees.. Progress: 12%. Estimated remaining time: 8 minutes, 5 seconds.\n",
            "Growing trees.. Progress: 18%. Estimated remaining time: 7 minutes, 29 seconds.\n",
            "Growing trees.. Progress: 23%. Estimated remaining time: 7 minutes, 5 seconds.\n",
            "Growing trees.. Progress: 29%. Estimated remaining time: 6 minutes, 33 seconds.\n",
            "Growing trees.. Progress: 35%. Estimated remaining time: 5 minutes, 59 seconds.\n",
            "Growing trees.. Progress: 41%. Estimated remaining time: 5 minutes, 23 seconds.\n",
            "Growing trees.. Progress: 46%. Estimated remaining time: 4 minutes, 52 seconds.\n",
            "Growing trees.. Progress: 52%. Estimated remaining time: 4 minutes, 23 seconds.\n",
            "Growing trees.. Progress: 58%. Estimated remaining time: 3 minutes, 49 seconds.\n",
            "Growing trees.. Progress: 64%. Estimated remaining time: 3 minutes, 17 seconds.\n",
            "Growing trees.. Progress: 70%. Estimated remaining time: 2 minutes, 44 seconds.\n",
            "Growing trees.. Progress: 76%. Estimated remaining time: 2 minutes, 11 seconds.\n",
            "Growing trees.. Progress: 82%. Estimated remaining time: 1 minute, 38 seconds.\n",
            "Growing trees.. Progress: 88%. Estimated remaining time: 1 minute, 6 seconds.\n",
            "Growing trees.. Progress: 94%. Estimated remaining time: 33 seconds.\n",
            "Growing trees.. Progress: 100%. Estimated remaining time: 2 seconds.\n",
            "Growing trees.. Progress: 5%. Estimated remaining time: 9 minutes, 3 seconds.\n",
            "Growing trees.. Progress: 11%. Estimated remaining time: 8 minutes, 19 seconds.\n",
            "Growing trees.. Progress: 17%. Estimated remaining time: 7 minutes, 45 seconds.\n",
            "Growing trees.. Progress: 23%. Estimated remaining time: 7 minutes, 8 seconds.\n",
            "Growing trees.. Progress: 28%. Estimated remaining time: 6 minutes, 35 seconds.\n",
            "Growing trees.. Progress: 34%. Estimated remaining time: 6 minutes, 6 seconds.\n",
            "Growing trees.. Progress: 40%. Estimated remaining time: 5 minutes, 37 seconds.\n",
            "Growing trees.. Progress: 46%. Estimated remaining time: 5 minutes, 1 seconds.\n",
            "Growing trees.. Progress: 51%. Estimated remaining time: 4 minutes, 30 seconds.\n",
            "Growing trees.. Progress: 57%. Estimated remaining time: 4 minutes, 0 seconds.\n",
            "Growing trees.. Progress: 62%. Estimated remaining time: 3 minutes, 29 seconds.\n",
            "Growing trees.. Progress: 68%. Estimated remaining time: 2 minutes, 57 seconds.\n",
            "Growing trees.. Progress: 74%. Estimated remaining time: 2 minutes, 25 seconds.\n",
            "Growing trees.. Progress: 79%. Estimated remaining time: 1 minute, 54 seconds.\n",
            "Growing trees.. Progress: 85%. Estimated remaining time: 1 minute, 23 seconds.\n",
            "Growing trees.. Progress: 91%. Estimated remaining time: 49 seconds.\n",
            "Growing trees.. Progress: 97%. Estimated remaining time: 17 seconds.\n",
            "20251029 211718\t500\t11\t90\t28\t5\t55950000\t35\n"
          ]
        },
        {
          "metadata": {
            "tags": null
          },
          "name": "stderr",
          "output_type": "stream",
          "text": [
            "[mbo] 19: num.trees=500; max.depth=11; min.node.size=90; mtry=28 : y = 5.6e+07 : 2844.2 secs : infill_ei\n",
            "\n",
            "Saved the current state after iteration 20 in the file HT450.RDATA.\n",
            "\n",
            "Warning message in generateDesign(control$infill.opt.focussearch.points, ps.local, :\n",
            "“generateDesign could only produce 831 points instead of 1000!”\n"
          ]
        },
        {
          "metadata": {
            "tags": null
          },
          "name": "stdout",
          "output_type": "stream",
          "text": [
            "Growing trees.. Progress: 8%. Estimated remaining time: 5 minutes, 38 seconds.\n",
            "Growing trees.. Progress: 17%. Estimated remaining time: 5 minutes, 7 seconds.\n",
            "Growing trees.. Progress: 26%. Estimated remaining time: 4 minutes, 33 seconds.\n",
            "Growing trees.. Progress: 34%. Estimated remaining time: 4 minutes, 2 seconds.\n",
            "Growing trees.. Progress: 43%. Estimated remaining time: 3 minutes, 29 seconds.\n",
            "Growing trees.. Progress: 51%. Estimated remaining time: 2 minutes, 59 seconds.\n",
            "Growing trees.. Progress: 60%. Estimated remaining time: 2 minutes, 27 seconds.\n",
            "Growing trees.. Progress: 68%. Estimated remaining time: 1 minute, 56 seconds.\n",
            "Growing trees.. Progress: 77%. Estimated remaining time: 1 minute, 25 seconds.\n",
            "Growing trees.. Progress: 85%. Estimated remaining time: 53 seconds.\n",
            "Growing trees.. Progress: 94%. Estimated remaining time: 22 seconds.\n",
            "Growing trees.. Progress: 9%. Estimated remaining time: 5 minutes, 29 seconds.\n",
            "Growing trees.. Progress: 17%. Estimated remaining time: 5 minutes, 11 seconds.\n",
            "Growing trees.. Progress: 25%. Estimated remaining time: 4 minutes, 39 seconds.\n",
            "Growing trees.. Progress: 33%. Estimated remaining time: 4 minutes, 13 seconds.\n",
            "Growing trees.. Progress: 42%. Estimated remaining time: 3 minutes, 40 seconds.\n",
            "Growing trees.. Progress: 50%. Estimated remaining time: 3 minutes, 12 seconds.\n",
            "Growing trees.. Progress: 58%. Estimated remaining time: 2 minutes, 41 seconds.\n",
            "Growing trees.. Progress: 66%. Estimated remaining time: 2 minutes, 8 seconds.\n",
            "Growing trees.. Progress: 75%. Estimated remaining time: 1 minute, 36 seconds.\n",
            "Growing trees.. Progress: 82%. Estimated remaining time: 1 minute, 9 seconds.\n",
            "Growing trees.. Progress: 90%. Estimated remaining time: 36 seconds.\n",
            "Growing trees.. Progress: 99%. Estimated remaining time: 4 seconds.\n",
            "Growing trees.. Progress: 8%. Estimated remaining time: 5 minutes, 47 seconds.\n",
            "Growing trees.. Progress: 16%. Estimated remaining time: 5 minutes, 16 seconds.\n",
            "Growing trees.. Progress: 25%. Estimated remaining time: 4 minutes, 48 seconds.\n",
            "Growing trees.. Progress: 33%. Estimated remaining time: 4 minutes, 20 seconds.\n",
            "Growing trees.. Progress: 41%. Estimated remaining time: 3 minutes, 49 seconds.\n",
            "Growing trees.. Progress: 49%. Estimated remaining time: 3 minutes, 15 seconds.\n",
            "Growing trees.. Progress: 57%. Estimated remaining time: 2 minutes, 43 seconds.\n",
            "Growing trees.. Progress: 66%. Estimated remaining time: 2 minutes, 11 seconds.\n",
            "Growing trees.. Progress: 73%. Estimated remaining time: 1 minute, 43 seconds.\n",
            "Growing trees.. Progress: 82%. Estimated remaining time: 1 minute, 10 seconds.\n",
            "Growing trees.. Progress: 90%. Estimated remaining time: 39 seconds.\n",
            "Growing trees.. Progress: 98%. Estimated remaining time: 7 seconds.\n",
            "Growing trees.. Progress: 9%. Estimated remaining time: 5 minutes, 29 seconds.\n",
            "Growing trees.. Progress: 17%. Estimated remaining time: 5 minutes, 12 seconds.\n",
            "Growing trees.. Progress: 25%. Estimated remaining time: 4 minutes, 41 seconds.\n",
            "Growing trees.. Progress: 34%. Estimated remaining time: 4 minutes, 10 seconds.\n",
            "Growing trees.. Progress: 42%. Estimated remaining time: 3 minutes, 38 seconds.\n",
            "Growing trees.. Progress: 50%. Estimated remaining time: 3 minutes, 7 seconds.\n",
            "Growing trees.. Progress: 59%. Estimated remaining time: 2 minutes, 35 seconds.\n",
            "Growing trees.. Progress: 67%. Estimated remaining time: 2 minutes, 5 seconds.\n",
            "Growing trees.. Progress: 75%. Estimated remaining time: 1 minute, 34 seconds.\n",
            "Growing trees.. Progress: 83%. Estimated remaining time: 1 minute, 2 seconds.\n",
            "Growing trees.. Progress: 92%. Estimated remaining time: 30 seconds.\n",
            "Growing trees.. Progress: 9%. Estimated remaining time: 5 minutes, 21 seconds.\n",
            "Growing trees.. Progress: 17%. Estimated remaining time: 4 minutes, 54 seconds.\n",
            "Growing trees.. Progress: 26%. Estimated remaining time: 4 minutes, 27 seconds.\n",
            "Growing trees.. Progress: 35%. Estimated remaining time: 3 minutes, 56 seconds.\n",
            "Growing trees.. Progress: 44%. Estimated remaining time: 3 minutes, 22 seconds.\n",
            "Growing trees.. Progress: 52%. Estimated remaining time: 2 minutes, 54 seconds.\n",
            "Growing trees.. Progress: 61%. Estimated remaining time: 2 minutes, 23 seconds.\n",
            "Growing trees.. Progress: 70%. Estimated remaining time: 1 minute, 50 seconds.\n",
            "Growing trees.. Progress: 78%. Estimated remaining time: 1 minute, 18 seconds.\n",
            "Growing trees.. Progress: 87%. Estimated remaining time: 47 seconds.\n",
            "Growing trees.. Progress: 96%. Estimated remaining time: 15 seconds.\n",
            "20251029 215044\t500\t23\t559\t13\t5\t56043000\t36\n"
          ]
        },
        {
          "metadata": {
            "tags": null
          },
          "name": "stderr",
          "output_type": "stream",
          "text": [
            "[mbo] 20: num.trees=500; max.depth=23; min.node.size=559; mtry=13 : y = 5.6e+07 : 2005.2 secs : infill_ei\n",
            "\n",
            "Saved the current state after iteration 21 in the file HT450.RDATA.\n",
            "\n"
          ]
        },
        {
          "metadata": {
            "tags": null
          },
          "name": "stdout",
          "output_type": "stream",
          "text": [
            "Growing trees.. Progress: 4%. Estimated remaining time: 12 minutes, 9 seconds.\n",
            "Growing trees.. Progress: 9%. Estimated remaining time: 11 minutes, 9 seconds.\n",
            "Growing trees.. Progress: 13%. Estimated remaining time: 10 minutes, 47 seconds.\n",
            "Growing trees.. Progress: 17%. Estimated remaining time: 10 minutes, 20 seconds.\n",
            "Growing trees.. Progress: 21%. Estimated remaining time: 9 minutes, 58 seconds.\n",
            "Growing trees.. Progress: 25%. Estimated remaining time: 9 minutes, 20 seconds.\n",
            "Growing trees.. Progress: 30%. Estimated remaining time: 8 minutes, 47 seconds.\n",
            "Growing trees.. Progress: 34%. Estimated remaining time: 8 minutes, 14 seconds.\n",
            "Growing trees.. Progress: 38%. Estimated remaining time: 7 minutes, 42 seconds.\n",
            "Growing trees.. Progress: 42%. Estimated remaining time: 7 minutes, 13 seconds.\n",
            "Growing trees.. Progress: 47%. Estimated remaining time: 6 minutes, 37 seconds.\n",
            "Growing trees.. Progress: 51%. Estimated remaining time: 6 minutes, 4 seconds.\n",
            "Growing trees.. Progress: 56%. Estimated remaining time: 5 minutes, 30 seconds.\n",
            "Growing trees.. Progress: 60%. Estimated remaining time: 4 minutes, 56 seconds.\n",
            "Growing trees.. Progress: 64%. Estimated remaining time: 4 minutes, 25 seconds.\n",
            "Growing trees.. Progress: 68%. Estimated remaining time: 3 minutes, 54 seconds.\n",
            "Growing trees.. Progress: 73%. Estimated remaining time: 3 minutes, 21 seconds.\n",
            "Growing trees.. Progress: 77%. Estimated remaining time: 2 minutes, 49 seconds.\n",
            "Growing trees.. Progress: 82%. Estimated remaining time: 2 minutes, 16 seconds.\n",
            "Growing trees.. Progress: 86%. Estimated remaining time: 1 minute, 44 seconds.\n",
            "Growing trees.. Progress: 90%. Estimated remaining time: 1 minute, 11 seconds.\n",
            "Growing trees.. Progress: 95%. Estimated remaining time: 38 seconds.\n",
            "Growing trees.. Progress: 99%. Estimated remaining time: 5 seconds.\n",
            "Growing trees.. Progress: 4%. Estimated remaining time: 12 minutes, 9 seconds.\n",
            "Growing trees.. Progress: 9%. Estimated remaining time: 11 minutes, 30 seconds.\n",
            "Growing trees.. Progress: 13%. Estimated remaining time: 11 minutes, 2 seconds.\n",
            "Growing trees.. Progress: 17%. Estimated remaining time: 10 minutes, 34 seconds.\n",
            "Growing trees.. Progress: 21%. Estimated remaining time: 9 minutes, 58 seconds.\n",
            "Growing trees.. Progress: 26%. Estimated remaining time: 9 minutes, 20 seconds.\n",
            "Growing trees.. Progress: 30%. Estimated remaining time: 8 minutes, 47 seconds.\n",
            "Growing trees.. Progress: 34%. Estimated remaining time: 8 minutes, 18 seconds.\n",
            "Growing trees.. Progress: 38%. Estimated remaining time: 7 minutes, 47 seconds.\n",
            "Growing trees.. Progress: 42%. Estimated remaining time: 7 minutes, 18 seconds.\n",
            "Growing trees.. Progress: 46%. Estimated remaining time: 6 minutes, 46 seconds.\n",
            "Growing trees.. Progress: 51%. Estimated remaining time: 6 minutes, 13 seconds.\n",
            "Growing trees.. Progress: 55%. Estimated remaining time: 5 minutes, 37 seconds.\n",
            "Growing trees.. Progress: 59%. Estimated remaining time: 5 minutes, 6 seconds.\n",
            "Growing trees.. Progress: 63%. Estimated remaining time: 4 minutes, 36 seconds.\n",
            "Growing trees.. Progress: 68%. Estimated remaining time: 4 minutes, 4 seconds.\n",
            "Growing trees.. Progress: 72%. Estimated remaining time: 3 minutes, 32 seconds.\n",
            "Growing trees.. Progress: 76%. Estimated remaining time: 3 minutes, 2 seconds.\n",
            "Growing trees.. Progress: 80%. Estimated remaining time: 2 minutes, 29 seconds.\n",
            "Growing trees.. Progress: 84%. Estimated remaining time: 1 minute, 59 seconds.\n",
            "Growing trees.. Progress: 88%. Estimated remaining time: 1 minute, 31 seconds.\n",
            "Growing trees.. Progress: 92%. Estimated remaining time: 1 minute, 2 seconds.\n",
            "Growing trees.. Progress: 96%. Estimated remaining time: 30 seconds.\n",
            "Growing trees.. Progress: 100%. Estimated remaining time: 1 seconds.\n",
            "Growing trees.. Progress: 3%. Estimated remaining time: 14 minutes, 40 seconds.\n",
            "Growing trees.. Progress: 7%. Estimated remaining time: 13 minutes, 8 seconds.\n",
            "Growing trees.. Progress: 11%. Estimated remaining time: 12 minutes, 18 seconds.\n",
            "Growing trees.. Progress: 15%. Estimated remaining time: 11 minutes, 48 seconds.\n",
            "Growing trees.. Progress: 19%. Estimated remaining time: 11 minutes, 8 seconds.\n",
            "Growing trees.. Progress: 23%. Estimated remaining time: 10 minutes, 42 seconds.\n",
            "Growing trees.. Progress: 27%. Estimated remaining time: 10 minutes, 2 seconds.\n",
            "Growing trees.. Progress: 31%. Estimated remaining time: 9 minutes, 32 seconds.\n",
            "Growing trees.. Progress: 35%. Estimated remaining time: 9 minutes, 1 seconds.\n",
            "Growing trees.. Progress: 39%. Estimated remaining time: 8 minutes, 29 seconds.\n",
            "Growing trees.. Progress: 43%. Estimated remaining time: 7 minutes, 53 seconds.\n",
            "Growing trees.. Progress: 47%. Estimated remaining time: 7 minutes, 21 seconds.\n",
            "Growing trees.. Progress: 50%. Estimated remaining time: 6 minutes, 50 seconds.\n",
            "Growing trees.. Progress: 55%. Estimated remaining time: 6 minutes, 13 seconds.\n",
            "Growing trees.. Progress: 59%. Estimated remaining time: 5 minutes, 41 seconds.\n",
            "Growing trees.. Progress: 62%. Estimated remaining time: 5 minutes, 10 seconds.\n",
            "Growing trees.. Progress: 66%. Estimated remaining time: 4 minutes, 39 seconds.\n",
            "Growing trees.. Progress: 70%. Estimated remaining time: 4 minutes, 5 seconds.\n",
            "Growing trees.. Progress: 74%. Estimated remaining time: 3 minutes, 32 seconds.\n",
            "Growing trees.. Progress: 78%. Estimated remaining time: 2 minutes, 59 seconds.\n",
            "Growing trees.. Progress: 82%. Estimated remaining time: 2 minutes, 26 seconds.\n",
            "Growing trees.. Progress: 86%. Estimated remaining time: 1 minute, 53 seconds.\n",
            "Growing trees.. Progress: 90%. Estimated remaining time: 1 minute, 22 seconds.\n",
            "Growing trees.. Progress: 94%. Estimated remaining time: 51 seconds.\n",
            "Growing trees.. Progress: 97%. Estimated remaining time: 21 seconds.\n",
            "Growing trees.. Progress: 4%. Estimated remaining time: 13 minutes, 4 seconds.\n",
            "Growing trees.. Progress: 8%. Estimated remaining time: 12 minutes, 24 seconds.\n",
            "Growing trees.. Progress: 12%. Estimated remaining time: 12 minutes, 3 seconds.\n",
            "Growing trees.. Progress: 15%. Estimated remaining time: 11 minutes, 37 seconds.\n",
            "Growing trees.. Progress: 19%. Estimated remaining time: 11 minutes, 13 seconds.\n",
            "Growing trees.. Progress: 23%. Estimated remaining time: 10 minutes, 39 seconds.\n",
            "Growing trees.. Progress: 27%. Estimated remaining time: 9 minutes, 54 seconds.\n",
            "Growing trees.. Progress: 31%. Estimated remaining time: 9 minutes, 23 seconds.\n",
            "Growing trees.. Progress: 35%. Estimated remaining time: 8 minutes, 53 seconds.\n",
            "Growing trees.. Progress: 39%. Estimated remaining time: 8 minutes, 18 seconds.\n",
            "Growing trees.. Progress: 43%. Estimated remaining time: 7 minutes, 42 seconds.\n",
            "Growing trees.. Progress: 47%. Estimated remaining time: 7 minutes, 11 seconds.\n",
            "Growing trees.. Progress: 51%. Estimated remaining time: 6 minutes, 35 seconds.\n",
            "Growing trees.. Progress: 55%. Estimated remaining time: 6 minutes, 0 seconds.\n",
            "Growing trees.. Progress: 60%. Estimated remaining time: 5 minutes, 23 seconds.\n",
            "Growing trees.. Progress: 64%. Estimated remaining time: 4 minutes, 53 seconds.\n",
            "Growing trees.. Progress: 68%. Estimated remaining time: 4 minutes, 20 seconds.\n",
            "Growing trees.. Progress: 72%. Estimated remaining time: 3 minutes, 46 seconds.\n",
            "Growing trees.. Progress: 76%. Estimated remaining time: 3 minutes, 16 seconds.\n",
            "Growing trees.. Progress: 80%. Estimated remaining time: 2 minutes, 43 seconds.\n",
            "Growing trees.. Progress: 84%. Estimated remaining time: 2 minutes, 9 seconds.\n",
            "Growing trees.. Progress: 88%. Estimated remaining time: 1 minute, 39 seconds.\n",
            "Growing trees.. Progress: 92%. Estimated remaining time: 1 minute, 5 seconds.\n",
            "Growing trees.. Progress: 96%. Estimated remaining time: 33 seconds.\n",
            "Growing trees.. Progress: 100%. Estimated remaining time: 0 seconds.\n",
            "Growing trees.. Progress: 4%. Estimated remaining time: 12 minutes, 9 seconds.\n",
            "Growing trees.. Progress: 8%. Estimated remaining time: 11 minutes, 26 seconds.\n",
            "Growing trees.. Progress: 12%. Estimated remaining time: 11 minutes, 30 seconds.\n",
            "Growing trees.. Progress: 16%. Estimated remaining time: 11 minutes, 2 seconds.\n",
            "Growing trees.. Progress: 20%. Estimated remaining time: 10 minutes, 32 seconds.\n",
            "Growing trees.. Progress: 24%. Estimated remaining time: 10 minutes, 1 seconds.\n",
            "Growing trees.. Progress: 28%. Estimated remaining time: 9 minutes, 22 seconds.\n",
            "Growing trees.. Progress: 33%. Estimated remaining time: 8 minutes, 49 seconds.\n",
            "Growing trees.. Progress: 37%. Estimated remaining time: 8 minutes, 18 seconds.\n",
            "Growing trees.. Progress: 41%. Estimated remaining time: 7 minutes, 45 seconds.\n",
            "Growing trees.. Progress: 45%. Estimated remaining time: 7 minutes, 6 seconds.\n",
            "Growing trees.. Progress: 49%. Estimated remaining time: 6 minutes, 36 seconds.\n",
            "Growing trees.. Progress: 53%. Estimated remaining time: 6 minutes, 2 seconds.\n",
            "Growing trees.. Progress: 58%. Estimated remaining time: 5 minutes, 29 seconds.\n",
            "Growing trees.. Progress: 62%. Estimated remaining time: 4 minutes, 56 seconds.\n",
            "Growing trees.. Progress: 66%. Estimated remaining time: 4 minutes, 24 seconds.\n",
            "Growing trees.. Progress: 70%. Estimated remaining time: 3 minutes, 50 seconds.\n",
            "Growing trees.. Progress: 75%. Estimated remaining time: 3 minutes, 16 seconds.\n",
            "Growing trees.. Progress: 79%. Estimated remaining time: 2 minutes, 45 seconds.\n",
            "Growing trees.. Progress: 83%. Estimated remaining time: 2 minutes, 11 seconds.\n",
            "Growing trees.. Progress: 87%. Estimated remaining time: 1 minute, 37 seconds.\n",
            "Growing trees.. Progress: 92%. Estimated remaining time: 1 minute, 4 seconds.\n",
            "Growing trees.. Progress: 96%. Estimated remaining time: 32 seconds.\n",
            "20251029 225811\t500\t23\t647\t26\t5\t55872000\t37\n"
          ]
        },
        {
          "metadata": {
            "tags": null
          },
          "name": "stderr",
          "output_type": "stream",
          "text": [
            "[mbo] 21: num.trees=500; max.depth=23; min.node.size=647; mtry=26 : y = 5.59e+07 : 4045.9 secs : infill_ei\n",
            "\n",
            "Saved the current state after iteration 22 in the file HT450.RDATA.\n",
            "\n"
          ]
        },
        {
          "output_type": "stream",
          "name": "stdout",
          "text": [
            "Growing trees.. Progress: 11%. Estimated remaining time: 4 minutes, 9 seconds.\n",
            "Growing trees.. Progress: 22%. Estimated remaining time: 3 minutes, 42 seconds.\n",
            "Growing trees.. Progress: 33%. Estimated remaining time: 3 minutes, 9 seconds.\n",
            "Growing trees.. Progress: 44%. Estimated remaining time: 2 minutes, 39 seconds.\n",
            "Growing trees.. Progress: 54%. Estimated remaining time: 2 minutes, 13 seconds.\n",
            "Growing trees.. Progress: 65%. Estimated remaining time: 1 minute, 42 seconds.\n",
            "Growing trees.. Progress: 76%. Estimated remaining time: 1 minute, 10 seconds.\n",
            "Growing trees.. Progress: 88%. Estimated remaining time: 35 seconds.\n",
            "Growing trees.. Progress: 99%. Estimated remaining time: 2 seconds.\n",
            "Growing trees.. Progress: 11%. Estimated remaining time: 4 minutes, 9 seconds.\n",
            "Growing trees.. Progress: 22%. Estimated remaining time: 3 minutes, 42 seconds.\n",
            "Growing trees.. Progress: 34%. Estimated remaining time: 3 minutes, 6 seconds.\n",
            "Growing trees.. Progress: 45%. Estimated remaining time: 2 minutes, 35 seconds.\n",
            "Growing trees.. Progress: 56%. Estimated remaining time: 2 minutes, 4 seconds.\n",
            "Growing trees.. Progress: 67%. Estimated remaining time: 1 minute, 35 seconds.\n",
            "Growing trees.. Progress: 78%. Estimated remaining time: 1 minute, 3 seconds.\n",
            "Growing trees.. Progress: 89%. Estimated remaining time: 31 seconds.\n",
            "Growing trees.. Progress: 100%. Estimated remaining time: 0 seconds.\n",
            "Growing trees.. Progress: 11%. Estimated remaining time: 4 minutes, 9 seconds.\n",
            "Growing trees.. Progress: 22%. Estimated remaining time: 3 minutes, 41 seconds.\n",
            "Growing trees.. Progress: 33%. Estimated remaining time: 3 minutes, 9 seconds.\n",
            "Growing trees.. Progress: 45%. Estimated remaining time: 2 minutes, 35 seconds.\n",
            "Growing trees.. Progress: 56%. Estimated remaining time: 2 minutes, 2 seconds.\n",
            "Growing trees.. Progress: 68%. Estimated remaining time: 1 minute, 30 seconds.\n",
            "Growing trees.. Progress: 79%. Estimated remaining time: 59 seconds.\n",
            "Growing trees.. Progress: 90%. Estimated remaining time: 29 seconds.\n",
            "Growing trees.. Progress: 11%. Estimated remaining time: 4 minutes, 1 seconds.\n",
            "Growing trees.. Progress: 22%. Estimated remaining time: 3 minutes, 38 seconds.\n",
            "Growing trees.. Progress: 34%. Estimated remaining time: 3 minutes, 6 seconds.\n",
            "Growing trees.. Progress: 44%. Estimated remaining time: 2 minutes, 37 seconds.\n",
            "Growing trees.. Progress: 56%. Estimated remaining time: 2 minutes, 7 seconds.\n",
            "Growing trees.. Progress: 67%. Estimated remaining time: 1 minute, 35 seconds.\n",
            "Growing trees.. Progress: 78%. Estimated remaining time: 1 minute, 2 seconds.\n",
            "Growing trees.. Progress: 89%. Estimated remaining time: 30 seconds.\n",
            "Growing trees.. Progress: 11%. Estimated remaining time: 4 minutes, 9 seconds.\n",
            "Growing trees.. Progress: 23%. Estimated remaining time: 3 minutes, 33 seconds.\n",
            "Growing trees.. Progress: 35%. Estimated remaining time: 2 minutes, 57 seconds.\n",
            "Growing trees.. Progress: 47%. Estimated remaining time: 2 minutes, 24 seconds.\n",
            "Growing trees.. Progress: 59%. Estimated remaining time: 1 minute, 52 seconds.\n",
            "Growing trees.. Progress: 71%. Estimated remaining time: 1 minute, 19 seconds.\n",
            "Growing trees.. Progress: 83%. Estimated remaining time: 46 seconds.\n",
            "Growing trees.. Progress: 94%. Estimated remaining time: 14 seconds.\n",
            "20251029 232301\t290\t23\t704\t17\t5\t55587000\t38\n"
          ]
        },
        {
          "output_type": "stream",
          "name": "stderr",
          "text": [
            "[mbo] 22: num.trees=290; max.depth=23; min.node.size=704; mtry=17 : y = 5.56e+07 : 1488.1 secs : infill_ei\n",
            "\n",
            "Saved the current state after iteration 23 in the file HT450.RDATA.\n",
            "\n"
          ]
        },
        {
          "output_type": "stream",
          "name": "stdout",
          "text": [
            "Growing trees.. Progress: 34%. Estimated remaining time: 59 seconds.\n",
            "Growing trees.. Progress: 67%. Estimated remaining time: 30 seconds.\n",
            "Growing trees.. Progress: 34%. Estimated remaining time: 1 minute, 0 seconds.\n",
            "Growing trees.. Progress: 67%. Estimated remaining time: 29 seconds.\n",
            "Growing trees.. Progress: 34%. Estimated remaining time: 1 minute, 0 seconds.\n",
            "Growing trees.. Progress: 68%. Estimated remaining time: 28 seconds.\n",
            "Growing trees.. Progress: 32%. Estimated remaining time: 1 minute, 5 seconds.\n",
            "Growing trees.. Progress: 64%. Estimated remaining time: 34 seconds.\n",
            "Growing trees.. Progress: 98%. Estimated remaining time: 2 seconds.\n",
            "Growing trees.. Progress: 34%. Estimated remaining time: 59 seconds.\n",
            "Growing trees.. Progress: 68%. Estimated remaining time: 29 seconds.\n",
            "20251029 233307\t500\t26\t643\t2\t5\t53856000\t39\n"
          ]
        },
        {
          "output_type": "stream",
          "name": "stderr",
          "text": [
            "[mbo] 23: num.trees=500; max.depth=26; min.node.size=643; mtry=2 : y = 5.39e+07 : 605.0 secs : infill_ei\n",
            "\n",
            "Saved the current state after iteration 24 in the file HT450.RDATA.\n",
            "\n",
            "Warning message in generateDesign(control$infill.opt.focussearch.points, ps.local, :\n",
            "“generateDesign could only produce 755 points instead of 1000!”\n"
          ]
        },
        {
          "output_type": "stream",
          "name": "stdout",
          "text": [
            "Growing trees.. Progress: 6%. Estimated remaining time: 8 minutes, 5 seconds.\n",
            "Growing trees.. Progress: 12%. Estimated remaining time: 7 minutes, 43 seconds.\n",
            "Growing trees.. Progress: 18%. Estimated remaining time: 7 minutes, 3 seconds.\n",
            "Growing trees.. Progress: 24%. Estimated remaining time: 6 minutes, 35 seconds.\n",
            "Growing trees.. Progress: 30%. Estimated remaining time: 6 minutes, 7 seconds.\n",
            "Growing trees.. Progress: 36%. Estimated remaining time: 5 minutes, 32 seconds.\n",
            "Growing trees.. Progress: 42%. Estimated remaining time: 5 minutes, 3 seconds.\n",
            "Growing trees.. Progress: 48%. Estimated remaining time: 4 minutes, 35 seconds.\n",
            "Growing trees.. Progress: 54%. Estimated remaining time: 4 minutes, 2 seconds.\n",
            "Growing trees.. Progress: 60%. Estimated remaining time: 3 minutes, 27 seconds.\n",
            "Growing trees.. Progress: 66%. Estimated remaining time: 2 minutes, 56 seconds.\n",
            "Growing trees.. Progress: 72%. Estimated remaining time: 2 minutes, 25 seconds.\n",
            "Growing trees.. Progress: 78%. Estimated remaining time: 1 minute, 54 seconds.\n",
            "Growing trees.. Progress: 84%. Estimated remaining time: 1 minute, 23 seconds.\n",
            "Growing trees.. Progress: 90%. Estimated remaining time: 50 seconds.\n",
            "Growing trees.. Progress: 97%. Estimated remaining time: 17 seconds.\n",
            "Growing trees.. Progress: 6%. Estimated remaining time: 8 minutes, 5 seconds.\n",
            "Growing trees.. Progress: 12%. Estimated remaining time: 7 minutes, 34 seconds.\n",
            "Growing trees.. Progress: 18%. Estimated remaining time: 7 minutes, 3 seconds.\n",
            "Growing trees.. Progress: 24%. Estimated remaining time: 6 minutes, 28 seconds.\n",
            "Growing trees.. Progress: 30%. Estimated remaining time: 5 minutes, 59 seconds.\n",
            "Growing trees.. Progress: 36%. Estimated remaining time: 5 minutes, 28 seconds.\n",
            "Growing trees.. Progress: 42%. Estimated remaining time: 4 minutes, 58 seconds.\n",
            "Growing trees.. Progress: 48%. Estimated remaining time: 4 minutes, 27 seconds.\n",
            "Growing trees.. Progress: 54%. Estimated remaining time: 3 minutes, 57 seconds.\n",
            "Growing trees.. Progress: 60%. Estimated remaining time: 3 minutes, 26 seconds.\n",
            "Growing trees.. Progress: 66%. Estimated remaining time: 2 minutes, 55 seconds.\n",
            "Growing trees.. Progress: 73%. Estimated remaining time: 2 minutes, 21 seconds.\n",
            "Growing trees.. Progress: 79%. Estimated remaining time: 1 minute, 47 seconds.\n",
            "Growing trees.. Progress: 86%. Estimated remaining time: 1 minute, 14 seconds.\n",
            "Growing trees.. Progress: 92%. Estimated remaining time: 43 seconds.\n",
            "Growing trees.. Progress: 98%. Estimated remaining time: 11 seconds.\n",
            "Growing trees.. Progress: 6%. Estimated remaining time: 8 minutes, 5 seconds.\n",
            "Growing trees.. Progress: 12%. Estimated remaining time: 7 minutes, 42 seconds.\n",
            "Growing trees.. Progress: 18%. Estimated remaining time: 7 minutes, 12 seconds.\n",
            "Growing trees.. Progress: 24%. Estimated remaining time: 6 minutes, 37 seconds.\n",
            "Growing trees.. Progress: 31%. Estimated remaining time: 6 minutes, 0 seconds.\n",
            "Growing trees.. Progress: 37%. Estimated remaining time: 5 minutes, 23 seconds.\n",
            "Growing trees.. Progress: 43%. Estimated remaining time: 4 minutes, 55 seconds.\n",
            "Growing trees.. Progress: 49%. Estimated remaining time: 4 minutes, 25 seconds.\n",
            "Growing trees.. Progress: 55%. Estimated remaining time: 3 minutes, 53 seconds.\n",
            "Growing trees.. Progress: 61%. Estimated remaining time: 3 minutes, 21 seconds.\n",
            "Growing trees.. Progress: 67%. Estimated remaining time: 2 minutes, 50 seconds.\n",
            "Growing trees.. Progress: 73%. Estimated remaining time: 2 minutes, 20 seconds.\n",
            "Growing trees.. Progress: 79%. Estimated remaining time: 1 minute, 51 seconds.\n",
            "Growing trees.. Progress: 85%. Estimated remaining time: 1 minute, 20 seconds.\n",
            "Growing trees.. Progress: 91%. Estimated remaining time: 48 seconds.\n",
            "Growing trees.. Progress: 97%. Estimated remaining time: 16 seconds.\n",
            "Growing trees.. Progress: 6%. Estimated remaining time: 8 minutes, 59 seconds.\n",
            "Growing trees.. Progress: 11%. Estimated remaining time: 8 minutes, 27 seconds.\n",
            "Growing trees.. Progress: 17%. Estimated remaining time: 7 minutes, 42 seconds.\n",
            "Growing trees.. Progress: 23%. Estimated remaining time: 6 minutes, 59 seconds.\n",
            "Growing trees.. Progress: 29%. Estimated remaining time: 6 minutes, 24 seconds.\n",
            "Growing trees.. Progress: 35%. Estimated remaining time: 5 minutes, 48 seconds.\n",
            "Growing trees.. Progress: 41%. Estimated remaining time: 5 minutes, 16 seconds.\n",
            "Growing trees.. Progress: 47%. Estimated remaining time: 4 minutes, 43 seconds.\n",
            "Growing trees.. Progress: 53%. Estimated remaining time: 4 minutes, 11 seconds.\n",
            "Growing trees.. Progress: 59%. Estimated remaining time: 3 minutes, 39 seconds.\n",
            "Growing trees.. Progress: 65%. Estimated remaining time: 3 minutes, 4 seconds.\n",
            "Growing trees.. Progress: 71%. Estimated remaining time: 2 minutes, 33 seconds.\n",
            "Growing trees.. Progress: 77%. Estimated remaining time: 2 minutes, 1 seconds.\n",
            "Growing trees.. Progress: 83%. Estimated remaining time: 1 minute, 28 seconds.\n",
            "Growing trees.. Progress: 89%. Estimated remaining time: 56 seconds.\n",
            "Growing trees.. Progress: 96%. Estimated remaining time: 23 seconds.\n",
            "Growing trees.. Progress: 6%. Estimated remaining time: 7 minutes, 48 seconds.\n",
            "Growing trees.. Progress: 13%. Estimated remaining time: 7 minutes, 16 seconds.\n",
            "Growing trees.. Progress: 19%. Estimated remaining time: 6 minutes, 49 seconds.\n",
            "Growing trees.. Progress: 25%. Estimated remaining time: 6 minutes, 19 seconds.\n",
            "Growing trees.. Progress: 31%. Estimated remaining time: 5 minutes, 59 seconds.\n",
            "Growing trees.. Progress: 37%. Estimated remaining time: 5 minutes, 28 seconds.\n",
            "Growing trees.. Progress: 43%. Estimated remaining time: 4 minutes, 54 seconds.\n",
            "Growing trees.. Progress: 49%. Estimated remaining time: 4 minutes, 24 seconds.\n",
            "Growing trees.. Progress: 55%. Estimated remaining time: 3 minutes, 51 seconds.\n",
            "Growing trees.. Progress: 61%. Estimated remaining time: 3 minutes, 19 seconds.\n",
            "Growing trees.. Progress: 67%. Estimated remaining time: 2 minutes, 48 seconds.\n",
            "Growing trees.. Progress: 74%. Estimated remaining time: 2 minutes, 17 seconds.\n",
            "Growing trees.. Progress: 80%. Estimated remaining time: 1 minute, 43 seconds.\n",
            "Growing trees.. Progress: 86%. Estimated remaining time: 1 minute, 11 seconds.\n",
            "Growing trees.. Progress: 92%. Estimated remaining time: 40 seconds.\n",
            "Growing trees.. Progress: 99%. Estimated remaining time: 7 seconds.\n",
            "20251030 001849\t500\t22\t584\t18\t5\t55842000\t40\n"
          ]
        },
        {
          "output_type": "stream",
          "name": "stderr",
          "text": [
            "[mbo] 24: num.trees=500; max.depth=22; min.node.size=584; mtry=18 : y = 5.58e+07 : 2741.3 secs : infill_ei\n",
            "\n",
            "Saved the current state after iteration 25 in the file HT450.RDATA.\n",
            "\n"
          ]
        }
      ]
    },
    {
      "cell_type": "code",
      "source": [
        "# analizo la salida de la bayesiana\n",
        "\n",
        "tb_bayesiana <- fread(klog)\n",
        "setorder( tb_bayesiana, -ganancia)\n",
        "tb_bayesiana"
      ],
      "metadata": {
        "id": "eP-AGz8RQgK0"
      },
      "execution_count": null,
      "outputs": []
    },
    {
      "cell_type": "code",
      "source": [
        "# mejores parametros\n",
        "\n",
        "print( tb_bayesiana[1] )"
      ],
      "metadata": {
        "id": "wQa-hrsVQkmq"
      },
      "execution_count": null,
      "outputs": []
    },
    {
      "cell_type": "code",
      "source": [
        "format(Sys.time(), \"%a %b %d %X %Y\")"
      ],
      "metadata": {
        "id": "LDz-Yl3UPwph"
      },
      "execution_count": null,
      "outputs": []
    },
    {
      "cell_type": "markdown",
      "metadata": {
        "id": "0vu-1vf5LrVg"
      },
      "source": [
        "\n",
        "\n",
        "---\n",
        "\n"
      ]
    }
  ]
}