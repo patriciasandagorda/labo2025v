{
  "nbformat": 4,
  "nbformat_minor": 0,
  "metadata": {
    "colab": {
      "provenance": [],
      "include_colab_link": true
    },
    "kernelspec": {
      "name": "ir",
      "display_name": "R"
    },
    "language_info": {
      "name": "R"
    }
  },
  "cells": [
    {
      "cell_type": "markdown",
      "metadata": {
        "id": "view-in-github",
        "colab_type": "text"
      },
      "source": [
        "<a href=\"https://colab.research.google.com/github/patriciasandagorda/labo2025v/blob/main/src/ensembles/470_GBDT_LightGBM.ipynb\" target=\"_parent\"><img src=\"https://colab.research.google.com/assets/colab-badge.svg\" alt=\"Open In Colab\"/></a>"
      ]
    },
    {
      "cell_type": "markdown",
      "source": [
        "# 4. Ensembles de Arboles de Decision"
      ],
      "metadata": {
        "id": "O94qX1svwzoC"
      }
    },
    {
      "cell_type": "markdown",
      "source": [
        "## 4.06 GBDT LightGBM"
      ],
      "metadata": {
        "id": "HsJFTcBZw1bE"
      }
    },
    {
      "cell_type": "markdown",
      "source": [
        "La técnica de Gradient Boosting fue creada por Jerome H. Friedman en 1999 - 2001\n",
        "<br>Se implementaron librerías ineficientes\n",
        "<br>En 2016 se crea XGBoost, en 2017 LightGBM\n",
        "\n",
        "\n"
      ],
      "metadata": {
        "id": "nsgvDbemw9Tc"
      }
    },
    {
      "cell_type": "markdown",
      "source": [
        "Paper original de  Gradient Boosting\n",
        "\n",
        "\n",
        "Friedman JH. Greedy function approximation: A gradient\n",
        "boosting machine. Ann Stat. 2001;29(5):1189–232. https://\n",
        "doi.org/10.1214/aos/1013203451.\n",
        "<br>\n",
        "https://projecteuclid.org/journals/annals-of-statistics/volume-29/issue-5/Greedy-function-approximation-A-gradient-boosting-machine/10.1214/aos/1013203451.pdf"
      ],
      "metadata": {
        "id": "1o-6jjy0Yedk"
      }
    },
    {
      "cell_type": "markdown",
      "source": [
        "Paper XGBoost\n",
        "\n",
        "Chen, T.; Guestrin, C. Xgboost: A scalable tree boosting system. In Proceedings of the 22nd ACM Sigkdd International Conference on Knowledge Discovery and Data Mining, San Francisco, CA, USA, 13–17 August 2016; pp. 785–794.\n",
        "\n",
        "https://dl.acm.org/doi/pdf/10.1145/2939672.2939785"
      ],
      "metadata": {
        "id": "14MlfCxMZWIc"
      }
    },
    {
      "cell_type": "markdown",
      "source": [
        "Paper  LightGBM\n",
        "\n",
        "Ke G., Meng Q., Finley T., Wang T., Chen W., Ma W., et al.\n",
        "Lightgbm: A highly efficient gradient boosting decision tree\n",
        "Advances in Neural Information Processing Systems, 30 (2017)\n",
        "\n",
        "https://proceedings.neurips.cc/paper/2017/file/6449f44a102fde848669bdd9eb6b76fa-Paper.pdf"
      ],
      "metadata": {
        "id": "IDk5edloZpBI"
      }
    },
    {
      "cell_type": "markdown",
      "source": [
        "Videos \"simplificados\" :\n",
        "*  https://www.youtube.com/watch?v=3CC4N4z3GJc\n",
        "*  https://www.youtube.com/watch?v=2xudPOBz-vs\n",
        "*  https://www.youtube.com/watch?v=jxuNLH5dXCs\n",
        "*  https://www.youtube.com/watch?v=StWY5QWMXCw"
      ],
      "metadata": {
        "id": "ZMyXpQyJaCsP"
      }
    },
    {
      "cell_type": "markdown",
      "source": [
        "Artículos ligeros:\n",
        "*  https://machinelearningmastery.com/gentle-introduction-gradient-boosting-algorithm-machine-learning/\n",
        "*   https://www.machinelearningplus.com/machine-learning/an-introduction-to-gradient-boosting-decision-trees/\n",
        "*   https://medium.com/@ruchi.awasthi63/gradient-boosted-decision-tree-clearly-explained-bd1d8c7d9923\n",
        "*   https://medium.com/data-science/a-visual-understanding-of-decision-trees-and-gradient-boosting-c6bc53f982ce\n",
        "*   https://medium.com/analytics-vidhya/introduction-to-the-gradient-boosting-algorithm-c25c653f826b\n",
        "*   https://medium.com/@datasciencewizards/understanding-the-gradient-boosting-algorithm-9fe698a352ad"
      ],
      "metadata": {
        "id": "Eyffb3AAahth"
      }
    },
    {
      "cell_type": "markdown",
      "source": [
        "El Gradient Boosting of Decision Trees es un ensemble de árboles de decisión, para un nuevo registro la predicción se hace sumando el score que cada arbol asigna a ese registro.\n",
        "\n",
        "En GBDT la construccion de los árboles es secuencial, ya que el arbol n-simo se genera para predecir el error del modelo conformado por los n-1 arboles previos, aunque sea un arbol de clasificación lo que se predice es un numero real mediante un arbol de regresión."
      ],
      "metadata": {
        "id": "0YOyfUaESdsX"
      }
    },
    {
      "cell_type": "markdown",
      "source": [
        "<br>Qué tipo de perturbaciones se realiza LightGBM\n",
        "\n",
        "*   Se perturba el dataset, seleccionando para cada arbol un subconjunto de las columnas.\n",
        "*   El algortimo de arbol de decisión no presenta perturbaciones"
      ],
      "metadata": {
        "id": "nF6XblBIYnY6"
      }
    },
    {
      "cell_type": "markdown",
      "source": [
        "Cada arbolito de LightGBM se entrena sobre un dataset perturbado, que en principio posee :\n",
        "* todos los registros del dataset original\n",
        "* solo un porcentaje *feature_fraction* de las columnas originales del dataset"
      ],
      "metadata": {
        "id": "j75A--Tsx2df"
      }
    },
    {
      "cell_type": "markdown",
      "source": [
        "#### 4.06.1  Seteo del ambiente en Google Colab"
      ],
      "metadata": {
        "id": "PX0qg_c0yqob"
      }
    },
    {
      "cell_type": "markdown",
      "metadata": {
        "id": "NGY7H9xza7Zr"
      },
      "source": [
        "Esta parte se debe correr con el runtime en Python3\n",
        "<br>Ir al menu, Runtime -> Change Runtime Type -> Runtime type ->  **Python 3**"
      ]
    },
    {
      "cell_type": "markdown",
      "metadata": {
        "id": "7PupIBNba7Zr"
      },
      "source": [
        "Conectar la virtual machine donde esta corriendo Google Colab con el  Google Drive, para poder tener persistencia de archivos"
      ]
    },
    {
      "cell_type": "code",
      "execution_count": 1,
      "metadata": {
        "id": "9LpZCst5a7Zs",
        "outputId": "e7c42826-c5c7-48c5-9ff8-5c8d02ab274c",
        "colab": {
          "base_uri": "https://localhost:8080/"
        }
      },
      "outputs": [
        {
          "output_type": "stream",
          "name": "stdout",
          "text": [
            "Mounted at /content/.drive\n"
          ]
        }
      ],
      "source": [
        "# primero establecer el Runtime de Python 3\n",
        "from google.colab import drive\n",
        "drive.mount('/content/.drive')"
      ]
    },
    {
      "cell_type": "markdown",
      "metadata": {
        "id": "JYC_F-wla7Zs"
      },
      "source": [
        "Para correr la siguiente celda es fundamental en Arranque en Frio haber copiado el archivo kaggle.json al Google Drive, en la carpeta indicada en el instructivo\n",
        "\n",
        "<br>los siguientes comando estan en shell script de Linux\n",
        "*   Crear las carpetas en el Google Drive\n",
        "*   \"instalar\" el archivo kaggle.json desde el Google Drive a la virtual machine para que pueda ser utilizado por la libreria  kaggle de Python\n",
        "*   Bajar el  **dataset_pequeno**  al  Google Drive  y tambien al disco local de la virtual machine que esta corriendo Google Colab\n",
        "\n"
      ]
    },
    {
      "cell_type": "code",
      "execution_count": 2,
      "metadata": {
        "id": "XWLelftXa7Zt",
        "outputId": "20dc48ee-561c-484d-a4a1-17bcb8e5ddf2",
        "colab": {
          "base_uri": "https://localhost:8080/"
        }
      },
      "outputs": [
        {
          "output_type": "execute_result",
          "data": {
            "text/plain": []
          },
          "metadata": {},
          "execution_count": 2
        }
      ],
      "source": [
        "%%shell\n",
        "\n",
        "mkdir -p \"/content/.drive/My Drive/labo1\"\n",
        "mkdir -p \"/content/buckets\"\n",
        "ln -s \"/content/.drive/My Drive/labo1\" /content/buckets/b1\n",
        "\n",
        "mkdir -p ~/.kaggle\n",
        "cp /content/buckets/b1/kaggle/kaggle.json  ~/.kaggle\n",
        "chmod 600 ~/.kaggle/kaggle.json\n",
        "\n",
        "\n",
        "mkdir -p /content/buckets/b1/exp\n",
        "mkdir -p /content/buckets/b1/datasets\n",
        "mkdir -p /content/datasets\n",
        "\n",
        "\n",
        "\n",
        "archivo_origen=\"https://storage.googleapis.com/open-courses/austral2025-af91/dataset_pequeno.csv\"\n",
        "archivo_destino=\"/content/datasets/dataset_pequeno.csv\"\n",
        "archivo_destino_bucket=\"/content/buckets/b1/datasets/dataset_pequeno.csv\"\n",
        "\n",
        "if ! test -f $archivo_destino_bucket; then\n",
        "  wget  $archivo_origen  -O $archivo_destino_bucket\n",
        "fi\n",
        "\n",
        "\n",
        "if ! test -f $archivo_destino; then\n",
        "  cp  $archivo_destino_bucket  $archivo_destino\n",
        "fi\n"
      ]
    },
    {
      "cell_type": "markdown",
      "source": [
        "### 4.07  LightGBM, una corrida"
      ],
      "metadata": {
        "id": "oSKhZRToy2F7"
      }
    },
    {
      "cell_type": "markdown",
      "metadata": {
        "id": "eSU5vi00CPRS"
      },
      "source": [
        "Esta parte se debe correr con el runtime en lenguaje **R** Ir al menu, Runtime -> Change Runtime Type -> Runtime type -> R"
      ]
    },
    {
      "cell_type": "markdown",
      "metadata": {
        "id": "Zq8dySimCPRT"
      },
      "source": [
        "limpio el ambiente de R"
      ]
    },
    {
      "cell_type": "code",
      "source": [
        "format(Sys.time(), \"%a %b %d %X %Y\")"
      ],
      "metadata": {
        "id": "Tjda_YGOXaPw",
        "outputId": "0313961b-ced6-4872-9ff6-ccb73d176cbc",
        "colab": {
          "base_uri": "https://localhost:8080/",
          "height": 34
        }
      },
      "execution_count": 1,
      "outputs": [
        {
          "output_type": "display_data",
          "data": {
            "text/html": [
              "'Wed Oct 29 12:23:33 AM 2025'"
            ],
            "text/markdown": "'Wed Oct 29 12:23:33 AM 2025'",
            "text/latex": "'Wed Oct 29 12:23:33 AM 2025'",
            "text/plain": [
              "[1] \"Wed Oct 29 12:23:33 AM 2025\""
            ]
          },
          "metadata": {}
        }
      ]
    },
    {
      "cell_type": "code",
      "execution_count": 2,
      "metadata": {
        "id": "1iE0U4_WCPRT",
        "outputId": "60740b01-0f0e-4c47-d8d4-03b7f96c4ab7",
        "colab": {
          "base_uri": "https://localhost:8080/",
          "height": 129
        }
      },
      "outputs": [
        {
          "output_type": "display_data",
          "data": {
            "text/html": [
              "<table class=\"dataframe\">\n",
              "<caption>A matrix: 2 × 6 of type dbl</caption>\n",
              "<thead>\n",
              "\t<tr><th></th><th scope=col>used</th><th scope=col>(Mb)</th><th scope=col>gc trigger</th><th scope=col>(Mb)</th><th scope=col>max used</th><th scope=col>(Mb)</th></tr>\n",
              "</thead>\n",
              "<tbody>\n",
              "\t<tr><th scope=row>Ncells</th><td> 660381</td><td>35.3</td><td>1454471</td><td>77.7</td><td>1454471</td><td>77.7</td></tr>\n",
              "\t<tr><th scope=row>Vcells</th><td>1226627</td><td> 9.4</td><td>8388608</td><td>64.0</td><td>1975128</td><td>15.1</td></tr>\n",
              "</tbody>\n",
              "</table>\n"
            ],
            "text/markdown": "\nA matrix: 2 × 6 of type dbl\n\n| <!--/--> | used | (Mb) | gc trigger | (Mb) | max used | (Mb) |\n|---|---|---|---|---|---|---|\n| Ncells |  660381 | 35.3 | 1454471 | 77.7 | 1454471 | 77.7 |\n| Vcells | 1226627 |  9.4 | 8388608 | 64.0 | 1975128 | 15.1 |\n\n",
            "text/latex": "A matrix: 2 × 6 of type dbl\n\\begin{tabular}{r|llllll}\n  & used & (Mb) & gc trigger & (Mb) & max used & (Mb)\\\\\n\\hline\n\tNcells &  660381 & 35.3 & 1454471 & 77.7 & 1454471 & 77.7\\\\\n\tVcells & 1226627 &  9.4 & 8388608 & 64.0 & 1975128 & 15.1\\\\\n\\end{tabular}\n",
            "text/plain": [
              "       used    (Mb) gc trigger (Mb) max used (Mb)\n",
              "Ncells  660381 35.3 1454471    77.7 1454471  77.7\n",
              "Vcells 1226627  9.4 8388608    64.0 1975128  15.1"
            ]
          },
          "metadata": {}
        }
      ],
      "source": [
        "# limpio la memoria\n",
        "rm(list=ls(all.names=TRUE)) # remove all objects\n",
        "gc(full=TRUE, verbose=FALSE) # garbage collection"
      ]
    },
    {
      "cell_type": "code",
      "execution_count": 3,
      "metadata": {
        "id": "BJDwdD0dCPRU",
        "outputId": "ca9e5505-fd1e-4b9c-d1d5-c85159095b70",
        "colab": {
          "base_uri": "https://localhost:8080/"
        }
      },
      "outputs": [
        {
          "output_type": "stream",
          "name": "stderr",
          "text": [
            "Loading required package: data.table\n",
            "\n",
            "Loading required package: rpart\n",
            "\n",
            "Loading required package: rlist\n",
            "\n",
            "Warning message in library(package, lib.loc = lib.loc, character.only = TRUE, logical.return = TRUE, :\n",
            "“there is no package called ‘rlist’”\n",
            "Installing package into ‘/usr/local/lib/R/site-library’\n",
            "(as ‘lib’ is unspecified)\n",
            "\n",
            "also installing the dependency ‘XML’\n",
            "\n",
            "\n",
            "Loading required package: rlist\n",
            "\n",
            "Loading required package: lightgbm\n",
            "\n",
            "Warning message in library(package, lib.loc = lib.loc, character.only = TRUE, logical.return = TRUE, :\n",
            "“there is no package called ‘lightgbm’”\n",
            "Installing package into ‘/usr/local/lib/R/site-library’\n",
            "(as ‘lib’ is unspecified)\n",
            "\n",
            "Loading required package: lightgbm\n",
            "\n"
          ]
        }
      ],
      "source": [
        "# cargo las librerias que necesito\n",
        "require(\"data.table\")\n",
        "require(\"rpart\")\n",
        "\n",
        "if( !require(\"rlist\") ) install.packages(\"rlist\")\n",
        "require(\"rlist\")\n",
        "\n",
        "if( !require(\"lightgbm\") ) install.packages(\"lightgbm\")\n",
        "require(\"lightgbm\")"
      ]
    },
    {
      "cell_type": "markdown",
      "source": [
        "Aqui debe cargar SU semilla primigenia"
      ],
      "metadata": {
        "id": "M8-Pyp6CCPRU"
      }
    },
    {
      "cell_type": "code",
      "source": [
        "PARAM <- list()\n",
        "PARAM$experimento <- 4070\n",
        "PARAM$semilla_primigenia <- 999961\n",
        "\n",
        "# estos hiperparametros de LightGBM surgieron de una Bayesian Optimization\n",
        "PARAM$lgb$num_iterations <- 1000  # cantidad de arbolitos\n",
        "PARAM$lgb$learning_rate <- 0.027\n",
        "PARAM$lgb$feature_fraction <- 0.8\n",
        "PARAM$lgb$min_data_in_leaf <- 76\n",
        "PARAM$lgb$num_leaves <- 8\n",
        "PARAM$lgb$max_bin <- 31\n"
      ],
      "metadata": {
        "id": "peRH7ySLCPRV"
      },
      "execution_count": 4,
      "outputs": []
    },
    {
      "cell_type": "code",
      "source": [
        "# carpeta de trabajo\n",
        "setwd(\"/content/buckets/b1/exp\")\n",
        "experimento_folder <- paste0(\"KA\", PARAM$experimento)\n",
        "dir.create(experimento_folder, showWarnings=FALSE)\n",
        "setwd( paste0(\"/content/buckets/b1/exp/\", experimento_folder ))"
      ],
      "metadata": {
        "id": "1gZD6ZMvCPRV"
      },
      "execution_count": 5,
      "outputs": []
    },
    {
      "cell_type": "code",
      "source": [
        "# lectura del dataset\n",
        "dataset <- fread(\"/content/datasets/dataset_pequeno.csv\", stringsAsFactors= TRUE)"
      ],
      "metadata": {
        "id": "Xi0emX2ECPRV"
      },
      "execution_count": 6,
      "outputs": []
    },
    {
      "cell_type": "code",
      "source": [
        "# paso la clase a binaria\n",
        "\n",
        "dataset[, clase01 := ifelse(clase_ternaria %in% c(\"BAJA+2\"), 1L, 0L)]"
      ],
      "metadata": {
        "id": "-3XuBeDy1Ugj"
      },
      "execution_count": 7,
      "outputs": []
    },
    {
      "cell_type": "code",
      "source": [
        "# los campos que se van a utilizar\n",
        "\n",
        "campos_buenos <- setdiff(colnames(dataset), c(\"clase_ternaria\", \"clase01\"))"
      ],
      "metadata": {
        "id": "h8Anoo4Sel8S"
      },
      "execution_count": 8,
      "outputs": []
    },
    {
      "cell_type": "code",
      "source": [
        "# establezco donde entreno\n",
        "\n",
        "dataset[, train := 0L]\n",
        "dataset[foto_mes %in% c(202107), train := 1L]"
      ],
      "metadata": {
        "id": "RA3cSJ6KaGwA"
      },
      "execution_count": 9,
      "outputs": []
    },
    {
      "cell_type": "code",
      "source": [
        "# dejo los datos en el formato que necesita LightGBM\n",
        "\n",
        "dtrain <- lgb.Dataset(\n",
        "  data= data.matrix(dataset[train == 1L, campos_buenos, with= FALSE]),\n",
        "  label= dataset[train == 1L, clase01]\n",
        ")"
      ],
      "metadata": {
        "id": "T6Zr06HB1kMU"
      },
      "execution_count": 10,
      "outputs": []
    },
    {
      "cell_type": "code",
      "source": [
        "# genero el modelo\n",
        "# estos hiperparametros  salieron de una laaarga Optmizacion Bayesiana\n",
        "\n",
        "set.seed(PARAM$semilla_primigenia, kind = \"L'Ecuyer-CMRG\") # Establezco la semilla aleatoria\n",
        "\n",
        "modelo <- lgb.train(\n",
        "  data= dtrain,\n",
        "  param= list(\n",
        "    objective= \"binary\",\n",
        "    max_bin= PARAM$lgb$max_bin,\n",
        "    learning_rate= PARAM$lgb$learning_rate,\n",
        "    num_iterations= PARAM$lgb$num_iterations,\n",
        "    num_leaves= PARAM$lgb$num_leaves,\n",
        "    min_data_in_leaf= PARAM$lgb$min_data_in_leaf,\n",
        "    feature_fraction= PARAM$lgb$feature_fraction,\n",
        "    seed= PARAM$semilla_primigenia\n",
        "  )\n",
        ")\n"
      ],
      "metadata": {
        "id": "TI9_5pii2zCF",
        "outputId": "c7e204c7-f735-4296-81a5-bdd658d6ecba",
        "colab": {
          "base_uri": "https://localhost:8080/"
        }
      },
      "execution_count": 11,
      "outputs": [
        {
          "output_type": "stream",
          "name": "stdout",
          "text": [
            "[LightGBM] [Info] Number of positive: 1248, number of negative: 163348\n",
            "[LightGBM] [Info] Auto-choosing row-wise multi-threading, the overhead of testing was 0.131632 seconds.\n",
            "You can set `force_row_wise=true` to remove the overhead.\n",
            "And if memory is not enough, you can set `force_col_wise=true`.\n",
            "[LightGBM] [Info] Total Bins 3612\n",
            "[LightGBM] [Info] Number of data points in the train set: 164596, number of used features: 153\n",
            "[LightGBM] [Info] [binary:BoostFromScore]: pavg=0.007582 -> initscore=-4.874341\n",
            "[LightGBM] [Info] Start training from score -4.874341\n"
          ]
        }
      ]
    },
    {
      "cell_type": "code",
      "source": [
        "# ahora imprimo la importancia de variables\n",
        "tb_importancia <- as.data.table(lgb.importance(modelo))\n",
        "archivo_importancia <- \"impo.txt\"\n",
        "\n",
        "fwrite(tb_importancia,\n",
        "  file= archivo_importancia,\n",
        "  sep= \"\\t\"\n",
        ")\n"
      ],
      "metadata": {
        "id": "69QcMsSkg9d-"
      },
      "execution_count": 12,
      "outputs": []
    },
    {
      "cell_type": "code",
      "source": [
        "# grabo a disco el modelo en un formato para seres humanos ... ponele ...\n",
        "\n",
        "lgb.save(modelo, \"modelo.txt\" )"
      ],
      "metadata": {
        "id": "lauiNeQDg-XP"
      },
      "execution_count": 13,
      "outputs": []
    },
    {
      "cell_type": "code",
      "source": [
        "# aplico el modelo a los datos sin clase\n",
        "dfuture <- dataset[foto_mes == 202109]\n",
        "\n",
        "# aplico el modelo a los datos nuevos\n",
        "prediccion <- predict(\n",
        "  modelo,\n",
        "  data.matrix(dfuture[, campos_buenos, with= FALSE])\n",
        ")\n"
      ],
      "metadata": {
        "id": "VQhEcNmBhF7u"
      },
      "execution_count": 14,
      "outputs": []
    },
    {
      "cell_type": "code",
      "source": [
        "# tabla de prediccion\n",
        "\n",
        "tb_prediccion <- dfuture[, list(numero_de_cliente)]\n",
        "tb_prediccion[, prob := prediccion ]\n",
        "\n",
        "# grabo las probabilidad del modelo\n",
        "fwrite(tb_prediccion,\n",
        "  file= \"prediccion.txt\",\n",
        "  sep= \"\\t\"\n",
        ")"
      ],
      "metadata": {
        "id": "Z5LYpStThlIC"
      },
      "execution_count": 15,
      "outputs": []
    },
    {
      "cell_type": "code",
      "source": [
        "# subidas a Kaggle\n",
        "# ordeno por probabilidad descendente\n",
        "\n",
        "setorder(tb_prediccion, -prob)"
      ],
      "metadata": {
        "id": "vSopCODCh6kL"
      },
      "execution_count": 16,
      "outputs": []
    },
    {
      "cell_type": "code",
      "source": [
        "# genero la prediccion y subo a Kaggle\n",
        "\n",
        "tb_prediccion[, Predicted := 0L]\n",
        "tb_prediccion[prob>(1/40), Predicted := 1L]\n",
        "\n",
        "archivo_kaggle <- paste0(\"KA\", PARAM$experimento, \".csv\")\n",
        "\n",
        "# grabo el archivo\n",
        "fwrite(tb_prediccion[, list(numero_de_cliente, Predicted)],\n",
        "  file= archivo_kaggle,\n",
        "  sep= \",\"\n",
        ")\n",
        "\n",
        "# subida a Kaggle\n",
        "comando <- \"kaggle competitions submit\"\n",
        "competencia <- \"-c labo-i-2025-virtual-analista-sr\"\n",
        "arch <- paste( \"-f\", archivo_kaggle)\n",
        "\n",
        "mensaje <- paste0(\"-m 'num_iterations=\", PARAM$lgb$num_iterations,\n",
        "  \"  learning_rate=\", PARAM$lgb$learning_rate,\n",
        "  \"  feature_fraction=\", PARAM$lgb$feature_fraction,\n",
        "  \"  min_data_in_leaf=\", PARAM$lgb$min_data_in_leaf,\n",
        "  \"  num_leaves=\",PARAM$lgb$num_leaves,\n",
        "  \"  max_bin=\", PARAM$lgb$max_bin,\n",
        "\"'\" )\n",
        "\n",
        "linea <- paste( comando, competencia, arch, mensaje)\n",
        "salida <- system(linea, intern=TRUE)\n",
        "cat(salida)"
      ],
      "metadata": {
        "id": "pmxc2Z0fpJAZ",
        "outputId": "7b2f1de3-d622-4f0e-b2ba-1d3e1daa1d00",
        "colab": {
          "base_uri": "https://localhost:8080/"
        }
      },
      "execution_count": 17,
      "outputs": [
        {
          "output_type": "stream",
          "name": "stdout",
          "text": [
            "Successfully submitted to LaboI 2025 virtual analista sr"
          ]
        }
      ]
    },
    {
      "cell_type": "code",
      "source": [
        "format(Sys.time(), \"%a %b %d %X %Y\")"
      ],
      "metadata": {
        "id": "PK3QGWJsXk_k",
        "outputId": "7f1a970e-fc34-45ab-95e6-ec5f0b738b6a",
        "colab": {
          "base_uri": "https://localhost:8080/",
          "height": 34
        }
      },
      "execution_count": 18,
      "outputs": [
        {
          "output_type": "display_data",
          "data": {
            "text/html": [
              "'Wed Oct 29 12:33:27 AM 2025'"
            ],
            "text/markdown": "'Wed Oct 29 12:33:27 AM 2025'",
            "text/latex": "'Wed Oct 29 12:33:27 AM 2025'",
            "text/plain": [
              "[1] \"Wed Oct 29 12:33:27 AM 2025\""
            ]
          },
          "metadata": {}
        }
      ]
    },
    {
      "cell_type": "markdown",
      "metadata": {
        "id": "UMr6Z1enOyd3"
      },
      "source": [
        "\n",
        "\n",
        "---\n",
        "\n"
      ]
    },
    {
      "cell_type": "markdown",
      "source": [
        "### 4.08  LightGBM  optimizacion de hiperparámetros"
      ],
      "metadata": {
        "id": "lO4QwOEU-xPe"
      }
    },
    {
      "cell_type": "markdown",
      "source": [
        "La optimizacion de los hiperparámetros de LightGBM mediante el método de optimizacion bayesiana será su *caballito de batalla* durante la asignatura !"
      ],
      "metadata": {
        "id": "75FU3LjSF2uN"
      }
    },
    {
      "cell_type": "markdown",
      "metadata": {
        "id": "aJBO5Dcb_B7s"
      },
      "source": [
        "limpio el ambiente de R"
      ]
    },
    {
      "cell_type": "code",
      "source": [
        "format(Sys.time(), \"%a %b %d %X %Y\")"
      ],
      "metadata": {
        "id": "2CeMTfCuX3bH",
        "outputId": "df04c9a9-59c7-42f5-ee68-d802d037c706",
        "colab": {
          "base_uri": "https://localhost:8080/",
          "height": 34
        }
      },
      "execution_count": 19,
      "outputs": [
        {
          "output_type": "display_data",
          "data": {
            "text/html": [
              "'Wed Oct 29 12:35:31 AM 2025'"
            ],
            "text/markdown": "'Wed Oct 29 12:35:31 AM 2025'",
            "text/latex": "'Wed Oct 29 12:35:31 AM 2025'",
            "text/plain": [
              "[1] \"Wed Oct 29 12:35:31 AM 2025\""
            ]
          },
          "metadata": {}
        }
      ]
    },
    {
      "cell_type": "code",
      "execution_count": 20,
      "metadata": {
        "id": "HPKFI6yP_B7s",
        "outputId": "74e5f7bc-42ac-433c-b082-e1a3ae3a73ad",
        "colab": {
          "base_uri": "https://localhost:8080/",
          "height": 129
        }
      },
      "outputs": [
        {
          "output_type": "display_data",
          "data": {
            "text/html": [
              "<table class=\"dataframe\">\n",
              "<caption>A matrix: 2 × 6 of type dbl</caption>\n",
              "<thead>\n",
              "\t<tr><th></th><th scope=col>used</th><th scope=col>(Mb)</th><th scope=col>gc trigger</th><th scope=col>(Mb)</th><th scope=col>max used</th><th scope=col>(Mb)</th></tr>\n",
              "</thead>\n",
              "<tbody>\n",
              "\t<tr><th scope=row>Ncells</th><td>1849425</td><td>98.8</td><td>  3832580</td><td>204.7</td><td>  3832580</td><td> 204.7</td></tr>\n",
              "\t<tr><th scope=row>Vcells</th><td>3564917</td><td>27.2</td><td>116569752</td><td>889.4</td><td>135653295</td><td>1035.0</td></tr>\n",
              "</tbody>\n",
              "</table>\n"
            ],
            "text/markdown": "\nA matrix: 2 × 6 of type dbl\n\n| <!--/--> | used | (Mb) | gc trigger | (Mb) | max used | (Mb) |\n|---|---|---|---|---|---|---|\n| Ncells | 1849425 | 98.8 |   3832580 | 204.7 |   3832580 |  204.7 |\n| Vcells | 3564917 | 27.2 | 116569752 | 889.4 | 135653295 | 1035.0 |\n\n",
            "text/latex": "A matrix: 2 × 6 of type dbl\n\\begin{tabular}{r|llllll}\n  & used & (Mb) & gc trigger & (Mb) & max used & (Mb)\\\\\n\\hline\n\tNcells & 1849425 & 98.8 &   3832580 & 204.7 &   3832580 &  204.7\\\\\n\tVcells & 3564917 & 27.2 & 116569752 & 889.4 & 135653295 & 1035.0\\\\\n\\end{tabular}\n",
            "text/plain": [
              "       used    (Mb) gc trigger (Mb)  max used  (Mb)  \n",
              "Ncells 1849425 98.8   3832580  204.7   3832580  204.7\n",
              "Vcells 3564917 27.2 116569752  889.4 135653295 1035.0"
            ]
          },
          "metadata": {}
        }
      ],
      "source": [
        "# limpio la memoria\n",
        "rm(list=ls(all.names=TRUE)) # remove all objects\n",
        "gc(full=TRUE, verbose=FALSE) # garbage collection"
      ]
    },
    {
      "cell_type": "code",
      "execution_count": 21,
      "metadata": {
        "id": "B6X8U6XF_B7t",
        "outputId": "5e0d64f9-cff4-4204-9305-f7458372cc33",
        "colab": {
          "base_uri": "https://localhost:8080/"
        }
      },
      "outputs": [
        {
          "output_type": "stream",
          "name": "stderr",
          "text": [
            "Loading required package: parallel\n",
            "\n",
            "Loading required package: primes\n",
            "\n",
            "Warning message in library(package, lib.loc = lib.loc, character.only = TRUE, logical.return = TRUE, :\n",
            "“there is no package called ‘primes’”\n",
            "Installing package into ‘/usr/local/lib/R/site-library’\n",
            "(as ‘lib’ is unspecified)\n",
            "\n",
            "Loading required package: primes\n",
            "\n",
            "Loading required package: DiceKriging\n",
            "\n",
            "Warning message in library(package, lib.loc = lib.loc, character.only = TRUE, logical.return = TRUE, :\n",
            "“there is no package called ‘DiceKriging’”\n",
            "Installing package into ‘/usr/local/lib/R/site-library’\n",
            "(as ‘lib’ is unspecified)\n",
            "\n",
            "Loading required package: DiceKriging\n",
            "\n",
            "Loading required package: mlrMBO\n",
            "\n",
            "Warning message in library(package, lib.loc = lib.loc, character.only = TRUE, logical.return = TRUE, :\n",
            "“there is no package called ‘mlrMBO’”\n",
            "Installing package into ‘/usr/local/lib/R/site-library’\n",
            "(as ‘lib’ is unspecified)\n",
            "\n",
            "also installing the dependencies ‘fastmatch’, ‘RcppArmadillo’, ‘mlr’, ‘ParamHelpers’, ‘smoof’, ‘BBmisc’, ‘checkmate’, ‘lhs’, ‘parallelMap’\n",
            "\n",
            "\n",
            "Loading required package: mlrMBO\n",
            "\n",
            "Loading required package: mlr\n",
            "\n",
            "Loading required package: ParamHelpers\n",
            "\n",
            "Loading required package: smoof\n",
            "\n",
            "Loading required package: checkmate\n",
            "\n",
            "\n",
            "Attaching package: ‘checkmate’\n",
            "\n",
            "\n",
            "The following object is masked from ‘package:DiceKriging’:\n",
            "\n",
            "    checkNames\n",
            "\n",
            "\n"
          ]
        }
      ],
      "source": [
        "# cargo las librerias que necesito\n",
        "require(\"data.table\")\n",
        "require(\"rpart\")\n",
        "require(\"parallel\")\n",
        "\n",
        "if( !require(\"primes\") ) install.packages(\"primes\")\n",
        "require(\"primes\")\n",
        "\n",
        "if( !require(\"rlist\") ) install.packages(\"rlist\")\n",
        "require(\"rlist\")\n",
        "\n",
        "if( !require(\"lightgbm\") ) install.packages(\"lightgbm\")\n",
        "require(\"lightgbm\")\n",
        "\n",
        "if( !require(\"DiceKriging\") ) install.packages(\"DiceKriging\")\n",
        "require(\"DiceKriging\")\n",
        "\n",
        "if( !require(\"mlrMBO\") ) install.packages(\"mlrMBO\")\n",
        "require(\"mlrMBO\")\n"
      ]
    },
    {
      "cell_type": "markdown",
      "source": [
        "Aqui debe cargar SU semilla primigenia"
      ],
      "metadata": {
        "id": "_qZHeAHdCJQ2"
      }
    },
    {
      "cell_type": "code",
      "source": [
        "PARAM <- list()\n",
        "PARAM$experimento <- 4080\n",
        "PARAM$semilla_primigenia <- 999961\n",
        "\n",
        "# un undersampling de 0.1  toma solo el 10% de los CONTINUA\n",
        "# undersampling de 1.0  implica tomar TODOS los datos\n",
        "PARAM$trainingstrategy$undersampling <- 1.0\n",
        "\n",
        "PARAM$hyperparametertuning$iteraciones <- 30 # iteracines bayesianas\n",
        "\n",
        "PARAM$hyperparametertuning$xval_folds <- 5\n",
        "\n",
        "# parametros fijos del LightGBM\n",
        "PARAM$lgbm$param_fijos <- list(\n",
        "  objective= \"binary\",\n",
        "  metric= \"auc\",\n",
        "  first_metric_only= TRUE,\n",
        "  boost_from_average= TRUE,\n",
        "  feature_pre_filter= FALSE,\n",
        "  verbosity= -100,\n",
        "  force_row_wise= TRUE, # para evitar warning\n",
        "  seed= PARAM$semilla_primigenia,\n",
        "  max_bin= 31,\n",
        "  num_iterations= 2048,  # valor grande, lo limita early_stopping_rounds\n",
        "  early_stopping_rounds= 200\n",
        ")\n",
        "\n",
        "# Aqui se cargan los bordes de los hiperparametros\n",
        "PARAM$hypeparametertuning$hs <- makeParamSet(\n",
        "  makeNumericParam(\"learning_rate\", lower= 0.01, upper= 0.3),\n",
        "  makeNumericParam(\"feature_fraction\", lower= 0.1, upper= 1.0),\n",
        "  makeIntegerParam(\"num_leaves\", lower= 8L, upper= 2048L),\n",
        "  makeIntegerParam(\"min_data_in_leaf\", lower= 1L, upper= 8000L)\n",
        ")"
      ],
      "metadata": {
        "id": "2y3Ai8F6CJQ2"
      },
      "execution_count": 22,
      "outputs": []
    },
    {
      "cell_type": "code",
      "source": [
        "# En el argumento x llegan los parmaetros de la bayesiana\n",
        "#  devuelve la AUC de cross validation del modelo entrenado\n",
        "\n",
        "EstimarGanancia_AUC_lightgbm <- function(x) {\n",
        "\n",
        "  message(format(Sys.time(), \"%a %b %d %X %Y\"))\n",
        "\n",
        "  # uno la lista de hiperparametros : fijos + variables\n",
        "  param_completo <- c(PARAM$lgbm$param_fijos, x)\n",
        "\n",
        "  # entreno LightGBM\n",
        "  modelocv <- lgb.cv(\n",
        "    data= dtrain,\n",
        "    nfold= PARAM$hyperparametertuning$xval_folds,\n",
        "    stratified= TRUE,\n",
        "    param= param_completo,\n",
        "    verbose= -100\n",
        "  )\n",
        "\n",
        "  # obtengo la ganancia\n",
        "  AUC <- modelocv$best_score\n",
        "\n",
        "  # esta es la forma de devolver un parametro extra\n",
        "  attr(AUC, \"extras\") <- list(\"num_iterations\"= modelocv$best_iter)\n",
        "\n",
        "  # hago espacio en la memoria\n",
        "  rm(modelocv)\n",
        "  gc(full= TRUE, verbose= FALSE)\n",
        "\n",
        "  message( \"AUC: \", AUC)\n",
        "  return(AUC)\n",
        "}"
      ],
      "metadata": {
        "id": "NnPKiCHuCwVo"
      },
      "execution_count": 23,
      "outputs": []
    },
    {
      "cell_type": "markdown",
      "source": [
        "aqui se inicia el programa"
      ],
      "metadata": {
        "id": "P7Pw1KLeE3UH"
      }
    },
    {
      "cell_type": "code",
      "source": [
        "# carpeta de trabajo\n",
        "\n",
        "setwd(\"/content/buckets/b1/exp\")\n",
        "experimento_folder <- paste0(\"HT\", PARAM$experimento)\n",
        "dir.create(experimento_folder, showWarnings=FALSE)\n",
        "setwd( paste0(\"/content/buckets/b1/exp/\", experimento_folder ))"
      ],
      "metadata": {
        "id": "w1lb19whCJQ3"
      },
      "execution_count": 24,
      "outputs": []
    },
    {
      "cell_type": "code",
      "source": [
        "# en este archivo quedan la evolucion binaria de la BO\n",
        "\n",
        "kbayesiana <- \"bayesiana.RDATA\""
      ],
      "metadata": {
        "id": "QvOokHUvuolF"
      },
      "execution_count": 25,
      "outputs": []
    },
    {
      "cell_type": "code",
      "source": [
        "# lectura del dataset\n",
        "\n",
        "dataset <- fread(\"/content/datasets/dataset_pequeno.csv\")"
      ],
      "metadata": {
        "id": "xcOJpoFvCJQ3"
      },
      "execution_count": 26,
      "outputs": []
    },
    {
      "cell_type": "code",
      "source": [
        "dataset <- dataset[foto_mes %in% c(202107)]"
      ],
      "metadata": {
        "id": "JorOk_A8EhSy"
      },
      "execution_count": 27,
      "outputs": []
    },
    {
      "cell_type": "code",
      "source": [
        "# paso la clase a binaria que tome valores {0,1}  enteros\n",
        "\n",
        "dataset[\n",
        "  foto_mes %in% c(202107),\n",
        "  clase01 := ifelse(clase_ternaria == \"BAJA+2\", 1L, 0L)\n",
        "]"
      ],
      "metadata": {
        "id": "JDg9xZVYrwvj"
      },
      "execution_count": 28,
      "outputs": []
    },
    {
      "cell_type": "code",
      "source": [
        "# los campos que se van a utilizar\n",
        "\n",
        "campos_buenos <- setdiff(\n",
        "  colnames(dataset),\n",
        "  c(\"clase_ternaria\", \"clase01\", \"azar\", \"training\")\n",
        ")\n"
      ],
      "metadata": {
        "id": "E68xpDYAr0nK"
      },
      "execution_count": 29,
      "outputs": []
    },
    {
      "cell_type": "code",
      "source": [
        "# defino los datos que forma parte del training\n",
        "# aqui se hace el undersampling de los CONTINUA\n",
        "# notar que para esto utilizo la SEGUNDA semilla\n",
        "\n",
        "set.seed(PARAM$semilla_primigenia, kind= \"L'Ecuyer-CMRG\")\n",
        "dataset[, azar := runif(nrow(dataset))]\n",
        "dataset[, training := 0L]\n",
        "\n",
        "dataset[\n",
        "  foto_mes %in% c(202107) &\n",
        "    (azar <= PARAM$trainingstrategy$undersampling | clase_ternaria %in% c(\"BAJA+1\", \"BAJA+2\")),\n",
        "  training := 1L\n",
        "]"
      ],
      "metadata": {
        "id": "G8zeYUfSr3GF"
      },
      "execution_count": 30,
      "outputs": []
    },
    {
      "cell_type": "code",
      "source": [
        "# dejo los datos en el formato que necesita LightGBM\n",
        "\n",
        "dtrain <- lgb.Dataset(\n",
        "  data= data.matrix(dataset[training == 1L, campos_buenos, with= FALSE]),\n",
        "  label= dataset[training == 1L, clase01],\n",
        "  free_raw_data= FALSE\n",
        ")\n",
        "\n",
        "nrow(dtrain)\n",
        "ncol(dtrain)"
      ],
      "metadata": {
        "id": "se8_aKuMr5CV",
        "outputId": "2581eb81-ca26-4d0a-e659-880ad969592e",
        "colab": {
          "base_uri": "https://localhost:8080/",
          "height": 52
        }
      },
      "execution_count": 31,
      "outputs": [
        {
          "output_type": "display_data",
          "data": {
            "text/html": [
              "164596"
            ],
            "text/markdown": "164596",
            "text/latex": "164596",
            "text/plain": [
              "[1] 164596"
            ]
          },
          "metadata": {}
        },
        {
          "output_type": "display_data",
          "data": {
            "text/html": [
              "154"
            ],
            "text/markdown": "154",
            "text/latex": "154",
            "text/plain": [
              "[1] 154"
            ]
          },
          "metadata": {}
        }
      ]
    },
    {
      "cell_type": "code",
      "source": [
        "# Aqui comienza la configuracion de la Bayesian Optimization\n",
        "\n",
        "funcion_optimizar <- EstimarGanancia_AUC_lightgbm # la funcion que voy a maximizar\n",
        "\n",
        "configureMlr(show.learner.output= FALSE)\n",
        "\n",
        "# configuro la busqueda bayesiana,  los hiperparametros que se van a optimizar\n",
        "# por favor, no desesperarse por lo complejo\n",
        "\n",
        "obj.fun <- makeSingleObjectiveFunction(\n",
        "  fn= funcion_optimizar, # la funcion que voy a maximizar\n",
        "  minimize= FALSE, # estoy Maximizando la ganancia\n",
        "  noisy= TRUE,\n",
        "  par.set= PARAM$hypeparametertuning$hs, # definido al comienzo del programa\n",
        "  has.simple.signature= FALSE # paso los parametros en una lista\n",
        ")\n",
        "\n",
        "# cada 600 segundos guardo el resultado intermedio\n",
        "ctrl <- makeMBOControl(\n",
        "  save.on.disk.at.time= 600, # se graba cada 600 segundos\n",
        "  save.file.path= kbayesiana\n",
        ") # se graba cada 600 segundos\n",
        "\n",
        "# indico la cantidad de iteraciones que va a tener la Bayesian Optimization\n",
        "ctrl <- setMBOControlTermination(\n",
        "  ctrl,\n",
        "  iters= PARAM$hyperparametertuning$iteraciones\n",
        ") # cantidad de iteraciones\n",
        "\n",
        "# defino el método estandar para la creacion de los puntos iniciales,\n",
        "# los \"No Inteligentes\"\n",
        "ctrl <- setMBOControlInfill(ctrl, crit= makeMBOInfillCritEI())\n",
        "\n",
        "# establezco la funcion que busca el maximo\n",
        "surr.km <- makeLearner(\n",
        "  \"regr.km\",\n",
        "  predict.type= \"se\",\n",
        "  covtype= \"matern3_2\",\n",
        "  control= list(trace= TRUE)\n",
        ")\n"
      ],
      "metadata": {
        "id": "CsRYGGeN-1ID"
      },
      "execution_count": 32,
      "outputs": []
    },
    {
      "cell_type": "code",
      "source": [
        "# inicio la optimizacion bayesiana, retomando si ya existe\n",
        "\n",
        "if (!file.exists(kbayesiana)) {\n",
        "  bayesiana_salida <- mbo(obj.fun, learner= surr.km, control= ctrl)\n",
        "} else {\n",
        "  bayesiana_salida <- mboContinue(kbayesiana) # retomo en caso que ya exista\n",
        "}"
      ],
      "metadata": {
        "id": "TissqCCHD1uZ",
        "outputId": "481b25df-e562-4090-f35b-6ea1314a6de3",
        "colab": {
          "base_uri": "https://localhost:8080/"
        }
      },
      "execution_count": 33,
      "outputs": [
        {
          "output_type": "stream",
          "name": "stderr",
          "text": [
            "Computing y column(s) for design. Not provided.\n",
            "\n",
            "Wed Oct 29 12:40:31 AM 2025\n",
            "\n",
            "AUC: 0.900925210438667\n",
            "\n",
            "Wed Oct 29 12:42:18 AM 2025\n",
            "\n",
            "AUC: 0.903079432241805\n",
            "\n",
            "Wed Oct 29 12:43:20 AM 2025\n",
            "\n",
            "AUC: 0.899404210069144\n",
            "\n",
            "Wed Oct 29 12:44:59 AM 2025\n",
            "\n",
            "AUC: 0.904440910512472\n",
            "\n",
            "Wed Oct 29 12:47:45 AM 2025\n",
            "\n",
            "AUC: 0.900340330027096\n",
            "\n",
            "Wed Oct 29 12:49:23 AM 2025\n",
            "\n",
            "AUC: 0.903622287652625\n",
            "\n",
            "Wed Oct 29 12:51:07 AM 2025\n",
            "\n",
            "AUC: 0.904725097741622\n",
            "\n",
            "Wed Oct 29 12:54:22 AM 2025\n",
            "\n",
            "AUC: 0.898697492862171\n",
            "\n",
            "Wed Oct 29 12:56:02 AM 2025\n",
            "\n",
            "AUC: 0.899711533156546\n",
            "\n",
            "Wed Oct 29 12:57:43 AM 2025\n",
            "\n",
            "AUC: 0.900140872661748\n",
            "\n",
            "Wed Oct 29 12:58:48 AM 2025\n",
            "\n",
            "AUC: 0.904299935795839\n",
            "\n",
            "Wed Oct 29 01:00:17 AM 2025\n",
            "\n",
            "AUC: 0.897531562788814\n",
            "\n",
            "Wed Oct 29 01:01:51 AM 2025\n",
            "\n",
            "AUC: 0.903457219256063\n",
            "\n",
            "Wed Oct 29 01:06:45 AM 2025\n",
            "\n",
            "AUC: 0.898582775500143\n",
            "\n",
            "Wed Oct 29 01:08:03 AM 2025\n",
            "\n",
            "AUC: 0.879171739391192\n",
            "\n",
            "Wed Oct 29 01:10:11 AM 2025\n",
            "\n",
            "AUC: 0.905276758363049\n",
            "\n",
            "[mbo] 0: learning_rate=0.238; feature_fraction=0.419; num_leaves=1158; min_data_in_leaf=6297 : y = 0.901 : 106.4 secs : initdesign\n",
            "\n",
            "[mbo] 0: learning_rate=0.213; feature_fraction=0.798; num_leaves=878; min_data_in_leaf=5838 : y = 0.903 : 62.5 secs : initdesign\n",
            "\n",
            "[mbo] 0: learning_rate=0.11; feature_fraction=0.862; num_leaves=1885; min_data_in_leaf=1541 : y = 0.899 : 98.8 secs : initdesign\n",
            "\n",
            "[mbo] 0: learning_rate=0.0545; feature_fraction=0.543; num_leaves=590; min_data_in_leaf=2374 : y = 0.904 : 166.2 secs : initdesign\n",
            "\n",
            "[mbo] 0: learning_rate=0.19; feature_fraction=0.325; num_leaves=990; min_data_in_leaf=3048 : y = 0.9 : 97.6 secs : initdesign\n",
            "\n",
            "[mbo] 0: learning_rate=0.0915; feature_fraction=0.245; num_leaves=1939; min_data_in_leaf=3729 : y = 0.904 : 104.6 secs : initdesign\n",
            "\n",
            "[mbo] 0: learning_rate=0.0395; feature_fraction=0.458; num_leaves=1117; min_data_in_leaf=4251 : y = 0.905 : 194.8 secs : initdesign\n",
            "\n",
            "[mbo] 0: learning_rate=0.163; feature_fraction=0.943; num_leaves=121; min_data_in_leaf=1243 : y = 0.899 : 99.6 secs : initdesign\n",
            "\n",
            "[mbo] 0: learning_rate=0.122; feature_fraction=0.119; num_leaves=418; min_data_in_leaf=7748 : y = 0.9 : 101.0 secs : initdesign\n",
            "\n",
            "[mbo] 0: learning_rate=0.297; feature_fraction=0.745; num_leaves=707; min_data_in_leaf=4531 : y = 0.9 : 65.9 secs : initdesign\n",
            "\n",
            "[mbo] 0: learning_rate=0.15; feature_fraction=0.612; num_leaves=1584; min_data_in_leaf=5193 : y = 0.904 : 88.5 secs : initdesign\n",
            "\n",
            "[mbo] 0: learning_rate=0.193; feature_fraction=0.353; num_leaves=159; min_data_in_leaf=2604 : y = 0.898 : 94.6 secs : initdesign\n",
            "\n",
            "[mbo] 0: learning_rate=0.0121; feature_fraction=0.593; num_leaves=1730; min_data_in_leaf=757 : y = 0.903 : 293.2 secs : initdesign\n",
            "\n",
            "[mbo] 0: learning_rate=0.257; feature_fraction=0.193; num_leaves=1377; min_data_in_leaf=6597 : y = 0.899 : 78.6 secs : initdesign\n",
            "\n",
            "[mbo] 0: learning_rate=0.281; feature_fraction=0.999; num_leaves=1433; min_data_in_leaf=153 : y = 0.879 : 127.9 secs : initdesign\n",
            "\n",
            "[mbo] 0: learning_rate=0.0665; feature_fraction=0.714; num_leaves=282; min_data_in_leaf=7046 : y = 0.905 : 82.4 secs : initdesign\n",
            "\n",
            "Saved the current state after iteration 1 in the file bayesiana.RDATA.\n",
            "\n",
            "Wed Oct 29 01:11:34 AM 2025\n",
            "\n",
            "AUC: 0.901197923374276\n",
            "\n",
            "[mbo] 1: learning_rate=0.0828; feature_fraction=1; num_leaves=272; min_data_in_leaf=4809 : y = 0.901 : 78.3 secs : infill_ei\n",
            "\n",
            "Wed Oct 29 01:12:53 AM 2025\n",
            "\n",
            "AUC: 0.904841698329791\n",
            "\n",
            "[mbo] 2: learning_rate=0.01; feature_fraction=0.713; num_leaves=1563; min_data_in_leaf=7194 : y = 0.905 : 283.2 secs : infill_ei\n",
            "\n",
            "Wed Oct 29 01:17:37 AM 2025\n",
            "\n",
            "AUC: 0.904972261579041\n",
            "\n",
            "[mbo] 3: learning_rate=0.105; feature_fraction=0.712; num_leaves=918; min_data_in_leaf=7998 : y = 0.905 : 69.6 secs : infill_ei\n",
            "\n",
            "Wed Oct 29 01:18:47 AM 2025\n",
            "\n",
            "AUC: 0.903956250916535\n",
            "\n",
            "[mbo] 4: learning_rate=0.0531; feature_fraction=0.73; num_leaves=743; min_data_in_leaf=3903 : y = 0.904 : 94.9 secs : infill_ei\n",
            "\n",
            "Wed Oct 29 01:20:22 AM 2025\n",
            "\n",
            "AUC: 0.905670361986901\n",
            "\n",
            "[mbo] 5: learning_rate=0.0578; feature_fraction=0.627; num_leaves=1011; min_data_in_leaf=6898 : y = 0.906 : 120.3 secs : infill_ei\n",
            "\n",
            "Saved the current state after iteration 6 in the file bayesiana.RDATA.\n",
            "\n",
            "Wed Oct 29 01:22:23 AM 2025\n",
            "\n",
            "AUC: 0.904350025849158\n",
            "\n",
            "[mbo] 6: learning_rate=0.044; feature_fraction=0.552; num_leaves=2048; min_data_in_leaf=6616 : y = 0.904 : 164.7 secs : infill_ei\n",
            "\n",
            "Wed Oct 29 01:25:08 AM 2025\n",
            "\n",
            "AUC: 0.906036073885406\n",
            "\n",
            "[mbo] 7: learning_rate=0.01; feature_fraction=0.602; num_leaves=557; min_data_in_leaf=7977 : y = 0.906 : 331.9 secs : infill_ei\n",
            "\n",
            "Wed Oct 29 01:30:40 AM 2025\n",
            "\n",
            "AUC: 0.9057080573491\n",
            "\n",
            "[mbo] 8: learning_rate=0.0103; feature_fraction=0.753; num_leaves=8; min_data_in_leaf=7998 : y = 0.906 : 311.4 secs : infill_ei\n",
            "\n",
            "Saved the current state after iteration 9 in the file bayesiana.RDATA.\n",
            "\n",
            "Wed Oct 29 01:35:52 AM 2025\n",
            "\n",
            "AUC: 0.903371388796776\n",
            "\n",
            "[mbo] 9: learning_rate=0.0365; feature_fraction=0.739; num_leaves=625; min_data_in_leaf=8000 : y = 0.903 : 118.4 secs : infill_ei\n",
            "\n",
            "Wed Oct 29 01:37:51 AM 2025\n",
            "\n",
            "AUC: 0.90471308508386\n",
            "\n",
            "[mbo] 10: learning_rate=0.0101; feature_fraction=0.623; num_leaves=8; min_data_in_leaf=5819 : y = 0.905 : 360.4 secs : infill_ei\n",
            "\n",
            "Wed Oct 29 01:43:52 AM 2025\n",
            "\n",
            "AUC: 0.905988226833292\n",
            "\n",
            "[mbo] 11: learning_rate=0.01; feature_fraction=0.559; num_leaves=10; min_data_in_leaf=7375 : y = 0.906 : 457.9 secs : infill_ei\n",
            "\n",
            "Saved the current state after iteration 12 in the file bayesiana.RDATA.\n",
            "\n",
            "Wed Oct 29 01:51:30 AM 2025\n",
            "\n",
            "AUC: 0.90582539051678\n",
            "\n",
            "[mbo] 12: learning_rate=0.153; feature_fraction=0.787; num_leaves=8; min_data_in_leaf=7984 : y = 0.906 : 55.2 secs : infill_ei\n",
            "\n",
            "Wed Oct 29 01:52:26 AM 2025\n",
            "\n",
            "AUC: 0.904034336129381\n",
            "\n",
            "[mbo] 13: learning_rate=0.128; feature_fraction=0.685; num_leaves=10; min_data_in_leaf=6856 : y = 0.904 : 63.7 secs : infill_ei\n",
            "\n",
            "Wed Oct 29 01:53:30 AM 2025\n",
            "\n",
            "AUC: 0.901861613873909\n",
            "\n",
            "[mbo] 14: learning_rate=0.3; feature_fraction=0.754; num_leaves=8; min_data_in_leaf=7999 : y = 0.902 : 50.5 secs : infill_ei\n",
            "\n",
            "Wed Oct 29 01:54:21 AM 2025\n",
            "\n",
            "AUC: 0.905290110421235\n",
            "\n",
            "[mbo] 15: learning_rate=0.17; feature_fraction=0.706; num_leaves=832; min_data_in_leaf=7995 : y = 0.905 : 65.5 secs : infill_ei\n",
            "\n",
            "Wed Oct 29 01:55:27 AM 2025\n",
            "\n",
            "AUC: 0.905083446959989\n",
            "\n",
            "[mbo] 16: learning_rate=0.01; feature_fraction=0.519; num_leaves=1313; min_data_in_leaf=7250 : y = 0.905 : 503.2 secs : infill_ei\n",
            "\n",
            "Saved the current state after iteration 17 in the file bayesiana.RDATA.\n",
            "\n",
            "Wed Oct 29 02:03:51 AM 2025\n",
            "\n",
            "AUC: 0.901040225712571\n",
            "\n",
            "[mbo] 17: learning_rate=0.0688; feature_fraction=0.611; num_leaves=1667; min_data_in_leaf=4103 : y = 0.901 : 105.6 secs : infill_ei\n",
            "\n",
            "Wed Oct 29 02:05:37 AM 2025\n",
            "\n",
            "AUC: 0.903865557208212\n",
            "\n",
            "[mbo] 18: learning_rate=0.01; feature_fraction=0.103; num_leaves=755; min_data_in_leaf=3105 : y = 0.904 : 414.7 secs : infill_ei\n",
            "\n",
            "Wed Oct 29 02:12:32 AM 2025\n",
            "\n",
            "AUC: 0.903159538773847\n",
            "\n",
            "[mbo] 19: learning_rate=0.154; feature_fraction=1; num_leaves=1032; min_data_in_leaf=7301 : y = 0.903 : 64.1 secs : infill_ei\n",
            "\n",
            "Wed Oct 29 02:13:37 AM 2025\n",
            "\n",
            "AUC: 0.893452463409573\n",
            "\n",
            "[mbo] 20: learning_rate=0.0446; feature_fraction=0.14; num_leaves=923; min_data_in_leaf=1 : y = 0.893 : 266.4 secs : infill_ei\n",
            "\n",
            "Saved the current state after iteration 21 in the file bayesiana.RDATA.\n",
            "\n",
            "Wed Oct 29 02:18:04 AM 2025\n",
            "\n",
            "AUC: 0.903917830368441\n",
            "\n",
            "[mbo] 21: learning_rate=0.01; feature_fraction=0.851; num_leaves=410; min_data_in_leaf=2124 : y = 0.904 : 254.0 secs : infill_ei\n",
            "\n",
            "Wed Oct 29 02:22:18 AM 2025\n",
            "\n",
            "AUC: 0.906516273774309\n",
            "\n",
            "[mbo] 22: learning_rate=0.0342; feature_fraction=0.417; num_leaves=9; min_data_in_leaf=3603 : y = 0.907 : 229.9 secs : infill_ei\n",
            "\n",
            "Wed Oct 29 02:26:09 AM 2025\n",
            "\n",
            "AUC: 0.904554859256443\n",
            "\n",
            "[mbo] 23: learning_rate=0.0461; feature_fraction=0.147; num_leaves=11; min_data_in_leaf=3936 : y = 0.905 : 123.1 secs : infill_ei\n",
            "\n",
            "Saved the current state after iteration 24 in the file bayesiana.RDATA.\n",
            "\n",
            "Wed Oct 29 02:28:12 AM 2025\n",
            "\n",
            "AUC: 0.903924879516299\n",
            "\n",
            "[mbo] 24: learning_rate=0.01; feature_fraction=0.471; num_leaves=493; min_data_in_leaf=3658 : y = 0.904 : 407.1 secs : infill_ei\n",
            "\n",
            "Wed Oct 29 02:35:00 AM 2025\n",
            "\n",
            "AUC: 0.905369886178515\n",
            "\n",
            "[mbo] 25: learning_rate=0.0548; feature_fraction=0.418; num_leaves=8; min_data_in_leaf=7056 : y = 0.905 : 161.1 secs : infill_ei\n",
            "\n",
            "Wed Oct 29 02:37:42 AM 2025\n",
            "\n",
            "AUC: 0.904143481626751\n",
            "\n",
            "[mbo] 26: learning_rate=0.0357; feature_fraction=0.532; num_leaves=10; min_data_in_leaf=3052 : y = 0.904 : 212.4 secs : infill_ei\n",
            "\n",
            "Saved the current state after iteration 27 in the file bayesiana.RDATA.\n",
            "\n",
            "Wed Oct 29 02:41:15 AM 2025\n",
            "\n",
            "AUC: 0.90416899386717\n",
            "\n",
            "[mbo] 27: learning_rate=0.0103; feature_fraction=0.567; num_leaves=221; min_data_in_leaf=6757 : y = 0.904 : 456.4 secs : infill_ei\n",
            "\n",
            "Wed Oct 29 02:48:51 AM 2025\n",
            "\n",
            "AUC: 0.90576656642443\n",
            "\n",
            "[mbo] 28: learning_rate=0.0566; feature_fraction=0.401; num_leaves=52; min_data_in_leaf=5343 : y = 0.906 : 147.1 secs : infill_ei\n",
            "\n",
            "Saved the current state after iteration 29 in the file bayesiana.RDATA.\n",
            "\n",
            "Wed Oct 29 02:51:19 AM 2025\n",
            "\n",
            "AUC: 0.903859220823742\n",
            "\n",
            "[mbo] 29: learning_rate=0.0419; feature_fraction=0.322; num_leaves=724; min_data_in_leaf=3553 : y = 0.904 : 137.1 secs : infill_ei\n",
            "\n",
            "Wed Oct 29 02:53:37 AM 2025\n",
            "\n",
            "AUC: 0.903698002821143\n",
            "\n",
            "[mbo] 30: learning_rate=0.0467; feature_fraction=0.431; num_leaves=8; min_data_in_leaf=4330 : y = 0.904 : 231.5 secs : infill_ei\n",
            "\n",
            "Saved the final state in the file bayesiana.RDATA\n",
            "\n"
          ]
        }
      ]
    },
    {
      "cell_type": "code",
      "source": [
        "# almaceno los resultados de la Bayesian Optimization\n",
        "# y capturo los mejores hiperparametros encontrados\n",
        "\n",
        "tb_bayesiana <- as.data.table(bayesiana_salida$opt.path)\n",
        "\n",
        "tb_bayesiana[, iter:= .I]\n",
        "# ordeno en forma descendente por AUC = y\n",
        "setorder(tb_bayesiana, -y, -num_iterations)\n",
        "\n",
        "# grabo para eventualmente poder utilizarlos en OTRA corrida\n",
        "fwrite( tb_bayesiana,\n",
        "  file= \"BO_log.txt\",\n",
        "  sep= \"\\t\"\n",
        ")\n",
        "\n",
        "# los mejores hiperparámetros son los que quedaron en el registro 1 de la tabla\n",
        "PARAM$out$lgbm$mejores_hiperparametros <- tb_bayesiana[\n",
        "  1, # el primero es el de mejor AUC\n",
        "  list(learning_rate, feature_fraction, num_leaves, min_data_in_leaf, num_iterations)\n",
        "]\n",
        "\n",
        "print(PARAM$out$lgbm$mejores_hiperparametros)"
      ],
      "metadata": {
        "id": "aC-ls8JfNDTf",
        "outputId": "caa4d415-7be6-4397-b115-16662066b462",
        "colab": {
          "base_uri": "https://localhost:8080/"
        }
      },
      "execution_count": 34,
      "outputs": [
        {
          "output_type": "stream",
          "name": "stdout",
          "text": [
            "   learning_rate feature_fraction num_leaves min_data_in_leaf num_iterations\n",
            "           <num>            <num>      <int>            <int>          <int>\n",
            "1:    0.03417621        0.4166687          9             3603            398\n"
          ]
        }
      ]
    },
    {
      "cell_type": "code",
      "source": [
        "format(Sys.time(), \"%a %b %d %X %Y\")"
      ],
      "metadata": {
        "id": "5dPpsZpcX6e8",
        "outputId": "01635eb7-060e-42ad-e2f1-4c85ee325922",
        "colab": {
          "base_uri": "https://localhost:8080/",
          "height": 34
        }
      },
      "execution_count": 35,
      "outputs": [
        {
          "output_type": "display_data",
          "data": {
            "text/html": [
              "'Wed Oct 29 02:57:28 AM 2025'"
            ],
            "text/markdown": "'Wed Oct 29 02:57:28 AM 2025'",
            "text/latex": "'Wed Oct 29 02:57:28 AM 2025'",
            "text/plain": [
              "[1] \"Wed Oct 29 02:57:28 AM 2025\""
            ]
          },
          "metadata": {}
        }
      ]
    },
    {
      "cell_type": "markdown",
      "metadata": {
        "id": "0vu-1vf5LrVg"
      },
      "source": [
        "\n",
        "\n",
        "---\n",
        "\n"
      ]
    }
  ]
}